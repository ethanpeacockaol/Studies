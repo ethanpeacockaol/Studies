{
 "cells": [
  {
   "metadata": {},
   "cell_type": "markdown",
   "source": "# Previous and next n doublylinked class\n\n<hr>\n\nokay so work on that here then copy solution back into chapter 10 notebook"
  },
  {
   "metadata": {
    "trusted": true
   },
   "cell_type": "code",
   "source": "class link:\n    def __init__(self, data):\n        self.data = data\n        self.nextlink = None\n        self.previouslink = None\n        self.nextnlinks = None\n        self.previousnlinks = None\n\nclass chain:\n    def __init__(self, n_length_previous, n_length_next):\n        self.n_length_previous = n_length_previous\n        self.n_length_next = n_length_next\n        self.firstlink = None\n        self.endlink = None\n        self.chainlength = 0\n\n    def add_link(self, data):\n        newlink = link(data)\n        self.chainlength += 1\n        if self.firstlink == None:\n            self.firstlink = self.endlink = newlink\n        else:\n            self.endlink.nextlink = newlink\n            newlink.previouslink = self.endlink\n            self.endlink = newlink\n        self.sync_next_previous()\n\n    def getlink(self, index):\n        if index >= 0:\n            currentlink = self.firstlink\n            for i in range(index):\n                currentlink = currentlink.nextlink\n            return currentlink\n        else:\n            currentlink = self.endlink\n            for i in range(1, abs(index)):\n                currentlink = currentlink.previouslink\n            return currentlink\n\n    def sync_next_previous(self):\n        currentlink = self.firstlink\n        # step through n next links\n        for i in range(self.chainlength):\n            currentlink.nextnlinks = []\n            currentlink.previousnlinks = []\n            nextnlinkstepper = currentlink.nextlink\n            for i in range(self.n_length_next):\n                if type(link(9)) == type(nextnlinkstepper):\n                    currentlink.nextnlinks.append(nextnlinkstepper)\n                else:\n                    currentlink.nextnlinks.append(None)\n                if nextnlinkstepper == None:\n                    nextnlinkstepper = None\n                else:\n                    nextnlinkstepper = nextnlinkstepper.nextlink\n            previousnlinksstepper = currentlink.previouslink\n            for i in range(self.n_length_previous):\n                if type(link(9)) == type(previousnlinksstepper):\n                    currentlink.previousnlinks.append(previousnlinksstepper)\n                else:\n                    currentlink.previousnlinks.append(None)\n                if previousnlinksstepper == None:\n                    previousnlinksstepper = None\n                else:\n                    previousnlinksstepper = previousnlinksstepper.previouslink\n            currentlink = currentlink.nextlink",
   "execution_count": 1,
   "outputs": []
  },
  {
   "metadata": {
    "trusted": true
   },
   "cell_type": "code",
   "source": "nextn = 4\nprevn = 3\nmylist = chain(prevn, nextn)\n\nmylist.add_link(9)\nmylist.add_link(99)\nmylist.add_link(999)\nmylist.add_link(9999)\nmylist.add_link(99999)\nmylist.add_link(999999)\nmylist.add_link(9999999)\nmylist.add_link(99999999)\nmylist.add_link(999999999)\n\nmylist.sync_next_previous()\nfor i in range(mylist.chainlength):\n    print(mylist.getlink(i).data)",
   "execution_count": 8,
   "outputs": [
    {
     "output_type": "stream",
     "text": "9\n99\n999\n9999\n99999\n999999\n9999999\n99999999\n999999999\n",
     "name": "stdout"
    }
   ]
  },
  {
   "metadata": {
    "trusted": true
   },
   "cell_type": "code",
   "source": "currentlink = mylist.firstlink\nfor i in range(mylist.chainlength):\n    print(f\"Data: {currentlink.data}\")\n    print(f\"prevn: {currentlink.previousnlinks}\")\n    print(f\"nextn: {currentlink.nextnlinks}\")\n    print()\n    currentlink=currentlink.nextlink",
   "execution_count": 9,
   "outputs": [
    {
     "output_type": "stream",
     "text": "Data: 9\nprevn: [None, None, None]\nnextn: [<__main__.link object at 0x140b15840>, <__main__.link object at 0x140c1aaa0>, <__main__.link object at 0x140c1bb80>, <__main__.link object at 0x140c18fa0>]\n\nData: 99\nprevn: [<__main__.link object at 0x141136dd0>, None, None]\nnextn: [<__main__.link object at 0x140c1aaa0>, <__main__.link object at 0x140c1bb80>, <__main__.link object at 0x140c18fa0>, <__main__.link object at 0x140c19c00>]\n\nData: 999\nprevn: [<__main__.link object at 0x140b15840>, <__main__.link object at 0x141136dd0>, None]\nnextn: [<__main__.link object at 0x140c1bb80>, <__main__.link object at 0x140c18fa0>, <__main__.link object at 0x140c19c00>, <__main__.link object at 0x140c18670>]\n\nData: 9999\nprevn: [<__main__.link object at 0x140c1aaa0>, <__main__.link object at 0x140b15840>, <__main__.link object at 0x141136dd0>]\nnextn: [<__main__.link object at 0x140c18fa0>, <__main__.link object at 0x140c19c00>, <__main__.link object at 0x140c18670>, <__main__.link object at 0x140c19f30>]\n\nData: 99999\nprevn: [<__main__.link object at 0x140c1bb80>, <__main__.link object at 0x140c1aaa0>, <__main__.link object at 0x140b15840>]\nnextn: [<__main__.link object at 0x140c19c00>, <__main__.link object at 0x140c18670>, <__main__.link object at 0x140c19f30>, <__main__.link object at 0x140c1b220>]\n\nData: 999999\nprevn: [<__main__.link object at 0x140c18fa0>, <__main__.link object at 0x140c1bb80>, <__main__.link object at 0x140c1aaa0>]\nnextn: [<__main__.link object at 0x140c18670>, <__main__.link object at 0x140c19f30>, <__main__.link object at 0x140c1b220>, None]\n\nData: 9999999\nprevn: [<__main__.link object at 0x140c19c00>, <__main__.link object at 0x140c18fa0>, <__main__.link object at 0x140c1bb80>]\nnextn: [<__main__.link object at 0x140c19f30>, <__main__.link object at 0x140c1b220>, None, None]\n\nData: 99999999\nprevn: [<__main__.link object at 0x140c18670>, <__main__.link object at 0x140c19c00>, <__main__.link object at 0x140c18fa0>]\nnextn: [<__main__.link object at 0x140c1b220>, None, None, None]\n\nData: 999999999\nprevn: [<__main__.link object at 0x140c19f30>, <__main__.link object at 0x140c18670>, <__main__.link object at 0x140c19c00>]\nnextn: [None, None, None, None]\n\n",
     "name": "stdout"
    }
   ]
  },
  {
   "metadata": {
    "trusted": true
   },
   "cell_type": "code",
   "source": "",
   "execution_count": null,
   "outputs": []
  },
  {
   "metadata": {
    "trusted": true
   },
   "cell_type": "code",
   "source": "",
   "execution_count": null,
   "outputs": []
  }
 ],
 "metadata": {
  "kernelspec": {
   "name": "python3",
   "display_name": "Python 3",
   "language": "python"
  },
  "language_info": {
   "name": "python",
   "version": "3.10.4",
   "mimetype": "text/x-python",
   "codemirror_mode": {
    "name": "ipython",
    "version": 3
   },
   "pygments_lexer": "ipython3",
   "nbconvert_exporter": "python",
   "file_extension": ".py"
  }
 },
 "nbformat": 4,
 "nbformat_minor": 2
}