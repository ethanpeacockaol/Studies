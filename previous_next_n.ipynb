{
 "cells": [
  {
   "cell_type": "markdown",
   "metadata": {},
   "source": [
    "# Previous and next n doublylinked class\n",
    "\n",
    "<hr>\n",
    "\n",
    "okay so work on that here then copy solution back into chapter 10 notebook"
   ]
  },
  {
   "cell_type": "code",
   "execution_count": 48,
   "metadata": {},
   "outputs": [],
   "source": [
    "class link:\n",
    "    def __init__(self, data):\n",
    "        self.data = data\n",
    "        self.nextlink = None\n",
    "        self.previouslink = None\n",
    "        self.nextnlinks = None\n",
    "        self.previousnlinks = None\n",
    "\n",
    "class chain:\n",
    "    def __init__(self, n_length_previous, n_length_next):\n",
    "        self.n_length_previous = n_length_previous\n",
    "        self.n_length_next = n_length_next\n",
    "        self.firstlink = None\n",
    "        self.endlink = None\n",
    "        self.chainlength = 0\n",
    "\n",
    "    def add_link(self, data):\n",
    "        newlink = link(data)\n",
    "        self.chainlength += 1\n",
    "        if self.firstlink == None:\n",
    "            self.firstlink = self.endlink = newlink\n",
    "        else:\n",
    "            self.endlink.nextlink = newlink\n",
    "            newlink.previouslink = self.endlink\n",
    "            self.endlink = newlink\n",
    "        self.sync_next_previous()\n",
    "\n",
    "    def getlink(self, index):\n",
    "        if index >= 0:\n",
    "            currentlink = self.firstlink\n",
    "            for i in range(index):\n",
    "                currentlink = currentlink.nextlink\n",
    "            return currentlink\n",
    "        else:\n",
    "            currentlink = self.endlink\n",
    "            for i in range(1, abs(index)):\n",
    "                currentlink = currentlink.previouslink\n",
    "            return currentlink\n",
    "\n",
    "    def sync_next_previous(self):\n",
    "        currentlink = self.firstlink\n",
    "        # step through n next links\n",
    "        for i in range(self.chainlength):\n",
    "            currentlink.nextnlinks = []\n",
    "            currentlink.previousnlinks = []\n",
    "            nextnlinkstepper = currentlink.nextlink\n",
    "            for i in range(self.n_length_next):\n",
    "                if type(link(9)) == type(nextnlinkstepper):\n",
    "                    currentlink.nextnlinks.append(nextnlinkstepper)\n",
    "                else:\n",
    "                    currentlink.nextnlinks.append(None)\n",
    "                if nextnlinkstepper == None:\n",
    "                    nextnlinkstepper = None\n",
    "                else:\n",
    "                    nextnlinkstepper = nextnlinkstepper.nextlink\n",
    "            previousnlinksstepper = currentlink.previouslink\n",
    "            for i in range(self.n_length_previous):\n",
    "                if type(link(9)) == type(previousnlinksstepper):\n",
    "                    currentlink.previousnlinks.append(previousnlinksstepper)\n",
    "                else:\n",
    "                    currentlink.previousnlinks.append(None)\n",
    "                if previousnlinksstepper == None:\n",
    "                    previousnlinksstepper = None\n",
    "                else:\n",
    "                    previousnlinksstepper = previousnlinksstepper.previouslink\n",
    "            currentlink = currentlink.nextlink"
   ]
  },
  {
   "cell_type": "code",
   "execution_count": 49,
   "metadata": {},
   "outputs": [
    {
     "name": "stdout",
     "output_type": "stream",
     "text": [
      "9\n",
      "99\n",
      "999\n",
      "9999\n",
      "99999\n",
      "999999\n",
      "9999999\n",
      "99999999\n",
      "999999999\n"
     ]
    }
   ],
   "source": [
    "nextn = 4\n",
    "prevn = 2\n",
    "mylist = chain(prevn, nextn)\n",
    "\n",
    "mylist.add_link(9)\n",
    "mylist.add_link(99)\n",
    "mylist.add_link(999)\n",
    "mylist.add_link(9999)\n",
    "mylist.add_link(99999)\n",
    "mylist.add_link(999999)\n",
    "mylist.add_link(9999999)\n",
    "mylist.add_link(99999999)\n",
    "mylist.add_link(999999999)\n",
    "\n",
    "mylist.sync_next_previous()\n",
    "for i in range(mylist.chainlength):\n",
    "    print(mylist.getlink(i).data)"
   ]
  },
  {
   "cell_type": "code",
   "execution_count": 50,
   "metadata": {},
   "outputs": [
    {
     "name": "stdout",
     "output_type": "stream",
     "text": [
      "Data: 9\n",
      "prevn: [None, None]\n",
      "nextn: [<__main__.link object at 0x10bc632e0>, <__main__.link object at 0x10bc63190>, <__main__.link object at 0x10bc63160>, <__main__.link object at 0x10bc63640>]\n",
      "\n",
      "Data: 99\n",
      "prevn: [<__main__.link object at 0x10bc63a00>, None]\n",
      "nextn: [<__main__.link object at 0x10bc63190>, <__main__.link object at 0x10bc63160>, <__main__.link object at 0x10bc63640>, <__main__.link object at 0x10bc63580>]\n",
      "\n",
      "Data: 999\n",
      "prevn: [<__main__.link object at 0x10bc632e0>, <__main__.link object at 0x10bc63a00>]\n",
      "nextn: [<__main__.link object at 0x10bc63160>, <__main__.link object at 0x10bc63640>, <__main__.link object at 0x10bc63580>, <__main__.link object at 0x10bc0ffd0>]\n",
      "\n",
      "Data: 9999\n",
      "prevn: [<__main__.link object at 0x10bc63190>, <__main__.link object at 0x10bc632e0>]\n",
      "nextn: [<__main__.link object at 0x10bc63640>, <__main__.link object at 0x10bc63580>, <__main__.link object at 0x10bc0ffd0>, <__main__.link object at 0x10bc0fd90>]\n",
      "\n",
      "Data: 99999\n",
      "prevn: [<__main__.link object at 0x10bc63160>, <__main__.link object at 0x10bc63190>]\n",
      "nextn: [<__main__.link object at 0x10bc63580>, <__main__.link object at 0x10bc0ffd0>, <__main__.link object at 0x10bc0fd90>, <__main__.link object at 0x10bc0fb20>]\n",
      "\n",
      "Data: 999999\n",
      "prevn: [<__main__.link object at 0x10bc63640>, <__main__.link object at 0x10bc63160>]\n",
      "nextn: [<__main__.link object at 0x10bc0ffd0>, <__main__.link object at 0x10bc0fd90>, <__main__.link object at 0x10bc0fb20>, None]\n",
      "\n",
      "Data: 9999999\n",
      "prevn: [<__main__.link object at 0x10bc63580>, <__main__.link object at 0x10bc63640>]\n",
      "nextn: [<__main__.link object at 0x10bc0fd90>, <__main__.link object at 0x10bc0fb20>, None, None]\n",
      "\n",
      "Data: 99999999\n",
      "prevn: [<__main__.link object at 0x10bc0ffd0>, <__main__.link object at 0x10bc63580>]\n",
      "nextn: [<__main__.link object at 0x10bc0fb20>, None, None, None]\n",
      "\n",
      "Data: 999999999\n",
      "prevn: [<__main__.link object at 0x10bc0fd90>, <__main__.link object at 0x10bc0ffd0>]\n",
      "nextn: [None, None, None, None]\n",
      "\n"
     ]
    }
   ],
   "source": [
    "currentlink = mylist.firstlink\n",
    "for i in range(mylist.chainlength):\n",
    "    print(f\"Data: {currentlink.data}\")\n",
    "    print(f\"prevn: {currentlink.previousnlinks}\")\n",
    "    print(f\"nextn: {currentlink.nextnlinks}\")\n",
    "    print()\n",
    "    currentlink=currentlink.nextlink"
   ]
  },
  {
   "cell_type": "markdown",
   "metadata": {},
   "source": [
    "okay so add it without manual sync all items\n",
    "\n",
    "how can we get a nice efficient auto sync?"
   ]
  },
  {
   "cell_type": "code",
   "execution_count": 79,
   "metadata": {},
   "outputs": [],
   "source": [
    "class link:\n",
    "    def __init__(self, data):\n",
    "        self.data = data\n",
    "        self.nextlink = None\n",
    "        self.previouslink = None\n",
    "        self.nextnlinks = None\n",
    "        self.previousnlinks = None\n",
    "\n",
    "class chain:\n",
    "    def __init__(self, n_length_previous, n_length_next):\n",
    "        self.n_length_previous = n_length_previous\n",
    "        self.n_length_next = n_length_next\n",
    "        self.firstlink = None\n",
    "        self.endlink = None\n",
    "        self.chainlength = 0\n",
    "\n",
    "    def set_ends_previous_links(self):\n",
    "        self.endlink.previousnlinks = []\n",
    "        steplink = self.endlink\n",
    "        for i in range(self.n_length_previous):\n",
    "            if steplink != None and steplink.previouslink != None:\n",
    "                self.endlink.previousnlinks.append(steplink.previouslink)\n",
    "                steplink = steplink.previouslink\n",
    "            else:\n",
    "                self.endlink.previousnlinks.append(None)\n",
    "\n",
    "    def go_back_nextn_times_calculate_nextnlinks_again(self):\n",
    "        stepback = self.endlink\n",
    "        stepbackstaken = 0\n",
    "\n",
    "        # if we can go back the double negative and statement above\n",
    "        # we need to go back that many times\n",
    "        # if we can step back we add it to the list\n",
    "        # if we cannot we\n",
    "        for i in range(self.n_length_next):\n",
    "            if stepback != None and stepback.previouslink != None:\n",
    "                stepback = stepback.previouslink\n",
    "                stepbackstaken += 1\n",
    "        \n",
    "        for i in range(stepbackstaken):\n",
    "            currentlink = stepback\n",
    "            stepback.nextnlinks = []\n",
    "            for i in range(self.n_length_next):\n",
    "                if currentlink != None and currentlink.nextlink != None:\n",
    "                    stepback.nextnlinks.append(currentlink.nextlink)\n",
    "                    currentlink = currentlink.nextlink\n",
    "                else:\n",
    "                    stepback.nextnlinks.append(None)\n",
    "        \n",
    "        \n",
    "            \n",
    "\n",
    "    def add_link(self, data):\n",
    "        newlink = link(data)\n",
    "        newlink.nextnlinks = [None for i in range(self.n_length_next)]\n",
    "        self.chainlength += 1\n",
    "        if self.firstlink == None:\n",
    "            self.firstlink = self.endlink = newlink\n",
    "            # we can set these first link has no previous links\n",
    "            self.set_ends_previous_links()\n",
    "        else:\n",
    "            self.endlink.nextlink = newlink\n",
    "            newlink.previouslink = self.endlink\n",
    "            self.endlink = newlink\n",
    "            self.set_ends_previous_links()\n",
    "            self.go_back_nextn_times_calculate_nextnlinks_again()\n",
    "\n",
    "    def getlink(self, index):\n",
    "        if index >= 0:\n",
    "            currentlink = self.firstlink\n",
    "            for i in range(index):\n",
    "                currentlink = currentlink.nextlink\n",
    "            return currentlink\n",
    "        else:\n",
    "            currentlink = self.endlink\n",
    "            for i in range(1, abs(index)):\n",
    "                currentlink = currentlink.previouslink\n",
    "            return currentlink"
   ]
  },
  {
   "cell_type": "code",
   "execution_count": 80,
   "metadata": {},
   "outputs": [],
   "source": [
    "testlist = chain(2,2)\n",
    "\n",
    "testlist.add_link(1)\n",
    "testlist.add_link(2)\n",
    "testlist.add_link(3)\n",
    "testlist.add_link(4)\n",
    "testlist.add_link(5)\n",
    "testlist.add_link(6)\n",
    "testlist.add_link(7)\n",
    "testlist.add_link(8)\n",
    "testlist.add_link(9)\n"
   ]
  },
  {
   "cell_type": "code",
   "execution_count": 88,
   "metadata": {},
   "outputs": [
    {
     "data": {
      "text/plain": [
       "[None, None]"
      ]
     },
     "execution_count": 88,
     "metadata": {},
     "output_type": "execute_result"
    }
   ],
   "source": [
    "testlist.endlink.nextnlinks"
   ]
  },
  {
   "cell_type": "code",
   "execution_count": 91,
   "metadata": {},
   "outputs": [
    {
     "name": "stdout",
     "output_type": "stream",
     "text": [
      "Link number: 0\n",
      "data: 1\n",
      "nextn(data): [2, 3]\n",
      "nextn(link): [<__main__.link object at 0x10bca7610>, <__main__.link object at 0x10bca7df0>]\n",
      "previousn(data): [None, None]\n",
      "previousn(link): [None, None]\n",
      "\n",
      "Link number: 1\n",
      "data: 2\n",
      "nextn(data): [3, 4]\n",
      "nextn(link): [<__main__.link object at 0x10bca7df0>, <__main__.link object at 0x10bc0f070>]\n",
      "previousn(data): [1, None]\n",
      "previousn(link): [<__main__.link object at 0x10bca7f10>, None]\n",
      "\n",
      "Link number: 2\n",
      "data: 3\n",
      "nextn(data): [4, 5]\n",
      "nextn(link): [<__main__.link object at 0x10bc0f070>, <__main__.link object at 0x10bc0f040>]\n",
      "previousn(data): [2, 1]\n",
      "previousn(link): [<__main__.link object at 0x10bca7610>, <__main__.link object at 0x10bca7f10>]\n",
      "\n",
      "Link number: 3\n",
      "data: 4\n",
      "nextn(data): [5, 6]\n",
      "nextn(link): [<__main__.link object at 0x10bc0f040>, <__main__.link object at 0x10bc0fe80>]\n",
      "previousn(data): [3, 2]\n",
      "previousn(link): [<__main__.link object at 0x10bca7df0>, <__main__.link object at 0x10bca7610>]\n",
      "\n",
      "Link number: 4\n",
      "data: 5\n",
      "nextn(data): [6, 7]\n",
      "nextn(link): [<__main__.link object at 0x10bc0fe80>, <__main__.link object at 0x10bc0f160>]\n",
      "previousn(data): [4, 3]\n",
      "previousn(link): [<__main__.link object at 0x10bc0f070>, <__main__.link object at 0x10bca7df0>]\n",
      "\n",
      "Link number: 5\n",
      "data: 6\n",
      "nextn(data): [7, 8]\n",
      "nextn(link): [<__main__.link object at 0x10bc0f160>, <__main__.link object at 0x10bc0ffa0>]\n",
      "previousn(data): [5, 4]\n",
      "previousn(link): [<__main__.link object at 0x10bc0f040>, <__main__.link object at 0x10bc0f070>]\n",
      "\n",
      "Link number: 6\n",
      "data: 7\n",
      "nextn(data): [8, 9]\n",
      "nextn(link): [<__main__.link object at 0x10bc0ffa0>, <__main__.link object at 0x10bc0f580>]\n",
      "previousn(data): [6, 5]\n",
      "previousn(link): [<__main__.link object at 0x10bc0fe80>, <__main__.link object at 0x10bc0f040>]\n",
      "\n",
      "Link number: 7\n",
      "data: 8\n",
      "nextn(data): [None, None]\n",
      "nextn(link): [None, None]\n",
      "previousn(data): [7, 6]\n",
      "previousn(link): [<__main__.link object at 0x10bc0f160>, <__main__.link object at 0x10bc0fe80>]\n",
      "\n",
      "Link number: 8\n",
      "data: 9\n",
      "nextn(data): [None, None]\n",
      "nextn(link): [None, None]\n",
      "previousn(data): [8, 7]\n",
      "previousn(link): [<__main__.link object at 0x10bc0ffa0>, <__main__.link object at 0x10bc0f160>]\n",
      "\n"
     ]
    }
   ],
   "source": [
    "for i in range(testlist.chainlength):\n",
    "    thelink = testlist.getlink(i)\n",
    "    previousn = [lnk.data if type(lnk) == type(link(1)) else None for lnk in thelink.previousnlinks]\n",
    "    nextn = [lnk.data if type(lnk) == type(link(1)) else None for lnk in thelink.nextnlinks]\n",
    "    print(f\"Link number: {i}\")\n",
    "    print(f\"data: {thelink.data}\")\n",
    "    print(f\"nextn(data): {nextn}\")\n",
    "    print(f\"nextn(link): {thelink.nextnlinks}\")\n",
    "    print(f\"previousn(data): {previousn}\")\n",
    "    print(f\"previousn(link): {thelink.previousnlinks}\")\n",
    "    print()"
   ]
  },
  {
   "cell_type": "code",
   "execution_count": null,
   "metadata": {},
   "outputs": [],
   "source": []
  },
  {
   "cell_type": "code",
   "execution_count": null,
   "metadata": {},
   "outputs": [],
   "source": []
  },
  {
   "cell_type": "code",
   "execution_count": null,
   "metadata": {},
   "outputs": [],
   "source": []
  },
  {
   "cell_type": "code",
   "execution_count": 92,
   "metadata": {},
   "outputs": [],
   "source": [
    "class link:\n",
    "    def __init__(self, data):\n",
    "        self.data = data\n",
    "        self.nextlink = None\n",
    "        self.previouslink = None\n",
    "        self.nextnlinks = None\n",
    "        self.previousnlinks = None\n",
    "\n",
    "class chain:\n",
    "    def __init__(self, n_length_previous, n_length_next):\n",
    "        self.n_length_previous = n_length_previous\n",
    "        self.n_length_next = n_length_next\n",
    "        self.firstlink = None\n",
    "        self.endlink = None\n",
    "        self.chainlength = 0\n",
    "\n",
    "    def set_ends_previous_links(self):\n",
    "        self.endlink.previousnlinks = []\n",
    "        steplink = self.endlink\n",
    "        for i in range(self.n_length_previous):\n",
    "            if steplink != None and steplink.previouslink != None:\n",
    "                self.endlink.previousnlinks.append(steplink.previouslink)\n",
    "                steplink = steplink.previouslink\n",
    "            else:\n",
    "                self.endlink.previousnlinks.append(None)\n",
    "\n",
    "    def go_back_nextn_times_calculate_nextnlinks_again(self):\n",
    "        stepback = self.endlink\n",
    "        stepbackstaken = 0\n",
    "\n",
    "        # if we can go back the double negative and statement above\n",
    "        # we need to go back that many times\n",
    "        # if we can step back we add it to the list\n",
    "        # if we cannot we\n",
    "        for i in range(self.n_length_next):\n",
    "            if stepback != None and stepback.previouslink != None:\n",
    "                stepback = stepback.previouslink\n",
    "                stepbackstaken += 1\n",
    "        \n",
    "        for i in range(stepbackstaken):\n",
    "            currentlink = stepback\n",
    "            stepback.nextnlinks = []\n",
    "            for i in range(self.n_length_next):\n",
    "                if currentlink != None and currentlink.nextlink != None:\n",
    "                    stepback.nextnlinks.append(currentlink.nextlink)\n",
    "                    currentlink = currentlink.nextlink\n",
    "                else:\n",
    "                    stepback.nextnlinks.append(None)\n",
    "        \n",
    "        \n",
    "            \n",
    "\n",
    "    def add_link(self, data):\n",
    "        newlink = link(data)\n",
    "        newlink.nextnlinks = [None for i in range(self.n_length_next)]\n",
    "        self.chainlength += 1\n",
    "        if self.firstlink == None:\n",
    "            self.firstlink = self.endlink = newlink\n",
    "            # we can set these first link has no previous links\n",
    "            self.set_ends_previous_links()\n",
    "        else:\n",
    "            self.endlink.nextlink = newlink\n",
    "            newlink.previouslink = self.endlink\n",
    "            self.endlink = newlink\n",
    "            self.set_ends_previous_links()\n",
    "            self.go_back_nextn_times_calculate_nextnlinks_again()\n",
    "\n",
    "    def getlink(self, index):\n",
    "        if index >= 0:\n",
    "            currentlink = self.firstlink\n",
    "            for i in range(index):\n",
    "                currentlink = currentlink.nextlink\n",
    "            return currentlink\n",
    "        else:\n",
    "            currentlink = self.endlink\n",
    "            for i in range(1, abs(index)):\n",
    "                currentlink = currentlink.previouslink\n",
    "            return currentlink"
   ]
  },
  {
   "cell_type": "code",
   "execution_count": 100,
   "metadata": {},
   "outputs": [
    {
     "name": "stdout",
     "output_type": "stream",
     "text": [
      "Time:\n",
      "16.75880718231201\n"
     ]
    }
   ],
   "source": [
    "import time\n",
    "start = time.time()\n",
    "numprev = 20\n",
    "numnext = 20\n",
    "testchain = chain(numprev, numnext)\n",
    "# time a linkedlist of 20 previous and 20 next for a list totalling 8 million\n",
    "nums = 100000\n",
    "for i in range(nums):\n",
    "    testchain.add_link(i)\n",
    "\n",
    "print('Time:')\n",
    "print(time.time() - start)"
   ]
  },
  {
   "cell_type": "markdown",
   "metadata": {},
   "source": [
    "okay so 8 million was gonna take forever so the test above is done with one hundred thousand i beleive (zeros hard to read)..\n",
    "\n",
    "so it finished in like 20 seconds which suchs but lets check it out anyway\n",
    "\n"
   ]
  },
  {
   "cell_type": "code",
   "execution_count": 101,
   "metadata": {},
   "outputs": [
    {
     "data": {
      "text/plain": [
       "0"
      ]
     },
     "execution_count": 101,
     "metadata": {},
     "output_type": "execute_result"
    }
   ],
   "source": [
    "testchain.firstlink.data"
   ]
  },
  {
   "cell_type": "code",
   "execution_count": 103,
   "metadata": {},
   "outputs": [
    {
     "data": {
      "text/plain": [
       "[1, 2, 3, 4, 5, 6, 7, 8, 9, 10, 11, 12, 13, 14, 15, 16, 17, 18, 19, 20]"
      ]
     },
     "execution_count": 103,
     "metadata": {},
     "output_type": "execute_result"
    }
   ],
   "source": [
    "[lnk.data if type(lnk) == type(link(1)) else None for lnk in testchain.firstlink.nextnlinks]"
   ]
  },
  {
   "cell_type": "code",
   "execution_count": 104,
   "metadata": {},
   "outputs": [
    {
     "data": {
      "text/plain": [
       "[None,\n",
       " None,\n",
       " None,\n",
       " None,\n",
       " None,\n",
       " None,\n",
       " None,\n",
       " None,\n",
       " None,\n",
       " None,\n",
       " None,\n",
       " None,\n",
       " None,\n",
       " None,\n",
       " None,\n",
       " None,\n",
       " None,\n",
       " None,\n",
       " None,\n",
       " None]"
      ]
     },
     "execution_count": 104,
     "metadata": {},
     "output_type": "execute_result"
    }
   ],
   "source": [
    "[lnkdata if type(lnk) == type(link(1)) else None for lnk in testchain.firstlink.previousnlinks]"
   ]
  },
  {
   "cell_type": "code",
   "execution_count": 105,
   "metadata": {},
   "outputs": [
    {
     "data": {
      "text/plain": [
       "[99998,\n",
       " 99997,\n",
       " 99996,\n",
       " 99995,\n",
       " 99994,\n",
       " 99993,\n",
       " 99992,\n",
       " 99991,\n",
       " 99990,\n",
       " 99989,\n",
       " 99988,\n",
       " 99987,\n",
       " 99986,\n",
       " 99985,\n",
       " 99984,\n",
       " 99983,\n",
       " 99982,\n",
       " 99981,\n",
       " 99980,\n",
       " 99979]"
      ]
     },
     "execution_count": 105,
     "metadata": {},
     "output_type": "execute_result"
    }
   ],
   "source": [
    "[lnk.data if type(lnk) == type(link(1)) else None for lnk in testchain.endlink.previousnlinks]"
   ]
  },
  {
   "cell_type": "code",
   "execution_count": 106,
   "metadata": {},
   "outputs": [
    {
     "data": {
      "text/plain": [
       "[None,\n",
       " None,\n",
       " None,\n",
       " None,\n",
       " None,\n",
       " None,\n",
       " None,\n",
       " None,\n",
       " None,\n",
       " None,\n",
       " None,\n",
       " None,\n",
       " None,\n",
       " None,\n",
       " None,\n",
       " None,\n",
       " None,\n",
       " None,\n",
       " None,\n",
       " None]"
      ]
     },
     "execution_count": 106,
     "metadata": {},
     "output_type": "execute_result"
    }
   ],
   "source": [
    "[lnk.data if type(lnk) == type(link(1)) else None for lnk in testchain.endlink.nextnlinks]"
   ]
  },
  {
   "cell_type": "code",
   "execution_count": null,
   "metadata": {},
   "outputs": [],
   "source": []
  }
 ],
 "metadata": {
  "kernelspec": {
   "display_name": "Python 3 (ipykernel)",
   "language": "python",
   "name": "python3"
  },
  "language_info": {
   "codemirror_mode": {
    "name": "ipython",
    "version": 3
   },
   "file_extension": ".py",
   "mimetype": "text/x-python",
   "name": "python",
   "nbconvert_exporter": "python",
   "pygments_lexer": "ipython3",
   "version": "3.9.6"
  }
 },
 "nbformat": 4,
 "nbformat_minor": 4
}
