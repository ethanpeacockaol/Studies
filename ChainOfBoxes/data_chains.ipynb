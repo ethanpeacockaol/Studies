{
 "cells": [
  {
   "metadata": {},
   "cell_type": "markdown",
   "source": "# Data Chains\n\n<h2><span>w/</span> <span style=\"color: yellow\">T</span><span style=\"color:red\">a</span><span style=\"color:blue\">P</span><span style=\"color:green\">e</span></h2>\n\n\n------"
  },
  {
   "metadata": {},
   "cell_type": "markdown",
   "source": "what is a data chain?\n\nits an object of objects\n\njust like a chain is rope of metal links:\n\n![datachain](datachain.gif)"
  },
  {
   "metadata": {},
   "cell_type": "markdown",
   "source": "in the animation above, firstlink.nextlink.nextlink is equal to endlink only because its' chain length is 3 \n\nendlink = 3rd link  \n(2 away from first link)  \nfirstlink.nextlink.nextlink = endlink = 3rd link\n\nNote:  \nthe endlink's .nextlink property will always be None  \nthe endlink has no nextlink\n\n  \nwe always append to the end when adding new links to a chain (or elements to a list)\n\n\n<hr>"
  },
  {
   "metadata": {},
   "cell_type": "markdown",
   "source": "to make a data chain we need a link class\nand a chain class\n\na chain is made of links\n\na chain can be linkless giving a chain length of 0\n\nall chains are empty before a link that holds data is added\n\nchains have n length\n\nn is the number of links (or items in the list)\n\nwe will copy pythons 0 based indexing"
  },
  {
   "metadata": {},
   "cell_type": "markdown",
   "source": "<hr>"
  },
  {
   "metadata": {},
   "cell_type": "markdown",
   "source": "# link class:\n\n![link class](linkclass.gif)\n\na chain is made of links\n\nlink class artributes:  \nself.data  \nself.nextlink\n\n\nthe nextlink attribute literally holds the next link in the chain\n\nthe endlinks nextlink attribute will be set to None to identify that it is not forwardly connected to a nextlink\n\nall other links nextlink attribute will be the link to its right\n\nso firstlink.nextlink is second item in list  \nfirstlink.nextlink.nextlink.nextlink would be the 4th item in the data chain  \nfirstlink.nextlink.nextlink would be item 3\n\n\n\ndata can contain anything including other links or chains\n\nyou can make a chain of chains (or a list of lists)\n\nlets take a look at the chain class\n\n<hr>"
  },
  {
   "metadata": {},
   "cell_type": "markdown",
   "source": "# chain class:"
  },
  {
   "metadata": {},
   "cell_type": "markdown",
   "source": "what can a chain class do?\n\nwell it can create chains\n\nit can add links to the end of chains\n\nit can step through links and return their value\n\nit can step through links and print their value\n\n![chainclass](chainclass.gif)\n\nlets draw a chain in python"
  },
  {
   "metadata": {
    "trusted": false
   },
   "cell_type": "code",
   "source": "class link:\n    def __init__(self, data):\n        self.data = data\n        self.nextlink = None",
   "execution_count": 1,
   "outputs": []
  },
  {
   "metadata": {
    "trusted": false
   },
   "cell_type": "code",
   "source": "myfirstlink = link(3)\nmysecondlink = link(4)\nmythirdlink = link(5)\n\n# make chain\nmyfirstlink.nextlink = mysecondlink\nmyfirstlink.nextlink.nextlink = mythirdlink\n\n#okay so check this out",
   "execution_count": 6,
   "outputs": []
  },
  {
   "metadata": {
    "trusted": false
   },
   "cell_type": "code",
   "source": "myfirstlink.data",
   "execution_count": 7,
   "outputs": [
    {
     "data": {
      "text/plain": "3"
     },
     "execution_count": 7,
     "metadata": {},
     "output_type": "execute_result"
    }
   ]
  },
  {
   "metadata": {
    "trusted": false
   },
   "cell_type": "code",
   "source": "myfirstlink.nextlink.data",
   "execution_count": 8,
   "outputs": [
    {
     "data": {
      "text/plain": "4"
     },
     "execution_count": 8,
     "metadata": {},
     "output_type": "execute_result"
    }
   ]
  },
  {
   "metadata": {
    "trusted": false,
    "collapsed": true
   },
   "cell_type": "code",
   "source": "myfirstlink.nextlink.nextlink.data",
   "execution_count": 9,
   "outputs": [
    {
     "data": {
      "text/plain": "5"
     },
     "execution_count": 9,
     "metadata": {},
     "output_type": "execute_result"
    }
   ]
  },
  {
   "metadata": {
    "trusted": false
   },
   "cell_type": "code",
   "source": "if myfirstlink.nextlink.nextlink.nextlink == None:\n    print(\"end of chain\")",
   "execution_count": 10,
   "outputs": [
    {
     "name": "stdout",
     "output_type": "stream",
     "text": "end of chain\n"
    }
   ]
  },
  {
   "metadata": {},
   "cell_type": "markdown",
   "source": "# How can a data chain act like a list?\n\ncompared to indexable lists in python\n\n\n\n\n<img src=\"zero_index.gif\">\n\n"
  },
  {
   "metadata": {
    "trusted": false
   },
   "cell_type": "markdown",
   "source": "okay so lets duplicate mylist above"
  },
  {
   "metadata": {
    "trusted": true
   },
   "cell_type": "code",
   "source": "# make a data chain to represent a list\nclass link:\n    def __init__(self, data):\n        self.data = data\n        # new links have to be binded so set to None\n        self.nextlink = None\n\n        \n# lets create a chain object that binds links together \n# and can be a chain containing any data even other \n# lists objects or chains numbers words \nclass chain:\n    def __init__(self):\n        # we only keep track of first and last index \n        \n        # empty chain that has two ends and linkages\n        self.firstindex = None\n        self.lastindex = None\n        \n    def addlink(self, link_storage):\n        # create chain link that holds data\n        newlink = link(link_storage)\n        # if chain empty\n        if self.firstindex == None:\n            # single link has been added to your empty chain\n            self.firstindex = self.lastindex = newlink\n        else:\n            # chain has previous links\n            \n            # add new link to end link\n            # this grabbing current end \n            # link and flipping None to our new link\n            self.lastindex.nextlink = newlink\n            \n            # update the last index to point to \n            # the newly added chain that by creation \n            # of a link is default to None\n            self.lastindex = newlink\n            \n            \n# create a list using a data chain          \nmylist = chain()\n\n# add an item\nmylist.addlink(\"this is a chain link that can hold data\")\n# add a few more\nmylist.addlink(\"this is the second index in the lists data\")\nmylist.addlink(\"hey im gonna change to numbers now\")\nmylist.addlink(9)\n\n# lets show how data storage is accessed in the data chain\nprint(f\"index 0 is the first chain link or first item in the list\\nit stores the data:\\n {mylist.firstindex.data}\")\nprint(f\"\\n\\nyou can see that subsequent .next calls open up a structured data format by printing the statement that outputs:\\n {mylist.firstindex.nextlink.data}\")\n\nprint()\nprint()\nmylist.lastindex.data",
   "execution_count": 14,
   "outputs": [
    {
     "output_type": "stream",
     "text": "index 0 is the first chain link or first item in the list\nit stores the data:\n this is a chain link that can hold data\n\n\nyou can see that subsequent .next calls open up a structured data format by printing the statement that outputs:\n this is the second index in the lists data\n\n\n",
     "name": "stdout"
    },
    {
     "output_type": "execute_result",
     "execution_count": 14,
     "data": {
      "text/plain": "9"
     },
     "metadata": {}
    }
   ]
  },
  {
   "metadata": {
    "trusted": true
   },
   "cell_type": "code",
   "source": "print(\"an alternative would be to build a list of None if you knew your required chain length and just populate a known length list\")",
   "execution_count": 15,
   "outputs": [
    {
     "output_type": "stream",
     "text": "an alternative would be to build a list of None if you knew your required chain length and just populate a known length list\n",
     "name": "stdout"
    }
   ]
  },
  {
   "metadata": {},
   "cell_type": "markdown",
   "source": "<hr>"
  },
  {
   "metadata": {},
   "cell_type": "markdown",
   "source": "lets copy this list\n\n<img src=\"zero_index.gif\">"
  },
  {
   "metadata": {
    "trusted": true
   },
   "cell_type": "code",
   "source": "# make a data chain to represent a list\nclass link:\n    def __init__(self, data):\n        self.data = data\n        # new links have to be binded so set to None\n        self.nextlink = None\n\n        \n# lets create a chain object that binds links together \n# and can be a chain containing any data even other \n# lists objects or chains numbers words \nclass chain:\n    def __init__(self):\n        # we only keep track of first and last index \n        \n        # empty chain that has two ends and linkages\n        self.firstindex = None\n        self.lastindex = None\n        \n    def addlink(self, link_storage):\n        # create chain link that holds data\n        newlink = link(link_storage)\n        # if chain empty\n        if self.firstindex == None:\n            # single link has been added to your empty chain\n            self.firstindex = self.lastindex = newlink\n        else:\n            # chain has previous links\n            \n            # add new link to end link\n            # this grabbing current end \n            # link and flipping None to our new link\n            self.lastindex.nextlink = newlink\n            \n            # update the last index to point to \n            # the newly added chain that by creation \n            # of a link is default to None\n            self.lastindex = newlink\n            \n\n    # get data out of chain link\n    def returnindex(self, index):\n        # start from first link if end link signifier unused\n        # TODO add full negative indexing\n        currentlink = self.firstindex\n        for i in range(index):\n            currentlink = currentlink.nextlink\n        return currentlink.data\n        \n            \n            \n# create a list using a data chain          \nmylist = chain()\nmylist.addlink(3)\nmylist.addlink(7)\nmylist.addlink(-1)\n\nnum_list_items = 3\n\nfor i in range(num_list_items):\n    print(mylist.returnindex(i))\n    \nprint(f\"index 2 of list: {mylist.returnindex(2)}\")\nprint(\"0 based indexing\")",
   "execution_count": 9,
   "outputs": [
    {
     "output_type": "stream",
     "text": "3\n7\n-1\nindex 2 of list: -1\n0 based indexing\n",
     "name": "stdout"
    }
   ]
  },
  {
   "metadata": {},
   "cell_type": "markdown",
   "source": "<img src=\"zero_index.gif\">"
  }
 ],
 "metadata": {
  "kernelspec": {
   "name": "python3",
   "display_name": "Python 3",
   "language": "python"
  },
  "language_info": {
   "name": "python",
   "version": "3.10.4",
   "mimetype": "text/x-python",
   "codemirror_mode": {
    "name": "ipython",
    "version": 3
   },
   "pygments_lexer": "ipython3",
   "nbconvert_exporter": "python",
   "file_extension": ".py"
  }
 },
 "nbformat": 4,
 "nbformat_minor": 4
}