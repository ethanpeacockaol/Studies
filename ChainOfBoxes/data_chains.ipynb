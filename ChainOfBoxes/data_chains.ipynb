{
 "cells": [
  {
   "cell_type": "markdown",
   "metadata": {},
   "source": [
    "# Data Chains\n",
    "\n",
    "<h2><span>w/</span> <span style=\"color: yellow\">T</span><span style=\"color:red\">a</span><span style=\"color:blue\">P</span><span style=\"color:green\">e</span></h2>\n",
    "\n",
    "\n",
    "------"
   ]
  },
  {
   "cell_type": "markdown",
   "metadata": {},
   "source": [
    "what is a data chain?\n",
    "\n",
    "its an object of objects\n",
    "\n",
    "just like a chain is rope of metal links:\n",
    "\n",
    "![datachain](datachain.gif)"
   ]
  },
  {
   "cell_type": "markdown",
   "metadata": {},
   "source": [
    "in the animation above, firstlink.nextlink.nextlink is equal to endlink only because its' chain length is 3 \n",
    "\n",
    "endlink = 3rd link  \n",
    "(2 away from first link)  \n",
    "firstlink.nextlink.nextlink = endlink = 3rd link\n",
    "\n",
    "Note:  \n",
    "the endlink's .nextlink property will always be None  \n",
    "the endlink has no nextlink\n",
    "\n",
    "  \n",
    "we always append to the end when adding new links to a chain (or elements to a list)\n",
    "\n",
    "\n",
    "<hr>"
   ]
  },
  {
   "cell_type": "markdown",
   "metadata": {},
   "source": [
    "to make a data chain we need a link class\n",
    "and a chain class\n",
    "\n",
    "a chain is made of links\n",
    "\n",
    "a chain can be linkless giving a chain length of 0\n",
    "\n",
    "all chains are empty before a link that holds data is added\n",
    "\n",
    "chains have n length\n",
    "\n",
    "n is the number of links (or items in the list)\n",
    "\n",
    "we will copy pythons 0 based indexing"
   ]
  },
  {
   "cell_type": "markdown",
   "metadata": {},
   "source": [
    "<hr>"
   ]
  },
  {
   "cell_type": "markdown",
   "metadata": {},
   "source": [
    "# link class:\n",
    "\n",
    "![link class](linkclass.gif)\n",
    "\n",
    "a chain is made of links\n",
    "\n",
    "link class artributes:  \n",
    "self.data  \n",
    "self.nextlink\n",
    "\n",
    "\n",
    "the nextlink attribute literally holds the next link in the chain\n",
    "\n",
    "the endlinks nextlink attribute will be set to None to identify that it is not forwardly connected to a nextlink\n",
    "\n",
    "all other links nextlink attribute will be the link to its right\n",
    "\n",
    "so firstlink.nextlink is second item in list  \n",
    "firstlink.nextlink.nextlink.nextlink would be the 4th item in the data chain  \n",
    "firstlink.nextlink.nextlink would be item 3\n",
    "\n",
    "\n",
    "\n",
    "data can contain anything including other links or chains\n",
    "\n",
    "you can make a chain of chains (or a list of lists)\n",
    "\n",
    "lets take a look at the chain class\n",
    "\n",
    "<hr>"
   ]
  },
  {
   "cell_type": "markdown",
   "metadata": {},
   "source": [
    "# chain class:"
   ]
  },
  {
   "cell_type": "markdown",
   "metadata": {},
   "source": [
    "what can a chain class do?\n",
    "\n",
    "well it can create chains\n",
    "\n",
    "it can add links to the end of chains\n",
    "\n",
    "it can step through links and return their value\n",
    "\n",
    "it can step through links and print their value\n",
    "\n",
    "![chainclass](chainclass.gif)\n",
    "\n",
    "lets draw a chain in python"
   ]
  },
  {
   "cell_type": "code",
   "execution_count": 1,
   "metadata": {},
   "outputs": [],
   "source": [
    "class link:\n",
    "    def __init__(self, data):\n",
    "        self.data = data\n",
    "        self.nextlink = None"
   ]
  },
  {
   "cell_type": "code",
   "execution_count": 6,
   "metadata": {},
   "outputs": [],
   "source": [
    "myfirstlink = link(3)\n",
    "mysecondlink = link(4)\n",
    "mythirdlink = link(5)\n",
    "\n",
    "# make chain\n",
    "myfirstlink.nextlink = mysecondlink\n",
    "myfirstlink.nextlink.nextlink = mythirdlink\n",
    "\n",
    "#okay so check this out"
   ]
  },
  {
   "cell_type": "code",
   "execution_count": 7,
   "metadata": {},
   "outputs": [
    {
     "data": {
      "text/plain": [
       "3"
      ]
     },
     "execution_count": 7,
     "metadata": {},
     "output_type": "execute_result"
    }
   ],
   "source": [
    "myfirstlink.data"
   ]
  },
  {
   "cell_type": "code",
   "execution_count": 8,
   "metadata": {},
   "outputs": [
    {
     "data": {
      "text/plain": [
       "4"
      ]
     },
     "execution_count": 8,
     "metadata": {},
     "output_type": "execute_result"
    }
   ],
   "source": [
    "myfirstlink.nextlink.data"
   ]
  },
  {
   "cell_type": "code",
   "execution_count": 9,
   "metadata": {},
   "outputs": [
    {
     "data": {
      "text/plain": [
       "5"
      ]
     },
     "execution_count": 9,
     "metadata": {},
     "output_type": "execute_result"
    }
   ],
   "source": [
    "myfirstlink.nextlink.nextlink.data"
   ]
  },
  {
   "cell_type": "code",
   "execution_count": 10,
   "metadata": {},
   "outputs": [
    {
     "name": "stdout",
     "output_type": "stream",
     "text": [
      "end of chain\n"
     ]
    }
   ],
   "source": [
    "if myfirstlink.nextlink.nextlink.nextlink == None:\n",
    "    print(\"end of chain\")"
   ]
  },
  {
   "cell_type": "code",
   "execution_count": null,
   "metadata": {},
   "outputs": [],
   "source": []
  }
 ],
 "metadata": {
  "kernelspec": {
   "display_name": "Python 3 (ipykernel)",
   "language": "python",
   "name": "python3"
  },
  "language_info": {
   "codemirror_mode": {
    "name": "ipython",
    "version": 3
   },
   "file_extension": ".py",
   "mimetype": "text/x-python",
   "name": "python",
   "nbconvert_exporter": "python",
   "pygments_lexer": "ipython3",
   "version": "3.12.10"
  }
 },
 "nbformat": 4,
 "nbformat_minor": 4
}
