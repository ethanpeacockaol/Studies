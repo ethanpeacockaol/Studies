{
 "cells": [
  {
   "cell_type": "markdown",
   "metadata": {},
   "source": [
    "# Data Chains\n",
    "\n",
    "<h2><span>w/</span> <span style=\"color: yellow\">T</span><span style=\"color:red\">a</span><span style=\"color:blue\">P</span><span style=\"color:green\">e</span></h2>\n",
    "\n",
    "\n",
    "------"
   ]
  },
  {
   "cell_type": "markdown",
   "metadata": {},
   "source": [
    "what is a data chain?\n",
    "\n",
    "its an object of objects\n",
    "\n",
    "just like a chain is rope of metal links:\n",
    "\n",
    "![datachain](datachain.gif)"
   ]
  },
  {
   "cell_type": "markdown",
   "metadata": {},
   "source": [
    "in the animation above, firstlink.nextlink.nextlink is equal to endlink only because its' chain length is 3 \n",
    "\n",
    "endlink = 3rd link  \n",
    "(2 away from first link)  \n",
    "firstlink.nextlink.nextlink = endlink = 3rd link\n",
    "\n",
    "Note:  \n",
    "the endlink's .nextlink property will always be None  \n",
    "the endlink has no nextlink\n",
    "\n",
    "  \n",
    "we always append to the end when adding new links to a chain (or elements to a list)\n",
    "\n",
    "\n",
    "<hr>"
   ]
  },
  {
   "cell_type": "markdown",
   "metadata": {},
   "source": [
    "to make a data chain we need a link class\n",
    "and a chain class\n",
    "\n",
    "a chain is made of links\n",
    "\n",
    "a chain can be linkless giving a chain length of 0\n",
    "\n",
    "all chains are empty before a link that holds data is added\n",
    "\n",
    "chains have n length\n",
    "\n",
    "n is the number of links (or items in the list)\n",
    "\n",
    "we will copy pythons 0 based indexing"
   ]
  },
  {
   "cell_type": "markdown",
   "metadata": {},
   "source": [
    "<hr>"
   ]
  },
  {
   "cell_type": "markdown",
   "metadata": {},
   "source": [
    "# link class:\n",
    "\n",
    "![link class](linkclass.gif)\n",
    "\n",
    "a chain is made of links\n",
    "\n",
    "link class artributes:  \n",
    "self.data  \n",
    "self.nextlink\n",
    "\n",
    "\n",
    "the nextlink attribute literally holds the next link in the chain\n",
    "\n",
    "the endlinks nextlink attribute will be set to None to identify that it is not forwardly connected to a nextlink\n",
    "\n",
    "all other links nextlink attribute will be the link to its right\n",
    "\n",
    "so firstlink.nextlink is second item in list  \n",
    "firstlink.nextlink.nextlink.nextlink would be the 4th item in the data chain  \n",
    "firstlink.nextlink.nextlink would be item 3\n",
    "\n",
    "\n",
    "\n",
    "data can contain anything including other links or chains\n",
    "\n",
    "you can make a chain of chains (or a list of lists)\n",
    "\n",
    "lets take a look at the chain class\n",
    "\n",
    "<hr>"
   ]
  },
  {
   "cell_type": "markdown",
   "metadata": {},
   "source": [
    "# chain class:"
   ]
  },
  {
   "cell_type": "markdown",
   "metadata": {},
   "source": [
    "what can a chain class do?\n",
    "\n",
    "well it can create chains\n",
    "\n",
    "it can add links to the end of chains\n",
    "\n",
    "it can step through links and return their value\n",
    "\n",
    "it can step through links and print their value\n",
    "\n",
    "![chainclass](chainclass.gif)\n",
    "\n",
    "lets draw a chain in python"
   ]
  },
  {
   "cell_type": "code",
   "execution_count": 1,
   "metadata": {},
   "outputs": [],
   "source": [
    "class link:\n",
    "    def __init__(self, data):\n",
    "        self.data = data\n",
    "        self.nextlink = None"
   ]
  },
  {
   "cell_type": "code",
   "execution_count": 6,
   "metadata": {},
   "outputs": [],
   "source": [
    "myfirstlink = link(3)\n",
    "mysecondlink = link(4)\n",
    "mythirdlink = link(5)\n",
    "\n",
    "# make chain\n",
    "myfirstlink.nextlink = mysecondlink\n",
    "myfirstlink.nextlink.nextlink = mythirdlink\n",
    "\n",
    "#okay so check this out"
   ]
  },
  {
   "cell_type": "code",
   "execution_count": 7,
   "metadata": {},
   "outputs": [
    {
     "data": {
      "text/plain": [
       "3"
      ]
     },
     "execution_count": 7,
     "metadata": {},
     "output_type": "execute_result"
    }
   ],
   "source": [
    "myfirstlink.data"
   ]
  },
  {
   "cell_type": "code",
   "execution_count": 8,
   "metadata": {},
   "outputs": [
    {
     "data": {
      "text/plain": [
       "4"
      ]
     },
     "execution_count": 8,
     "metadata": {},
     "output_type": "execute_result"
    }
   ],
   "source": [
    "myfirstlink.nextlink.data"
   ]
  },
  {
   "cell_type": "code",
   "execution_count": 9,
   "metadata": {
    "collapsed": true,
    "jupyter": {
     "outputs_hidden": true
    }
   },
   "outputs": [
    {
     "data": {
      "text/plain": [
       "5"
      ]
     },
     "execution_count": 9,
     "metadata": {},
     "output_type": "execute_result"
    }
   ],
   "source": [
    "myfirstlink.nextlink.nextlink.data"
   ]
  },
  {
   "cell_type": "code",
   "execution_count": 10,
   "metadata": {},
   "outputs": [
    {
     "name": "stdout",
     "output_type": "stream",
     "text": [
      "end of chain\n"
     ]
    }
   ],
   "source": [
    "if myfirstlink.nextlink.nextlink.nextlink == None:\n",
    "    print(\"end of chain\")"
   ]
  },
  {
   "cell_type": "markdown",
   "metadata": {},
   "source": [
    "# How can a data chain act like a list?\n",
    "\n",
    "compared to indexable lists in python\n",
    "\n",
    "\n",
    "\n",
    "\n",
    "<img src=\"zero_index.gif\">\n",
    "\n"
   ]
  },
  {
   "cell_type": "markdown",
   "metadata": {},
   "source": [
    "okay so lets duplicate mylist above"
   ]
  },
  {
   "cell_type": "code",
   "execution_count": 14,
   "metadata": {},
   "outputs": [
    {
     "name": "stdout",
     "output_type": "stream",
     "text": [
      "index 0 is the first chain link or first item in the list\n",
      "it stores the data:\n",
      " this is a chain link that can hold data\n",
      "\n",
      "\n",
      "you can see that subsequent .next calls open up a structured data format by printing the statement that outputs:\n",
      " this is the second index in the lists data\n",
      "\n",
      "\n"
     ]
    },
    {
     "data": {
      "text/plain": [
       "9"
      ]
     },
     "execution_count": 14,
     "metadata": {},
     "output_type": "execute_result"
    }
   ],
   "source": [
    "# make a data chain to represent a list\n",
    "class link:\n",
    "    def __init__(self, data):\n",
    "        self.data = data\n",
    "        # new links have to be binded so set to None\n",
    "        self.nextlink = None\n",
    "\n",
    "        \n",
    "# lets create a chain object that binds links together \n",
    "# and can be a chain containing any data even other \n",
    "# lists objects or chains numbers words \n",
    "class chain:\n",
    "    def __init__(self):\n",
    "        # we only keep track of first and last index \n",
    "        \n",
    "        # empty chain that has two ends and linkages\n",
    "        self.firstindex = None\n",
    "        self.lastindex = None\n",
    "        \n",
    "    def addlink(self, link_storage):\n",
    "        # create chain link that holds data\n",
    "        newlink = link(link_storage)\n",
    "        # if chain empty\n",
    "        if self.firstindex == None:\n",
    "            # single link has been added to your empty chain\n",
    "            self.firstindex = self.lastindex = newlink\n",
    "        else:\n",
    "            # chain has previous links\n",
    "            \n",
    "            # add new link to end link\n",
    "            # this grabbing current end \n",
    "            # link and flipping None to our new link\n",
    "            self.lastindex.nextlink = newlink\n",
    "            \n",
    "            # update the last index to point to \n",
    "            # the newly added chain that by creation \n",
    "            # of a link is default to None\n",
    "            self.lastindex = newlink\n",
    "            \n",
    "            \n",
    "# create a list using a data chain          \n",
    "mylist = chain()\n",
    "\n",
    "# add an item\n",
    "mylist.addlink(\"this is a chain link that can hold data\")\n",
    "# add a few more\n",
    "mylist.addlink(\"this is the second index in the lists data\")\n",
    "mylist.addlink(\"hey im gonna change to numbers now\")\n",
    "mylist.addlink(9)\n",
    "\n",
    "# lets show how data storage is accessed in the data chain\n",
    "print(f\"index 0 is the first chain link or first item in the list\\nit stores the data:\\n {mylist.firstindex.data}\")\n",
    "print(f\"\\n\\nyou can see that subsequent .next calls open up a structured data format by printing the statement that outputs:\\n {mylist.firstindex.nextlink.data}\")\n",
    "\n",
    "print()\n",
    "print()\n",
    "mylist.lastindex.data"
   ]
  },
  {
   "cell_type": "code",
   "execution_count": 15,
   "metadata": {},
   "outputs": [
    {
     "name": "stdout",
     "output_type": "stream",
     "text": [
      "an alternative would be to build a list of None if you knew your required chain length and just populate a known length list\n"
     ]
    }
   ],
   "source": [
    "print(\"an alternative would be to build a list of None if you knew your required chain length and just populate a known length list\")"
   ]
  },
  {
   "cell_type": "markdown",
   "metadata": {},
   "source": [
    "<hr>"
   ]
  },
  {
   "cell_type": "markdown",
   "metadata": {},
   "source": [
    "lets copy this list\n",
    "\n",
    "<img src=\"zero_index.gif\">"
   ]
  },
  {
   "cell_type": "code",
   "execution_count": 1,
   "metadata": {},
   "outputs": [
    {
     "name": "stdout",
     "output_type": "stream",
     "text": [
      "3\n",
      "7\n",
      "-1\n",
      "index 2 of list: -1\n",
      "0 based indexing\n"
     ]
    }
   ],
   "source": [
    "# make a data chain to represent a list\n",
    "class link:\n",
    "    def __init__(self, data):\n",
    "        self.data = data\n",
    "        # new links have to be binded so set to None\n",
    "        self.nextlink = None\n",
    "\n",
    "        \n",
    "# lets create a chain object that binds links together \n",
    "# and can be a chain containing any data even other \n",
    "# lists objects or chains numbers words \n",
    "class chain:\n",
    "    def __init__(self):\n",
    "        # we only keep track of first and last index \n",
    "        \n",
    "        # empty chain that has two ends and linkages\n",
    "        self.firstindex = None\n",
    "        self.lastindex = None\n",
    "        \n",
    "    def addlink(self, link_storage):\n",
    "        # create chain link that holds data\n",
    "        newlink = link(link_storage)\n",
    "        # if chain empty\n",
    "        if self.firstindex == None:\n",
    "            # single link has been added to your empty chain\n",
    "            self.firstindex = self.lastindex = newlink\n",
    "        else:\n",
    "            # chain has previous links\n",
    "            \n",
    "            # add new link to end link\n",
    "            # this grabbing current end \n",
    "            # link and flipping None to our new link\n",
    "            self.lastindex.nextlink = newlink\n",
    "            \n",
    "            # update the last index to point to \n",
    "            # the newly added chain that by creation \n",
    "            # of a link is default to None\n",
    "            self.lastindex = newlink\n",
    "            \n",
    "\n",
    "    # get data out of chain link\n",
    "    def returnindex(self, index):\n",
    "        # start from first link if end link signifier unused\n",
    "        # TODO add full negative indexing\n",
    "        currentlink = self.firstindex\n",
    "        for i in range(index):\n",
    "            currentlink = currentlink.nextlink\n",
    "        return currentlink.data\n",
    "        \n",
    "            \n",
    "            \n",
    "# create a list using a data chain          \n",
    "mylist = chain()\n",
    "mylist.addlink(3)\n",
    "mylist.addlink(7)\n",
    "mylist.addlink(-1)\n",
    "\n",
    "num_list_items = 3\n",
    "\n",
    "for i in range(num_list_items):\n",
    "    print(mylist.returnindex(i))\n",
    "    \n",
    "print(f\"index 2 of list: {mylist.returnindex(2)}\")\n",
    "print(\"0 based indexing\")"
   ]
  },
  {
   "cell_type": "markdown",
   "metadata": {},
   "source": [
    "<img src=\"zero_index.gif\">"
   ]
  },
  {
   "cell_type": "markdown",
   "metadata": {},
   "source": [
    "<hr>\n",
    "\n",
    "# okay let's draw what's happening\n"
   ]
  },
  {
   "cell_type": "markdown",
   "metadata": {},
   "source": [
    "![linkanim](linkagetochain.gif)"
   ]
  },
  {
   "cell_type": "code",
   "execution_count": 3,
   "metadata": {},
   "outputs": [
    {
     "data": {
      "text/plain": [
       "3"
      ]
     },
     "execution_count": 3,
     "metadata": {},
     "output_type": "execute_result"
    }
   ],
   "source": [
    "mylist.firstindex.data"
   ]
  },
  {
   "cell_type": "code",
   "execution_count": 4,
   "metadata": {},
   "outputs": [
    {
     "data": {
      "text/plain": [
       "7"
      ]
     },
     "execution_count": 4,
     "metadata": {},
     "output_type": "execute_result"
    }
   ],
   "source": [
    "mylist.firstindex.nextlink.data"
   ]
  },
  {
   "cell_type": "code",
   "execution_count": 5,
   "metadata": {},
   "outputs": [
    {
     "data": {
      "text/plain": [
       "-1"
      ]
     },
     "execution_count": 5,
     "metadata": {},
     "output_type": "execute_result"
    }
   ],
   "source": [
    "mylist.firstindex.nextlink.nextlink.data"
   ]
  },
  {
   "cell_type": "code",
   "execution_count": 6,
   "metadata": {},
   "outputs": [
    {
     "name": "stdout",
     "output_type": "stream",
     "text": [
      "None\n"
     ]
    }
   ],
   "source": [
    "print(mylist.firstindex.nextlink.nextlink.nextlink)"
   ]
  },
  {
   "cell_type": "markdown",
   "metadata": {},
   "source": [
    "<hr>"
   ]
  }
 ],
 "metadata": {
  "kernelspec": {
   "display_name": "Python 3 (ipykernel)",
   "language": "python",
   "name": "python3"
  },
  "language_info": {
   "codemirror_mode": {
    "name": "ipython",
    "version": 3
   },
   "file_extension": ".py",
   "mimetype": "text/x-python",
   "name": "python",
   "nbconvert_exporter": "python",
   "pygments_lexer": "ipython3",
   "version": "3.12.10"
  }
 },
 "nbformat": 4,
 "nbformat_minor": 4
}
