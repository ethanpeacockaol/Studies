{
 "cells": [
  {
   "cell_type": "markdown",
   "metadata": {},
   "source": [
    "# Data Chains\n",
    "\n",
    "<h2><span>w/</span> <span style=\"color: yellow\">T</span><span style=\"color:red\">a</span><span style=\"color:blue\">P</span><span style=\"color:green\">e</span></h2>\n",
    "\n",
    "\n",
    "------"
   ]
  },
  {
   "cell_type": "markdown",
   "metadata": {},
   "source": [
    "what is a data chain?\n",
    "\n",
    "its an object of objects\n",
    "\n",
    "just like a chain is rope of metal links:\n",
    "\n",
    "![datachain](datachain.gif)"
   ]
  },
  {
   "cell_type": "markdown",
   "metadata": {},
   "source": [
    "<hr>"
   ]
  },
  {
   "cell_type": "markdown",
   "metadata": {},
   "source": [
    "to make a data chain we need a link class\n",
    "and a chain class\n",
    "\n",
    "a chain is made of links\n",
    "\n",
    "a chain can be linkless giving a chain length of 0\n",
    "\n",
    "all chains are empty before a link that holds data is added\n",
    "\n",
    "chains have n length"
   ]
  },
  {
   "cell_type": "markdown",
   "metadata": {},
   "source": [
    "<hr>"
   ]
  },
  {
   "cell_type": "markdown",
   "metadata": {},
   "source": [
    "link class:\n",
    "\n",
    "![link class](linkclass.gif)\n",
    "\n",
    "a chain is made of links\n",
    "\n",
    "link class artributes:\n",
    "\n",
    "self.data \n",
    "\n",
    "self.nextlink\n",
    "\n",
    "\n",
    "the nextlink attribute literally holds the next link in the chain\n",
    "\n",
    "\n",
    "data can contain anything including other links or chains\n",
    "\n",
    "you can make a chain of chains\n",
    "\n",
    "or a list of lists "
   ]
  },
  {
   "cell_type": "code",
   "execution_count": null,
   "metadata": {},
   "outputs": [],
   "source": []
  }
 ],
 "metadata": {
  "kernelspec": {
   "display_name": "Python 3 (ipykernel)",
   "language": "python",
   "name": "python3"
  },
  "language_info": {
   "codemirror_mode": {
    "name": "ipython",
    "version": 3
   },
   "file_extension": ".py",
   "mimetype": "text/x-python",
   "name": "python",
   "nbconvert_exporter": "python",
   "pygments_lexer": "ipython3",
   "version": "3.12.10"
  }
 },
 "nbformat": 4,
 "nbformat_minor": 4
}
