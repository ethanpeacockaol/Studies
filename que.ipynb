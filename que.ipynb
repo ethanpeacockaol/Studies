{
 "cells": [
  {
   "cell_type": "markdown",
   "id": "15542f82-0779-484d-8b23-b8c7943430b8",
   "metadata": {},
   "source": [
    "# Que"
   ]
  },
  {
   "cell_type": "code",
   "execution_count": null,
   "id": "b77769f7-07ec-44cd-a2df-279bd5dab4e0",
   "metadata": {},
   "outputs": [],
   "source": []
  },
  {
   "cell_type": "code",
   "execution_count": null,
   "id": "3f7fb173-2567-45ca-aa8e-963af4d920db",
   "metadata": {},
   "outputs": [],
   "source": []
  },
  {
   "cell_type": "code",
   "execution_count": null,
   "id": "3825dc29-5994-444d-8d4d-633c1070b626",
   "metadata": {},
   "outputs": [],
   "source": []
  },
  {
   "cell_type": "markdown",
   "id": "e4002241-6494-4a46-b5a3-5b408b061b74",
   "metadata": {},
   "source": [
    "okay first things first how do we delete a variable"
   ]
  },
  {
   "cell_type": "code",
   "execution_count": 1,
   "id": "5448055c-0cc5-47aa-9f2d-0437acb86dac",
   "metadata": {},
   "outputs": [],
   "source": [
    "class linktest:\n",
    "    def __init__(self, data):\n",
    "        self.data = data\n",
    "        self.nextlink = None"
   ]
  },
  {
   "cell_type": "code",
   "execution_count": 2,
   "id": "2f0cde05-0c2e-4bbb-8b34-7a0acbde1db2",
   "metadata": {},
   "outputs": [
    {
     "data": {
      "text/plain": [
       "<__main__.linktest at 0x22898e102f0>"
      ]
     },
     "execution_count": 2,
     "metadata": {},
     "output_type": "execute_result"
    }
   ],
   "source": [
    "test = linktest(1)\n",
    "test"
   ]
  },
  {
   "cell_type": "code",
   "execution_count": 3,
   "id": "7d68cbbd-1736-4fc5-af6f-f5f4eedb56bd",
   "metadata": {},
   "outputs": [],
   "source": [
    "del(test)"
   ]
  },
  {
   "cell_type": "code",
   "execution_count": 4,
   "id": "3dc37b96-56cd-4e9a-9266-6bf2f45628d1",
   "metadata": {},
   "outputs": [
    {
     "ename": "NameError",
     "evalue": "name 'test' is not defined",
     "output_type": "error",
     "traceback": [
      "\u001b[31m---------------------------------------------------------------------------\u001b[39m",
      "\u001b[31mNameError\u001b[39m                                 Traceback (most recent call last)",
      "\u001b[36mCell\u001b[39m\u001b[36m \u001b[39m\u001b[32mIn[4]\u001b[39m\u001b[32m, line 1\u001b[39m\n\u001b[32m----> \u001b[39m\u001b[32m1\u001b[39m \u001b[43mtest\u001b[49m\n",
      "\u001b[31mNameError\u001b[39m: name 'test' is not defined"
     ]
    }
   ],
   "source": [
    "test"
   ]
  },
  {
   "cell_type": "code",
   "execution_count": null,
   "id": "fa173297-5c53-45eb-a1e2-e4daf1cc67f2",
   "metadata": {},
   "outputs": [],
   "source": []
  },
  {
   "cell_type": "code",
   "execution_count": null,
   "id": "70d4c4f5-26bd-41db-a8e0-7a7a67af2c75",
   "metadata": {},
   "outputs": [],
   "source": []
  },
  {
   "cell_type": "code",
   "execution_count": null,
   "id": "358eb37f-eb36-47ad-9f68-6e35b19b3e8e",
   "metadata": {},
   "outputs": [],
   "source": []
  },
  {
   "cell_type": "markdown",
   "id": "a7a45bfc-49de-4178-a2bf-8975803801f2",
   "metadata": {},
   "source": [
    "okay"
   ]
  },
  {
   "cell_type": "code",
   "execution_count": 52,
   "id": "1f860409-86b3-42df-80f9-1aed48d9756d",
   "metadata": {},
   "outputs": [],
   "source": [
    "class link:\n",
    "    def __init__(self, data):\n",
    "        self.data = data\n",
    "        self.nextlink = None\n",
    "        self.previouslink = None\n",
    "        self.nextnlinks = None\n",
    "        self.previousnlinks = None\n",
    "\n",
    "class chain:\n",
    "    def __init__(self, nextn_length, previousn_length):\n",
    "        self.nextnlen = nextn_length\n",
    "        self.prevnlen = previousn_length\n",
    "        self.firstlink = self.endlink = None\n",
    "        self.listlength = 0\n",
    "\n",
    "    def setlinks_previousnlinks(self, link_to_set):\n",
    "        link_to_set.previousnlinks = []\n",
    "        currentlink = self.endlink\n",
    "        for i in range(self.prevnlen):\n",
    "            if currentlink != None:\n",
    "                link_to_set.previousnlinks.append(currentlink)\n",
    "                currentlink = currentlink.previouslink\n",
    "            else:\n",
    "                link_to_set.previousnlinks.append(None)\n",
    "                \n",
    "    def addlink(self, data):\n",
    "        newlink = link(data)\n",
    "        self.listlength+=1\n",
    "\n",
    "        if self.firstlink == None:\n",
    "            newlink.previousnlinks = [None for i in range(self.nextnlen)]\n",
    "            self.firstlink = newlink\n",
    "            self.endlink = newlink\n",
    "        else:\n",
    "            newlink.previouslink = self.endlink\n",
    "            self.setlinks_previousnlinks(newlink)\n",
    "            self.endlink.nextlink = newlink\n",
    "            self.endlink = newlink\n",
    "            \n",
    "\n",
    "testchain = chain(5, 5)\n",
    "testchain.addlink(1)\n",
    "testchain.addlink(2)\n",
    "testchain.addlink(3)\n",
    "testchain.addlink(4)\n",
    "testchain.addlink(5)"
   ]
  },
  {
   "cell_type": "code",
   "execution_count": 54,
   "id": "c4f934fb-7880-4d45-be7c-96dbf6a21b24",
   "metadata": {},
   "outputs": [
    {
     "data": {
      "text/plain": [
       "[4, 3, 2, 1, None]"
      ]
     },
     "execution_count": 54,
     "metadata": {},
     "output_type": "execute_result"
    }
   ],
   "source": [
    "[lnk.data if type(lnk) == type(link(1)) else None for lnk in testchain.endlink.previousnlinks]"
   ]
  },
  {
   "cell_type": "code",
   "execution_count": 18,
   "id": "454d9db1-def1-4957-8772-ead2acf154e5",
   "metadata": {},
   "outputs": [
    {
     "name": "stdout",
     "output_type": "stream",
     "text": [
      "1\n",
      "2\n",
      "3\n",
      "4\n",
      "5\n"
     ]
    }
   ],
   "source": [
    "currentlink = testchain.firstlink\n",
    "for i in range(testchain.listlength):\n",
    "    print(currentlink.data)\n",
    "    currentlink = currentlink.nextlink"
   ]
  },
  {
   "cell_type": "code",
   "execution_count": null,
   "id": "6a7e68b7-4533-4a34-a132-6aa3945d1bc2",
   "metadata": {},
   "outputs": [],
   "source": []
  }
 ],
 "metadata": {
  "kernelspec": {
   "display_name": "Python 3 (ipykernel)",
   "language": "python",
   "name": "python3"
  },
  "language_info": {
   "codemirror_mode": {
    "name": "ipython",
    "version": 3
   },
   "file_extension": ".py",
   "mimetype": "text/x-python",
   "name": "python",
   "nbconvert_exporter": "python",
   "pygments_lexer": "ipython3",
   "version": "3.13.2"
  }
 },
 "nbformat": 4,
 "nbformat_minor": 5
}
