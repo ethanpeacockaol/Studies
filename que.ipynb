{
 "cells": [
  {
   "cell_type": "markdown",
   "id": "15542f82-0779-484d-8b23-b8c7943430b8",
   "metadata": {},
   "source": [
    "# Que"
   ]
  },
  {
   "cell_type": "code",
   "execution_count": null,
   "id": "b77769f7-07ec-44cd-a2df-279bd5dab4e0",
   "metadata": {},
   "outputs": [],
   "source": []
  },
  {
   "cell_type": "code",
   "execution_count": null,
   "id": "3f7fb173-2567-45ca-aa8e-963af4d920db",
   "metadata": {},
   "outputs": [],
   "source": []
  },
  {
   "cell_type": "code",
   "execution_count": null,
   "id": "3825dc29-5994-444d-8d4d-633c1070b626",
   "metadata": {},
   "outputs": [],
   "source": []
  },
  {
   "cell_type": "markdown",
   "id": "e4002241-6494-4a46-b5a3-5b408b061b74",
   "metadata": {},
   "source": [
    "okay first things first how do we delete a variable"
   ]
  },
  {
   "cell_type": "code",
   "execution_count": 1,
   "id": "5448055c-0cc5-47aa-9f2d-0437acb86dac",
   "metadata": {},
   "outputs": [],
   "source": [
    "class linktest:\n",
    "    def __init__(self, data):\n",
    "        self.data = data\n",
    "        self.nextlink = None"
   ]
  },
  {
   "cell_type": "code",
   "execution_count": 2,
   "id": "2f0cde05-0c2e-4bbb-8b34-7a0acbde1db2",
   "metadata": {},
   "outputs": [
    {
     "data": {
      "text/plain": [
       "<__main__.linktest at 0x289550c0050>"
      ]
     },
     "execution_count": 2,
     "metadata": {},
     "output_type": "execute_result"
    }
   ],
   "source": [
    "test = linktest(1)\n",
    "test"
   ]
  },
  {
   "cell_type": "code",
   "execution_count": 3,
   "id": "7d68cbbd-1736-4fc5-af6f-f5f4eedb56bd",
   "metadata": {},
   "outputs": [],
   "source": [
    "del(test)"
   ]
  },
  {
   "cell_type": "code",
   "execution_count": 4,
   "id": "3dc37b96-56cd-4e9a-9266-6bf2f45628d1",
   "metadata": {},
   "outputs": [
    {
     "ename": "NameError",
     "evalue": "name 'test' is not defined",
     "output_type": "error",
     "traceback": [
      "\u001b[31m---------------------------------------------------------------------------\u001b[39m",
      "\u001b[31mNameError\u001b[39m                                 Traceback (most recent call last)",
      "\u001b[36mCell\u001b[39m\u001b[36m \u001b[39m\u001b[32mIn[4]\u001b[39m\u001b[32m, line 1\u001b[39m\n\u001b[32m----> \u001b[39m\u001b[32m1\u001b[39m \u001b[43mtest\u001b[49m\n",
      "\u001b[31mNameError\u001b[39m: name 'test' is not defined"
     ]
    }
   ],
   "source": [
    "test"
   ]
  },
  {
   "cell_type": "code",
   "execution_count": null,
   "id": "fa173297-5c53-45eb-a1e2-e4daf1cc67f2",
   "metadata": {},
   "outputs": [],
   "source": []
  },
  {
   "cell_type": "code",
   "execution_count": null,
   "id": "70d4c4f5-26bd-41db-a8e0-7a7a67af2c75",
   "metadata": {},
   "outputs": [],
   "source": []
  },
  {
   "cell_type": "code",
   "execution_count": null,
   "id": "358eb37f-eb36-47ad-9f68-6e35b19b3e8e",
   "metadata": {},
   "outputs": [],
   "source": []
  },
  {
   "cell_type": "markdown",
   "id": "a7a45bfc-49de-4178-a2bf-8975803801f2",
   "metadata": {},
   "source": [
    "okay"
   ]
  },
  {
   "cell_type": "code",
   "execution_count": 5,
   "id": "1f860409-86b3-42df-80f9-1aed48d9756d",
   "metadata": {},
   "outputs": [],
   "source": [
    "class link:\n",
    "    def __init__(self, data):\n",
    "        self.data = data\n",
    "        self.nextlink = None\n",
    "        self.previouslink = None\n",
    "        self.nextnlinks = None\n",
    "        self.previousnlinks = None\n",
    "\n",
    "class chain:\n",
    "    def __init__(self, nextn_length, previousn_length):\n",
    "        self.nextnlen = nextn_length\n",
    "        self.prevnlen = previousn_length\n",
    "        self.firstlink = self.endlink = None\n",
    "        self.listlength = 0\n",
    "\n",
    "    def setlinks_previousnlinks(self, link_to_set):\n",
    "        link_to_set.previousnlinks = []\n",
    "        currentlink = self.endlink\n",
    "        for i in range(self.prevnlen):\n",
    "            if currentlink != None:\n",
    "                link_to_set.previousnlinks.append(currentlink)\n",
    "                currentlink = currentlink.previouslink\n",
    "            else:\n",
    "                link_to_set.previousnlinks.append(None)\n",
    "\n",
    "    def go_back_nextnlen_times_reset_nextnlinkslist(self):\n",
    "        currentlink = self.endlink\n",
    "        stepbackstaken = 0\n",
    "        for i in range(self.nextnlen):\n",
    "            if currentlink != None and currentlink.previouslink != None:\n",
    "                currentlink = currentlink.previouslink\n",
    "                stepbackstaken+=1\n",
    "        for i in range(stepbackstaken):\n",
    "            stepbacklink = currentlink.nextlink\n",
    "            currentlink.nextnlinks = []\n",
    "            for i in range(self.nextnlen):\n",
    "                if stepbacklink != None:\n",
    "                    currentlink.nextnlinks.append(stepbacklink)\n",
    "                    stepbacklink = stepbacklink.nextlink\n",
    "                else:\n",
    "                    currentlink.nextnlinks.append(None)\n",
    "            currentlink = currentlink.nextlink\n",
    "\n",
    "    def addlink(self, data):\n",
    "        newlink = link(data)\n",
    "        self.listlength+=1\n",
    "        if self.firstlink == None:\n",
    "            newlink.previousnlinks = [None for i in range(self.nextnlen)]\n",
    "            self.firstlink = newlink\n",
    "            self.endlink = newlink\n",
    "        else:\n",
    "            newlink.previouslink = self.endlink\n",
    "            self.setlinks_previousnlinks(newlink)\n",
    "            self.endlink.nextlink = newlink\n",
    "            self.endlink = newlink\n",
    "            self.go_back_nextnlen_times_reset_nextnlinkslist()\n",
    "            \n",
    "\n",
    "testchain = chain(5, 5)\n",
    "testchain.addlink(1)\n",
    "testchain.addlink(2)\n",
    "testchain.addlink(3)\n",
    "testchain.addlink(4)\n",
    "testchain.addlink(5)"
   ]
  },
  {
   "cell_type": "code",
   "execution_count": null,
   "id": "6a7e68b7-4533-4a34-a132-6aa3945d1bc2",
   "metadata": {},
   "outputs": [],
   "source": []
  },
  {
   "cell_type": "code",
   "execution_count": null,
   "id": "fd6dcbfe-4b0b-4ce4-ac3a-d5b06140d36a",
   "metadata": {},
   "outputs": [],
   "source": []
  },
  {
   "cell_type": "code",
   "execution_count": null,
   "id": "2b158b62-8926-4907-aa90-be32c198938f",
   "metadata": {},
   "outputs": [],
   "source": []
  },
  {
   "cell_type": "code",
   "execution_count": null,
   "id": "ef81c8cf-e103-4f54-b22e-152d147d1b10",
   "metadata": {},
   "outputs": [],
   "source": []
  },
  {
   "cell_type": "code",
   "execution_count": null,
   "id": "ef8b2ff9-df3d-482c-b0ac-06075b2ea5f2",
   "metadata": {},
   "outputs": [],
   "source": []
  },
  {
   "cell_type": "code",
   "execution_count": 6,
   "id": "274a8550-962d-4079-8713-905c2aeeca8c",
   "metadata": {},
   "outputs": [
    {
     "name": "stdout",
     "output_type": "stream",
     "text": [
      "[1, 2, 3, 4, 5] length: 5\n",
      "[2, 3, 4, 5] length: 4\n",
      "[2, 3, 4, 5, ground tank] length: 5\n",
      "[5, ground tank] length: 2\n",
      "[5, ground tank, air gun] length: 3\n",
      "[air gun] length: 1\n",
      "[] length: 0\n"
     ]
    }
   ],
   "source": [
    "class link:\n",
    "    def __init__(self, data):\n",
    "        self.data = data\n",
    "        self.nextlink = None\n",
    "        self.previouslink = None\n",
    "        self.nextnlinks = None\n",
    "        self.previousnlinks = None\n",
    "\n",
    "class chain:\n",
    "    def __init__(self, nextn_length, previousn_length):\n",
    "        self.nextnlen = nextn_length\n",
    "        self.prevnlen = previousn_length\n",
    "        self.firstlink = self.endlink = None\n",
    "        self.listlength = 0\n",
    "\n",
    "    def setlinks_previousnlinks(self, link_to_set):\n",
    "        link_to_set.previousnlinks = []\n",
    "        currentlink = self.endlink\n",
    "        for i in range(self.prevnlen):\n",
    "            if currentlink != None:\n",
    "                link_to_set.previousnlinks.append(currentlink)\n",
    "                currentlink = currentlink.previouslink\n",
    "            else:\n",
    "                link_to_set.previousnlinks.append(None)\n",
    "\n",
    "    def go_back_nextnlen_times_reset_nextnlinkslist(self):\n",
    "        currentlink = self.endlink\n",
    "        stepbackstaken = 0\n",
    "        for i in range(self.nextnlen):\n",
    "            if currentlink != None and currentlink.previouslink != None:\n",
    "                currentlink = currentlink.previouslink\n",
    "                stepbackstaken+=1\n",
    "        for i in range(stepbackstaken):\n",
    "            stepbacklink = currentlink.nextlink\n",
    "            currentlink.nextnlinks = []\n",
    "            for i in range(self.nextnlen):\n",
    "                if stepbacklink != None:\n",
    "                    currentlink.nextnlinks.append(stepbacklink)\n",
    "                    stepbacklink = stepbacklink.nextlink\n",
    "                else:\n",
    "                    currentlink.nextnlinks.append(None)\n",
    "            currentlink = currentlink.nextlink\n",
    "\n",
    "    def addlink(self, data):\n",
    "        newlink = link(data)\n",
    "        self.listlength+=1\n",
    "        if self.firstlink == None:\n",
    "            newlink.previousnlinks = [None for i in range(self.nextnlen)]\n",
    "            self.firstlink = newlink\n",
    "            self.endlink = newlink\n",
    "        else:\n",
    "            newlink.previouslink = self.endlink\n",
    "            self.setlinks_previousnlinks(newlink)\n",
    "            self.endlink.nextlink = newlink\n",
    "            self.endlink = newlink\n",
    "            self.go_back_nextnlen_times_reset_nextnlinkslist()\n",
    "\n",
    "    def pop_first_link(self):\n",
    "        self.listlength -= 1\n",
    "        nextlink = self.firstlink.nextlink\n",
    "        del(self.firstlink)\n",
    "        if type(nextlink) == type(link(1)):\n",
    "            self.firstlink = nextlink\n",
    "        else:\n",
    "            self.firstlink = self.endlink = None\n",
    "\n",
    "    def printdata(self):\n",
    "        currentlink = self.firstlink\n",
    "        print('[', end=\"\")\n",
    "        for i in range(self.listlength-1):\n",
    "            if type(currentlink) == type(link(1)):\n",
    "                print(currentlink.data, end=\", \")\n",
    "                currentlink = currentlink.nextlink\n",
    "            else:\n",
    "                print('None')\n",
    "        if type(self.endlink) == type(link(1)):\n",
    "            print(self.endlink.data, end=f\"] length: {self.listlength}\\n\")\n",
    "        else:\n",
    "            print(']', end=f\" length: {self.listlength}\\n\")\n",
    "            \n",
    "\n",
    "testchain = chain(5, 5)\n",
    "testchain.addlink(1)\n",
    "testchain.addlink(2)\n",
    "testchain.addlink(3)\n",
    "testchain.addlink(4)\n",
    "testchain.addlink(5)\n",
    "\n",
    "testchain.printdata()\n",
    "\n",
    "# pop one off\n",
    "testchain.pop_first_link()\n",
    "testchain.printdata()\n",
    "\n",
    "# add new target\n",
    "testchain.addlink(\"ground tank\")\n",
    "testchain.printdata()\n",
    "\n",
    "# pop off three targets\n",
    "testchain.pop_first_link()\n",
    "testchain.pop_first_link()\n",
    "testchain.pop_first_link()\n",
    "testchain.printdata()\n",
    "\n",
    "# aquire new target\n",
    "testchain.addlink(\"air gun\")\n",
    "testchain.printdata()\n",
    "\n",
    "# pop off two new targets\n",
    "testchain.pop_first_link()\n",
    "testchain.pop_first_link()\n",
    "testchain.printdata()\n",
    "\n",
    "# shoot down last target\n",
    "testchain.pop_first_link()\n",
    "testchain.printdata()"
   ]
  },
  {
   "cell_type": "code",
   "execution_count": null,
   "id": "94cb221d-85e5-4d6f-9a89-04a11dcf5caa",
   "metadata": {},
   "outputs": [],
   "source": []
  }
 ],
 "metadata": {
  "kernelspec": {
   "display_name": "Python 3 (ipykernel)",
   "language": "python",
   "name": "python3"
  },
  "language_info": {
   "codemirror_mode": {
    "name": "ipython",
    "version": 3
   },
   "file_extension": ".py",
   "mimetype": "text/x-python",
   "name": "python",
   "nbconvert_exporter": "python",
   "pygments_lexer": "ipython3",
   "version": "3.13.2"
  }
 },
 "nbformat": 4,
 "nbformat_minor": 5
}
