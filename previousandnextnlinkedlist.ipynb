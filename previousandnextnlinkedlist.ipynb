{
 "cells": [
  {
   "cell_type": "markdown",
   "id": "c682fffb-94d9-4d81-8d09-39f995a2e4f4",
   "metadata": {},
   "source": [
    "# Previous and Next N Linked list"
   ]
  },
  {
   "cell_type": "code",
   "execution_count": 1,
   "id": "1dd26d8e-b4d0-4396-b948-7bc4a28d9040",
   "metadata": {},
   "outputs": [],
   "source": [
    "class link:\n",
    "    def __init__(self, data):\n",
    "        self.data = data\n",
    "        self.nextlink = None\n",
    "        self.previouslink = None\n",
    "        self.nextnlinks = None\n",
    "        self.previousnlinks = None\n",
    "\n",
    "class chain:\n",
    "    def __init__(self, n_length_previous, n_length_next):\n",
    "        self.n_length_previous = n_length_previous\n",
    "        self.n_length_next = n_length_next\n",
    "        self.firstlink = None\n",
    "        self.endlink = None\n",
    "        self.chainlength = 0\n",
    "\n",
    "    def set_ends_previous_links(self):\n",
    "        self.endlink.previousnlinks = []\n",
    "        steplink = self.endlink\n",
    "        for i in range(self.n_length_previous):\n",
    "            if steplink != None and steplink.previouslink != None:\n",
    "                self.endlink.previousnlinks.append(steplink.previouslink)\n",
    "                steplink = steplink.previouslink\n",
    "            else:\n",
    "                self.endlink.previousnlinks.append(None)\n",
    "\n",
    "    def go_back_nextn_times_calculate_nextnlinks_again(self):\n",
    "        stepback = self.endlink\n",
    "        stepbackstaken = 0\n",
    "        for i in range(self.n_length_next):\n",
    "            if stepback != None and stepback.previouslink != None:\n",
    "                stepback = stepback.previouslink\n",
    "                stepbackstaken += 1\n",
    "        for i in range(stepbackstaken):\n",
    "            currentlink = stepback\n",
    "            stepback.nextnlinks = []\n",
    "            for i in range(self.n_length_next):\n",
    "                if currentlink != None and currentlink.nextlink != None:\n",
    "                    stepback.nextnlinks.append(currentlink.nextlink)\n",
    "                    currentlink = currentlink.nextlink\n",
    "                else:\n",
    "                    stepback.nextnlinks.append(None)\n",
    "\n",
    "    def add_link(self, data):\n",
    "        newlink = link(data)\n",
    "        newlink.nextnlinks = [None for i in range(self.n_length_next)]\n",
    "        self.chainlength += 1\n",
    "        if self.firstlink == None:\n",
    "            self.firstlink = self.endlink = newlink\n",
    "            self.set_ends_previous_links()\n",
    "        else:\n",
    "            self.endlink.nextlink = newlink\n",
    "            newlink.previouslink = self.endlink\n",
    "            self.endlink = newlink\n",
    "            self.set_ends_previous_links()\n",
    "            self.go_back_nextn_times_calculate_nextnlinks_again()\n",
    "\n",
    "    def getlink(self, index):\n",
    "        if index >= 0:\n",
    "            currentlink = self.firstlink\n",
    "            for i in range(index):\n",
    "                currentlink = currentlink.nextlink\n",
    "            return currentlink\n",
    "        else:\n",
    "            currentlink = self.endlink\n",
    "            for i in range(1, abs(index)):\n",
    "                currentlink = currentlink.previouslink\n",
    "            return currentlink"
   ]
  },
  {
   "cell_type": "code",
   "execution_count": 2,
   "id": "e6e7c9c1-c0f3-44f3-a790-0fcc63a73b81",
   "metadata": {},
   "outputs": [
    {
     "name": "stdout",
     "output_type": "stream",
     "text": [
      "Time:\n",
      "10.764018774032593\n"
     ]
    }
   ],
   "source": [
    "import time\n",
    "start = time.time()\n",
    "numprev = numnext = 3\n",
    "testchain = chain(numprev, numnext)\n",
    "# time a linkedlist of 3 previous and 3 next for a list totalling 1 million\n",
    "nums = 1000000\n",
    "for i in range(nums):\n",
    "    testchain.add_link(i)\n",
    "\n",
    "print('Time:')\n",
    "print(time.time() - start)"
   ]
  },
  {
   "cell_type": "markdown",
   "id": "f0825605-82e8-40df-8ac6-015e01b874b7",
   "metadata": {},
   "source": [
    "okay thats cool but we still using python lists can you remake it using datachains at every step?"
   ]
  },
  {
   "cell_type": "code",
   "execution_count": 53,
   "id": "37375a84-a64e-44a2-b8ec-727e1f790e8c",
   "metadata": {},
   "outputs": [],
   "source": [
    "class link:\n",
    "    def __init__(self, data):\n",
    "        self.data = data\n",
    "        self.nextlink = None\n",
    "        self.previouslink = None\n",
    "        self.nextnlinks = None\n",
    "        self.previousnlinks = None\n",
    "\n",
    "class chain:\n",
    "    def __init__(self, n_length_previous, n_length_next):\n",
    "        self.n_length_previous = n_length_previous\n",
    "        self.n_length_next = n_length_next\n",
    "        self.firstlink = None\n",
    "        self.endlink = None\n",
    "        self.chainlength = 0\n",
    "\n",
    "    def set_ends_previous_links(self):\n",
    "        self.endlink.previousnlinks = chain(0, 0)\n",
    "        steplink = self.endlink\n",
    "        for i in range(self.n_length_previous):\n",
    "            if steplink != None and steplink.previouslink != None:\n",
    "                self.endlink.previousnlinks.add_link(steplink.previouslink)\n",
    "                steplink = steplink.previouslink\n",
    "            else:\n",
    "                self.endlink.previousnlinks.add_link(None)\n",
    "\n",
    "    def go_back_nextn_times_calculate_nextnlinks_again(self):\n",
    "        stepback = self.endlink\n",
    "        stepbackstaken = 0\n",
    "        for i in range(self.n_length_next):\n",
    "            if stepback != None and stepback.previouslink != None:\n",
    "                stepback = stepback.previouslink\n",
    "                stepbackstaken += 1\n",
    "        for i in range(stepbackstaken):\n",
    "            currentlink = stepback\n",
    "            stepback.nextnlinks = chain(0, 0)\n",
    "            for i in range(self.n_length_next):\n",
    "                if currentlink != None and currentlink.nextlink != None:\n",
    "                    stepback.nextnlinks.add_link(currentlink.nextlink)\n",
    "                    currentlink = currentlink.nextlink\n",
    "                else:\n",
    "                    stepback.nextnlinks.add_link(None)\n",
    "\n",
    "    def add_link(self, data):\n",
    "        newlink = link(data)\n",
    "        newlink.nextnlinks = [None for i in range(self.n_length_next)]\n",
    "        self.chainlength += 1\n",
    "        if self.firstlink == None:\n",
    "            self.firstlink = self.endlink = newlink\n",
    "            self.set_ends_previous_links()\n",
    "        else:\n",
    "            self.endlink.nextlink = newlink\n",
    "            newlink.previouslink = self.endlink\n",
    "            self.endlink = newlink\n",
    "            self.set_ends_previous_links()\n",
    "            self.go_back_nextn_times_calculate_nextnlinks_again()\n",
    "\n",
    "    def getlink(self, index):\n",
    "        if index >= 0:\n",
    "            currentlink = self.firstlink\n",
    "            for i in range(index):\n",
    "                currentlink = currentlink.nextlink\n",
    "            return currentlink\n",
    "        else:\n",
    "            currentlink = self.endlink\n",
    "            for i in range(1, abs(index)):\n",
    "                currentlink = currentlink.previouslink\n",
    "            return currentlink"
   ]
  },
  {
   "cell_type": "code",
   "execution_count": 54,
   "id": "2167024d-1ec7-4f15-a192-bb1471a95eb7",
   "metadata": {},
   "outputs": [
    {
     "name": "stdout",
     "output_type": "stream",
     "text": [
      "Time:\n",
      "0.0010330677032470703\n"
     ]
    }
   ],
   "source": [
    "import time\n",
    "start = time.time()\n",
    "numprev = numnext = 3\n",
    "testchain = chain(numprev, numnext)\n",
    "# time a linkedlist of 3 previous and 3 next for a list totalling 1 million\n",
    "nums = 10\n",
    "for i in range(nums):\n",
    "    testchain.add_link(i)\n",
    "\n",
    "print('Time:')\n",
    "print(time.time() - start)"
   ]
  },
  {
   "cell_type": "code",
   "execution_count": null,
   "id": "e365166f-841f-4387-a534-18401ae001b7",
   "metadata": {},
   "outputs": [],
   "source": [
    "testchain.firstlink.data"
   ]
  },
  {
   "cell_type": "code",
   "execution_count": null,
   "id": "f0c9ab95-0d0e-4091-8cc8-90680c108733",
   "metadata": {},
   "outputs": [],
   "source": [
    "testchain.endlink.data"
   ]
  },
  {
   "cell_type": "code",
   "execution_count": null,
   "id": "f6640b9f-b347-498a-baae-ec56183cfe9c",
   "metadata": {},
   "outputs": [],
   "source": [
    "testchain.firstlink.nextnlinks"
   ]
  },
  {
   "cell_type": "code",
   "execution_count": null,
   "id": "c746c6b7-caa2-471e-a6e1-b82ccb4e20ab",
   "metadata": {},
   "outputs": [],
   "source": [
    "testchain.firstlink.previousnlinks"
   ]
  },
  {
   "cell_type": "code",
   "execution_count": 37,
   "id": "9b2cd00c-9d16-4e13-8254-375e90b552ac",
   "metadata": {},
   "outputs": [
    {
     "name": "stdout",
     "output_type": "stream",
     "text": [
      "link 0:\n",
      "data: 0\n",
      "\n"
     ]
    }
   ],
   "source": [
    "for i in range(testchain.chainlength):\n",
    "    thelink = testchain.getlink(i)\n",
    "    nextnlinkschain = thelink.nextnlinks\n",
    "    prevnlinkschain = thelink.previousnlinks\n",
    "    print(f\"link {i}:\")\n",
    "    print(f\"data: {thelink.data}\")\n",
    "    print()\n",
    "    break"
   ]
  },
  {
   "cell_type": "code",
   "execution_count": 48,
   "id": "1877c435-8c24-48ba-b233-23c2d6212e2e",
   "metadata": {},
   "outputs": [
    {
     "name": "stdout",
     "output_type": "stream",
     "text": [
      "<__main__.link object at 0x122244550>\n",
      "<__main__.link object at 0x12235c1c0>\n",
      "<__main__.link object at 0x12235cf10>\n"
     ]
    }
   ],
   "source": [
    "test = testchain.firstlink.nextnlinks\n",
    "for i in range(test.chainlength):\n",
    "    print(test.getlink(i).data)"
   ]
  },
  {
   "cell_type": "code",
   "execution_count": 27,
   "id": "083f6818-5fa7-4cce-b764-09b655d36c19",
   "metadata": {},
   "outputs": [
    {
     "data": {
      "text/plain": [
       "<__main__.chain at 0x122109340>"
      ]
     },
     "execution_count": 27,
     "metadata": {},
     "output_type": "execute_result"
    }
   ],
   "source": [
    "prevnlinkschain"
   ]
  },
  {
   "cell_type": "code",
   "execution_count": null,
   "id": "65af5bd4-2690-4600-928c-f50c8ef6358c",
   "metadata": {},
   "outputs": [],
   "source": []
  }
 ],
 "metadata": {
  "kernelspec": {
   "display_name": "Python 3 (ipykernel)",
   "language": "python",
   "name": "python3"
  },
  "language_info": {
   "codemirror_mode": {
    "name": "ipython",
    "version": 3
   },
   "file_extension": ".py",
   "mimetype": "text/x-python",
   "name": "python",
   "nbconvert_exporter": "python",
   "pygments_lexer": "ipython3",
   "version": "3.9.6"
  }
 },
 "nbformat": 4,
 "nbformat_minor": 5
}
