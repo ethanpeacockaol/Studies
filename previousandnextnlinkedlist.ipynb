{
 "cells": [
  {
   "cell_type": "markdown",
   "id": "c682fffb-94d9-4d81-8d09-39f995a2e4f4",
   "metadata": {},
   "source": [
    "# Previous and Next N Linked list"
   ]
  },
  {
   "cell_type": "code",
   "execution_count": 2,
   "id": "1dd26d8e-b4d0-4396-b948-7bc4a28d9040",
   "metadata": {},
   "outputs": [],
   "source": [
    "class link:\n",
    "    def __init__(self, data):\n",
    "        self.data = data\n",
    "        self.nextlink = None\n",
    "        self.previouslink = None\n",
    "        self.nextnlinks = None\n",
    "        self.previousnlinks = None\n",
    "\n",
    "class chain:\n",
    "    def __init__(self, n_length_previous, n_length_next):\n",
    "        self.n_length_previous = n_length_previous\n",
    "        self.n_length_next = n_length_next\n",
    "        self.firstlink = None\n",
    "        self.endlink = None\n",
    "        self.chainlength = 0\n",
    "\n",
    "    def set_ends_previous_links(self):\n",
    "        self.endlink.previousnlinks = []\n",
    "        steplink = self.endlink\n",
    "        for i in range(self.n_length_previous):\n",
    "            if steplink != None and steplink.previouslink != None:\n",
    "                self.endlink.previousnlinks.append(steplink.previouslink)\n",
    "                steplink = steplink.previouslink\n",
    "            else:\n",
    "                self.endlink.previousnlinks.append(None)\n",
    "\n",
    "    def go_back_nextn_times_calculate_nextnlinks_again(self):\n",
    "        stepback = self.endlink\n",
    "        stepbackstaken = 0\n",
    "        for i in range(self.n_length_next):\n",
    "            if stepback != None and stepback.previouslink != None:\n",
    "                stepback = stepback.previouslink\n",
    "                stepbackstaken += 1\n",
    "        for i in range(stepbackstaken):\n",
    "            currentlink = stepback\n",
    "            stepback.nextnlinks = []\n",
    "            for i in range(self.n_length_next):\n",
    "                if currentlink != None and currentlink.nextlink != None:\n",
    "                    stepback.nextnlinks.append(currentlink.nextlink)\n",
    "                    currentlink = currentlink.nextlink\n",
    "                else:\n",
    "                    stepback.nextnlinks.append(None)\n",
    "\n",
    "    def add_link(self, data):\n",
    "        newlink = link(data)\n",
    "        newlink.nextnlinks = [None for i in range(self.n_length_next)]\n",
    "        self.chainlength += 1\n",
    "        if self.firstlink == None:\n",
    "            self.firstlink = self.endlink = newlink\n",
    "            # we can set these first link has no previous links\n",
    "            self.set_ends_previous_links()\n",
    "        else:\n",
    "            self.endlink.nextlink = newlink\n",
    "            newlink.previouslink = self.endlink\n",
    "            self.endlink = newlink\n",
    "            self.set_ends_previous_links()\n",
    "            self.go_back_nextn_times_calculate_nextnlinks_again()\n",
    "\n",
    "    def getlink(self, index):\n",
    "        if index >= 0:\n",
    "            currentlink = self.firstlink\n",
    "            for i in range(index):\n",
    "                currentlink = currentlink.nextlink\n",
    "            return currentlink\n",
    "        else:\n",
    "            currentlink = self.endlink\n",
    "            for i in range(1, abs(index)):\n",
    "                currentlink = currentlink.previouslink\n",
    "            return currentlink"
   ]
  },
  {
   "cell_type": "code",
   "execution_count": 6,
   "id": "e6e7c9c1-c0f3-44f3-a790-0fcc63a73b81",
   "metadata": {},
   "outputs": [
    {
     "name": "stdout",
     "output_type": "stream",
     "text": [
      "Time:\n",
      "11.439684867858887\n"
     ]
    }
   ],
   "source": [
    "import time\n",
    "start = time.time()\n",
    "numprev = numnext = 3\n",
    "testchain = chain(numprev, numnext)\n",
    "# time a linkedlist of 3 previous and 3 next for a list totalling 1 million\n",
    "nums = 1000000\n",
    "for i in range(nums):\n",
    "    testchain.add_link(i)\n",
    "\n",
    "print('Time:')\n",
    "print(time.time() - start)"
   ]
  },
  {
   "cell_type": "code",
   "execution_count": null,
   "id": "d3b46dfc-9601-49bd-920e-1fd15bf94808",
   "metadata": {},
   "outputs": [],
   "source": []
  }
 ],
 "metadata": {
  "kernelspec": {
   "display_name": "Python 3 (ipykernel)",
   "language": "python",
   "name": "python3"
  },
  "language_info": {
   "codemirror_mode": {
    "name": "ipython",
    "version": 3
   },
   "file_extension": ".py",
   "mimetype": "text/x-python",
   "name": "python",
   "nbconvert_exporter": "python",
   "pygments_lexer": "ipython3",
   "version": "3.9.6"
  }
 },
 "nbformat": 4,
 "nbformat_minor": 5
}
