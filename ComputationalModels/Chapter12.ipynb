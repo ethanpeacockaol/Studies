{
 "cells": [
  {
   "cell_type": "markdown",
   "metadata": {},
   "source": [
    "# Chapter 12  Computational Models With  Arithmetic  Growth"
   ]
  },
  {
   "cell_type": "markdown",
   "metadata": {},
   "source": [
    "## Introduction\n",
    "\n",
    "Given problem, mathematical model is defined\n",
    "\n",
    "this chapter presents an introduction into simple mathematical models that exhibit arithmetic growth and describes the overall behavior of simple mathematical and computational models\n",
    "\n",
    "so call it modeling \n",
    "\n",
    "The derivation of difference and functional equations is explained\n",
    "\n",
    "so theres some function in here they call a difference equation\n",
    "\n",
    "derivation usually means math syntax\n",
    "\n",
    "\n",
    "\n",
    "### 12.2 Mathematical Modeling\n",
    "\n",
    "The three types of methods that are used for modeling are:\n",
    "\n",
    "1. Graphical\n",
    "2. Numerical\n",
    "3. Analytical\n",
    "\n",
    "graphical methods apply visualization of the data to help understand it\n",
    "\n",
    "Numerical methods directly manipulate the data of a problem to get an answer\n",
    "\n",
    "Analytical methods use various forms of relations and equations that are non sequential in their usage as a tool (compared to sequentiality in a computer that goes line by line (analytical usually describes multiple steps as a single step based on some formula they say is a law)\n",
    "\n",
    "\n",
    "### Difference equations\n",
    "\n",
    "a data list that contains values ordered in some manner is known as a sequence\n",
    "\n",
    "sequences sometimes have a specific order to make them applicable \n",
    "\n",
    "\n",
    "\n",
    "# Equation 12.1:\n",
    "\n",
    "$x_n = x_{n-1} + \\Delta x$\n",
    "\n",
    "this just says the next element is the previous element plus the change\n",
    "\n",
    "# Equation 12.2:\n",
    "the change in x is the next element minus the previous element (this assumes the sequence is numerical data and can be subtracted)\n",
    "\n",
    "$\\Delta x = x_n - x_{n-1}$\n",
    "\n",
    "\n",
    "# Table 12.1 Data\n",
    "\n",
    "| Month | Price |\n",
    "|---|---|\n",
    "| Jan | 10.22 |\n",
    "| Feb | 10.36 |\n",
    "| Mar | 10.49 |\n",
    "| Apr | 10.60 |\n",
    "| May | 10.68 |\n",
    "| Jun | 10.80 |\n",
    "| Jul | 10.88 |\n",
    "| Aug | 10.94 |\n",
    "| Sep | 11.05 |\n",
    "| Oct | 11.15 |\n",
    "| Nov | 11.26 |\n",
    "| Dec | 11.40 |"
   ]
  },
  {
   "cell_type": "code",
   "execution_count": 3,
   "metadata": {},
   "outputs": [],
   "source": [
    "# 12.1 table in lists\n",
    "table_121_month = ['Jan', 'Feb', 'Mar', 'Apr', 'May', 'Jun', 'Jul', 'Aug', 'Sep', 'Oct', 'Nov', 'Dec']\n",
    "table_121_price = [10.22, 10.36, 10.49, 10.60, 10.68, 10.80, 10.88, 10.94, 11.05, 11.15, 11.26, 11.40]"
   ]
  },
  {
   "cell_type": "code",
   "execution_count": null,
   "metadata": {},
   "outputs": [],
   "source": []
  },
  {
   "cell_type": "code",
   "execution_count": null,
   "metadata": {},
   "outputs": [],
   "source": []
  },
  {
   "cell_type": "code",
   "execution_count": null,
   "metadata": {},
   "outputs": [],
   "source": []
  },
  {
   "cell_type": "code",
   "execution_count": null,
   "metadata": {},
   "outputs": [],
   "source": []
  },
  {
   "cell_type": "code",
   "execution_count": null,
   "metadata": {},
   "outputs": [],
   "source": []
  },
  {
   "cell_type": "code",
   "execution_count": null,
   "metadata": {},
   "outputs": [],
   "source": []
  },
  {
   "cell_type": "code",
   "execution_count": null,
   "metadata": {},
   "outputs": [],
   "source": []
  },
  {
   "cell_type": "code",
   "execution_count": null,
   "metadata": {},
   "outputs": [],
   "source": []
  },
  {
   "cell_type": "code",
   "execution_count": null,
   "metadata": {},
   "outputs": [],
   "source": []
  },
  {
   "cell_type": "code",
   "execution_count": null,
   "metadata": {},
   "outputs": [],
   "source": []
  },
  {
   "cell_type": "code",
   "execution_count": null,
   "metadata": {},
   "outputs": [],
   "source": []
  },
  {
   "cell_type": "code",
   "execution_count": null,
   "metadata": {},
   "outputs": [],
   "source": []
  },
  {
   "cell_type": "code",
   "execution_count": null,
   "metadata": {},
   "outputs": [],
   "source": []
  },
  {
   "cell_type": "code",
   "execution_count": null,
   "metadata": {},
   "outputs": [],
   "source": []
  },
  {
   "cell_type": "code",
   "execution_count": null,
   "metadata": {},
   "outputs": [],
   "source": []
  },
  {
   "cell_type": "code",
   "execution_count": null,
   "metadata": {},
   "outputs": [],
   "source": []
  },
  {
   "cell_type": "code",
   "execution_count": null,
   "metadata": {},
   "outputs": [],
   "source": []
  },
  {
   "cell_type": "code",
   "execution_count": null,
   "metadata": {},
   "outputs": [],
   "source": []
  },
  {
   "cell_type": "code",
   "execution_count": null,
   "metadata": {},
   "outputs": [],
   "source": []
  },
  {
   "cell_type": "code",
   "execution_count": null,
   "metadata": {},
   "outputs": [],
   "source": []
  },
  {
   "cell_type": "markdown",
   "metadata": {},
   "source": [
    "12.9 exercises page 220 of 492"
   ]
  },
  {
   "cell_type": "code",
   "execution_count": null,
   "metadata": {},
   "outputs": [],
   "source": [
    "# TODO: line chart of data  in table 12.1, does it show how price  changes ?\n",
    "\n",
    "# TODO: create car chart of data in same table how does it show change compared to line chart \n",
    "\n",
    "# TODO: mathematical model of  data in table 12.1  using the difference equation\n",
    "\n",
    "# TODO: 12.1 data  calculate  average increase in price  power month from equation 12.1 or 12.2, start with  the second month  and calculate  the price for the rest of the months, discuss visualizations vs numerical perceptions of the data manipulations\n",
    "\n",
    "# TODO: program that  uses data from a different problem to compute  the difference and decide if the model exhibits  arithmetic growth"
   ]
  },
  {
   "cell_type": "markdown",
   "metadata": {},
   "source": [
    "<hr>"
   ]
  },
  {
   "cell_type": "code",
   "execution_count": null,
   "metadata": {},
   "outputs": [],
   "source": [
    "# TODO: line chart of data  in table 12.1, does it show how price  changes ?"
   ]
  },
  {
   "cell_type": "code",
   "execution_count": 19,
   "metadata": {},
   "outputs": [
    {
     "data": {
      "image/png": "[encoded data removed]",
      "text/plain": [
       "<Figure size 640x480 with 1 Axes>"
      ]
     },
     "metadata": {},
     "output_type": "display_data"
    }
   ],
   "source": [
    "import matplotlib.pyplot as plt\n",
    "\n",
    "# x, y data is going to be months x price\n",
    "x = [i for i in range(len(table_12_1_month))]\n",
    "y = table_121_price\n",
    "\n",
    "plt.title('Average Price of Electricity in 2010')\n",
    "plt.xticks(x, table_121_month)\n",
    "plt.plot(x, y, label='price')\n",
    "plt.plot(x, y, 'r.')\n",
    "plt.legend()\n",
    "plt.show()"
   ]
  },
  {
   "cell_type": "markdown",
   "metadata": {},
   "source": [
    "<hr>"
   ]
  },
  {
   "cell_type": "code",
   "execution_count": 4,
   "metadata": {},
   "outputs": [],
   "source": [
    "# TODO: create bar chart of data in same table how does it show change compared to line chart "
   ]
  },
  {
   "cell_type": "code",
   "execution_count": null,
   "metadata": {},
   "outputs": [],
   "source": []
  },
  {
   "cell_type": "markdown",
   "metadata": {},
   "source": [
    "<hr>"
   ]
  },
  {
   "cell_type": "code",
   "execution_count": null,
   "metadata": {},
   "outputs": [],
   "source": [
    "# TODO: mathematical model of  data in table 12.1  using the difference equation"
   ]
  },
  {
   "cell_type": "code",
   "execution_count": null,
   "metadata": {},
   "outputs": [],
   "source": []
  },
  {
   "cell_type": "markdown",
   "metadata": {},
   "source": [
    "<hr>"
   ]
  },
  {
   "cell_type": "code",
   "execution_count": null,
   "metadata": {},
   "outputs": [],
   "source": [
    "# TODO: 12.1 data  calculate  average increase in price  power month from equation 12.1 or 12.2, start with  the second month  and calculate  the price for the rest of the months, discuss visualizations vs numerical perceptions of the data manipulations"
   ]
  },
  {
   "cell_type": "code",
   "execution_count": null,
   "metadata": {},
   "outputs": [],
   "source": []
  },
  {
   "cell_type": "markdown",
   "metadata": {},
   "source": [
    "<hr>"
   ]
  },
  {
   "cell_type": "code",
   "execution_count": null,
   "metadata": {},
   "outputs": [],
   "source": [
    "# TODO: program that  uses data from a different problem to compute  the difference and decide if the model exhibits  arithmetic growth"
   ]
  },
  {
   "cell_type": "code",
   "execution_count": null,
   "metadata": {},
   "outputs": [],
   "source": []
  },
  {
   "cell_type": "markdown",
   "metadata": {},
   "source": [
    "<hr>"
   ]
  },
  {
   "cell_type": "code",
   "execution_count": null,
   "metadata": {},
   "outputs": [],
   "source": []
  },
  {
   "cell_type": "code",
   "execution_count": null,
   "metadata": {},
   "outputs": [],
   "source": []
  },
  {
   "cell_type": "markdown",
   "metadata": {},
   "source": [
    "Table 12.1 Data:"
   ]
  },
  {
   "cell_type": "code",
   "execution_count": null,
   "metadata": {},
   "outputs": [],
   "source": []
  }
 ],
 "metadata": {
  "kernelspec": {
   "display_name": "Python 3 (ipykernel)",
   "language": "python",
   "name": "python3"
  },
  "language_info": {
   "codemirror_mode": {
    "name": "ipython",
    "version": 3
   },
   "file_extension": ".py",
   "mimetype": "text/x-python",
   "name": "python",
   "nbconvert_exporter": "python",
   "pygments_lexer": "ipython3",
   "version": "3.9.6"
  }
 },
 "nbformat": 4,
 "nbformat_minor": 4
}
