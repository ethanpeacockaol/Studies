{
 "cells": [
  {
   "metadata": {},
   "cell_type": "markdown",
   "source": "# Chapter 12  Computational Models With  Arithmetic  Growth"
  },
  {
   "metadata": {
    "trusted": false
   },
   "cell_type": "markdown",
   "source": "12.9 exercises page 220 of 492"
  },
  {
   "metadata": {
    "trusted": true
   },
   "cell_type": "code",
   "source": "# TODO: line chart of data  in table 12.1, does it show how price  changes ?\n\n# TODO: create car chart of data in same table how does it show change compared to line chart \n\n# TODO: mathematical model of  data in table 12.1  using the difference equation\n\n# TODO: 12.1 data  calculate  average increase in price  power month from equation 12.1 or 12.2, start with  the second month  and calculate  the price for the rest of the months, discuss visualizations vs numerical perceptions of the data manipulations\n\n# TODO: program that  uses data from a different problem to compute  the difference and decide if the model exhibits  arithmetic growth",
   "execution_count": null,
   "outputs": []
  },
  {
   "metadata": {},
   "cell_type": "markdown",
   "source": "<hr>"
  },
  {
   "metadata": {
    "trusted": true
   },
   "cell_type": "code",
   "source": "# TODO: line chart of data  in table 12.1, does it show how price  changes ?",
   "execution_count": null,
   "outputs": []
  },
  {
   "metadata": {
    "trusted": true
   },
   "cell_type": "code",
   "source": "",
   "execution_count": null,
   "outputs": []
  },
  {
   "metadata": {},
   "cell_type": "markdown",
   "source": "<hr>"
  },
  {
   "metadata": {
    "trusted": true
   },
   "cell_type": "code",
   "source": "# TODO: create car chart of data in same table how does it show change compared to line chart ",
   "execution_count": null,
   "outputs": []
  },
  {
   "metadata": {
    "trusted": true
   },
   "cell_type": "code",
   "source": "",
   "execution_count": null,
   "outputs": []
  },
  {
   "metadata": {},
   "cell_type": "markdown",
   "source": "<hr>"
  },
  {
   "metadata": {
    "trusted": true
   },
   "cell_type": "code",
   "source": "# TODO: mathematical model of  data in table 12.1  using the difference equation",
   "execution_count": null,
   "outputs": []
  },
  {
   "metadata": {
    "trusted": true
   },
   "cell_type": "code",
   "source": "",
   "execution_count": null,
   "outputs": []
  },
  {
   "metadata": {},
   "cell_type": "markdown",
   "source": "<hr>"
  },
  {
   "metadata": {
    "trusted": true
   },
   "cell_type": "code",
   "source": "# TODO: 12.1 data  calculate  average increase in price  power month from equation 12.1 or 12.2, start with  the second month  and calculate  the price for the rest of the months, discuss visualizations vs numerical perceptions of the data manipulations",
   "execution_count": null,
   "outputs": []
  },
  {
   "metadata": {
    "trusted": true
   },
   "cell_type": "code",
   "source": "",
   "execution_count": null,
   "outputs": []
  },
  {
   "metadata": {},
   "cell_type": "markdown",
   "source": "<hr>"
  },
  {
   "metadata": {
    "trusted": true
   },
   "cell_type": "code",
   "source": "# TODO: program that  uses data from a different problem to compute  the difference and decide if the model exhibits  arithmetic growth",
   "execution_count": null,
   "outputs": []
  },
  {
   "metadata": {
    "trusted": true
   },
   "cell_type": "code",
   "source": "",
   "execution_count": null,
   "outputs": []
  },
  {
   "metadata": {},
   "cell_type": "markdown",
   "source": "<hr>"
  }
 ],
 "metadata": {
  "kernelspec": {
   "name": "python3",
   "display_name": "Python 3",
   "language": "python"
  },
  "language_info": {
   "name": "python",
   "version": "3.10.4",
   "mimetype": "text/x-python",
   "codemirror_mode": {
    "name": "ipython",
    "version": 3
   },
   "pygments_lexer": "ipython3",
   "nbconvert_exporter": "python",
   "file_extension": ".py"
  }
 },
 "nbformat": 4,
 "nbformat_minor": 2
}