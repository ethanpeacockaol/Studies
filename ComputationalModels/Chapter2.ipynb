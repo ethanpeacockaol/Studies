{
 "cells": [
  {
   "cell_type": "markdown",
   "id": "88ca6502-aaa1-411a-8569-aad263611dd2",
   "metadata": {},
   "source": [
    "# Chapter 2 Simple Python Programs\n",
    "\n",
    "pg 46 of 492"
   ]
  },
  {
   "cell_type": "markdown",
   "id": "c887bef1-ffd4-4645-a4fd-21dbdb345779",
   "metadata": {},
   "source": [
    "<hr>"
   ]
  },
  {
   "cell_type": "code",
   "execution_count": null,
   "id": "54bd290b-c66d-4587-9ed6-61fa0e247479",
   "metadata": {},
   "outputs": [],
   "source": []
  }
 ],
 "metadata": {
  "kernelspec": {
   "display_name": "Python 3 (ipykernel)",
   "language": "python",
   "name": "python3"
  },
  "language_info": {
   "codemirror_mode": {
    "name": "ipython",
    "version": 3
   },
   "file_extension": ".py",
   "mimetype": "text/x-python",
   "name": "python",
   "nbconvert_exporter": "python",
   "pygments_lexer": "ipython3",
   "version": "3.13.2"
  }
 },
 "nbformat": 4,
 "nbformat_minor": 5
}
