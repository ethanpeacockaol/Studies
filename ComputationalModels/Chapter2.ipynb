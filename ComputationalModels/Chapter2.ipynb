{
  "cells": [
    {
      "cell_type": "markdown",
      "id": "88ca6502-aaa1-411a-8569-aad263611dd2",
      "metadata": {
        "id": "88ca6502-aaa1-411a-8569-aad263611dd2"
      },
      "source": [
        "# Chapter 2 Simple Python Programs\n",
        "\n",
        "pg 46 of 492"
      ]
    },
    {
      "cell_type": "markdown",
      "id": "c887bef1-ffd4-4645-a4fd-21dbdb345779",
      "metadata": {
        "id": "c887bef1-ffd4-4645-a4fd-21dbdb345779"
      },
      "source": [
        "<hr>"
      ]
    },
    {
      "cell_type": "markdown",
      "id": "5afbbeb8-167e-45ef-80cc-1c91ebbb95a9",
      "metadata": {
        "id": "5afbbeb8-167e-45ef-80cc-1c91ebbb95a9"
      },
      "source": [
        "This chapter presents an overview of the structure of a computer program which include data definitions and basic instructions using the python programming language.  Because functions are one of the building blocks and the fundamental components of Python programs, the concepts of function definitions and function invocations are gradually explained, and complete Python programs are introduced that illustrate further the role of functions\n",
        "\n",
        "This chapter also presents concepts and principles that are used in developing computational models by implementing two mathematical models with Python programs"
      ]
    },
    {
      "cell_type": "markdown",
      "id": "1bef8146-afb7-47fc-a3bc-1714a10eada4",
      "metadata": {
        "id": "1bef8146-afb7-47fc-a3bc-1714a10eada4"
      },
      "source": [
        "## 2.2 Computing with python\n",
        "\n",
        "There are two modes of computing in python\n",
        "\n",
        "\n",
        "* Interactive mode\n",
        "    *  provides the python prompt indicated by >>>\n",
        "    *  each python command is directly entered and the python interpreter responds immediately to the command\n",
        "*  Script mode\n",
        "    *  a sequence of python commands in a file with a .py extension\n",
        "    *  This file is passed to the Python interpreter to process and is known as a script.\n",
        "    *  A typical python program is edited and stored as a script and an appropriate text editor is used to build a program as a python script"
      ]
    },
    {
      "cell_type": "code",
      "execution_count": null,
      "id": "54f57882-1544-4012-9323-2abab421ef99",
      "metadata": {
        "colab": {
          "base_uri": "https://localhost:8080/"
        },
        "id": "54f57882-1544-4012-9323-2abab421ef99",
        "outputId": "ff37df0e-01f2-4c61-efdc-cdfba2399a3d"
      },
      "outputs": [
        {
          "output_type": "execute_result",
          "data": {
            "text/plain": [
              "34.5"
            ]
          },
          "metadata": {},
          "execution_count": 1
        }
      ],
      "source": [
        "y = 34.5\n",
        "y"
      ]
    },
    {
      "cell_type": "code",
      "execution_count": null,
      "id": "6ba41098-5047-4941-83b5-db27060aac4f",
      "metadata": {
        "id": "6ba41098-5047-4941-83b5-db27060aac4f"
      },
      "outputs": [],
      "source": [
        "x = 12.48"
      ]
    },
    {
      "cell_type": "code",
      "execution_count": null,
      "id": "dd90e23f-0720-4d01-90fe-4c4eea580265",
      "metadata": {
        "colab": {
          "base_uri": "https://localhost:8080/"
        },
        "id": "dd90e23f-0720-4d01-90fe-4c4eea580265",
        "outputId": "b19a3996-a280-4fc0-8d5f-d10eaa948811"
      },
      "outputs": [
        {
          "output_type": "execute_result",
          "data": {
            "text/plain": [
              "12.48"
            ]
          },
          "metadata": {},
          "execution_count": 3
        }
      ],
      "source": [
        "x"
      ]
    },
    {
      "cell_type": "code",
      "execution_count": null,
      "id": "79242cba-73af-47f5-86fc-6e9ea3516f31",
      "metadata": {
        "colab": {
          "base_uri": "https://localhost:8080/"
        },
        "id": "79242cba-73af-47f5-86fc-6e9ea3516f31",
        "outputId": "62458de5-21d3-487e-bc00-de21d63f743e"
      },
      "outputs": [
        {
          "output_type": "execute_result",
          "data": {
            "text/plain": [
              "46.980000000000004"
            ]
          },
          "metadata": {},
          "execution_count": 4
        }
      ],
      "source": [
        "z = x + y\n",
        "z"
      ]
    },
    {
      "cell_type": "markdown",
      "id": "944efac4-47a0-4efc-877e-92c8cde7c900",
      "metadata": {
        "id": "944efac4-47a0-4efc-877e-92c8cde7c900"
      },
      "source": [
        "### Mathematical Operations 2.2.2\n",
        "\n",
        "To increment the value of a variable"
      ]
    },
    {
      "cell_type": "code",
      "execution_count": null,
      "id": "dfaa82d2-0635-446b-906f-bb3af7cffc09",
      "metadata": {
        "colab": {
          "base_uri": "https://localhost:8080/"
        },
        "id": "dfaa82d2-0635-446b-906f-bb3af7cffc09",
        "outputId": "161cc54e-6880-4812-893a-98ad49853dab"
      },
      "outputs": [
        {
          "output_type": "execute_result",
          "data": {
            "text/plain": [
              "11"
            ]
          },
          "metadata": {},
          "execution_count": 5
        }
      ],
      "source": [
        "i = 10\n",
        "i += 1\n",
        "i"
      ]
    },
    {
      "cell_type": "markdown",
      "id": "7a2e4c25-eedc-48a2-b4e0-80098cf6749f",
      "metadata": {
        "id": "7a2e4c25-eedc-48a2-b4e0-80098cf6749f"
      },
      "source": [
        "integer division"
      ]
    },
    {
      "cell_type": "code",
      "execution_count": null,
      "id": "bcd54961-ca9e-4c0a-b8ef-227f86926b14",
      "metadata": {
        "colab": {
          "base_uri": "https://localhost:8080/"
        },
        "id": "bcd54961-ca9e-4c0a-b8ef-227f86926b14",
        "outputId": "42296e4a-3f11-4f80-f8b2-b3456739586c"
      },
      "outputs": [
        {
          "output_type": "execute_result",
          "data": {
            "text/plain": [
              "3.6666666666666665"
            ]
          },
          "metadata": {},
          "execution_count": 6
        }
      ],
      "source": [
        "int_division = i / 3\n",
        "int_division"
      ]
    },
    {
      "cell_type": "code",
      "execution_count": null,
      "id": "50d635fd-1861-400e-9683-23c6d580b49c",
      "metadata": {
        "colab": {
          "base_uri": "https://localhost:8080/"
        },
        "id": "50d635fd-1861-400e-9683-23c6d580b49c",
        "outputId": "b8419862-7f9c-484f-a8b6-32b997bec748"
      },
      "outputs": [
        {
          "output_type": "execute_result",
          "data": {
            "text/plain": [
              "2"
            ]
          },
          "metadata": {},
          "execution_count": 7
        }
      ],
      "source": [
        "int_div = i % 3\n",
        "int_div"
      ]
    },
    {
      "cell_type": "markdown",
      "id": "4b8d9fdd-da71-420b-bc3b-8536bc84ebcf",
      "metadata": {
        "id": "4b8d9fdd-da71-420b-bc3b-8536bc84ebcf"
      },
      "source": [
        "non integer numbers are known as floating point numbers"
      ]
    },
    {
      "cell_type": "code",
      "execution_count": null,
      "id": "6afb38f1-98b0-4dfb-9317-54dc17dcb621",
      "metadata": {
        "colab": {
          "base_uri": "https://localhost:8080/"
        },
        "id": "6afb38f1-98b0-4dfb-9317-54dc17dcb621",
        "outputId": "a5d58384-f761-4b01-90e3-5fe508dc3373"
      },
      "outputs": [
        {
          "output_type": "execute_result",
          "data": {
            "text/plain": [
              "float"
            ]
          },
          "metadata": {},
          "execution_count": 8
        }
      ],
      "source": [
        "x = 22.555555\n",
        "type(x)"
      ]
    },
    {
      "cell_type": "code",
      "execution_count": null,
      "id": "c188472a-65db-40c7-aec4-c35795e977d0",
      "metadata": {
        "colab": {
          "base_uri": "https://localhost:8080/"
        },
        "id": "c188472a-65db-40c7-aec4-c35795e977d0",
        "outputId": "3011d96e-8568-459c-d718-0f7c62dc53b4"
      },
      "outputs": [
        {
          "output_type": "execute_result",
          "data": {
            "text/plain": [
              "11499.263211879306"
            ]
          },
          "metadata": {},
          "execution_count": 9
        }
      ],
      "source": [
        "z = x + 1.5 + x**3\n",
        "z"
      ]
    },
    {
      "cell_type": "markdown",
      "id": "c4f14056-fe7a-46e8-997b-27e15118f683",
      "metadata": {
        "id": "c4f14056-fe7a-46e8-997b-27e15118f683"
      },
      "source": [
        "complex numbers"
      ]
    },
    {
      "cell_type": "code",
      "execution_count": null,
      "id": "7bf906bd-42c3-47c3-9e93-dfaf8942cfcb",
      "metadata": {
        "colab": {
          "base_uri": "https://localhost:8080/"
        },
        "id": "7bf906bd-42c3-47c3-9e93-dfaf8942cfcb",
        "outputId": "5beb5266-77db-4504-fb82-9fbf71345fd5"
      },
      "outputs": [
        {
          "output_type": "execute_result",
          "data": {
            "text/plain": [
              "(2.5-5.32j)"
            ]
          },
          "metadata": {},
          "execution_count": 10
        }
      ],
      "source": [
        "x = 2.5\n",
        "y = -5.32\n",
        "z = complex(x, y)\n",
        "z"
      ]
    },
    {
      "cell_type": "code",
      "execution_count": null,
      "id": "47295a20-e5db-40bb-87ce-30757d3ad84c",
      "metadata": {
        "colab": {
          "base_uri": "https://localhost:8080/"
        },
        "id": "47295a20-e5db-40bb-87ce-30757d3ad84c",
        "outputId": "580cb22f-aea8-4872-be71-7232a464c89c"
      },
      "outputs": [
        {
          "output_type": "execute_result",
          "data": {
            "text/plain": [
              "2.5"
            ]
          },
          "metadata": {},
          "execution_count": 11
        }
      ],
      "source": [
        "rp = z.real\n",
        "rp"
      ]
    },
    {
      "cell_type": "code",
      "execution_count": null,
      "id": "e15343e3-3aa5-4129-9374-47f97161a8a2",
      "metadata": {
        "colab": {
          "base_uri": "https://localhost:8080/"
        },
        "id": "e15343e3-3aa5-4129-9374-47f97161a8a2",
        "outputId": "b9adc1c8-c9a3-4148-81b3-974f2dd5ad0a"
      },
      "outputs": [
        {
          "output_type": "execute_result",
          "data": {
            "text/plain": [
              "-5.32"
            ]
          },
          "metadata": {},
          "execution_count": 12
        }
      ],
      "source": [
        "ip = z.imag\n",
        "ip"
      ]
    },
    {
      "cell_type": "markdown",
      "id": "27779cd5-a156-4a0d-a87b-3bd56870d13c",
      "metadata": {
        "id": "27779cd5-a156-4a0d-a87b-3bd56870d13c"
      },
      "source": [
        "### More advanced mathematical expressions\n",
        "\n",
        "simple arithmetic expressions are used in assignment statements\n",
        "\n",
        "These are addition, subtraction, multiplication, division, and exponentiation\n",
        "\n",
        "More complex calculations are various numerical funcs such as square root and trig functions\n",
        "\n",
        "These expressions apply the math functions cos and sqrt that are defined in the math module\n",
        "\n",
        "The import command is used to gain access to a module"
      ]
    },
    {
      "cell_type": "code",
      "execution_count": null,
      "id": "e3513b57-59ba-4819-8a2d-cc5cf019c99f",
      "metadata": {
        "colab": {
          "base_uri": "https://localhost:8080/"
        },
        "id": "e3513b57-59ba-4819-8a2d-cc5cf019c99f",
        "outputId": "7a08703a-bbbb-4881-cbb7-a78f1b346637"
      },
      "outputs": [
        {
          "output_type": "execute_result",
          "data": {
            "text/plain": [
              "3.141592653589793"
            ]
          },
          "metadata": {},
          "execution_count": 13
        }
      ],
      "source": [
        "from math import *\n",
        "pi"
      ]
    },
    {
      "cell_type": "code",
      "execution_count": null,
      "id": "4ea268aa-0751-4bcd-9423-a9a1ee741399",
      "metadata": {
        "colab": {
          "base_uri": "https://localhost:8080/"
        },
        "id": "4ea268aa-0751-4bcd-9423-a9a1ee741399",
        "outputId": "5327f818-8877-4046-c83f-f6c9ca66ff07"
      },
      "outputs": [
        {
          "output_type": "execute_result",
          "data": {
            "text/plain": [
              "6.123233995736766e-17"
            ]
          },
          "metadata": {},
          "execution_count": 14
        }
      ],
      "source": [
        "PI = pi\n",
        "ss6 = cos(0.5*PI)\n",
        "ss6"
      ]
    },
    {
      "cell_type": "code",
      "execution_count": null,
      "id": "2d7475f9-83c3-44ba-9712-42ea3965e583",
      "metadata": {
        "colab": {
          "base_uri": "https://localhost:8080/"
        },
        "id": "2d7475f9-83c3-44ba-9712-42ea3965e583",
        "outputId": "8986cf95-031b-41fd-ca13-115fb33f4ab4"
      },
      "outputs": [
        {
          "output_type": "execute_result",
          "data": {
            "text/plain": [
              "0.7071067811865476"
            ]
          },
          "metadata": {},
          "execution_count": 15
        }
      ],
      "source": [
        "ss7 = cos(0.25*PI)\n",
        "ss7"
      ]
    },
    {
      "cell_type": "code",
      "execution_count": null,
      "id": "5413b08f-c0d2-4fed-983c-822eff9f23de",
      "metadata": {
        "colab": {
          "base_uri": "https://localhost:8080/"
        },
        "id": "5413b08f-c0d2-4fed-983c-822eff9f23de",
        "outputId": "3db2c7ef-e1a4-431d-f7b1-bb9aa2e258d8"
      },
      "outputs": [
        {
          "output_type": "execute_result",
          "data": {
            "text/plain": [
              "12.182493960703473"
            ]
          },
          "metadata": {},
          "execution_count": 16
        }
      ],
      "source": [
        "yy = exp(x)\n",
        "yy"
      ]
    },
    {
      "cell_type": "code",
      "execution_count": null,
      "id": "f29eb4e8-0f20-43de-8799-5677c3189fa8",
      "metadata": {
        "colab": {
          "base_uri": "https://localhost:8080/"
        },
        "id": "f29eb4e8-0f20-43de-8799-5677c3189fa8",
        "outputId": "788e3dea-7d57-49a0-cb98-3aab3108034d"
      },
      "outputs": [
        {
          "output_type": "execute_result",
          "data": {
            "text/plain": [
              "1.0000050000069649e-05"
            ]
          },
          "metadata": {},
          "execution_count": 17
        }
      ],
      "source": [
        "zz = exp(1.0e-5) - 1\n",
        "zz"
      ]
    },
    {
      "cell_type": "code",
      "execution_count": null,
      "id": "cb23afc9-a346-4081-a94e-7339bfa54e75",
      "metadata": {
        "colab": {
          "base_uri": "https://localhost:8080/"
        },
        "id": "cb23afc9-a346-4081-a94e-7339bfa54e75",
        "outputId": "6af1f9f3-34ce-42b3-cbb2-629afc2996b3"
      },
      "outputs": [
        {
          "output_type": "execute_result",
          "data": {
            "text/plain": [
              "1.1040309877476002"
            ]
          },
          "metadata": {},
          "execution_count": 18
        }
      ],
      "source": [
        "ff = acos(0.45)\n",
        "ff"
      ]
    },
    {
      "cell_type": "code",
      "execution_count": null,
      "id": "bf2f74ad-75c9-4502-90dc-4ddae9ada763",
      "metadata": {
        "colab": {
          "base_uri": "https://localhost:8080/"
        },
        "id": "bf2f74ad-75c9-4502-90dc-4ddae9ada763",
        "outputId": "bd524005-e0eb-4f8b-df63-0ae020a05da6"
      },
      "outputs": [
        {
          "output_type": "execute_result",
          "data": {
            "text/plain": [
              "120"
            ]
          },
          "metadata": {},
          "execution_count": 19
        }
      ],
      "source": [
        "mfact = factorial(5)\n",
        "mfact"
      ]
    },
    {
      "cell_type": "markdown",
      "id": "d64c4899-3536-417a-b2a2-f0577cfcce81",
      "metadata": {
        "id": "d64c4899-3536-417a-b2a2-f0577cfcce81"
      },
      "source": [
        "In the following example, the value of expression $cos(p) + q$ is assigned to the variable y and the value of $\\sqrt(x-y)$ is assigned to the variable $q$"
      ]
    },
    {
      "cell_type": "code",
      "execution_count": null,
      "id": "1ea6a68a-df08-42a7-bc30-333586934476",
      "metadata": {
        "colab": {
          "base_uri": "https://localhost:8080/"
        },
        "id": "1ea6a68a-df08-42a7-bc30-333586934476",
        "outputId": "6e4e72b0-b99b-44be-ffce-e66213a1188c"
      },
      "outputs": [
        {
          "output_type": "execute_result",
          "data": {
            "text/plain": [
              "3.1490169943749473"
            ]
          },
          "metadata": {},
          "execution_count": 20
        }
      ],
      "source": [
        "p = 0.2 * PI\n",
        "q = 2.34\n",
        "y = cos(p) + q\n",
        "y"
      ]
    },
    {
      "cell_type": "code",
      "execution_count": null,
      "id": "3621925d-f5ef-482e-80e4-ff9b35540112",
      "metadata": {
        "colab": {
          "base_uri": "https://localhost:8080/"
        },
        "id": "3621925d-f5ef-482e-80e4-ff9b35540112",
        "outputId": "9fddf6e0-2ca5-4d26-edbd-4647e6c0e14e"
      },
      "outputs": [
        {
          "output_type": "execute_result",
          "data": {
            "text/plain": [
              "3.0"
            ]
          },
          "metadata": {},
          "execution_count": 21
        }
      ],
      "source": [
        "q = sqrt(9-0)\n",
        "q"
      ]
    },
    {
      "cell_type": "markdown",
      "id": "626ea4c0-b352-4409-adf1-e77867bc410d",
      "metadata": {
        "id": "626ea4c0-b352-4409-adf1-e77867bc410d"
      },
      "source": [
        "In the following example, the value of the mathematical expression $x^n$ x y x $sin^(2m)x$ is assigned to the variable z"
      ]
    },
    {
      "cell_type": "code",
      "execution_count": null,
      "id": "566710e2-b2dc-4e26-a6b0-0154d133b054",
      "metadata": {
        "colab": {
          "base_uri": "https://localhost:8080/"
        },
        "id": "566710e2-b2dc-4e26-a6b0-0154d133b054",
        "outputId": "ca1f3426-107a-4058-e05d-3a85210ed3fc"
      },
      "outputs": [
        {
          "output_type": "execute_result",
          "data": {
            "text/plain": [
              "-2.719807659910177"
            ]
          },
          "metadata": {},
          "execution_count": 22
        }
      ],
      "source": [
        "x = 2.5\n",
        "y = -5.32\n",
        "n = 3.75\n",
        "m = 4\n",
        "z = (x**n) * y * sin(x)**(2*m)\n",
        "z"
      ]
    },
    {
      "cell_type": "markdown",
      "id": "28445439-e21c-4df9-8817-330c7335c12a",
      "metadata": {
        "id": "28445439-e21c-4df9-8817-330c7335c12a"
      },
      "source": [
        "### Scientific notation\n",
        "\n",
        "scientific notation is used to display very large and very small floating-point values.  It is written witha letter $e$ after the floating-point value followed by an integer exponent\n",
        "\n",
        "In the following example, the mathematical equivalent for the first value of variable y is 5.77262 x 10^2\n",
        "\n",
        "Scientific notation can alsu be used in mathematical expressions with assignments"
      ]
    },
    {
      "cell_type": "code",
      "execution_count": null,
      "id": "7ab55939-7cae-4e9d-b6dc-a680fc5ac27f",
      "metadata": {
        "colab": {
          "base_uri": "https://localhost:8080/"
        },
        "id": "7ab55939-7cae-4e9d-b6dc-a680fc5ac27f",
        "outputId": "e9b4891f-e350-44e5-af85-91991207899c"
      },
      "outputs": [
        {
          "output_type": "execute_result",
          "data": {
            "text/plain": [
              "5772620000000.0"
            ]
          },
          "metadata": {},
          "execution_count": 23
        }
      ],
      "source": [
        "y = 5.77262e+12\n",
        "y"
      ]
    },
    {
      "cell_type": "code",
      "execution_count": null,
      "id": "d38c11a1-cdd8-46c7-913a-a2b1f3c735cb",
      "metadata": {
        "colab": {
          "base_uri": "https://localhost:8080/"
        },
        "id": "d38c11a1-cdd8-46c7-913a-a2b1f3c735cb",
        "outputId": "e89d15f9-a89c-4d00-db87-09872ef50e1e"
      },
      "outputs": [
        {
          "output_type": "execute_result",
          "data": {
            "text/plain": [
              "5773160000000.0"
            ]
          },
          "metadata": {},
          "execution_count": 24
        }
      ],
      "source": [
        "x = 5.4e8 + y\n",
        "x"
      ]
    },
    {
      "cell_type": "code",
      "execution_count": null,
      "id": "07dc3edc-c3d2-4fd5-9abb-9e6953ff3670",
      "metadata": {
        "colab": {
          "base_uri": "https://localhost:8080/"
        },
        "id": "07dc3edc-c3d2-4fd5-9abb-9e6953ff3670",
        "outputId": "1aafcf5f-a525-4992-b0c9-85f3717935b1"
      },
      "outputs": [
        {
          "output_type": "execute_result",
          "data": {
            "text/plain": [
              "7.3030474e+24"
            ]
          },
          "metadata": {},
          "execution_count": 25
        }
      ],
      "source": [
        "y = x * 126.5e10\n",
        "y"
      ]
    },
    {
      "cell_type": "markdown",
      "id": "47c1a2d6-e626-448c-a09d-422f6506dc54",
      "metadata": {
        "id": "47c1a2d6-e626-448c-a09d-422f6506dc54"
      },
      "source": [
        "### Programs\n",
        "\n",
        "a program consists of data definitions and instructions that manipulate the data These are:\n",
        "\n",
        "* Data definitions\n",
        "    *  indicate the data to be manipulated by the instructions\n",
        "* A sequence of instructions, which perform the computations on the ata in order to produce the desired results\n",
        "\n",
        "\n",
        "### 2.4 Data definitions\n",
        "\n",
        "The data in a program consists of one or more data items\n",
        "\n",
        "These are manipulated or transformed by the computations ( computer operations ).  In python, each data definition is specified by assigning a value to a variable and has:\n",
        "\n",
        "* a reference, which is a variable with a unique name to refer to the data item, and\n",
        "* a value associated with it\n",
        "\n",
        "\n",
        "The name of the reference (variable) to a data item is an identifier and is defined by the programmer; it must be different from any keyword in the programming language."
      ]
    },
    {
      "cell_type": "markdown",
      "id": "26245043-33cc-46fb-8abb-b86c7bb5d3ad",
      "metadata": {
        "id": "26245043-33cc-46fb-8abb-b86c7bb5d3ad"
      },
      "source": [
        "### 2.4.1 Data Objects\n",
        "\n",
        "In Python, the data items are known as data objects and every variable references a data object\n",
        "\n",
        "If the value associated with a data object does not change, then the data object is said to be immutable, otherwise it is mutable,  The three most important attributes of a data object are\n",
        "\n",
        "* The identity, which is the location (address) of the data object in the computer memory;\n",
        "* The type, which defines the operations are allowed for the data object; and\n",
        "* the value, which can be changed (mutable) or not (immutable).\n",
        "\n",
        "\n",
        "### 2.4.2 Variables\n",
        "\n",
        "As mentioned previously, a variable is a reference to a data ovject and the name of the variable is used in a program for uniquely identifying the variable and is known as an identifier.  The special text wods or symbols that indicate essential parts of a programming language are known as keywords\n",
        "\n",
        "These are reserved words and cannot be used for any other purpose.\n",
        "\n",
        "A problem that calculates the area of a triangle uses four variables.  Examples of the names for these variables are a, b, c, and area.\n",
        "\n",
        "\n",
        "### 2.4.3 Using Data Objects and Variables\n",
        "\n",
        "In the following listing of Python commands, the first three commands include three assignments to variables x, y, and z\n",
        "\n",
        "The fourth Python command include three assignments to variables x, y, and z.\n",
        "\n",
        "the fourth python command uses the python function id() to et the address of the data ovject referenced by variable x and this address is 19290088.\n",
        "\n",
        "Note that the address of the referenced ovject with variables y and z is the same, because these two variables refer to the same data ovject.\n",
        "\n",
        "After changing the value of variable y, the reference is different because now variable y refers to a different data ovject.  Note that the # symbol is used to include a comment on a source line and has no effect on the instruction"
      ]
    },
    {
      "cell_type": "code",
      "execution_count": null,
      "id": "ef8b54da-687e-4136-9cb7-4e9121f9726b",
      "metadata": {
        "colab": {
          "base_uri": "https://localhost:8080/"
        },
        "id": "ef8b54da-687e-4136-9cb7-4e9121f9726b",
        "outputId": "28043b35-0b65-48dd-9962-fa35523b41ac"
      },
      "outputs": [
        {
          "output_type": "execute_result",
          "data": {
            "text/plain": [
              "135754468686928"
            ]
          },
          "metadata": {},
          "execution_count": 26
        }
      ],
      "source": [
        "x = 5.33\n",
        "y = 6\n",
        "z = y # these now refer to the same object\n",
        "id(x) # get the identity of data object"
      ]
    },
    {
      "cell_type": "code",
      "execution_count": null,
      "id": "aecc3056-9ed7-489d-b5d4-2bc89d5a1e6e",
      "metadata": {
        "colab": {
          "base_uri": "https://localhost:8080/"
        },
        "id": "aecc3056-9ed7-489d-b5d4-2bc89d5a1e6e",
        "outputId": "208f8b50-238c-4434-c2b6-767da78fbb76"
      },
      "outputs": [
        {
          "output_type": "execute_result",
          "data": {
            "text/plain": [
              "10751016"
            ]
          },
          "metadata": {},
          "execution_count": 27
        }
      ],
      "source": [
        "id(y)"
      ]
    },
    {
      "cell_type": "code",
      "execution_count": null,
      "id": "2107c544-3efb-4d1d-b0f7-14c21e27b948",
      "metadata": {
        "colab": {
          "base_uri": "https://localhost:8080/"
        },
        "id": "2107c544-3efb-4d1d-b0f7-14c21e27b948",
        "outputId": "2d2c4dc9-c730-4b52-d5c6-a7a376261823"
      },
      "outputs": [
        {
          "output_type": "execute_result",
          "data": {
            "text/plain": [
              "10751016"
            ]
          },
          "metadata": {},
          "execution_count": 28
        }
      ],
      "source": [
        "id(z)"
      ]
    },
    {
      "cell_type": "code",
      "execution_count": null,
      "id": "7f50e5e8-af57-4c70-8118-2f5356e036b4",
      "metadata": {
        "id": "7f50e5e8-af57-4c70-8118-2f5356e036b4"
      },
      "outputs": [],
      "source": [
        "y = y+1"
      ]
    },
    {
      "cell_type": "code",
      "execution_count": null,
      "id": "5f148622-bc25-4b01-b54c-f1e90945e042",
      "metadata": {
        "colab": {
          "base_uri": "https://localhost:8080/"
        },
        "id": "5f148622-bc25-4b01-b54c-f1e90945e042",
        "outputId": "aa96d918-d994-4f5a-e25b-b8d142593157"
      },
      "outputs": [
        {
          "output_type": "execute_result",
          "data": {
            "text/plain": [
              "10751048"
            ]
          },
          "metadata": {},
          "execution_count": 30
        }
      ],
      "source": [
        "id(y)"
      ]
    },
    {
      "cell_type": "code",
      "execution_count": null,
      "id": "3dc9da86-5b29-420f-a080-b228741d6607",
      "metadata": {
        "colab": {
          "base_uri": "https://localhost:8080/"
        },
        "id": "3dc9da86-5b29-420f-a080-b228741d6607",
        "outputId": "c0d9d12c-ccd7-4815-cd09-7242c91dac91"
      },
      "outputs": [
        {
          "output_type": "execute_result",
          "data": {
            "text/plain": [
              "10751016"
            ]
          },
          "metadata": {},
          "execution_count": 31
        }
      ],
      "source": [
        "id(z)"
      ]
    },
    {
      "cell_type": "code",
      "execution_count": null,
      "id": "715995c0-3e07-4a48-a3b6-8b9aa284b706",
      "metadata": {
        "id": "715995c0-3e07-4a48-a3b6-8b9aa284b706"
      },
      "outputs": [],
      "source": [
        "z = z+1"
      ]
    },
    {
      "cell_type": "code",
      "execution_count": null,
      "id": "1f93908f-b499-4c87-84f8-c365a4c2b6cf",
      "metadata": {
        "colab": {
          "base_uri": "https://localhost:8080/"
        },
        "id": "1f93908f-b499-4c87-84f8-c365a4c2b6cf",
        "outputId": "fe78f1c0-08bf-4b9f-cbad-6cd37feb8b12"
      },
      "outputs": [
        {
          "output_type": "execute_result",
          "data": {
            "text/plain": [
              "10751048"
            ]
          },
          "metadata": {},
          "execution_count": 33
        }
      ],
      "source": [
        "id(z)"
      ]
    },
    {
      "cell_type": "code",
      "execution_count": null,
      "id": "1d59807c-fc31-4179-b949-43d562c020c4",
      "metadata": {
        "colab": {
          "base_uri": "https://localhost:8080/"
        },
        "id": "1d59807c-fc31-4179-b949-43d562c020c4",
        "outputId": "1b90d151-8fba-49df-a478-561db3ee70f6"
      },
      "outputs": [
        {
          "output_type": "execute_result",
          "data": {
            "text/plain": [
              "float"
            ]
          },
          "metadata": {},
          "execution_count": 34
        }
      ],
      "source": [
        "type(x)"
      ]
    },
    {
      "cell_type": "code",
      "execution_count": null,
      "id": "9618be14-48c8-4b2d-9319-a1707213e975",
      "metadata": {
        "colab": {
          "base_uri": "https://localhost:8080/"
        },
        "id": "9618be14-48c8-4b2d-9319-a1707213e975",
        "outputId": "9d2631f1-3042-4e8d-da40-1dc4350c801d"
      },
      "outputs": [
        {
          "output_type": "execute_result",
          "data": {
            "text/plain": [
              "int"
            ]
          },
          "metadata": {},
          "execution_count": 35
        }
      ],
      "source": [
        "type(y)"
      ]
    },
    {
      "cell_type": "markdown",
      "id": "2c81edf9-1285-48a0-8888-034968d95bc6",
      "metadata": {
        "id": "2c81edf9-1285-48a0-8888-034968d95bc6"
      },
      "source": [
        "### 2.4.4 Basic Data Types\n",
        "\n",
        "The fundamental data types are classified into the three categories:\n",
        "* Numeric\n",
        "* Text\n",
        "* Boolean\n",
        "\n",
        "The numeric types are further divided into two basic types, integer, and float.\n",
        "\n",
        "Values of integer type are those that are countable to a finite value, for example, age, number of parts, number of students enrolled in a course, and so on\n",
        "\n",
        "Values of type float have a decimal point; for example, cost of a part, the height of a tower, current temperature in a boiler, a time interval.\n",
        "\n",
        "These values cannot be expressed as integers\n",
        "\n",
        "In the python commands of the previous example, the Python function type() is used to get the type variable x and of variable y\n",
        "\n",
        "Note that tye type of variable x is float\n",
        "\n",
        "\n",
        "okay so this is bull shit its just paragraphs about what we have already done skip"
      ]
    },
    {
      "cell_type": "code",
      "execution_count": null,
      "id": "4f2ac7a6-e257-4d03-9b73-ff2bdcce4905",
      "metadata": {
        "id": "4f2ac7a6-e257-4d03-9b73-ff2bdcce4905"
      },
      "outputs": [],
      "source": []
    },
    {
      "cell_type": "code",
      "execution_count": null,
      "id": "a8f398dd-7509-4446-a686-e844207b23f3",
      "metadata": {
        "id": "a8f398dd-7509-4446-a686-e844207b23f3"
      },
      "outputs": [],
      "source": []
    },
    {
      "cell_type": "code",
      "execution_count": null,
      "id": "7b859e80-2613-4531-b396-c1aacda59a6d",
      "metadata": {
        "id": "7b859e80-2613-4531-b396-c1aacda59a6d"
      },
      "outputs": [],
      "source": []
    },
    {
      "cell_type": "markdown",
      "id": "f6a00d38-23a0-44e0-9c66-dfc1d55d751f",
      "metadata": {
        "id": "f6a00d38-23a0-44e0-9c66-dfc1d55d751f"
      },
      "source": [
        "Okay here is some useful information:\n",
        "\n",
        "an example of a info comment to identify a program"
      ]
    },
    {
      "cell_type": "code",
      "execution_count": null,
      "id": "93038fd9-db96-4a8e-b354-18a4edc776b3",
      "metadata": {
        "colab": {
          "base_uri": "https://localhost:8080/"
        },
        "id": "93038fd9-db96-4a8e-b354-18a4edc776b3",
        "outputId": "b2120bc2-0dbe-4d7c-87ab-ac79cf4ce549"
      },
      "outputs": [
        {
          "output_type": "stream",
          "name": "stdout",
          "text": [
            "Enter value of temp in Celsius: 25\n",
            "Value of temperature in Celsius: 25\n",
            "Temperature in Fahrenheit: 77.0\n"
          ]
        }
      ],
      "source": [
        "\"\"\"\n",
        "    Program    :  tconvctof.py\n",
        "    Author     :  Jose M Garrido\n",
        "    Date       :  5-12-2014\n",
        "    Description:  Read value of temperature Celsius from console,\n",
        "    convert to degrees Fahrenheit, and display value on the output console */\n",
        "\"\"\"\n",
        "\n",
        "C = input(\"Enter value of temp in Celsius: \")\n",
        "F = float(C) * (9.0/5.0) + 32.0 # temperature in fahrenheit\n",
        "print(\"Value of temperature in Celsius: {}\".format(C))\n",
        "print(\"Temperature in Fahrenheit: {}\".format(F))"
      ]
    },
    {
      "cell_type": "markdown",
      "id": "5c3c084c-cbf9-462d-85fb-4dbae9806b04",
      "metadata": {
        "id": "5c3c084c-cbf9-462d-85fb-4dbae9806b04"
      },
      "source": [
        "we are now up to page 67 of 492"
      ]
    },
    {
      "cell_type": "markdown",
      "id": "d7971796-292e-4673-9500-dd32ccd80922",
      "metadata": {
        "id": "d7971796-292e-4673-9500-dd32ccd80922"
      },
      "source": [
        "This procedure can be used to create a correlational graph of temperatures in a different unit of measurement"
      ]
    },
    {
      "cell_type": "code",
      "execution_count": null,
      "id": "5396b0c7-edbb-4979-b316-a06f06b050a3",
      "metadata": {
        "id": "5396b0c7-edbb-4979-b316-a06f06b050a3"
      },
      "outputs": [],
      "source": [
        "def c2f(c):\n",
        "    return 9/5*c + 32"
      ]
    },
    {
      "cell_type": "code",
      "execution_count": null,
      "id": "ee22aad3-c5ad-470a-b92f-e1d9ee84cb77",
      "metadata": {
        "colab": {
          "base_uri": "https://localhost:8080/"
        },
        "id": "ee22aad3-c5ad-470a-b92f-e1d9ee84cb77",
        "outputId": "c3c1539b-0e9f-4d5a-8fca-25e797102e79"
      },
      "outputs": [
        {
          "output_type": "execute_result",
          "data": {
            "text/plain": [
              "[5, 10, 15, 20, 25, 30, 35, 40, 45]"
            ]
          },
          "metadata": {},
          "execution_count": 38
        }
      ],
      "source": [
        "celsius_list = [i for i in range(5, 50, 5)]\n",
        "celsius_list"
      ]
    },
    {
      "cell_type": "code",
      "execution_count": null,
      "id": "798e2498-fb66-4791-8881-95155ea1bd81",
      "metadata": {
        "colab": {
          "base_uri": "https://localhost:8080/"
        },
        "id": "798e2498-fb66-4791-8881-95155ea1bd81",
        "outputId": "e7487a27-1f30-4dce-b73d-62ed112dfc56"
      },
      "outputs": [
        {
          "output_type": "execute_result",
          "data": {
            "text/plain": [
              "[41.0, 50.0, 59.0, 68.0, 77.0, 86.0, 95.0, 104.0, 113.0]"
            ]
          },
          "metadata": {},
          "execution_count": 39
        }
      ],
      "source": [
        "# convert to a fahrenheit list\n",
        "f_list = [c2f(i) for i in celsius_list]\n",
        "f_list"
      ]
    },
    {
      "cell_type": "code",
      "execution_count": null,
      "id": "d913139d-ad54-4e8f-949e-6145e080caf0",
      "metadata": {
        "colab": {
          "base_uri": "https://localhost:8080/",
          "height": 507
        },
        "id": "d913139d-ad54-4e8f-949e-6145e080caf0",
        "outputId": "210ea651-900c-4730-8de0-89afcb2935dd"
      },
      "outputs": [
        {
          "output_type": "display_data",
          "data": {
            "text/plain": [
              "<Figure size 640x480 with 1 Axes>"
            ],
            "image/png": "[encoded data removed]"
          },
          "metadata": {}
        },
        {
          "output_type": "stream",
          "name": "stdout",
          "text": [
            "Celsius    [5 10 15 20 25 30 35 40 45]\n",
            "Fahrenheit [41.0, 50.0, 59.0, 68.0, 77.0, 86.0, 95.0, 104.0, 113.0]\n"
          ]
        }
      ],
      "source": [
        "# now we can create a graph that displays this\n",
        "import matplotlib.pyplot as plt\n",
        "\n",
        "plt.title('Celsius and Fahrenheit temperatures.')\n",
        "plt.plot(celsius_list, f_list)\n",
        "plt.xlabel('Temperature in Celsius')\n",
        "plt.ylabel('Temperatre in Fahrenheit')\n",
        "plt.show()\n",
        "print('Celsius    [5 10 15 20 25 30 35 40 45]')\n",
        "print(f\"Fahrenheit {f_list}\")"
      ]
    },
    {
      "cell_type": "markdown",
      "id": "16c07fd9-8b0a-423c-b465-09ea3aa0e937",
      "metadata": {
        "id": "16c07fd9-8b0a-423c-b465-09ea3aa0e937"
      },
      "source": [
        "## 2.7 Distance Between Two Points\n",
        "\n",
        "### 2.7.1 Problem Statement\n",
        "\n",
        "The following problems require computing the distance between two points in an x y grid\n",
        "\n",
        "a program\n",
        "\n",
        "compute this distance given the values of the cartesian coordinates of the two points\n",
        "\n",
        "\n",
        "### 2.7.2 Analysis of the Problem\n",
        "\n",
        "A cartesian plane consists of two directed lines that perpendicularly intersect their respective zero points.  The horizontal directed line is called the x-axis and the vertical is called the y-axis\n",
        "\n",
        "\n",
        "The intersection of the x axis and the y axis is called the origin and is O\n",
        "\n",
        "Figure below shows a cartesian plane with two points, P1 and P2. Point P1 is defined by the two coordinate values x1, y1  point P2 is defined by coordinate x2, y2"
      ]
    },
    {
      "cell_type": "code",
      "execution_count": null,
      "id": "02377fbb-9cb3-4f45-a1be-dd158795e4ca",
      "metadata": {
        "id": "02377fbb-9cb3-4f45-a1be-dd158795e4ca"
      },
      "outputs": [],
      "source": [
        "# create line\n",
        "def y(m, x, b):\n",
        "    return m*x + b\n",
        "\n",
        "# get slope 2 points\n",
        "def m(rise, run):\n",
        "    return rise/run\n",
        "\n",
        "\n",
        "P1 = [3,1]\n",
        "P2 = [7,8]\n",
        "\n",
        "slope = m(P2[1] - P1[1], P2[0] - P1[0])\n",
        "x = [i for i in range(3, 8, 1)]\n",
        "b = -4.5\n",
        "line_y = [y(slope, x_i, b) for x_i in x]"
      ]
    },
    {
      "cell_type": "code",
      "execution_count": null,
      "id": "849843d8-0152-44f4-b967-79de9d4dad3b",
      "metadata": {
        "colab": {
          "base_uri": "https://localhost:8080/",
          "height": 465
        },
        "id": "849843d8-0152-44f4-b967-79de9d4dad3b",
        "outputId": "85ee5616-4bf8-4d3f-9960-0315ec1e3fa7"
      },
      "outputs": [
        {
          "output_type": "execute_result",
          "data": {
            "text/plain": [
              "<matplotlib.legend.Legend at 0x7b77cceb1bd0>"
            ]
          },
          "metadata": {},
          "execution_count": 42
        },
        {
          "output_type": "display_data",
          "data": {
            "text/plain": [
              "<Figure size 640x480 with 1 Axes>"
            ],
            "image/png": "[encoded data removed]"
          },
          "metadata": {}
        }
      ],
      "source": [
        "plt.title('Horizontal and veritcal distance between two points')\n",
        "plt.xticks([])\n",
        "plt.yticks([])\n",
        "plt.xlabel('x')\n",
        "plt.ylabel('y')\n",
        "\n",
        "\n",
        "# origin\n",
        "plt.plot([i for i in range(-3, 10)], [0 for i in range(-3, 10)], 'r', label='x')\n",
        "plt.plot([0 for i in range(-3, 10)], [i for i in range(-3, 10)], 'b', label='y')\n",
        "\n",
        "# plot points\n",
        "plt.plot(P1[0], P1[1], '*', label='P1')\n",
        "plt.plot(P2[0], P2[1], '*', label='P2')\n",
        "\n",
        "# plot p1p2\n",
        "plt.plot(x, line_y, 'k')\n",
        "# p1p2 = [2*i for i in range(3\n",
        "\n",
        "# delta_x1=[3, 1]\n",
        "# delta_x2=[7, 1]\n",
        "# slope = m(delta_x2[1] - delta_x1[1], delta_x2[0], delta_x1[0])\n",
        "x = [i for i in range(3, 8, 1)]\n",
        "y = [1 for i in range(3, 8, 1)]\n",
        "plt.plot(x, y, '--', label='deltax')\n",
        "\n",
        "x = [7 for i in range(1, 9, 1)]\n",
        "y = [i for i in range(1, 9, 1)]\n",
        "plt.plot(x, y, '--', label='deltay')\n",
        "\n",
        "\n",
        "plt.legend()"
      ]
    },
    {
      "cell_type": "code",
      "execution_count": null,
      "id": "0ae77d3d-0c2b-4930-babb-eb313d9dd38d",
      "metadata": {
        "colab": {
          "base_uri": "https://localhost:8080/"
        },
        "id": "0ae77d3d-0c2b-4930-babb-eb313d9dd38d",
        "outputId": "b729937f-9c1f-44ff-a313-1f298f9a0dea"
      },
      "outputs": [
        {
          "output_type": "stream",
          "name": "stdout",
          "text": [
            "idk what i did wrong but its not right in the line generation for p1 to p2\n"
          ]
        }
      ],
      "source": [
        "print('idk what i did wrong but its not right in the line generation for p1 to p2')"
      ]
    },
    {
      "cell_type": "markdown",
      "id": "566181d8-b0df-46e2-aad1-110eabb08f72",
      "metadata": {
        "id": "566181d8-b0df-46e2-aad1-110eabb08f72"
      },
      "source": [
        "### 2.7.3 Design of the Solution\n",
        "\n",
        "The horizontal distance between two points delta x is computed by the difference x2 = x1. Similarly the vertical distance between the two points is denoted by delta y and is computed by the difference y2 - y1.  The distance, d between two points P1 and P2 in a Cartesian plane, is calculated with the following math"
      ]
    },
    {
      "cell_type": "markdown",
      "id": "f486b4cb-063c-4b0a-bcdd-0ba05bc29de1",
      "metadata": {
        "id": "f486b4cb-063c-4b0a-bcdd-0ba05bc29de1"
      },
      "source": [
        "$d = \\sqrt{\\delta_{x}^2 + \\delta_{y}^2}$"
      ]
    },
    {
      "cell_type": "markdown",
      "id": "f9fc650a-d617-4c69-a45c-32c5598976c9",
      "metadata": {
        "id": "f9fc650a-d617-4c69-a45c-32c5598976c9"
      },
      "source": [
        "1. Read the values of the coordinates for point P1 from the input device\n",
        "2. Read the values of the coordinates for point P2 from the input device\n",
        "3. Compute the horizontal distance, deltax between the two points deltax = x2 - x1\n",
        "4. Compute the vertical distance delta y between the two points delta y - y2 - y1\n",
        "5. compute the distance, d, between the two points d = squaroot( deltaxsquared + deltaysquared )\n",
        "6. Display the value of the distance between the two points, on the output device (video screen)"
      ]
    },
    {
      "cell_type": "markdown",
      "id": "403f2c2b-6613-4330-b4bc-23f96544d32f",
      "metadata": {
        "id": "403f2c2b-6613-4330-b4bc-23f96544d32f"
      },
      "source": [
        "page 69 of 492"
      ]
    },
    {
      "cell_type": "markdown",
      "source": [
        "### 2.7.4 Implementation\n",
        "\n",
        "This phase implements the design by coding a program in python, running the python interpreter with the corresponding script and testing the program\n",
        "\n",
        "below is the source of the program which is stored in file distpoints.py"
      ],
      "metadata": {
        "id": "yAkY0otpCl8O"
      },
      "id": "yAkY0otpCl8O"
    },
    {
      "cell_type": "code",
      "execution_count": null,
      "id": "6903405f-c6a7-4b25-921e-f5b04a38a443",
      "metadata": {
        "id": "6903405f-c6a7-4b25-921e-f5b04a38a443",
        "colab": {
          "base_uri": "https://localhost:8080/"
        },
        "outputId": "32fb2c8a-37f3-4d5d-a392-e51c202e5b4a"
      },
      "outputs": [
        {
          "output_type": "stream",
          "name": "stdout",
          "text": [
            "Enter value of x-coordinate of P1: 2.25\n",
            "Enter value of y-coordinate of P1: 1.5\n",
            "Coordinates of P1: 2.25, 1.5\n",
            "Enter vlaue of x-coordinate of P2: 1.3\n",
            "Enter value of y-coordinate of P2: 0.45\n",
            "Coordinates of P2: 1.3, 0.45\n",
            "Horizontal and vertical distances: -0.95, -1.05\n",
            "Distance between P1 and P2: 1.4159802258506295\n"
          ]
        }
      ],
      "source": [
        "\"\"\"\n",
        "  Program    : distpts.py\n",
        "  Author     : Jose M Garrido, January, 20, 2014.\n",
        "  Description: This program computes the distance\n",
        "               between two points in a Cartesian plane.\n",
        "\"\"\"\n",
        "# TODO: we duplicate in notebook by turning into a function\n",
        "def distpts():\n",
        "    ''' This computes the distance betweeen two points in a Cartesian plane.\n",
        "      Arguments:\n",
        "        None\n",
        "      Returns:\n",
        "        None\n",
        "    '''\n",
        "    import math\n",
        "    x1 = input(\"Enter value of x-coordinate of P1: \")\n",
        "    y1 = input(\"Enter value of y-coordinate of P1: \")\n",
        "    print(f\"Coordinates of P1: {x1}, {y1}\")\n",
        "    x1 = float(x1)\n",
        "    y1 = float(y1)\n",
        "\n",
        "    x2 = input(\"Enter vlaue of x-coordinate of P2: \")\n",
        "    y2 = input(\"Enter value of y-coordinate of P2: \")\n",
        "    print(f\"Coordinates of P2: {x2}, {y2}\")\n",
        "    x2 = float(x2)\n",
        "    y2 = float(y2)\n",
        "\n",
        "    # compute horizontal distance between points\n",
        "    dx = x2 - x1\n",
        "\n",
        "    # compute vertical distance between points\n",
        "    dy = y2 - y1\n",
        "    print(f\"Horizontal and vertical distances: {dx}, {dy}\")\n",
        "\n",
        "    # compute the distance between the points\n",
        "    d = math.sqrt(dx**2 + dy**2)\n",
        "\n",
        "    # display result\n",
        "    print(f\"Distance between P1 and P2: {d}\")\n",
        "\n",
        "\n",
        "distpts()"
      ]
    },
    {
      "cell_type": "markdown",
      "source": [
        "## 2.8 general structure of python program\n",
        "\n",
        "\n",
        "1. The import commands are optional but they are present in almost all python programs provides access to definitions of code\n",
        "2. Global data, which may consist of assignments of values to variables, ina similar manner as described previously.  These are global data because they can be used by all functions in the program\n",
        "3. Definition of functions.  This is an otptional component of a python program but always present usually, when present one or more functions are defined in this part of the program\n",
        "4. Definition of classses is another optional component but a class definition allows the groupage of data and functions together\n",
        "5. the instructions are python statements that invoke or call the functions in the program or the imported modules, can also create and manipulate class definitions\n",
        "\n"
      ],
      "metadata": {
        "id": "pCv-lJnbFR2d"
      },
      "id": "pCv-lJnbFR2d"
    },
    {
      "cell_type": "markdown",
      "source": [
        "### 2.1.1 Exercises\n"
      ],
      "metadata": {
        "id": "9JnvkccpGM5T"
      },
      "id": "9JnvkccpGM5T"
    },
    {
      "cell_type": "code",
      "source": [
        "# TODO: create a function that computes the area of a right triangle\n",
        "#       given values of the altitude and base\n",
        "\n",
        "# TODO: create a computational model that computes the distance between two\n",
        "#       points in a plane P1 with coordinates x1, y1) and P2 with\n",
        "#       coordinates x2, y2) use coordinate vlaues (2,3) and (4, 7)\n",
        "\n",
        "# TODO: Develop a compuattional model that computes the temperature\n",
        "#       in Celsius, given the values of the temperature in Fahrenheit\n",
        "\n",
        "# TODO: Develop a computational model that computes the circumference and area\n",
        "#       of a square given the values of its sides\n",
        "\n",
        "# TODO: Develop a computational model that computes the slope of a line between\n",
        "#       two points in a plane: P1 with coordinates (x1, y1) and P2 with\n",
        "#       coordinates (x2, y2), use the coordinate values (0, -3/2) and (2, 0)"
      ],
      "metadata": {
        "id": "jtrV0YvxGUlo"
      },
      "id": "jtrV0YvxGUlo",
      "execution_count": 11,
      "outputs": []
    },
    {
      "cell_type": "markdown",
      "source": [
        "<hr>\n"
      ],
      "metadata": {
        "id": "TEMXUlyZH2Rh"
      },
      "id": "TEMXUlyZH2Rh"
    },
    {
      "cell_type": "code",
      "source": [
        "# TODO: create a function that computes the area of a right triangle\n",
        "#       given values of the altitude and base"
      ],
      "metadata": {
        "id": "d544gPovHgiR"
      },
      "id": "d544gPovHgiR",
      "execution_count": null,
      "outputs": []
    },
    {
      "cell_type": "markdown",
      "source": [
        "Function for Area of a right triangle given altitude and base:\n",
        "\n",
        "$Area = \\frac{1}{2}*base*altitude$"
      ],
      "metadata": {
        "id": "JEI5PNnRILgJ"
      },
      "id": "JEI5PNnRILgJ"
    },
    {
      "cell_type": "code",
      "source": [
        "def right_triangle_area(altitude, base):\n",
        "  return (1/2) * base * altitude"
      ],
      "metadata": {
        "id": "TKdoOu9jIKMM"
      },
      "id": "TKdoOu9jIKMM",
      "execution_count": 12,
      "outputs": []
    },
    {
      "cell_type": "code",
      "source": [
        "base = 2\n",
        "altitude = 10\n",
        "area_right_triangle = right_triangle_area(altitude, base)\n",
        "print(f\"The area of a right triangle with base: {base} and altitude: \" + \\\n",
        "        f\"{altitude} is:]  {area_right_triangle}\")"
      ],
      "metadata": {
        "colab": {
          "base_uri": "https://localhost:8080/"
        },
        "id": "AQQ0rNeXIoFt",
        "outputId": "f0d7c2c6-76d9-407b-99c4-a02847d8fb3c"
      },
      "id": "AQQ0rNeXIoFt",
      "execution_count": 14,
      "outputs": [
        {
          "output_type": "stream",
          "name": "stdout",
          "text": [
            "The area of a right triangle with base: 2 and altitude: 10 is:]  10.0\n"
          ]
        }
      ]
    },
    {
      "cell_type": "markdown",
      "source": [
        "<hr>"
      ],
      "metadata": {
        "id": "ey43PIkYII1u"
      },
      "id": "ey43PIkYII1u"
    },
    {
      "cell_type": "code",
      "source": [
        "# TODO: create a computational model that computes the distance between two\n",
        "#       points in a plane P1 with coordinates x1, y1) and P2 with\n",
        "#       coordinates x2, y2) use coordinate vlaues (2,3) and (4, 7)"
      ],
      "metadata": {
        "id": "YKHicMH6InXm"
      },
      "id": "YKHicMH6InXm",
      "execution_count": null,
      "outputs": []
    },
    {
      "cell_type": "markdown",
      "source": [
        "Given two points $(x_1 , y_1)$ $\\&$ $(x_2 , y_2)$, the distance $d$ between them is\n",
        "\n",
        "$d = \\sqrt{(x_2 - x_1)^2 + (y_2 - y_1)^2}$"
      ],
      "metadata": {
        "id": "uhU2anrGJw0x"
      },
      "id": "uhU2anrGJw0x"
    },
    {
      "cell_type": "code",
      "source": [
        "def dist_between_points(point1, point2):\n",
        "    '''computes distance between two cartesian points using the formula\n",
        "    $d = \\sqrt{(x_2 - x_1)^2 + (y2 - y1)^2}$\n",
        "\n",
        "    Args:\n",
        "        point1 (list): a list denoting [x-coordinate, y-coordinate]\n",
        "        point2 (list): a list denoting [x-coordinate, y-coordinate]\n",
        "    Returns:\n",
        "        A float representing the distance between the two points is returned.'''\n",
        "\n",
        "    import math\n",
        "    d = math.sqrt( (point2[0] - point1[0])**2 + (point2[1] - point1[1])**2 )\n",
        "    return d\n",
        "\n",
        "d = dist_between_points([2, 3], [4, 7])\n",
        "print(f\"The distance between points (2, 3) and (4, 7) is {d}\")"
      ],
      "metadata": {
        "colab": {
          "base_uri": "https://localhost:8080/"
        },
        "id": "KIzUDxDHJhXL",
        "outputId": "ddef3e3a-19a3-47dd-9ce7-574842c59a81"
      },
      "id": "KIzUDxDHJhXL",
      "execution_count": 17,
      "outputs": [
        {
          "output_type": "stream",
          "name": "stdout",
          "text": [
            "The distance between points (2, 3) and (4, 7) is 4.47213595499958\n"
          ]
        }
      ]
    },
    {
      "cell_type": "markdown",
      "source": [
        "<hr>"
      ],
      "metadata": {
        "id": "Fsuz1y3KJbm4"
      },
      "id": "Fsuz1y3KJbm4"
    },
    {
      "cell_type": "code",
      "source": [
        "# TODO: Develop a compuattional model that computes the temperature\n",
        "#       in Celsius, given the values of the temperature in Fahrenheit"
      ],
      "metadata": {
        "id": "En4WK-IyOk7W"
      },
      "id": "En4WK-IyOk7W",
      "execution_count": 19,
      "outputs": []
    },
    {
      "cell_type": "markdown",
      "source": [
        "Formula for fahrenheit to celsius conversion\n",
        "\n",
        "$C = \\frac{5}{9}(F - 32)$"
      ],
      "metadata": {
        "id": "XZIO-CZ0PLrG"
      },
      "id": "XZIO-CZ0PLrG"
    },
    {
      "cell_type": "code",
      "source": [
        "def get_celsius(fahrenheit):\n",
        "  return (5/9) * (fahrenheit - 32)\n",
        "\n",
        "\n",
        "fahrenheit = 77\n",
        "celsius = get_celsius(fahrenheit)\n",
        "print(f\"{fahrenheit} fahrenheit is {celsius} celsius\")"
      ],
      "metadata": {
        "colab": {
          "base_uri": "https://localhost:8080/"
        },
        "id": "FLiDeciGPKlZ",
        "outputId": "8585bb66-4251-474a-ce89-6702b8142812"
      },
      "id": "FLiDeciGPKlZ",
      "execution_count": 20,
      "outputs": [
        {
          "output_type": "stream",
          "name": "stdout",
          "text": [
            "77 fahrenheit is 25.0 celsius\n"
          ]
        }
      ]
    },
    {
      "cell_type": "markdown",
      "source": [
        "<hr>"
      ],
      "metadata": {
        "id": "GoWxejoGKtYQ"
      },
      "id": "GoWxejoGKtYQ"
    },
    {
      "cell_type": "code",
      "source": [
        "# TODO: Develop a computational model that computes the circumference and area\n",
        "#       of a square given the values of its sides"
      ],
      "metadata": {
        "id": "5yUojMM_IJmi"
      },
      "id": "5yUojMM_IJmi",
      "execution_count": 21,
      "outputs": []
    },
    {
      "cell_type": "markdown",
      "source": [
        "Area of a square is just side cross side or side**2\n",
        "\n",
        "$Area = side^2$"
      ],
      "metadata": {
        "id": "PI_Mk5JKPpW4"
      },
      "id": "PI_Mk5JKPpW4"
    },
    {
      "cell_type": "code",
      "source": [
        "def area_of_square(side_length):\n",
        "  return side_length**2\n",
        "\n",
        "def circumference_of_square(side_length):\n",
        "  return side_length * 4\n",
        "\n",
        "square_side_length = 10\n",
        "area_square = area_of_square(square_side_length)\n",
        "circumference_square = circumference_of_square(square_side_length)\n",
        "\n",
        "print(f\"The area of a square with side length {square_side_length} is \" + \\\n",
        "      f\"{area_square}\")\n",
        "print(f\"The circumference of a square with side length {square_side_length}\" + \\\n",
        "      f\" is {circumference_square}\")"
      ],
      "metadata": {
        "colab": {
          "base_uri": "https://localhost:8080/"
        },
        "id": "E8PeflIOLtPT",
        "outputId": "fcae67e1-6689-4673-d3ef-267ebb97cdc7"
      },
      "id": "E8PeflIOLtPT",
      "execution_count": 24,
      "outputs": [
        {
          "output_type": "stream",
          "name": "stdout",
          "text": [
            "The area of a square with side length 10 is 100\n",
            "The circumference of a square with side length 10 is 40\n"
          ]
        }
      ]
    },
    {
      "cell_type": "markdown",
      "source": [
        "<hr>"
      ],
      "metadata": {
        "id": "epf05qL3QJa-"
      },
      "id": "epf05qL3QJa-"
    },
    {
      "cell_type": "code",
      "source": [
        "# TODO: Develop a computational model that computes the slope of a line between\n",
        "#       two points in a plane: P1 with coordinates (x1, y1) and P2 with\n",
        "#       coordinates (x2, y2), use the coordinate values (0, -3/2) and (2, 0)"
      ],
      "metadata": {
        "id": "0a9_K7yMQGPE"
      },
      "id": "0a9_K7yMQGPE",
      "execution_count": null,
      "outputs": []
    },
    {
      "cell_type": "markdown",
      "source": [
        "Formula for slope of a line between two points:\n",
        "\n",
        "slope = $\\frac{y_2 - y_1}{x_2 - x_1}$\n"
      ],
      "metadata": {
        "id": "ffiraROXQ2wb"
      },
      "id": "ffiraROXQ2wb"
    },
    {
      "cell_type": "code",
      "source": [
        "def line_slope(point1, point2):\n",
        "  return (point2[1] - point1[1])/(point2[0] - point1[0])\n",
        "\n",
        "point1 = [0, -3/2]\n",
        "point2 = [2, 0]\n",
        "\n",
        "slope = line_slope(point1, point2)\n",
        "\n",
        "print(f\"The slope of a line between (0, -3/2) and (2, 0) is {slope}\")"
      ],
      "metadata": {
        "colab": {
          "base_uri": "https://localhost:8080/"
        },
        "id": "2GTdb8gXRMY3",
        "outputId": "2e31ef86-a86d-4f11-df47-35333f0a9f18"
      },
      "id": "2GTdb8gXRMY3",
      "execution_count": 25,
      "outputs": [
        {
          "output_type": "stream",
          "name": "stdout",
          "text": [
            "The slope of a line between (0, -3/2) and (2, 0) is 0.75\n"
          ]
        }
      ]
    },
    {
      "cell_type": "markdown",
      "source": [
        "<hr>\n",
        "\n",
        "\n",
        "end chapter 2"
      ],
      "metadata": {
        "id": "fYUlT32oSETu"
      },
      "id": "fYUlT32oSETu"
    },
    {
      "cell_type": "code",
      "source": [
        "print('page 76 of 492')"
      ],
      "metadata": {
        "colab": {
          "base_uri": "https://localhost:8080/"
        },
        "id": "n4kfbobbR2rx",
        "outputId": "05bd5223-7654-4374-8856-0de98954a387"
      },
      "id": "n4kfbobbR2rx",
      "execution_count": 26,
      "outputs": [
        {
          "output_type": "stream",
          "name": "stdout",
          "text": [
            "page 76 of 492\n"
          ]
        }
      ]
    },
    {
      "cell_type": "code",
      "source": [],
      "metadata": {
        "id": "3RuHq0aTSIfT"
      },
      "id": "3RuHq0aTSIfT",
      "execution_count": null,
      "outputs": []
    }
  ],
  "metadata": {
    "kernelspec": {
      "display_name": "Python 3 (ipykernel)",
      "language": "python",
      "name": "python3"
    },
    "language_info": {
      "codemirror_mode": {
        "name": "ipython",
        "version": 3
      },
      "file_extension": ".py",
      "mimetype": "text/x-python",
      "name": "python",
      "nbconvert_exporter": "python",
      "pygments_lexer": "ipython3",
      "version": "3.13.2"
    },
    "colab": {
      "provenance": []
    }
  },
  "nbformat": 4,
  "nbformat_minor": 5
}