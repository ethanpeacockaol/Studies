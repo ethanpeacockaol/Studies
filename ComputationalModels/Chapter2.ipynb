{
 "cells": [
  {
   "cell_type": "markdown",
   "id": "88ca6502-aaa1-411a-8569-aad263611dd2",
   "metadata": {},
   "source": [
    "# Chapter 2 Simple Python Programs\n",
    "\n",
    "pg 46 of 492"
   ]
  },
  {
   "cell_type": "markdown",
   "id": "c887bef1-ffd4-4645-a4fd-21dbdb345779",
   "metadata": {},
   "source": [
    "<hr>"
   ]
  },
  {
   "cell_type": "markdown",
   "id": "5afbbeb8-167e-45ef-80cc-1c91ebbb95a9",
   "metadata": {},
   "source": [
    "This chapter presents an overview of the structure of a computer program which include data definitions and basic instructions using the python programming language.  Because functions are one of the building blocks and the fundamental components of Python programs, the concepts of function definitions and function invocations are gradually explained, and complete Python programs are introduced that illustrate further the role of functions\n",
    "\n",
    "This chapter also presents concepts and principles that are used in developing computational models by implementing two mathematical models with Python programs"
   ]
  },
  {
   "cell_type": "markdown",
   "id": "1bef8146-afb7-47fc-a3bc-1714a10eada4",
   "metadata": {},
   "source": [
    "## 2.2 Computing with python\n",
    "\n",
    "There are two modes of computing in python\n",
    "\n",
    "\n",
    "* Interactive mode\n",
    "    *  provides the python prompt indicated by >>>\n",
    "    *  each python command is directly entered and the python interpreter responds immediately to the command\n",
    "*  Script mode\n",
    "    *  a sequence of python commands in a file with a .py extension\n",
    "    *  This file is passed to the Python interpreter to process and is known as a script.\n",
    "    *  A typical python program is edited and stored as a script and an appropriate text editor is used to build a program as a python script"
   ]
  },
  {
   "cell_type": "code",
   "execution_count": 1,
   "id": "54f57882-1544-4012-9323-2abab421ef99",
   "metadata": {},
   "outputs": [
    {
     "data": {
      "text/plain": [
       "34.5"
      ]
     },
     "execution_count": 1,
     "metadata": {},
     "output_type": "execute_result"
    }
   ],
   "source": [
    "y = 34.5\n",
    "y"
   ]
  },
  {
   "cell_type": "code",
   "execution_count": 2,
   "id": "6ba41098-5047-4941-83b5-db27060aac4f",
   "metadata": {},
   "outputs": [],
   "source": [
    "x = 12.48"
   ]
  },
  {
   "cell_type": "code",
   "execution_count": 3,
   "id": "dd90e23f-0720-4d01-90fe-4c4eea580265",
   "metadata": {},
   "outputs": [
    {
     "data": {
      "text/plain": [
       "12.48"
      ]
     },
     "execution_count": 3,
     "metadata": {},
     "output_type": "execute_result"
    }
   ],
   "source": [
    "x"
   ]
  },
  {
   "cell_type": "code",
   "execution_count": 4,
   "id": "79242cba-73af-47f5-86fc-6e9ea3516f31",
   "metadata": {},
   "outputs": [
    {
     "data": {
      "text/plain": [
       "46.980000000000004"
      ]
     },
     "execution_count": 4,
     "metadata": {},
     "output_type": "execute_result"
    }
   ],
   "source": [
    "z = x + y\n",
    "z"
   ]
  },
  {
   "cell_type": "markdown",
   "id": "944efac4-47a0-4efc-877e-92c8cde7c900",
   "metadata": {},
   "source": [
    "### Mathematical Operations 2.2.2\n",
    "\n",
    "To increment the value of a variable"
   ]
  },
  {
   "cell_type": "code",
   "execution_count": 5,
   "id": "dfaa82d2-0635-446b-906f-bb3af7cffc09",
   "metadata": {},
   "outputs": [
    {
     "data": {
      "text/plain": [
       "11"
      ]
     },
     "execution_count": 5,
     "metadata": {},
     "output_type": "execute_result"
    }
   ],
   "source": [
    "i = 10\n",
    "i += 1\n",
    "i"
   ]
  },
  {
   "cell_type": "markdown",
   "id": "7a2e4c25-eedc-48a2-b4e0-80098cf6749f",
   "metadata": {},
   "source": [
    "integer division"
   ]
  },
  {
   "cell_type": "code",
   "execution_count": 6,
   "id": "bcd54961-ca9e-4c0a-b8ef-227f86926b14",
   "metadata": {},
   "outputs": [
    {
     "data": {
      "text/plain": [
       "3.6666666666666665"
      ]
     },
     "execution_count": 6,
     "metadata": {},
     "output_type": "execute_result"
    }
   ],
   "source": [
    "int_division = i / 3\n",
    "int_division"
   ]
  },
  {
   "cell_type": "code",
   "execution_count": 7,
   "id": "50d635fd-1861-400e-9683-23c6d580b49c",
   "metadata": {},
   "outputs": [
    {
     "data": {
      "text/plain": [
       "2"
      ]
     },
     "execution_count": 7,
     "metadata": {},
     "output_type": "execute_result"
    }
   ],
   "source": [
    "int_div = i % 3\n",
    "int_div"
   ]
  },
  {
   "cell_type": "markdown",
   "id": "4b8d9fdd-da71-420b-bc3b-8536bc84ebcf",
   "metadata": {},
   "source": [
    "non integer numbers are known as floating point numbers"
   ]
  },
  {
   "cell_type": "code",
   "execution_count": 8,
   "id": "6afb38f1-98b0-4dfb-9317-54dc17dcb621",
   "metadata": {},
   "outputs": [
    {
     "data": {
      "text/plain": [
       "float"
      ]
     },
     "execution_count": 8,
     "metadata": {},
     "output_type": "execute_result"
    }
   ],
   "source": [
    "x = 22.555555\n",
    "type(x)"
   ]
  },
  {
   "cell_type": "code",
   "execution_count": 9,
   "id": "c188472a-65db-40c7-aec4-c35795e977d0",
   "metadata": {},
   "outputs": [
    {
     "data": {
      "text/plain": [
       "11499.263211879306"
      ]
     },
     "execution_count": 9,
     "metadata": {},
     "output_type": "execute_result"
    }
   ],
   "source": [
    "z = x + 1.5 + x**3\n",
    "z"
   ]
  },
  {
   "cell_type": "markdown",
   "id": "c4f14056-fe7a-46e8-997b-27e15118f683",
   "metadata": {},
   "source": [
    "complex numbers"
   ]
  },
  {
   "cell_type": "code",
   "execution_count": 10,
   "id": "7bf906bd-42c3-47c3-9e93-dfaf8942cfcb",
   "metadata": {},
   "outputs": [
    {
     "data": {
      "text/plain": [
       "(2.5-5.32j)"
      ]
     },
     "execution_count": 10,
     "metadata": {},
     "output_type": "execute_result"
    }
   ],
   "source": [
    "x = 2.5\n",
    "y = -5.32\n",
    "z = complex(x, y)\n",
    "z"
   ]
  },
  {
   "cell_type": "code",
   "execution_count": 11,
   "id": "47295a20-e5db-40bb-87ce-30757d3ad84c",
   "metadata": {},
   "outputs": [
    {
     "data": {
      "text/plain": [
       "2.5"
      ]
     },
     "execution_count": 11,
     "metadata": {},
     "output_type": "execute_result"
    }
   ],
   "source": [
    "rp = z.real\n",
    "rp"
   ]
  },
  {
   "cell_type": "code",
   "execution_count": 12,
   "id": "e15343e3-3aa5-4129-9374-47f97161a8a2",
   "metadata": {},
   "outputs": [
    {
     "data": {
      "text/plain": [
       "-5.32"
      ]
     },
     "execution_count": 12,
     "metadata": {},
     "output_type": "execute_result"
    }
   ],
   "source": [
    "ip = z.imag\n",
    "ip"
   ]
  },
  {
   "cell_type": "markdown",
   "id": "27779cd5-a156-4a0d-a87b-3bd56870d13c",
   "metadata": {},
   "source": [
    "### More advanced mathematical expressions\n",
    "\n",
    "simple arithmetic expressions are used in assignment statements\n",
    "\n",
    "These are addition, subtraction, multiplication, division, and exponentiation\n",
    "\n",
    "More complex calculations are various numerical funcs such as square root and trig functions\n",
    "\n",
    "These expressions apply the math functions cos and sqrt that are defined in the math module\n",
    "\n",
    "The import command is used to gain access to a module"
   ]
  },
  {
   "cell_type": "code",
   "execution_count": 13,
   "id": "e3513b57-59ba-4819-8a2d-cc5cf019c99f",
   "metadata": {},
   "outputs": [
    {
     "data": {
      "text/plain": [
       "3.141592653589793"
      ]
     },
     "execution_count": 13,
     "metadata": {},
     "output_type": "execute_result"
    }
   ],
   "source": [
    "from math import *\n",
    "pi"
   ]
  },
  {
   "cell_type": "code",
   "execution_count": 14,
   "id": "4ea268aa-0751-4bcd-9423-a9a1ee741399",
   "metadata": {},
   "outputs": [
    {
     "data": {
      "text/plain": [
       "6.123233995736766e-17"
      ]
     },
     "execution_count": 14,
     "metadata": {},
     "output_type": "execute_result"
    }
   ],
   "source": [
    "PI = pi\n",
    "ss6 = cos(0.5*PI)\n",
    "ss6"
   ]
  },
  {
   "cell_type": "code",
   "execution_count": 15,
   "id": "2d7475f9-83c3-44ba-9712-42ea3965e583",
   "metadata": {},
   "outputs": [
    {
     "data": {
      "text/plain": [
       "0.7071067811865476"
      ]
     },
     "execution_count": 15,
     "metadata": {},
     "output_type": "execute_result"
    }
   ],
   "source": [
    "ss7 = cos(0.25*PI)\n",
    "ss7"
   ]
  },
  {
   "cell_type": "code",
   "execution_count": 16,
   "id": "5413b08f-c0d2-4fed-983c-822eff9f23de",
   "metadata": {},
   "outputs": [
    {
     "data": {
      "text/plain": [
       "12.182493960703473"
      ]
     },
     "execution_count": 16,
     "metadata": {},
     "output_type": "execute_result"
    }
   ],
   "source": [
    "yy = exp(x)\n",
    "yy"
   ]
  },
  {
   "cell_type": "code",
   "execution_count": 17,
   "id": "f29eb4e8-0f20-43de-8799-5677c3189fa8",
   "metadata": {},
   "outputs": [
    {
     "data": {
      "text/plain": [
       "1.0000050000069649e-05"
      ]
     },
     "execution_count": 17,
     "metadata": {},
     "output_type": "execute_result"
    }
   ],
   "source": [
    "zz = exp(1.0e-5) - 1\n",
    "zz"
   ]
  },
  {
   "cell_type": "code",
   "execution_count": 18,
   "id": "cb23afc9-a346-4081-a94e-7339bfa54e75",
   "metadata": {},
   "outputs": [
    {
     "data": {
      "text/plain": [
       "1.1040309877476002"
      ]
     },
     "execution_count": 18,
     "metadata": {},
     "output_type": "execute_result"
    }
   ],
   "source": [
    "ff = acos(0.45)\n",
    "ff"
   ]
  },
  {
   "cell_type": "code",
   "execution_count": 19,
   "id": "bf2f74ad-75c9-4502-90dc-4ddae9ada763",
   "metadata": {},
   "outputs": [
    {
     "data": {
      "text/plain": [
       "120"
      ]
     },
     "execution_count": 19,
     "metadata": {},
     "output_type": "execute_result"
    }
   ],
   "source": [
    "mfact = factorial(5)\n",
    "mfact"
   ]
  },
  {
   "cell_type": "markdown",
   "id": "d64c4899-3536-417a-b2a2-f0577cfcce81",
   "metadata": {},
   "source": [
    "In the following example, the value of expression $cos(p) + q$ is assigned to the variable y and the value of $\\sqrt(x-y)$ is assigned to the variable $q$"
   ]
  },
  {
   "cell_type": "code",
   "execution_count": 20,
   "id": "1ea6a68a-df08-42a7-bc30-333586934476",
   "metadata": {},
   "outputs": [
    {
     "data": {
      "text/plain": [
       "3.1490169943749473"
      ]
     },
     "execution_count": 20,
     "metadata": {},
     "output_type": "execute_result"
    }
   ],
   "source": [
    "p = 0.2 * PI\n",
    "q = 2.34\n",
    "y = cos(p) + q\n",
    "y"
   ]
  },
  {
   "cell_type": "code",
   "execution_count": 24,
   "id": "3621925d-f5ef-482e-80e4-ff9b35540112",
   "metadata": {},
   "outputs": [
    {
     "data": {
      "text/plain": [
       "3.0"
      ]
     },
     "execution_count": 24,
     "metadata": {},
     "output_type": "execute_result"
    }
   ],
   "source": [
    "q = sqrt(9-0)\n",
    "q"
   ]
  },
  {
   "cell_type": "markdown",
   "id": "626ea4c0-b352-4409-adf1-e77867bc410d",
   "metadata": {},
   "source": [
    "In the following example, the value of the mathematical expression $x^n$ x y x $sin^(2m)x$ is assigned to the variable z"
   ]
  },
  {
   "cell_type": "code",
   "execution_count": 26,
   "id": "566710e2-b2dc-4e26-a6b0-0154d133b054",
   "metadata": {},
   "outputs": [
    {
     "data": {
      "text/plain": [
       "-2.719807659910173"
      ]
     },
     "execution_count": 26,
     "metadata": {},
     "output_type": "execute_result"
    }
   ],
   "source": [
    "x = 2.5\n",
    "y = -5.32\n",
    "n = 3.75\n",
    "m = 4\n",
    "z = (x**n) * y * sin(x)**(2*m)\n",
    "z"
   ]
  },
  {
   "cell_type": "markdown",
   "id": "28445439-e21c-4df9-8817-330c7335c12a",
   "metadata": {},
   "source": [
    "### Scientific notation\n",
    "\n",
    "scientific notation is used to display very large and very small floating-point values.  It is written witha letter $e$ after the floating-point value followed by an integer exponent\n",
    "\n",
    "In the following example, the mathematical equivalent for the first value of variable y is 5.77262 x 10^2\n",
    "\n",
    "Scientific notation can alsu be used in mathematical expressions with assignments"
   ]
  },
  {
   "cell_type": "code",
   "execution_count": 27,
   "id": "7ab55939-7cae-4e9d-b6dc-a680fc5ac27f",
   "metadata": {},
   "outputs": [
    {
     "data": {
      "text/plain": [
       "5772620000000.0"
      ]
     },
     "execution_count": 27,
     "metadata": {},
     "output_type": "execute_result"
    }
   ],
   "source": [
    "y = 5.77262e+12\n",
    "y"
   ]
  },
  {
   "cell_type": "code",
   "execution_count": 28,
   "id": "d38c11a1-cdd8-46c7-913a-a2b1f3c735cb",
   "metadata": {},
   "outputs": [
    {
     "data": {
      "text/plain": [
       "5773160000000.0"
      ]
     },
     "execution_count": 28,
     "metadata": {},
     "output_type": "execute_result"
    }
   ],
   "source": [
    "x = 5.4e8 + y\n",
    "x"
   ]
  },
  {
   "cell_type": "code",
   "execution_count": 29,
   "id": "07dc3edc-c3d2-4fd5-9abb-9e6953ff3670",
   "metadata": {},
   "outputs": [
    {
     "data": {
      "text/plain": [
       "7.3030474e+24"
      ]
     },
     "execution_count": 29,
     "metadata": {},
     "output_type": "execute_result"
    }
   ],
   "source": [
    "y = x * 126.5e10\n",
    "y"
   ]
  },
  {
   "cell_type": "markdown",
   "id": "47c1a2d6-e626-448c-a09d-422f6506dc54",
   "metadata": {},
   "source": [
    "### Programs\n",
    "\n",
    "a program consists of data definitions and instructions that manipulate the data These are:\n",
    "\n",
    "* Data definitions\n",
    "    *  indicate the data to be manipulated by the instructions\n",
    "* A sequence of instructions, which perform the computations on the ata in order to produce the desired results\n",
    "\n",
    "\n",
    "### 2.4 Data definitions\n",
    "\n",
    "The data in a program consists of one or more data items\n",
    "\n",
    "These are manipulated or transformed by the computations ( computer operations ).  In python, each data definition is specified by assigning a value to a variable and has:\n",
    "\n",
    "* a reference, which is a variable with a unique name to refer to the data item, and\n",
    "* a value associated with it\n",
    "\n",
    "\n",
    "The name of the reference (variable) to a data item is an identifier and is defined by the programmer; it must be different from any keyword in the programming language."
   ]
  },
  {
   "cell_type": "markdown",
   "id": "26245043-33cc-46fb-8abb-b86c7bb5d3ad",
   "metadata": {},
   "source": [
    "### 2.4.1 Data Objects\n",
    "\n",
    "In Python, the data items are known as data objects and every variable references a data object\n",
    "\n",
    "If the value associated with a data object does not change, then the data object is said to be immutable, otherwise it is mutable,  The three most important attributes of a data object are\n",
    "\n",
    "* The identity, which is the location (address) of the data object in the computer memory;\n",
    "* The type, which defines the operations are allowed for the data object; and\n",
    "* the value, which can be changed (mutable) or not (immutable).\n",
    "\n",
    "\n",
    "### 2.4.2 Variables\n",
    "\n",
    "As mentioned previously, a variable is a reference to a data ovject and the name of the variable is used in a program for uniquely identifying the variable and is known as an identifier.  The special text wods or symbols that indicate essential parts of a programming language are known as keywords\n",
    "\n",
    "These are reserved words and cannot be used for any other purpose.\n",
    "\n",
    "A problem that calculates the area of a triangle uses four variables.  Examples of the names for these variables are a, b, c, and area.\n",
    "\n",
    "\n",
    "### 2.4.3 Using Data Objects and Variables\n",
    "\n",
    "In the following listing of Python commands, the first three commands include three assignments to variables x, y, and z\n",
    "\n",
    "The fourth Python command include three assignments to variables x, y, and z.\n",
    "\n",
    "the fourth python command uses the python function id() to et the address of the data ovject referenced by variable x and this address is 19290088.\n",
    "\n",
    "Note that the address of the referenced ovject with variables y and z is the same, because these two variables refer to the same data ovject.\n",
    "\n",
    "After changing the value of variable y, the reference is different because now variable y refers to a different data ovject.  Note that the # symbol is used to include a comment on a source line and has no effect on the instruction"
   ]
  },
  {
   "cell_type": "code",
   "execution_count": 30,
   "id": "ef8b54da-687e-4136-9cb7-4e9121f9726b",
   "metadata": {},
   "outputs": [
    {
     "data": {
      "text/plain": [
       "3048232582064"
      ]
     },
     "execution_count": 30,
     "metadata": {},
     "output_type": "execute_result"
    }
   ],
   "source": [
    "x = 5.33\n",
    "y = 6\n",
    "z = y # these now refer to the same object\n",
    "id(x) # get the identity of data object"
   ]
  },
  {
   "cell_type": "code",
   "execution_count": 31,
   "id": "aecc3056-9ed7-489d-b5d4-2bc89d5a1e6e",
   "metadata": {},
   "outputs": [
    {
     "data": {
      "text/plain": [
       "140712566522952"
      ]
     },
     "execution_count": 31,
     "metadata": {},
     "output_type": "execute_result"
    }
   ],
   "source": [
    "id(y)"
   ]
  },
  {
   "cell_type": "code",
   "execution_count": 32,
   "id": "2107c544-3efb-4d1d-b0f7-14c21e27b948",
   "metadata": {},
   "outputs": [
    {
     "data": {
      "text/plain": [
       "140712566522952"
      ]
     },
     "execution_count": 32,
     "metadata": {},
     "output_type": "execute_result"
    }
   ],
   "source": [
    "id(z)"
   ]
  },
  {
   "cell_type": "code",
   "execution_count": 33,
   "id": "7f50e5e8-af57-4c70-8118-2f5356e036b4",
   "metadata": {},
   "outputs": [],
   "source": [
    "y = y+1"
   ]
  },
  {
   "cell_type": "code",
   "execution_count": 34,
   "id": "5f148622-bc25-4b01-b54c-f1e90945e042",
   "metadata": {},
   "outputs": [
    {
     "data": {
      "text/plain": [
       "140712566522984"
      ]
     },
     "execution_count": 34,
     "metadata": {},
     "output_type": "execute_result"
    }
   ],
   "source": [
    "id(y)"
   ]
  },
  {
   "cell_type": "code",
   "execution_count": 35,
   "id": "3dc9da86-5b29-420f-a080-b228741d6607",
   "metadata": {},
   "outputs": [
    {
     "data": {
      "text/plain": [
       "140712566522952"
      ]
     },
     "execution_count": 35,
     "metadata": {},
     "output_type": "execute_result"
    }
   ],
   "source": [
    "id(z)"
   ]
  },
  {
   "cell_type": "code",
   "execution_count": 36,
   "id": "715995c0-3e07-4a48-a3b6-8b9aa284b706",
   "metadata": {},
   "outputs": [],
   "source": [
    "z = z+1"
   ]
  },
  {
   "cell_type": "code",
   "execution_count": 37,
   "id": "1f93908f-b499-4c87-84f8-c365a4c2b6cf",
   "metadata": {},
   "outputs": [
    {
     "data": {
      "text/plain": [
       "140712566522984"
      ]
     },
     "execution_count": 37,
     "metadata": {},
     "output_type": "execute_result"
    }
   ],
   "source": [
    "id(z)"
   ]
  },
  {
   "cell_type": "code",
   "execution_count": 38,
   "id": "1d59807c-fc31-4179-b949-43d562c020c4",
   "metadata": {},
   "outputs": [
    {
     "data": {
      "text/plain": [
       "float"
      ]
     },
     "execution_count": 38,
     "metadata": {},
     "output_type": "execute_result"
    }
   ],
   "source": [
    "type(x)"
   ]
  },
  {
   "cell_type": "code",
   "execution_count": 39,
   "id": "9618be14-48c8-4b2d-9319-a1707213e975",
   "metadata": {},
   "outputs": [
    {
     "data": {
      "text/plain": [
       "int"
      ]
     },
     "execution_count": 39,
     "metadata": {},
     "output_type": "execute_result"
    }
   ],
   "source": [
    "type(y)"
   ]
  },
  {
   "cell_type": "markdown",
   "id": "2c81edf9-1285-48a0-8888-034968d95bc6",
   "metadata": {},
   "source": [
    "### 2.4.4 Basic Data Types\n",
    "\n",
    "The fundamental data types are classified into the three categories:\n",
    "* Numeric\n",
    "* Text\n",
    "* Boolean\n",
    "\n",
    "The numeric types are further divided into two basic types, integer, and float.\n",
    "\n",
    "Values of integer type are those that are countable to a finite value, for example, age, number of parts, number of students enrolled in a course, and so on\n",
    "\n",
    "Values of type float have a decimal point; for example, cost of a part, the height of a tower, current temperature in a boiler, a time interval.\n",
    "\n",
    "These values cannot be expressed as integers\n",
    "\n",
    "In the python commands of the previous example, the Python function type() is used to get the type variable x and of variable y\n",
    "\n",
    "Note that tye type of variable x is float \n",
    "\n",
    "\n",
    "okay so this is bull shit its just paragraphs about what we have already done skip"
   ]
  },
  {
   "cell_type": "code",
   "execution_count": null,
   "id": "4f2ac7a6-e257-4d03-9b73-ff2bdcce4905",
   "metadata": {},
   "outputs": [],
   "source": []
  },
  {
   "cell_type": "code",
   "execution_count": null,
   "id": "a8f398dd-7509-4446-a686-e844207b23f3",
   "metadata": {},
   "outputs": [],
   "source": []
  },
  {
   "cell_type": "code",
   "execution_count": null,
   "id": "7b859e80-2613-4531-b396-c1aacda59a6d",
   "metadata": {},
   "outputs": [],
   "source": []
  },
  {
   "cell_type": "markdown",
   "id": "f6a00d38-23a0-44e0-9c66-dfc1d55d751f",
   "metadata": {},
   "source": [
    "Okay here is some useful information:\n",
    "\n",
    "an example of a info comment to identify a program"
   ]
  },
  {
   "cell_type": "code",
   "execution_count": 43,
   "id": "93038fd9-db96-4a8e-b354-18a4edc776b3",
   "metadata": {},
   "outputs": [
    {
     "name": "stdin",
     "output_type": "stream",
     "text": [
      "Enter value of temp in Celsius:  77\n"
     ]
    },
    {
     "name": "stdout",
     "output_type": "stream",
     "text": [
      "Value of temperature in Celsius: 77\n",
      "Temperature in Fahrenheit: 170.6\n"
     ]
    }
   ],
   "source": [
    "\"\"\"\n",
    "    Program    :  tconvctof.py\n",
    "    Author     :  Jose M Garrido\n",
    "    Date       :  5-12-2014\n",
    "    Description:  Read value of temperature Celsius from console, \n",
    "    convert to degrees Fahrenheit, and display value on the output console */\n",
    "\"\"\"\n",
    "\n",
    "C = input(\"Enter value of temp in Celsius: \")\n",
    "F = float(C) * (9.0/5.0) + 32.0 # temperature in fahrenheit\n",
    "print(\"Value of temperature in Celsius: {}\".format(C))\n",
    "print(\"Temperature in Fahrenheit: {}\".format(F))"
   ]
  },
  {
   "cell_type": "markdown",
   "id": "5c3c084c-cbf9-462d-85fb-4dbae9806b04",
   "metadata": {},
   "source": [
    "we are now up to page 67 of 492"
   ]
  },
  {
   "cell_type": "markdown",
   "id": "d7971796-292e-4673-9500-dd32ccd80922",
   "metadata": {},
   "source": [
    "This procedure can be used to create a correlational graph of temperatures in a different unit of measurement"
   ]
  },
  {
   "cell_type": "code",
   "execution_count": 47,
   "id": "5396b0c7-edbb-4979-b316-a06f06b050a3",
   "metadata": {},
   "outputs": [],
   "source": [
    "def c2f(c):\n",
    "    return 9/5*c + 32"
   ]
  },
  {
   "cell_type": "code",
   "execution_count": 51,
   "id": "ee22aad3-c5ad-470a-b92f-e1d9ee84cb77",
   "metadata": {},
   "outputs": [
    {
     "data": {
      "text/plain": [
       "[5, 10, 15, 20, 25, 30, 35, 40, 45]"
      ]
     },
     "execution_count": 51,
     "metadata": {},
     "output_type": "execute_result"
    }
   ],
   "source": [
    "celsius_list = [i for i in range(5, 50, 5)]\n",
    "celsius_list"
   ]
  },
  {
   "cell_type": "code",
   "execution_count": 52,
   "id": "798e2498-fb66-4791-8881-95155ea1bd81",
   "metadata": {},
   "outputs": [
    {
     "data": {
      "text/plain": [
       "[41.0, 50.0, 59.0, 68.0, 77.0, 86.0, 95.0, 104.0, 113.0]"
      ]
     },
     "execution_count": 52,
     "metadata": {},
     "output_type": "execute_result"
    }
   ],
   "source": [
    "# convert to a fahrenheit list\n",
    "f_list = [c2f(i) for i in celsius_list]\n",
    "f_list"
   ]
  },
  {
   "cell_type": "code",
   "execution_count": 55,
   "id": "d913139d-ad54-4e8f-949e-6145e080caf0",
   "metadata": {},
   "outputs": [
    {
     "data": {
      "image/png": "[encoded data removed]",
      "text/plain": [
       "<Figure size 640x480 with 1 Axes>"
      ]
     },
     "metadata": {},
     "output_type": "display_data"
    },
    {
     "name": "stdout",
     "output_type": "stream",
     "text": [
      "Celsius    [5 10 15 20 25 30 35 40 45]\n",
      "Fahrenheit [41.0, 50.0, 59.0, 68.0, 77.0, 86.0, 95.0, 104.0, 113.0]\n"
     ]
    }
   ],
   "source": [
    "# now we can create a graph that displays this\n",
    "import matplotlib.pyplot as plt\n",
    "\n",
    "plt.title('Celsius and Fahrenheit temperatures.')\n",
    "plt.plot(celsius_list, f_list)\n",
    "plt.xlabel('Temperature in Celsius')\n",
    "plt.ylabel('Temperatre in Fahrenheit')\n",
    "plt.show()\n",
    "print('Celsius    [5 10 15 20 25 30 35 40 45]')\n",
    "print(f\"Fahrenheit {f_list}\")"
   ]
  },
  {
   "cell_type": "markdown",
   "id": "16c07fd9-8b0a-423c-b465-09ea3aa0e937",
   "metadata": {},
   "source": [
    "## 2.7 Distance Between Two Points\n",
    "\n",
    "### 2.7.1 Problem Statement\n",
    "\n",
    "The following problems require computing the distance between two points in an x y grid\n",
    "\n",
    "a program\n",
    "\n",
    "compute this distance given the values of the cartesian coordinates of the two points\n",
    "\n",
    "\n",
    "### 2.7.2 Analysis of the Problem\n",
    "\n",
    "A cartesian plane consists of two directed lines that perpendicularly intersect their respective zero points.  The horizontal directed line is called the x-axis and the vertical is called the y-axis\n",
    "\n",
    "\n",
    "The intersection of the x axis and the y axis is called the origin and is O\n",
    "\n",
    "Figure below shows a cartesian plane with two points, P1 and P2. Point P1 is defined by the two coordinate values x1, y1  point P2 is defined by coordinate x2, y2"
   ]
  },
  {
   "cell_type": "code",
   "execution_count": 105,
   "id": "02377fbb-9cb3-4f45-a1be-dd158795e4ca",
   "metadata": {},
   "outputs": [],
   "source": [
    "# create line\n",
    "def y(m, x, b):\n",
    "    return m*x + b\n",
    "\n",
    "# get slope 2 points\n",
    "def m(rise, run):\n",
    "    return rise/run\n",
    "\n",
    "\n",
    "P1 = [3,1]\n",
    "P2 = [7,8]\n",
    "\n",
    "slope = m(P2[1] - P1[1], P2[0] - P1[0])\n",
    "x = [i for i in range(3, 8, 1)]\n",
    "b = -4.5\n",
    "line_y = [y(slope, x_i, b) for x_i in x]"
   ]
  },
  {
   "cell_type": "code",
   "execution_count": 111,
   "id": "849843d8-0152-44f4-b967-79de9d4dad3b",
   "metadata": {},
   "outputs": [
    {
     "data": {
      "text/plain": [
       "<matplotlib.legend.Legend at 0x2c5d730cf50>"
      ]
     },
     "execution_count": 111,
     "metadata": {},
     "output_type": "execute_result"
    },
    {
     "data": {
      "image/png": "[encoded data removed]",
      "text/plain": [
       "<Figure size 640x480 with 1 Axes>"
      ]
     },
     "metadata": {},
     "output_type": "display_data"
    }
   ],
   "source": [
    "plt.title('Horizontal and veritcal distance between two points')\n",
    "plt.xticks([])\n",
    "plt.yticks([])\n",
    "plt.xlabel('x')\n",
    "plt.ylabel('y')\n",
    "\n",
    "\n",
    "# origin\n",
    "plt.plot([i for i in range(-3, 10)], [0 for i in range(-3, 10)], 'r', label='x')\n",
    "plt.plot([0 for i in range(-3, 10)], [i for i in range(-3, 10)], 'b', label='y')\n",
    "\n",
    "# plot points\n",
    "plt.plot(P1[0], P1[1], '*', label='P1')\n",
    "plt.plot(P2[0], P2[1], '*', label='P2')\n",
    "\n",
    "# plot p1p2\n",
    "plt.plot(x, line_y, 'k')\n",
    "# p1p2 = [2*i for i in range(3\n",
    "\n",
    "# delta_x1=[3, 1]\n",
    "# delta_x2=[7, 1]\n",
    "# slope = m(delta_x2[1] - delta_x1[1], delta_x2[0], delta_x1[0])\n",
    "x = [i for i in range(3, 8, 1)]\n",
    "y = [1 for i in range(3, 8, 1)]\n",
    "plt.plot(x, y, '--', label='deltax')\n",
    "\n",
    "x = [7 for i in range(1, 9, 1)]\n",
    "y = [i for i in range(1, 9, 1)]\n",
    "plt.plot(x, y, '--', label='deltay')\n",
    "\n",
    "\n",
    "plt.legend()"
   ]
  },
  {
   "cell_type": "code",
   "execution_count": 112,
   "id": "0ae77d3d-0c2b-4930-babb-eb313d9dd38d",
   "metadata": {},
   "outputs": [
    {
     "name": "stdout",
     "output_type": "stream",
     "text": [
      "idk what i did wrong but its not right in the line generation for p1 to p2\n"
     ]
    }
   ],
   "source": [
    "print('idk what i did wrong but its not right in the line generation for p1 to p2')"
   ]
  },
  {
   "cell_type": "markdown",
   "id": "566181d8-b0df-46e2-aad1-110eabb08f72",
   "metadata": {},
   "source": [
    "### 2.7.3 Design of the Solution\n",
    "\n",
    "The horizontal distance between two points delta x is computed by the difference x2 = x1. Similarly the vertical distance between the two points is denoted by delta y and is computed by the difference y2 - y1.  The distance, d between two points P1 and P2 in a Cartesian plane, is calculated with the following math"
   ]
  },
  {
   "cell_type": "markdown",
   "id": "f486b4cb-063c-4b0a-bcdd-0ba05bc29de1",
   "metadata": {},
   "source": [
    "$d = \\sqrt{\\delta_{x}^2 + \\delta_{y}^2}$"
   ]
  },
  {
   "cell_type": "markdown",
   "id": "f9fc650a-d617-4c69-a45c-32c5598976c9",
   "metadata": {},
   "source": [
    "1. Read the values of the coordinates for point P1 from the input device\n",
    "2. Read the values of the coordinates for point P2 from the input device\n",
    "3. Compute the horizontal distance, deltax between the two points deltax = x2 - x1\n",
    "4. Compute the vertical distance delta y between the two points delta y - y2 - y1\n",
    "5. compute the distance, d, between the two points d = squaroot( deltaxsquared + deltaysquared )\n",
    "6. Display the value of the distance between the two points, on the output device (video screen)"
   ]
  },
  {
   "cell_type": "markdown",
   "id": "403f2c2b-6613-4330-b4bc-23f96544d32f",
   "metadata": {},
   "source": [
    "page 69 of 492"
   ]
  },
  {
   "cell_type": "code",
   "execution_count": null,
   "id": "a40886c1-c234-47a3-8ddc-c81c3a77952c",
   "metadata": {},
   "outputs": [],
   "source": []
  },
  {
   "cell_type": "code",
   "execution_count": null,
   "id": "6903405f-c6a7-4b25-921e-f5b04a38a443",
   "metadata": {},
   "outputs": [],
   "source": []
  },
  {
   "cell_type": "code",
   "execution_count": 77,
   "id": "9f554c36-7cad-4c40-9043-6b3568225f41",
   "metadata": {},
   "outputs": [],
   "source": [
    "\n",
    "\n"
   ]
  },
  {
   "cell_type": "code",
   "execution_count": null,
   "id": "6319ebd5-b0d1-4bc6-996d-50dd1d282e52",
   "metadata": {},
   "outputs": [],
   "source": []
  }
 ],
 "metadata": {
  "kernelspec": {
   "display_name": "Python 3 (ipykernel)",
   "language": "python",
   "name": "python3"
  },
  "language_info": {
   "codemirror_mode": {
    "name": "ipython",
    "version": 3
   },
   "file_extension": ".py",
   "mimetype": "text/x-python",
   "name": "python",
   "nbconvert_exporter": "python",
   "pygments_lexer": "ipython3",
   "version": "3.13.2"
  }
 },
 "nbformat": 4,
 "nbformat_minor": 5
}
