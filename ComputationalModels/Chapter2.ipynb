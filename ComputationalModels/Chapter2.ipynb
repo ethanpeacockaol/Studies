{
 "cells": [
  {
   "cell_type": "markdown",
   "id": "88ca6502-aaa1-411a-8569-aad263611dd2",
   "metadata": {},
   "source": [
    "# Chapter 2 Simple Python Programs\n",
    "\n",
    "pg 46 of 492"
   ]
  },
  {
   "cell_type": "markdown",
   "id": "c887bef1-ffd4-4645-a4fd-21dbdb345779",
   "metadata": {},
   "source": [
    "<hr>"
   ]
  },
  {
   "cell_type": "markdown",
   "id": "5afbbeb8-167e-45ef-80cc-1c91ebbb95a9",
   "metadata": {},
   "source": [
    "This chapter presents an overview of the structure of a computer program which include data definitions and basic instructions using the python programming language.  Because functions are one of the building blocks and the fundamental components of Python programs, the concepts of function definitions and function invocations are gradually explained, and complete Python programs are introduced that illustrate further the role of functions\n",
    "\n",
    "This chapter also presents concepts and principles that are used in developing computational models by implementing two mathematical models with Python programs"
   ]
  },
  {
   "cell_type": "markdown",
   "id": "1bef8146-afb7-47fc-a3bc-1714a10eada4",
   "metadata": {},
   "source": [
    "## 2.2 Computing with python\n",
    "\n",
    "There are two modes of computing in python\n",
    "\n",
    "\n",
    "* Interactive mode\n",
    "    *  provides the python prompt indicated by >>>\n",
    "    *  each python command is directly entered and the python interpreter responds immediately to the command\n",
    "*  Script mode\n",
    "    *  a sequence of python commands in a file with a .py extension\n",
    "    *  This file is passed to the Python interpreter to process and is known as a script.\n",
    "    *  A typical python program is edited and stored as a script and an appropriate text editor is used to build a program as a python script"
   ]
  },
  {
   "cell_type": "code",
   "execution_count": 1,
   "id": "54f57882-1544-4012-9323-2abab421ef99",
   "metadata": {},
   "outputs": [
    {
     "data": {
      "text/plain": [
       "34.5"
      ]
     },
     "execution_count": 1,
     "metadata": {},
     "output_type": "execute_result"
    }
   ],
   "source": [
    "y = 34.5\n",
    "y"
   ]
  },
  {
   "cell_type": "code",
   "execution_count": 2,
   "id": "6ba41098-5047-4941-83b5-db27060aac4f",
   "metadata": {},
   "outputs": [],
   "source": [
    "x = 12.48"
   ]
  },
  {
   "cell_type": "code",
   "execution_count": 3,
   "id": "dd90e23f-0720-4d01-90fe-4c4eea580265",
   "metadata": {},
   "outputs": [
    {
     "data": {
      "text/plain": [
       "12.48"
      ]
     },
     "execution_count": 3,
     "metadata": {},
     "output_type": "execute_result"
    }
   ],
   "source": [
    "x"
   ]
  },
  {
   "cell_type": "code",
   "execution_count": 4,
   "id": "79242cba-73af-47f5-86fc-6e9ea3516f31",
   "metadata": {},
   "outputs": [
    {
     "data": {
      "text/plain": [
       "46.980000000000004"
      ]
     },
     "execution_count": 4,
     "metadata": {},
     "output_type": "execute_result"
    }
   ],
   "source": [
    "z = x + y\n",
    "z"
   ]
  },
  {
   "cell_type": "markdown",
   "id": "944efac4-47a0-4efc-877e-92c8cde7c900",
   "metadata": {},
   "source": [
    "### Mathematical Operations 2.2.2\n",
    "\n",
    "To increment the value of a variable"
   ]
  },
  {
   "cell_type": "code",
   "execution_count": 5,
   "id": "dfaa82d2-0635-446b-906f-bb3af7cffc09",
   "metadata": {},
   "outputs": [
    {
     "data": {
      "text/plain": [
       "11"
      ]
     },
     "execution_count": 5,
     "metadata": {},
     "output_type": "execute_result"
    }
   ],
   "source": [
    "i = 10\n",
    "i += 1\n",
    "i"
   ]
  },
  {
   "cell_type": "markdown",
   "id": "7a2e4c25-eedc-48a2-b4e0-80098cf6749f",
   "metadata": {},
   "source": [
    "integer division"
   ]
  },
  {
   "cell_type": "code",
   "execution_count": 6,
   "id": "bcd54961-ca9e-4c0a-b8ef-227f86926b14",
   "metadata": {},
   "outputs": [
    {
     "data": {
      "text/plain": [
       "3.6666666666666665"
      ]
     },
     "execution_count": 6,
     "metadata": {},
     "output_type": "execute_result"
    }
   ],
   "source": [
    "int_division = i / 3\n",
    "int_division"
   ]
  },
  {
   "cell_type": "code",
   "execution_count": 7,
   "id": "50d635fd-1861-400e-9683-23c6d580b49c",
   "metadata": {},
   "outputs": [
    {
     "data": {
      "text/plain": [
       "2"
      ]
     },
     "execution_count": 7,
     "metadata": {},
     "output_type": "execute_result"
    }
   ],
   "source": [
    "int_div = i % 3\n",
    "int_div"
   ]
  },
  {
   "cell_type": "markdown",
   "id": "4b8d9fdd-da71-420b-bc3b-8536bc84ebcf",
   "metadata": {},
   "source": [
    "non integer numbers are known as floating point numbers"
   ]
  },
  {
   "cell_type": "code",
   "execution_count": 8,
   "id": "6afb38f1-98b0-4dfb-9317-54dc17dcb621",
   "metadata": {},
   "outputs": [
    {
     "data": {
      "text/plain": [
       "float"
      ]
     },
     "execution_count": 8,
     "metadata": {},
     "output_type": "execute_result"
    }
   ],
   "source": [
    "x = 22.555555\n",
    "type(x)"
   ]
  },
  {
   "cell_type": "code",
   "execution_count": 9,
   "id": "c188472a-65db-40c7-aec4-c35795e977d0",
   "metadata": {},
   "outputs": [
    {
     "data": {
      "text/plain": [
       "11499.263211879306"
      ]
     },
     "execution_count": 9,
     "metadata": {},
     "output_type": "execute_result"
    }
   ],
   "source": [
    "z = x + 1.5 + x**3\n",
    "z"
   ]
  },
  {
   "cell_type": "markdown",
   "id": "c4f14056-fe7a-46e8-997b-27e15118f683",
   "metadata": {},
   "source": [
    "complex numbers"
   ]
  },
  {
   "cell_type": "code",
   "execution_count": 10,
   "id": "7bf906bd-42c3-47c3-9e93-dfaf8942cfcb",
   "metadata": {},
   "outputs": [
    {
     "data": {
      "text/plain": [
       "(2.5-5.32j)"
      ]
     },
     "execution_count": 10,
     "metadata": {},
     "output_type": "execute_result"
    }
   ],
   "source": [
    "x = 2.5\n",
    "y = -5.32\n",
    "z = complex(x, y)\n",
    "z"
   ]
  },
  {
   "cell_type": "code",
   "execution_count": 11,
   "id": "47295a20-e5db-40bb-87ce-30757d3ad84c",
   "metadata": {},
   "outputs": [
    {
     "data": {
      "text/plain": [
       "2.5"
      ]
     },
     "execution_count": 11,
     "metadata": {},
     "output_type": "execute_result"
    }
   ],
   "source": [
    "rp = z.real\n",
    "rp"
   ]
  },
  {
   "cell_type": "code",
   "execution_count": 12,
   "id": "e15343e3-3aa5-4129-9374-47f97161a8a2",
   "metadata": {},
   "outputs": [
    {
     "data": {
      "text/plain": [
       "-5.32"
      ]
     },
     "execution_count": 12,
     "metadata": {},
     "output_type": "execute_result"
    }
   ],
   "source": [
    "ip = z.imag\n",
    "ip"
   ]
  },
  {
   "cell_type": "markdown",
   "id": "27779cd5-a156-4a0d-a87b-3bd56870d13c",
   "metadata": {},
   "source": [
    "### More advanced mathematical expressions\n",
    "\n",
    "simple arithmetic expressions are used in assignment statements\n",
    "\n",
    "These are addition, subtraction, multiplication, division, and exponentiation\n",
    "\n",
    "More complex calculations are various numerical funcs such as square root and trig functions\n",
    "\n",
    "These expressions apply the math functions cos and sqrt that are defined in the math module\n",
    "\n",
    "The import command is used to gain access to a module"
   ]
  },
  {
   "cell_type": "code",
   "execution_count": 13,
   "id": "e3513b57-59ba-4819-8a2d-cc5cf019c99f",
   "metadata": {},
   "outputs": [
    {
     "data": {
      "text/plain": [
       "3.141592653589793"
      ]
     },
     "execution_count": 13,
     "metadata": {},
     "output_type": "execute_result"
    }
   ],
   "source": [
    "from math import *\n",
    "pi"
   ]
  },
  {
   "cell_type": "code",
   "execution_count": 14,
   "id": "4ea268aa-0751-4bcd-9423-a9a1ee741399",
   "metadata": {},
   "outputs": [
    {
     "data": {
      "text/plain": [
       "6.123233995736766e-17"
      ]
     },
     "execution_count": 14,
     "metadata": {},
     "output_type": "execute_result"
    }
   ],
   "source": [
    "PI = pi\n",
    "ss6 = cos(0.5*PI)\n",
    "ss6"
   ]
  },
  {
   "cell_type": "code",
   "execution_count": 15,
   "id": "2d7475f9-83c3-44ba-9712-42ea3965e583",
   "metadata": {},
   "outputs": [
    {
     "data": {
      "text/plain": [
       "0.7071067811865476"
      ]
     },
     "execution_count": 15,
     "metadata": {},
     "output_type": "execute_result"
    }
   ],
   "source": [
    "ss7 = cos(0.25*PI)\n",
    "ss7"
   ]
  },
  {
   "cell_type": "code",
   "execution_count": 16,
   "id": "5413b08f-c0d2-4fed-983c-822eff9f23de",
   "metadata": {},
   "outputs": [
    {
     "data": {
      "text/plain": [
       "12.182493960703473"
      ]
     },
     "execution_count": 16,
     "metadata": {},
     "output_type": "execute_result"
    }
   ],
   "source": [
    "yy = exp(x)\n",
    "yy"
   ]
  },
  {
   "cell_type": "code",
   "execution_count": 17,
   "id": "f29eb4e8-0f20-43de-8799-5677c3189fa8",
   "metadata": {},
   "outputs": [
    {
     "data": {
      "text/plain": [
       "1.0000050000069649e-05"
      ]
     },
     "execution_count": 17,
     "metadata": {},
     "output_type": "execute_result"
    }
   ],
   "source": [
    "zz = exp(1.0e-5) - 1\n",
    "zz"
   ]
  },
  {
   "cell_type": "code",
   "execution_count": 18,
   "id": "cb23afc9-a346-4081-a94e-7339bfa54e75",
   "metadata": {},
   "outputs": [
    {
     "data": {
      "text/plain": [
       "1.1040309877476002"
      ]
     },
     "execution_count": 18,
     "metadata": {},
     "output_type": "execute_result"
    }
   ],
   "source": [
    "ff = acos(0.45)\n",
    "ff"
   ]
  },
  {
   "cell_type": "code",
   "execution_count": 19,
   "id": "bf2f74ad-75c9-4502-90dc-4ddae9ada763",
   "metadata": {},
   "outputs": [
    {
     "data": {
      "text/plain": [
       "120"
      ]
     },
     "execution_count": 19,
     "metadata": {},
     "output_type": "execute_result"
    }
   ],
   "source": [
    "mfact = factorial(5)\n",
    "mfact"
   ]
  },
  {
   "cell_type": "markdown",
   "id": "d64c4899-3536-417a-b2a2-f0577cfcce81",
   "metadata": {},
   "source": [
    "In the following example, the value of expression $cos(p) + q$ is assigned to the variable y and the value of $\\sqrt(x-y)$ is assigned to the variable $q$"
   ]
  },
  {
   "cell_type": "code",
   "execution_count": 20,
   "id": "1ea6a68a-df08-42a7-bc30-333586934476",
   "metadata": {},
   "outputs": [
    {
     "data": {
      "text/plain": [
       "3.1490169943749473"
      ]
     },
     "execution_count": 20,
     "metadata": {},
     "output_type": "execute_result"
    }
   ],
   "source": [
    "p = 0.2 * PI\n",
    "q = 2.34\n",
    "y = cos(p) + q\n",
    "y"
   ]
  },
  {
   "cell_type": "code",
   "execution_count": 24,
   "id": "3621925d-f5ef-482e-80e4-ff9b35540112",
   "metadata": {},
   "outputs": [
    {
     "data": {
      "text/plain": [
       "3.0"
      ]
     },
     "execution_count": 24,
     "metadata": {},
     "output_type": "execute_result"
    }
   ],
   "source": [
    "q = sqrt(9-0)\n",
    "q"
   ]
  },
  {
   "cell_type": "markdown",
   "id": "626ea4c0-b352-4409-adf1-e77867bc410d",
   "metadata": {},
   "source": [
    "In the following example, the value of the mathematical expression $x^n$ x y x $sin^(2m)x$ is assigned to the variable z"
   ]
  },
  {
   "cell_type": "code",
   "execution_count": 26,
   "id": "566710e2-b2dc-4e26-a6b0-0154d133b054",
   "metadata": {},
   "outputs": [
    {
     "data": {
      "text/plain": [
       "-2.719807659910173"
      ]
     },
     "execution_count": 26,
     "metadata": {},
     "output_type": "execute_result"
    }
   ],
   "source": [
    "x = 2.5\n",
    "y = -5.32\n",
    "n = 3.75\n",
    "m = 4\n",
    "z = (x**n) * y * sin(x)**(2*m)\n",
    "z"
   ]
  },
  {
   "cell_type": "code",
   "execution_count": null,
   "id": "2e7c04f2-587d-473c-8d06-c863d3bbd36a",
   "metadata": {},
   "outputs": [],
   "source": []
  }
 ],
 "metadata": {
  "kernelspec": {
   "display_name": "Python 3 (ipykernel)",
   "language": "python",
   "name": "python3"
  },
  "language_info": {
   "codemirror_mode": {
    "name": "ipython",
    "version": 3
   },
   "file_extension": ".py",
   "mimetype": "text/x-python",
   "name": "python",
   "nbconvert_exporter": "python",
   "pygments_lexer": "ipython3",
   "version": "3.13.2"
  }
 },
 "nbformat": 4,
 "nbformat_minor": 5
}
