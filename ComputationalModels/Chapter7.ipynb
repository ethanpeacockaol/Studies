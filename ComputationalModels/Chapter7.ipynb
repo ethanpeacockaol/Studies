{
 "cells": [
  {
   "metadata": {},
   "id": "56c7dfd8-1ee2-435c-8881-4355bf19dd04",
   "cell_type": "markdown",
   "source": "# Chapter 7 Python Lists, Strings, and Other Data Sequences"
  },
  {
   "metadata": {
    "trusted": false
   },
   "id": "e66cfddf-8c4e-475d-b5af-4428232770c7",
   "cell_type": "code",
   "source": "",
   "execution_count": null,
   "outputs": []
  },
  {
   "metadata": {
    "trusted": false
   },
   "id": "c60c9cef-1666-49d8-b447-f6c8af5856e2",
   "cell_type": "code",
   "source": "",
   "execution_count": null,
   "outputs": []
  },
  {
   "metadata": {},
   "id": "5f0bcb89-46bd-44c5-b94e-8b927dcda8f0",
   "cell_type": "markdown",
   "source": "Chapter 7 Exercises pg 159 of 492"
  },
  {
   "metadata": {
    "trusted": false
   },
   "id": "c9176e72-7d87-4f76-9d9f-1b5eea4685bf",
   "cell_type": "code",
   "source": "# TODO: the definition of the median of a group of numbers arranged\n#       in ascending (or descending) order is the value in the middle\n#       the mode is hte number that appears most often.  Write a\n#       program that finds the median and mode of a list\n\n# TODO: develop a python program that reads the values of numbers\n#       and builds a list.  Copy the even numbers into a separate\n#       list, the odd numbers into another list, and the negative\n#       numbers into another list.  The program must print all of\n#       the lists separately\n\n# TODO: program that solves the same probelm described in the previous\n#       step.  use nested list instead of three separate lists\n\n# TODO: program that computes the standard deviation of values in\n#       an array.  standard deviation measures the spread, or\n#       dispersion, of values in the array with basis around the\n#       average value.  The standard deviation of array X with n\n#       elements is defined as:\n#\n#\n#\n#           std = sqrt(sqd/(n-1))\n# \n# \n# where sqd = j=0En-1 (X_j - Av)^2\n\n# TODO: a program that finds the minimum value element in an array\n#       and returns the index value of the element found\n\n# TODO: computational model that computes the average, minimum, and\n#       maximum rainfall per year and per quarter (for the last 5\n#       years) from the rainfall data provided for the last five\n#       years (google search it). use an excel or csv file to store\n#       the data\n\n# TODO: a program that sorts an array using the Insertion sort methoda",
   "execution_count": 1,
   "outputs": []
  },
  {
   "metadata": {},
   "id": "76d9411a-0007-41ae-8988-b7ecf71b5d38",
   "cell_type": "markdown",
   "source": "<hr>"
  },
  {
   "metadata": {
    "trusted": false
   },
   "id": "a463b6db-ea42-45c7-ae75-d48ad6ef6c40",
   "cell_type": "code",
   "source": "# TODO: the definition of the median of a group of numbers arranged\n#       in ascending (or descending) order is the value in the middle\n#       the mode is the number that appears most often.  Write a\n#       program that finds the median and mode of a list",
   "execution_count": 2,
   "outputs": []
  },
  {
   "metadata": {
    "trusted": false
   },
   "id": "92d589d8-0e93-4835-b9a4-2825b66bf339",
   "cell_type": "code",
   "source": "test_list = [4, 8, 9, 3, 2, 1, 2]\nprint(f\"median 3\")\nprint(f\"mode {29/7}\")\ntest_list.sort()\nprint(test_list)\n\ndef return_median_mode():\n    mode = sum(test_list)/len(test_list)\n    if len(test_list) % 2 == 0:\n        second = int(len(test_list)/2)\n        first = second - 1\n        median = (test_list[first] + test_list[second])/2\n        \n    else:\n        median = test_list[int(len(test_list)/2)]\n    \n    return median, mode\n\nmed_func, mode_func = return_median_mode()\nprint(f\"median {med_func}\")\nprint(f\"mode {mode_func}\")",
   "execution_count": 15,
   "outputs": [
    {
     "output_type": "stream",
     "text": "median 3\nmode 4.142857142857143\n[1, 2, 2, 3, 4, 8, 9]\nmedian 3\nmode 4.142857142857143\n",
     "name": "stdout"
    }
   ]
  },
  {
   "metadata": {},
   "id": "e0fd75c0-aca7-49c9-ad40-2cbc6ca32736",
   "cell_type": "markdown",
   "source": "<hr>"
  },
  {
   "metadata": {
    "trusted": false
   },
   "id": "91e7048d",
   "cell_type": "code",
   "source": "# TODO: develop a python program that reads the values of numbers\n#       and builds a list.  Copy the even numbers into a separate\n#       list, the odd numbers into another list, and the negative\n#       numbers into another list.  The program must print all of\n#       the lists separately",
   "execution_count": null,
   "outputs": []
  },
  {
   "metadata": {
    "trusted": false
   },
   "id": "6e5802e8-d457-4e01-bd88-09396618e058",
   "cell_type": "code",
   "source": "go = True\nnums = []\nwhile go:\n    nums.append(int(input('next integer: ')))\n    stop = input('press n to stop')\n    if stop == 'n':\n        go = False\nevens = [x for x in nums if x%2==0]\nodds = [y for y in nums if y%2!=0]\n\nnegatives = [z for z in nums if z <0]\n\nprint(f\"your list:\\n{nums}\")\nprint(f\"evens:\\n{evens}\")\nprint(f\"odds:\\n{odds}\")\nprint(f\"negatives:\\n{negatives}\")",
   "execution_count": 3,
   "outputs": [
    {
     "output_type": "stream",
     "name": "stdout",
     "text": "next integer: 3\npress n to stop\nnext integer: 4\npress n to stop\nnext integer: 12\npress n to stop\nnext integer: 202\npress n to stop\nnext integer: 333\npress n to stop\nnext integer: -9\npress n to stopn\nyour list:\n[3, 4, 12, 202, 333, -9]\nevens:\n[4, 12, 202]\nodds:\n[3, 333, -9]\nnegatives:\n[-9]\n"
    }
   ]
  },
  {
   "metadata": {},
   "id": "5656c10c-90b5-4253-a6b6-07f3a3f85422",
   "cell_type": "markdown",
   "source": "<hr>"
  },
  {
   "metadata": {
    "trusted": false
   },
   "id": "cbe76caa-3fc3-474e-b14e-6ea755e9aa0d",
   "cell_type": "code",
   "source": "# TODO: program that solves the same probelm described in the previous\n#       step.  use nested list instead of three separate lists",
   "execution_count": 4,
   "outputs": []
  },
  {
   "metadata": {
    "trusted": true
   },
   "id": "2137e62b-9da1-4e83-b5af-3cbb8f3ac6c1",
   "cell_type": "code",
   "source": "go = True\nnums = []\nwhile go:\n    nums.append(int(input('next integer: ')))\n    stop = input('press n to stop')\n    if stop == 'n':\n        go = False\nnested = []\nnested.append([x for x in nums if x%2==0])\nnested.append([y for y in nums if y%2!=0])\nnested.append([z for z in nums if z <0])\n\nprint(f\"your list:\\n{nums}\")\nprint(f\"evens:\\n{nested[0]}\")\nprint(f\"odds:\\n{nested[1]}\")\nprint(f\"negatives:\\n{nested[2]}\")",
   "execution_count": 3,
   "outputs": [
    {
     "output_type": "stream",
     "name": "stdout",
     "text": "next integer: 10\npress n to stop\nnext integer: 2\npress n to stop\nnext integer: 9\npress n to stop\nnext integer: -9\npress n to stopn\nyour list:\n[10, 2, 9, -9]\nevens:\n[10, 2]\nodds:\n[9, -9]\nnegatives:\n[-9]\n"
    }
   ]
  },
  {
   "metadata": {},
   "id": "0f933ce9-822f-49f4-bdaf-00adfadcb1a6",
   "cell_type": "markdown",
   "source": "<hr>"
  },
  {
   "metadata": {
    "trusted": false
   },
   "id": "9cd4088e-03cb-4015-9861-11f6eb9ef88d",
   "cell_type": "code",
   "source": "# TODO: program that computes the standard deviation of values in\n#       an array.  standard deviation measures the spread, or\n#       dispersion, of values in the array with basis around the\n#       average value.  The standard deviation of array X with n\n#       elements is defined as:\n#\n#\n#\n#           std = sqrt(sqd/(n-1))\n#\n# \n# where sqd = j=0En-1 (X_j - Av)^2",
   "execution_count": 5,
   "outputs": []
  },
  {
   "metadata": {
    "trusted": false
   },
   "cell_type": "markdown",
   "source": "$std = \\sqrt{ \\frac{sqd}{n-1} }$\n\nWhere\n\n$ sqd = \\sum_{j=0}^{n"
  },
  {
   "metadata": {},
   "id": "831e8d26-3fed-4ba3-bbe9-d80a5157d190",
   "cell_type": "markdown",
   "source": "<hr>"
  },
  {
   "metadata": {
    "trusted": false
   },
   "id": "6969721b-a2ce-4e9c-9418-0a2ba394cd2b",
   "cell_type": "code",
   "source": "# TODO: a program that finds the minimum value element in an array\n#       and returns the index value of the element found",
   "execution_count": 6,
   "outputs": []
  },
  {
   "metadata": {
    "trusted": false
   },
   "id": "8ffa51a9-a68d-4d37-bda2-057527f22b11",
   "cell_type": "code",
   "source": "",
   "execution_count": null,
   "outputs": []
  },
  {
   "metadata": {},
   "id": "4009364d-5d8c-4c6d-a13e-f8dc628d1f01",
   "cell_type": "markdown",
   "source": "<hr>"
  },
  {
   "metadata": {
    "trusted": false
   },
   "id": "775aff1a-6893-42b5-9d66-766ef1ecae3e",
   "cell_type": "code",
   "source": "# TODO: computational model that computes the average, minimum, and\n#       maximum rainfall per year and per quarter (for the last 5\n#       years) from the rainfall data provided for the last five\n#       years (google search it). use an excel or csv file to store\n#       the data",
   "execution_count": null,
   "outputs": []
  },
  {
   "metadata": {
    "trusted": false
   },
   "id": "4097161a-a650-48f8-86ef-b5d905ba7ed6",
   "cell_type": "code",
   "source": "",
   "execution_count": null,
   "outputs": []
  },
  {
   "metadata": {},
   "id": "c90f08b5-b787-44c6-8535-e3bef8edb1eb",
   "cell_type": "markdown",
   "source": "<hr>"
  },
  {
   "metadata": {
    "trusted": false
   },
   "id": "bcc6787a-046a-446b-8db6-52a2db9930af",
   "cell_type": "code",
   "source": "# TODO: a program that sorts an array using the Insertion sort method",
   "execution_count": 7,
   "outputs": []
  },
  {
   "metadata": {
    "trusted": false
   },
   "id": "73d6731f-5443-4d28-af2a-d5cbde720c99",
   "cell_type": "code",
   "source": "",
   "execution_count": null,
   "outputs": []
  },
  {
   "metadata": {},
   "id": "1ceb916f-a8c2-4a4f-8489-77d72f0fa01e",
   "cell_type": "markdown",
   "source": "<hr>"
  }
 ],
 "metadata": {
  "kernelspec": {
   "name": "python3",
   "display_name": "Python 3",
   "language": "python"
  },
  "language_info": {
   "name": "python",
   "version": "3.10.4",
   "mimetype": "text/x-python",
   "codemirror_mode": {
    "name": "ipython",
    "version": 3
   },
   "pygments_lexer": "ipython3",
   "nbconvert_exporter": "python",
   "file_extension": ".py"
  }
 },
 "nbformat": 4,
 "nbformat_minor": 5
}