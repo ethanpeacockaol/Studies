{
 "cells": [
  {
   "cell_type": "markdown",
   "id": "56c7dfd8-1ee2-435c-8881-4355bf19dd04",
   "metadata": {},
   "source": [
    "# Chapter 7 Python Lists, Strings, and Other Data Sequences"
   ]
  },
  {
   "cell_type": "code",
   "execution_count": null,
   "id": "e66cfddf-8c4e-475d-b5af-4428232770c7",
   "metadata": {},
   "outputs": [],
   "source": []
  },
  {
   "cell_type": "code",
   "execution_count": null,
   "id": "c60c9cef-1666-49d8-b447-f6c8af5856e2",
   "metadata": {},
   "outputs": [],
   "source": []
  },
  {
   "cell_type": "markdown",
   "id": "5f0bcb89-46bd-44c5-b94e-8b927dcda8f0",
   "metadata": {},
   "source": [
    "Chapter 7 Exercises pg 159 of 492"
   ]
  },
  {
   "cell_type": "code",
   "execution_count": 1,
   "id": "c9176e72-7d87-4f76-9d9f-1b5eea4685bf",
   "metadata": {},
   "outputs": [],
   "source": [
    "# TODO: the definition of the median of a group of numbers arranged\n",
    "#       in ascending (or descending) order is the value in the middle\n",
    "#       the mode is hte number that appears most often.  Write a\n",
    "#       program that finds the median and mode of a list\n",
    "\n",
    "# TODO: develop a python program that reads the values of numbers\n",
    "#       and builds a list.  Copy the even numbers into a separate\n",
    "#       list, the odd numbers into another list, and the negative\n",
    "#       numbers into another list.  The program must print all of\n",
    "#       the lists separately\n",
    "\n",
    "# TODO: program that solves the same probelm described in the previous\n",
    "#       step.  use nested list instead of three separate lists\n",
    "\n",
    "# TODO: program that computes the standard deviation of values in\n",
    "#       an array.  standard deviation measures the spread, or\n",
    "#       dispersion, of values in the array with basis around the\n",
    "#       average value.  The standard deviation of array X with n\n",
    "#       elements is defined as:\n",
    "#\n",
    "#\n",
    "#\n",
    "#           std = sqrt(sqd/(n-1))\n",
    "# \n",
    "# \n",
    "# where sqd = j=0En-1 (X_j - Av)^2\n",
    "\n",
    "# TODO: a program that finds the minimum value element in an array\n",
    "#       and returns the index value of the element found\n",
    "\n",
    "# TODO: computational model that computes the average, minimum, and\n",
    "#       maximum rainfall per year and per quarter (for the last 5\n",
    "#       years) from the rainfall data provided for the last five\n",
    "#       years (google search it). use an excel or csv file to store\n",
    "#       the data\n",
    "\n",
    "# TODO: a program that sorts an array using the Insertion sort methoda"
   ]
  },
  {
   "cell_type": "markdown",
   "id": "76d9411a-0007-41ae-8988-b7ecf71b5d38",
   "metadata": {},
   "source": [
    "<hr>"
   ]
  },
  {
   "cell_type": "code",
   "execution_count": 2,
   "id": "a463b6db-ea42-45c7-ae75-d48ad6ef6c40",
   "metadata": {},
   "outputs": [],
   "source": [
    "# TODO: the definition of the median of a group of numbers arranged\n",
    "#       in ascending (or descending) order is the value in the middle\n",
    "#       the mode is the number that appears most often.  Write a\n",
    "#       program that finds the median and mode of a list"
   ]
  },
  {
   "cell_type": "code",
   "execution_count": 15,
   "id": "92d589d8-0e93-4835-b9a4-2825b66bf339",
   "metadata": {},
   "outputs": [
    {
     "name": "stdout",
     "output_type": "stream",
     "text": [
      "median 3\n",
      "mode 4.142857142857143\n",
      "[1, 2, 2, 3, 4, 8, 9]\n",
      "median 3\n",
      "mode 4.142857142857143\n"
     ]
    }
   ],
   "source": [
    "test_list = [4, 8, 9, 3, 2, 1, 2]\n",
    "print(f\"median 3\")\n",
    "print(f\"mode {29/7}\")\n",
    "test_list.sort()\n",
    "print(test_list)\n",
    "\n",
    "def return_median_mode():\n",
    "    mode = sum(test_list)/len(test_list)\n",
    "    if len(test_list) % 2 == 0:\n",
    "        second = int(len(test_list)/2)\n",
    "        first = second - 1\n",
    "        median = (test_list[first] + test_list[second])/2\n",
    "        \n",
    "    else:\n",
    "        median = test_list[int(len(test_list)/2)]\n",
    "    \n",
    "    return median, mode\n",
    "\n",
    "med_func, mode_func = return_median_mode()\n",
    "print(f\"median {med_func}\")\n",
    "print(f\"mode {mode_func}\")"
   ]
  },
  {
   "cell_type": "markdown",
   "id": "e0fd75c0-aca7-49c9-ad40-2cbc6ca32736",
   "metadata": {},
   "source": [
    "<hr>"
   ]
  },
  {
   "cell_type": "code",
   "execution_count": null,
   "id": "91e7048d",
   "metadata": {},
   "outputs": [],
   "source": [
    "# TODO: develop a python program that reads the values of numbers\n",
    "#       and builds a list.  Copy the even numbers into a separate\n",
    "#       list, the odd numbers into another list, and the negative\n",
    "#       numbers into another list.  The program must print all of\n",
    "#       the lists separately"
   ]
  },
  {
   "cell_type": "code",
   "execution_count": 3,
   "id": "6e5802e8-d457-4e01-bd88-09396618e058",
   "metadata": {},
   "outputs": [
    {
     "name": "stdout",
     "output_type": "stream",
     "text": [
      "next integer: 3\n",
      "press n to stop\n",
      "next integer: 4\n",
      "press n to stop\n",
      "next integer: 12\n",
      "press n to stop\n",
      "next integer: 202\n",
      "press n to stop\n",
      "next integer: 333\n",
      "press n to stop\n",
      "next integer: -9\n",
      "press n to stopn\n",
      "your list:\n",
      "[3, 4, 12, 202, 333, -9]\n",
      "evens:\n",
      "[4, 12, 202]\n",
      "odds:\n",
      "[3, 333, -9]\n",
      "negatives:\n",
      "[-9]\n"
     ]
    }
   ],
   "source": [
    "go = True\n",
    "nums = []\n",
    "while go:\n",
    "    nums.append(int(input('next integer: ')))\n",
    "    stop = input('press n to stop')\n",
    "    if stop == 'n':\n",
    "        go = False\n",
    "evens = [x for x in nums if x%2==0]\n",
    "odds = [y for y in nums if y%2!=0]\n",
    "\n",
    "negatives = [z for z in nums if z <0]\n",
    "\n",
    "print(f\"your list:\\n{nums}\")\n",
    "print(f\"evens:\\n{evens}\")\n",
    "print(f\"odds:\\n{odds}\")\n",
    "print(f\"negatives:\\n{negatives}\")"
   ]
  },
  {
   "cell_type": "markdown",
   "id": "5656c10c-90b5-4253-a6b6-07f3a3f85422",
   "metadata": {},
   "source": [
    "<hr>"
   ]
  },
  {
   "cell_type": "code",
   "execution_count": 4,
   "id": "cbe76caa-3fc3-474e-b14e-6ea755e9aa0d",
   "metadata": {},
   "outputs": [],
   "source": [
    "# TODO: program that solves the same probelm described in the previous\n",
    "#       step.  use nested list instead of three separate lists"
   ]
  },
  {
   "cell_type": "code",
   "execution_count": 3,
   "id": "2137e62b-9da1-4e83-b5af-3cbb8f3ac6c1",
   "metadata": {},
   "outputs": [
    {
     "name": "stdout",
     "output_type": "stream",
     "text": [
      "next integer: 10\n",
      "press n to stop\n",
      "next integer: 2\n",
      "press n to stop\n",
      "next integer: 9\n",
      "press n to stop\n",
      "next integer: -9\n",
      "press n to stopn\n",
      "your list:\n",
      "[10, 2, 9, -9]\n",
      "evens:\n",
      "[10, 2]\n",
      "odds:\n",
      "[9, -9]\n",
      "negatives:\n",
      "[-9]\n"
     ]
    }
   ],
   "source": [
    "go = True\n",
    "nums = []\n",
    "while go:\n",
    "    nums.append(int(input('next integer: ')))\n",
    "    stop = input('press n to stop')\n",
    "    if stop == 'n':\n",
    "        go = False\n",
    "nested = []\n",
    "nested.append([x for x in nums if x%2==0])\n",
    "nested.append([y for y in nums if y%2!=0])\n",
    "nested.append([z for z in nums if z <0])\n",
    "\n",
    "print(f\"your list:\\n{nums}\")\n",
    "print(f\"evens:\\n{nested[0]}\")\n",
    "print(f\"odds:\\n{nested[1]}\")\n",
    "print(f\"negatives:\\n{nested[2]}\")"
   ]
  },
  {
   "cell_type": "markdown",
   "id": "0f933ce9-822f-49f4-bdaf-00adfadcb1a6",
   "metadata": {},
   "source": [
    "<hr>"
   ]
  },
  {
   "cell_type": "code",
   "execution_count": 5,
   "id": "9cd4088e-03cb-4015-9861-11f6eb9ef88d",
   "metadata": {},
   "outputs": [],
   "source": [
    "# TODO: program that computes the standard deviation of values in\n",
    "#       an array.  standard deviation measures the spread, or\n",
    "#       dispersion, of values in the array with basis around the\n",
    "#       average value.  The standard deviation of array X with n\n",
    "#       elements is defined as:\n",
    "#\n",
    "#\n",
    "#\n",
    "#           std = sqrt(sqd/(n-1))\n",
    "#\n",
    "# \n",
    "# where sqd = j=0En-1 (X_j - Av)^2"
   ]
  },
  {
   "cell_type": "markdown",
   "id": "cdfeaea7",
   "metadata": {},
   "source": [
    "$std = \\sqrt{ \\frac{sqd}{n-1} }$\n",
    "\n",
    "Where\n",
    "\n",
    "$ sqd = \\sum_{j=0}^{n-1} (X_{j} - Av)^2 $"
   ]
  },
  {
   "cell_type": "code",
   "execution_count": 2,
   "id": "36ed0117-4545-46f6-8bab-03acbd2e7578",
   "metadata": {},
   "outputs": [
    {
     "name": "stdout",
     "output_type": "stream",
     "text": [
      "1.4142135623730951\n"
     ]
    }
   ],
   "source": [
    "from math import sqrt\n",
    "testarr = [1,2,3,4,5]\n",
    "n = len(testarr)\n",
    "avg = sum(testarr)/len(testarr)\n",
    "sqd = [(xj - avg)**2 for xj in testarr]\n",
    "sqd = sum(sqd)\n",
    "std = sqrt(sqd/len(testarr))\n",
    "print(std)"
   ]
  },
  {
   "cell_type": "markdown",
   "id": "831e8d26-3fed-4ba3-bbe9-d80a5157d190",
   "metadata": {},
   "source": [
    "<hr>"
   ]
  },
  {
   "cell_type": "code",
   "execution_count": 6,
   "id": "6969721b-a2ce-4e9c-9418-0a2ba394cd2b",
   "metadata": {},
   "outputs": [],
   "source": [
    "# TODO: a program that finds the minimum \n",
    "#       value element in an array\n",
    "#       and returns the index value \n",
    "#       of the element found"
   ]
  },
  {
   "cell_type": "code",
   "execution_count": 1,
   "id": "8ffa51a9-a68d-4d37-bda2-057527f22b11",
   "metadata": {},
   "outputs": [
    {
     "name": "stdout",
     "output_type": "stream",
     "text": [
      "minimum value: -7\n",
      "index of minval: 6\n"
     ]
    }
   ],
   "source": [
    "nums = [3,5,77,43,21,2,-7,44,3]\n",
    "min_val = nums[0]\n",
    "for num in nums:\n",
    "    if num < min_val:\n",
    "        min_val = num\n",
    "print(f\"minimum value: {min_val}\")\n",
    "\n",
    "index_min_val = 0\n",
    "for i in range(len(nums)):\n",
    "    if nums[i] == min_val:\n",
    "        index_min_val = i\n",
    "\n",
    "print(f\"index of minval: {index_min_val}\")"
   ]
  },
  {
   "cell_type": "markdown",
   "id": "4009364d-5d8c-4c6d-a13e-f8dc628d1f01",
   "metadata": {},
   "source": [
    "<hr>"
   ]
  },
  {
   "cell_type": "code",
   "execution_count": null,
   "id": "775aff1a-6893-42b5-9d66-766ef1ecae3e",
   "metadata": {},
   "outputs": [],
   "source": [
    "# TODO: computational model that computes\n",
    "#       the average, minimum, and\n",
    "#       maximum rainfall per year and per \n",
    "#       quarter (for the last 5\n",
    "#       years) from the rainfall data\n",
    "#       provided for the last five\n",
    "#       years (google search it). use an\n",
    "#       excel or csv file to store\n",
    "#       the data"
   ]
  },
  {
   "cell_type": "code",
   "execution_count": 26,
   "id": "4097161a-a650-48f8-86ef-b5d905ba7ed6",
   "metadata": {},
   "outputs": [
    {
     "name": "stdout",
     "output_type": "stream",
     "text": [
      "\n",
      "\n",
      "Matrix of rainfall data including years:\n",
      "[2024.0, 2023.0, 2022.0, 2021.0, 2020.0]\n",
      "[7.67, 14.03, 14.67, 13.57, 9.48]\n",
      "[19.01, 11.85, 15.22, 10.81, 11.12]\n",
      "[23.89, 17.97, 23.72, 18.34, 26.37]\n",
      "[4.29, 17.23, 5.11, 7.26, 7.02]\n",
      "\n",
      "\n",
      "\n",
      "The average rainfall per year was 55.726\n",
      "The minimum rainfall per year was in year 2021.0 with a total of 49.98\n",
      "The maximum rainfall per year was in year 2023.0 with a total of 61.08\n",
      "\n",
      "\n",
      "The average rainfall for q1 from 2020 to 2024 was 11.884\n",
      "The average rainfall for q2 from 2020 to 2024 was 13.602\n",
      "The average rainfall for q3 from 2020 to 2024 was 22.058\n",
      "The average rainfall for q4 from 2020 to 2024 was 8.181999999999999\n",
      "\n",
      "\n",
      "The minimum rainfall for q1 from 2020 to 2024 was 7.67\n",
      "The minimum rainfall for q2 from 2020 to 2024 was 10.81\n",
      "The minimum rainfall for q3 from 2020 to 2024 was 17.97\n",
      "The minimum rainfall for q4 from 2020 to 2024 was 4.29\n",
      "\n",
      "\n",
      "The maximum rainfall for q1 from 2020 to 2024 was 14.67\n",
      "The maximum rainfall for q2 from 2020 to 2024 was 19.01\n",
      "The maximum rainfall for q3 from 2020 to 2024 was 26.37\n",
      "The maximum rainfall for q4 from 2020 to 2024 was 17.23\n"
     ]
    }
   ],
   "source": [
    "# read in rain data\n",
    "file = open('ch7.csv')\n",
    "lines = [line for line in file]\n",
    "file.close()\n",
    "\n",
    "# parallel lists to hold data\n",
    "year = []\n",
    "q1 = []\n",
    "q2 = []\n",
    "q3 = []\n",
    "q4temp = []\n",
    "\n",
    "# populate data lists\n",
    "for line in lines:\n",
    "    splt = line.split(',')\n",
    "    year.append(float(splt[0]))\n",
    "    q1.append(float(splt[1]))\n",
    "    q2.append(float(splt[2]))\n",
    "    q3.append(float(splt[3]))\n",
    "    q4temp.append(splt[4])\n",
    "q4 = []\n",
    "for q in q4temp:\n",
    "    q4.append(float(q.replace('\\n','')))\n",
    "\n",
    "# list of rainfall total for 2020 to 2024\n",
    "total_per_year = [(q1[i]+q2[i]+q3[i]+q4[i]) for i in range(len(q1))]\n",
    "\n",
    "# minimum and maximum rainfall per year\n",
    "index_min = 0\n",
    "index_max = 0\n",
    "minimum_rain_all_years = total_per_year[index_min]\n",
    "maximum_rain_all_years = total_per_year[index_max]\n",
    "for i in range(1, len(total_per_year)):\n",
    "    # get minimum rain of all year totals\n",
    "    if total_per_year[i] < minimum_rain_all_years:\n",
    "        minimum_rain_all_years = total_per_year[i]\n",
    "        index_min = i\n",
    "    # get maximum rain of all year totals\n",
    "    if total_per_year[i] > maximum_rain_all_years:\n",
    "        maximum_rain_all_years = total_per_year[i]\n",
    "        index_max = i\n",
    "\n",
    "# display the parallel lists holding the data\n",
    "print(f\"\\n\\nMatrix of rainfall data including years:\\n{year}\\n{q1}\\n{q2}\\n{q3}\\n{q4}\\n\\n\\n\")\n",
    "\n",
    "# print average min and max per year\n",
    "print(f\"The average rainfall per year was {sum(total_per_year)/len(total_per_year)}\")\n",
    "print(f\"The minimum rainfall per year was in year {year[index_min]} with a total of {minimum_rain_all_years}\")\n",
    "print(f\"The maximum rainfall per year was in year {year[index_max]} with a total of {maximum_rain_all_years}\\n\\n\")\n",
    "\n",
    "# print average per quarter\n",
    "print(f\"The average rainfall for q1 from 2020 to 2024 was {sum(q1)/len(q1)}\")\n",
    "print(f\"The average rainfall for q2 from 2020 to 2024 was {sum(q2)/len(q2)}\")\n",
    "print(f\"The average rainfall for q3 from 2020 to 2024 was {sum(q3)/len(q3)}\")\n",
    "print(f\"The average rainfall for q4 from 2020 to 2024 was {sum(q4)/len(q4)}\\n\\n\")\n",
    "\n",
    "# sort for min and max values per quarter 0 & -1\n",
    "q1.sort()\n",
    "q2.sort()\n",
    "q3.sort()\n",
    "q4.sort()\n",
    "\n",
    "# print min and max per quarter\n",
    "print(f\"The minimum rainfall for q1 from 2020 to 2024 was {q1[0]}\")\n",
    "print(f\"The minimum rainfall for q2 from 2020 to 2024 was {q2[0]}\")\n",
    "print(f\"The minimum rainfall for q3 from 2020 to 2024 was {q3[0]}\")\n",
    "print(f\"The minimum rainfall for q4 from 2020 to 2024 was {q4[0]}\\n\\n\")\n",
    "\n",
    "print(f\"The maximum rainfall for q1 from 2020 to 2024 was {q1[-1]}\")\n",
    "print(f\"The maximum rainfall for q2 from 2020 to 2024 was {q2[-1]}\")\n",
    "print(f\"The maximum rainfall for q3 from 2020 to 2024 was {q3[-1]}\")\n",
    "print(f\"The maximum rainfall for q4 from 2020 to 2024 was {q4[-1]}\")"
   ]
  },
  {
   "cell_type": "markdown",
   "id": "c90f08b5-b787-44c6-8535-e3bef8edb1eb",
   "metadata": {},
   "source": [
    "<hr>"
   ]
  },
  {
   "cell_type": "code",
   "execution_count": 4,
   "id": "bcc6787a-046a-446b-8db6-52a2db9930af",
   "metadata": {},
   "outputs": [],
   "source": [
    "# TODO: a program that sorts an array using the Insertion sort method"
   ]
  },
  {
   "cell_type": "code",
   "execution_count": 14,
   "id": "73d6731f-5443-4d28-af2a-d5cbde720c99",
   "metadata": {},
   "outputs": [
    {
     "name": "stdout",
     "output_type": "stream",
     "text": [
      "[-1, 3, 9, 10, 12, 14, -4, -8]: pop\n",
      "[-1, 3, 9, 10, 12, -4, 14, -8]: pop\n",
      "[-1, 3, 9, 10, -4, 12, 14, -8]: pop\n",
      "[-1, 3, 9, -4, 10, 12, 14, -8]: pop\n",
      "[-1, 3, -4, 9, 10, 12, 14, -8]: pop\n",
      "[-1, -4, 3, 9, 10, 12, 14, -8]: pop\n",
      "[-4, -1, 3, 9, 10, 12, 14, -8]: pop\n",
      "[-4, -1, 3, 9, 10, 12, -8, 14]: pop\n",
      "[-4, -1, 3, 9, 10, -8, 12, 14]: pop\n",
      "[-4, -1, 3, 9, -8, 10, 12, 14]: pop\n",
      "[-4, -1, 3, -8, 9, 10, 12, 14]: pop\n",
      "[-4, -1, -8, 3, 9, 10, 12, 14]: pop\n",
      "[-4, -8, -1, 3, 9, 10, 12, 14]: pop\n",
      "[-8, -4, -1, 3, 9, 10, 12, 14]: pop\n",
      "\n",
      " Sorted list using insertion sort method\n",
      "[-8, -4, -1, 3, 9, 10, 12, 14]\n"
     ]
    }
   ],
   "source": [
    "mylist = [3, -1, 9, 10, 12, 14, -4, -8]\n",
    "\n",
    "# start insertion sort\n",
    "for i in range(1, len(mylist)):\n",
    "    # grab current list item\n",
    "    current_selection = mylist[i]\n",
    "    # set j to previous index to the left of i\n",
    "    j = i-1\n",
    "    # while we are in bounds of the list index and the previous \n",
    "    # element before selection is greater than the selection,\n",
    "    #  set the curr\n",
    "    while j >= 0 and mylist[j] > current_selection:\n",
    "        # swap the found greater value to the right in the list\n",
    "        mylist[j + 1] = mylist[j]\n",
    "        # set the swapped index to the key that was smaller\n",
    "        mylist[j] = current_selection\n",
    "        print(f\"{mylist}: pop\")\n",
    "        # decrement j to move left bound in the list\n",
    "        j-=1\n",
    "\n",
    "print(\"\\n Sorted list using insertion sort method\")\n",
    "\n",
    "print(mylist)"
   ]
  },
  {
   "cell_type": "markdown",
   "id": "1ceb916f-a8c2-4a4f-8489-77d72f0fa01e",
   "metadata": {},
   "source": [
    "<hr>"
   ]
  },
  {
   "cell_type": "markdown",
   "id": "29949ff9-737b-4ec3-a3ed-b7fcde8ffde0",
   "metadata": {},
   "source": [
    "okay so write insertion sort yourself\n",
    "\n",
    "so the basic idea is we go through chronologically, if the current selection is bigger than the one to the right we push it through that element and bubble the smaller item back left until the leftist item is smaller or we get to a 0 index i think\n"
   ]
  },
  {
   "cell_type": "markdown",
   "id": "85072003-a337-45d8-a7bf-39cfbe7559a3",
   "metadata": {},
   "source": [
    "okay so lets write it out"
   ]
  },
  {
   "cell_type": "markdown",
   "id": "7401b15b-06a6-4371-988f-13c91a8a3ad7",
   "metadata": {},
   "source": [
    "below is a test list that we will manipulate manually"
   ]
  },
  {
   "cell_type": "code",
   "execution_count": 1,
   "id": "d628a329-0666-45b4-8502-a9fc1a6b01f3",
   "metadata": {},
   "outputs": [
    {
     "name": "stdout",
     "output_type": "stream",
     "text": [
      "right\n"
     ]
    }
   ],
   "source": [
    "test_list = [3, 4, -1, 9, 0, -10]\n",
    "print('right')"
   ]
  },
  {
   "cell_type": "code",
   "execution_count": 2,
   "id": "087a7bb7-0115-416f-9e44-13a587323715",
   "metadata": {},
   "outputs": [
    {
     "data": {
      "text/plain": [
       "[3, 4, -1, 9, 0, -10]"
      ]
     },
     "execution_count": 2,
     "metadata": {},
     "output_type": "execute_result"
    }
   ],
   "source": [
    "test_list"
   ]
  },
  {
   "cell_type": "code",
   "execution_count": 3,
   "id": "e2494c36-6304-43aa-910b-4e2ed3250635",
   "metadata": {},
   "outputs": [
    {
     "name": "stdout",
     "output_type": "stream",
     "text": [
      "okay so what is the first item?\n"
     ]
    }
   ],
   "source": [
    "print('okay so what is the first item?')"
   ]
  },
  {
   "cell_type": "markdown",
   "id": "d8e4227a-ba05-4ae8-9648-734b834af27c",
   "metadata": {},
   "source": [
    "3"
   ]
  },
  {
   "cell_type": "markdown",
   "id": "d574df08-6d84-435d-a56b-13e688875777",
   "metadata": {},
   "source": [
    "okay so we say 3 is the key i guess you could think we need to find where the key goes but other items will displace too possibly\n",
    "\n",
    "\n",
    "so 3 is the current key\n",
    "\n",
    "\n",
    "okay so we look to the right only 1 step\n",
    "\n",
    "\n",
    "thats 4, is 4 biggger than 3? yes\n",
    "are we sorting in ascending order? \n",
    "yes\n",
    "\n",
    "so we go to the next item and leave that one for now\n",
    "\n",
    "\n",
    "okay so now key is 4\n",
    "\n",
    "is 4 smaller than -1? no its not\n",
    "\n",
    "okay so now we start the move\n",
    "\n",
    "we found a next entry 1 step deep that is smaller than the key we can now put the key in the correct spot\n",
    "\n",
    "4 goes into where -1 used to be and -1 goes into where 4 used to be, but wait we have to reverse populate now that we have a shift\n",
    "\n",
    "so we could say that -1 is the key now but this key is a left key because it got displaced by a previous key\n",
    "\n",
    "okay so now lets do the discussed manipulation with -1 and 4 which is the key and print it and keep going"
   ]
  },
  {
   "cell_type": "code",
   "execution_count": 4,
   "id": "92c79f61-0dfe-4c1a-922f-5a0af1b4028b",
   "metadata": {},
   "outputs": [
    {
     "data": {
      "text/plain": [
       "[3, 4, -1, 9, 0, -10]"
      ]
     },
     "execution_count": 4,
     "metadata": {},
     "output_type": "execute_result"
    }
   ],
   "source": [
    "test_list"
   ]
  },
  {
   "cell_type": "code",
   "execution_count": 5,
   "id": "f16def35-80c1-494e-8726-6a0ff51298e7",
   "metadata": {},
   "outputs": [
    {
     "data": {
      "text/plain": [
       "4"
      ]
     },
     "execution_count": 5,
     "metadata": {},
     "output_type": "execute_result"
    }
   ],
   "source": [
    "test_list[1]"
   ]
  },
  {
   "cell_type": "markdown",
   "id": "4847d8c8-4a6b-4b76-b70f-862d5afc91c4",
   "metadata": {},
   "source": [
    "1 is the key index"
   ]
  },
  {
   "cell_type": "markdown",
   "id": "8d86a6d0-50da-494b-b59a-246da72fd055",
   "metadata": {},
   "source": [
    "okay the index after the key index is key index + 1"
   ]
  },
  {
   "cell_type": "code",
   "execution_count": 6,
   "id": "89173718-e69b-46dd-994d-6d5e4402879d",
   "metadata": {},
   "outputs": [
    {
     "data": {
      "text/plain": [
       "4"
      ]
     },
     "execution_count": 6,
     "metadata": {},
     "output_type": "execute_result"
    }
   ],
   "source": [
    "key_index = 1\n",
    "test_list[key_index]"
   ]
  },
  {
   "cell_type": "markdown",
   "id": "2cfb0124-a86e-414a-81a9-01c743c4fb01",
   "metadata": {},
   "source": [
    "okay so shift index is 1 in the direction of key movement in this case we are moving 4 to the right so its a right shift"
   ]
  },
  {
   "cell_type": "code",
   "execution_count": 7,
   "id": "41395516-8791-420e-b63d-8314ee0d77e9",
   "metadata": {},
   "outputs": [
    {
     "data": {
      "text/plain": [
       "-1"
      ]
     },
     "execution_count": 7,
     "metadata": {},
     "output_type": "execute_result"
    }
   ],
   "source": [
    "swap_index = key_index + 1\n",
    "test_list[swap_index]"
   ]
  },
  {
   "cell_type": "markdown",
   "id": "256a9bb8-34de-4880-b75d-72c46fda4744",
   "metadata": {},
   "source": [
    "so now we can see the 4 and the -1 selected, lets swap them like discussed\n",
    "\n",
    "again because -1 is smaller than 4 and we are sorting in ascending order 0123456 etc"
   ]
  },
  {
   "cell_type": "code",
   "execution_count": 8,
   "id": "58c73eaf-fe14-414e-bf8d-701193314f90",
   "metadata": {},
   "outputs": [],
   "source": [
    "key = test_list[key_index]\n",
    "swap = test_list[swap_index]"
   ]
  },
  {
   "cell_type": "code",
   "execution_count": 9,
   "id": "ce178b5c-ea8a-4325-8c48-33698501de0a",
   "metadata": {},
   "outputs": [
    {
     "data": {
      "text/plain": [
       "4"
      ]
     },
     "execution_count": 9,
     "metadata": {},
     "output_type": "execute_result"
    }
   ],
   "source": [
    "key"
   ]
  },
  {
   "cell_type": "code",
   "execution_count": 10,
   "id": "c2a1914d-b771-4a65-8ddf-eb5a9a284ab2",
   "metadata": {},
   "outputs": [
    {
     "data": {
      "text/plain": [
       "-1"
      ]
     },
     "execution_count": 10,
     "metadata": {},
     "output_type": "execute_result"
    }
   ],
   "source": [
    "swap"
   ]
  },
  {
   "cell_type": "markdown",
   "id": "9132ba3b-5f92-4278-b929-302fdc729643",
   "metadata": {},
   "source": [
    "right"
   ]
  },
  {
   "cell_type": "code",
   "execution_count": 12,
   "id": "6dbf231e-6145-46f9-b680-19f4cb040436",
   "metadata": {},
   "outputs": [
    {
     "data": {
      "text/plain": [
       "[3, -1, 4, 9, 0, -10]"
      ]
     },
     "execution_count": 12,
     "metadata": {},
     "output_type": "execute_result"
    }
   ],
   "source": [
    "test_list[key_index] = swap\n",
    "test_list[swap_index] = key\n",
    "test_list"
   ]
  },
  {
   "cell_type": "markdown",
   "id": "ba54af4c-6a55-4f67-8171-7b384063278e",
   "metadata": {},
   "source": [
    "okay but if we do a right swap the swapped becomes the new key and we must begin unkown iterations of left swaps"
   ]
  },
  {
   "cell_type": "markdown",
   "id": "ab51bda2-fad9-4101-8ca6-0aa2cd484bb2",
   "metadata": {},
   "source": [
    "is the previous index from the new key larger?\n",
    "\n",
    "in our example it is because 3 is larger than -1\n",
    "\n",
    "okay so because this is true we can perform a left swap while the left index is greater, or until we reach 0 index in the list\n",
    "in this case we reach 0 index in the list\n",
    "\n",
    "so lets manually do that now"
   ]
  },
  {
   "cell_type": "code",
   "execution_count": 13,
   "id": "a8c6949d-f97b-4ea1-b20b-90a361158746",
   "metadata": {},
   "outputs": [
    {
     "data": {
      "text/plain": [
       "[3, -1, 4, 9, 0, -10]"
      ]
     },
     "execution_count": 13,
     "metadata": {},
     "output_type": "execute_result"
    }
   ],
   "source": [
    "test_list"
   ]
  },
  {
   "cell_type": "code",
   "execution_count": 14,
   "id": "a73cb408-ae12-4674-9236-e5b7c5b57523",
   "metadata": {},
   "outputs": [
    {
     "name": "stdout",
     "output_type": "stream",
     "text": [
      "begin of left swap\n"
     ]
    }
   ],
   "source": [
    "print('begin of left swap')"
   ]
  },
  {
   "cell_type": "code",
   "execution_count": 15,
   "id": "722c2f62-f593-4712-b076-be13544d1583",
   "metadata": {},
   "outputs": [
    {
     "name": "stdout",
     "output_type": "stream",
     "text": [
      "negative one needs to change places with 3\n"
     ]
    }
   ],
   "source": [
    "print('negative one needs to change places with 3')"
   ]
  },
  {
   "cell_type": "code",
   "execution_count": 16,
   "id": "ecbc09a1-82fe-40ce-9a07-3d6b2dfeb170",
   "metadata": {},
   "outputs": [],
   "source": [
    "left_key_index = 1\n",
    "left_swap_index = 0\n",
    "\n",
    "leftkey = test_list[left_key_index]\n",
    "leftswap = test_list[left_swap_index]"
   ]
  },
  {
   "cell_type": "code",
   "execution_count": 17,
   "id": "869f9371-8d95-40b3-ae2c-e93935e39240",
   "metadata": {},
   "outputs": [
    {
     "data": {
      "text/plain": [
       "-1"
      ]
     },
     "execution_count": 17,
     "metadata": {},
     "output_type": "execute_result"
    }
   ],
   "source": [
    "leftkey"
   ]
  },
  {
   "cell_type": "code",
   "execution_count": 18,
   "id": "ea068457-7fd7-4460-8501-f99cfe8ded72",
   "metadata": {},
   "outputs": [
    {
     "data": {
      "text/plain": [
       "3"
      ]
     },
     "execution_count": 18,
     "metadata": {},
     "output_type": "execute_result"
    }
   ],
   "source": [
    "leftswap"
   ]
  },
  {
   "cell_type": "code",
   "execution_count": 19,
   "id": "3e6caaba-50fc-4a7c-80a3-092f4d0f8f53",
   "metadata": {},
   "outputs": [],
   "source": [
    "test_list[left_key_index] = leftswap\n",
    "test_list[left_swap_index] = leftkey"
   ]
  },
  {
   "cell_type": "code",
   "execution_count": 20,
   "id": "28bb5a18-6346-480c-a605-dc186e9482de",
   "metadata": {},
   "outputs": [
    {
     "data": {
      "text/plain": [
       "[-1, 3, 4, 9, 0, -10]"
      ]
     },
     "execution_count": 20,
     "metadata": {},
     "output_type": "execute_result"
    }
   ],
   "source": [
    "test_list"
   ]
  },
  {
   "cell_type": "markdown",
   "id": "432407b3-fefe-41db-8a81-8cff22eeadf0",
   "metadata": {},
   "source": [
    "so we reached 0 index so we go back to the next number in the list after the previous right swap\n",
    "\n",
    "the previous right swap was the 4 in position 2 now\n",
    "\n",
    "so we go to position 3"
   ]
  },
  {
   "cell_type": "code",
   "execution_count": 21,
   "id": "70e71437-eea0-40dd-9473-00136ecb3dde",
   "metadata": {},
   "outputs": [
    {
     "data": {
      "text/plain": [
       "9"
      ]
     },
     "execution_count": 21,
     "metadata": {},
     "output_type": "execute_result"
    }
   ],
   "source": [
    "test_list[3]"
   ]
  },
  {
   "cell_type": "markdown",
   "id": "c5aa2eb6-a16d-4699-b1fa-ccc347b293fd",
   "metadata": {},
   "source": [
    "its 9\n",
    "\n",
    "9 becomes the new key\n",
    "the new key_index is 3\n",
    "and we look rightwards"
   ]
  },
  {
   "cell_type": "markdown",
   "id": "99de3733-0b3d-4575-8a81-e2d5af297a79",
   "metadata": {},
   "source": [
    "0 is smaller than 9 so we have to do a right swap (which is followed by potential left swaps)"
   ]
  },
  {
   "cell_type": "code",
   "execution_count": 22,
   "id": "68809919-f7f6-4fe6-9748-e2b0f83aed80",
   "metadata": {},
   "outputs": [
    {
     "data": {
      "text/plain": [
       "[-1, 3, 4, 0, 9, -10]"
      ]
     },
     "execution_count": 22,
     "metadata": {},
     "output_type": "execute_result"
    }
   ],
   "source": [
    "key_index = 3\n",
    "swap_index = key_index+1\n",
    "\n",
    "key = test_list[key_index]\n",
    "swap = test_list[swap_index]\n",
    "test_list[key_index] = swap\n",
    "test_list[swap_index] = key\n",
    "test_list"
   ]
  },
  {
   "cell_type": "markdown",
   "id": "560257a8-407d-4365-b391-b0db3fb4ed2f",
   "metadata": {},
   "source": [
    "so we see 0 and 9 swapped but if you look left you can see than we actually will need to perform 2 more left swaps on 0 to get it to its correct lock? keyhole?"
   ]
  },
  {
   "cell_type": "markdown",
   "id": "b90b6a77-e467-4c8a-b7ce-9b943bca4438",
   "metadata": {},
   "source": [
    "is 4 larger than 0? yeah so left swap"
   ]
  },
  {
   "cell_type": "code",
   "execution_count": 26,
   "id": "fd54ed90-d040-49ca-977a-497ffda5319d",
   "metadata": {},
   "outputs": [
    {
     "data": {
      "text/plain": [
       "[-1, 3, 0, 4, 9, -10]"
      ]
     },
     "execution_count": 26,
     "metadata": {},
     "output_type": "execute_result"
    }
   ],
   "source": [
    "keyindex = 3\n",
    "leftswapindex = keyindex-1\n",
    "key= test_list[keyindex]\n",
    "swap= test_list[leftswapindex]\n",
    "\n",
    "# swap left <-\n",
    "test_list[keyindex] = swap\n",
    "test_list[leftswapindex] = key\n",
    "test_list"
   ]
  },
  {
   "cell_type": "markdown",
   "id": "8ec237d5-f80d-4d2f-9da0-d4ff6f1b2276",
   "metadata": {},
   "source": [
    "have we reached 0 index? no\n",
    "okay look left is 3 larger than our left new key which is 0 still\n",
    "yeah 3 is larger okay so we need to do another left swap\n",
    "\n",
    "remmeber only 1 step right\n",
    "possibly all the way to the beginning left <- always\n",
    "\n",
    "okay so lets do the next left swap since TRUE"
   ]
  },
  {
   "cell_type": "code",
   "execution_count": 27,
   "id": "663ffa7f-a854-4615-a24f-0805deb34cb4",
   "metadata": {},
   "outputs": [
    {
     "data": {
      "text/plain": [
       "[-1, 0, 3, 4, 9, -10]"
      ]
     },
     "execution_count": 27,
     "metadata": {},
     "output_type": "execute_result"
    }
   ],
   "source": [
    "keyindex = 2\n",
    "leftswapindex = keyindex-1\n",
    "\n",
    "key=test_list[keyindex]\n",
    "swap = test_list[leftswapindex]\n",
    "\n",
    "# swap em\n",
    "test_list[keyindex] = swap\n",
    "test_list[leftswapindex] = key\n",
    "\n",
    "test_list"
   ]
  },
  {
   "cell_type": "markdown",
   "id": "8616918a-b04c-449b-a309-70883bf4e4ab",
   "metadata": {},
   "source": [
    "okay so we can see that 0 agnd 3 changed places the 0 bubbled backwards for more than 0 or 1 possibilities\n",
    "\n",
    "remember left swaps may not always happen"
   ]
  },
  {
   "cell_type": "markdown",
   "id": "d20f04f7-1ab4-4f30-928e-a50363006fe2",
   "metadata": {},
   "source": [
    "not done\n",
    "\n",
    "are we at 0 index\n",
    "\n",
    "no\n",
    "\n",
    "look left <-\n",
    "\n",
    "okay is -1 greater than our key of 0?\n",
    "\n",
    "no its lower than 0\n",
    "\n",
    "okay so we are done with the left swap(s)\n",
    "\n",
    "we go back to our rightkeyindex+1\n",
    "\n",
    "our right key previously was 9 because 9 and 0 changed places on a right swap\n",
    "\n",
    "the right key index will never change until the next loop and should alwasy be incrememnted 1\n",
    "\n",
    "right?\n",
    "\n",
    "okay so lets go back to our list and our next right key"
   ]
  },
  {
   "cell_type": "code",
   "execution_count": 28,
   "id": "980263f8-e9f1-4e6e-9998-f4ebc1d8cefd",
   "metadata": {},
   "outputs": [
    {
     "data": {
      "text/plain": [
       "[-1, 0, 3, 4, 9, -10]"
      ]
     },
     "execution_count": 28,
     "metadata": {},
     "output_type": "execute_result"
    }
   ],
   "source": [
    "test_list"
   ]
  },
  {
   "cell_type": "markdown",
   "id": "fa3924d3-5405-4646-aef8-7331f3e022a3",
   "metadata": {},
   "source": [
    "we can see that our right key is now -10"
   ]
  },
  {
   "cell_type": "markdown",
   "id": "b067df1d-3f2c-46dc-b09b-6a067ad08987",
   "metadata": {},
   "source": [
    "okay the last item in the list will only have left swaps\n",
    "\n",
    "how will we know what it is?\n",
    "\n",
    "the list order never changes\n",
    "\n",
    "it will break if we bubble right infinetly right? we lose our place in the list it can bubble either way and that will change the only constant of this algorithm which is the index value of the previous right step"
   ]
  },
  {
   "cell_type": "markdown",
   "id": "7e335b2e-8451-424c-957e-dedb1341ef61",
   "metadata": {},
   "source": [
    "so our previous riht key was 9 what was the index of it in the beginning of the right swap above?\n",
    "\n",
    "\n",
    "okay idk but there is some ambiguity that will break in the example manipulation depending on if you go back to a right key and check again? again only 1 step, i think we always have to go in this simple example back to the the value of the right key and check it again cause only 1 step we may get another left bound number after the successful right swap\n"
   ]
  },
  {
   "cell_type": "code",
   "execution_count": 29,
   "id": "67ea246a-3aa8-4f31-90cd-8cafd49a3f92",
   "metadata": {},
   "outputs": [
    {
     "data": {
      "text/plain": [
       "[-1, 0, 3, 4, 9, -10]"
      ]
     },
     "execution_count": 29,
     "metadata": {},
     "output_type": "execute_result"
    }
   ],
   "source": [
    "test_list"
   ]
  },
  {
   "cell_type": "markdown",
   "id": "aca46368-dfbc-4aa4-88da-1b00214fb0a3",
   "metadata": {},
   "source": [
    "we will fix that when we loop it\n",
    "lets just keep going\n",
    "\n",
    "heres a case where we lost index placement but know the order of a section of the list\n",
    "\n",
    "the unkown order of this section even with ambiguity intriduced by skipping a right swap is currently the last value in the list -10"
   ]
  },
  {
   "cell_type": "markdown",
   "id": "553cc489-2dc7-40ed-8c14-bd36af26c4ce",
   "metadata": {},
   "source": [
    "okay so lets star this because here is an example wher the right bound number is going to rebound, and it has no in the construction of the insertion sort above, swap value to compare to due to the nature of our list length and its orchistrated movements based off of its initial state (the fucking original order mf)"
   ]
  },
  {
   "cell_type": "markdown",
   "id": "99d923bf-a701-4e1a-9b08-cf897e019ca1",
   "metadata": {},
   "source": [
    "in this case for this before loopage lets just only do left swaps if our next right key is the last index how you check return its how tf -1 work now\n",
    "\n",
    "dont use if confused\n",
    "\n",
    "now do what do i do\n",
    "\n",
    "check if the index of your key is the last index\n",
    "if your list has 10 items the len() is 10\n",
    "\n",
    "last_index = len(your_list) - 1\n",
    "right?\n"
   ]
  },
  {
   "cell_type": "markdown",
   "id": "22616023-46f2-48f7-8b70-c024c99a61f1",
   "metadata": {},
   "source": [
    "so we can seee that -10 will go all the way to the left and i dontwanna type that so im just gonna move it "
   ]
  },
  {
   "cell_type": "markdown",
   "id": "d564af66-b612-46f9-84ac-7d0505dda84b",
   "metadata": {},
   "source": [
    "okay lets move it with a loop"
   ]
  },
  {
   "cell_type": "code",
   "execution_count": 37,
   "id": "6798c8e8-e824-4037-bc8e-d2e7ddbfdaef",
   "metadata": {},
   "outputs": [
    {
     "data": {
      "text/plain": [
       "[-1, 0, 3, 4, 9, -10]"
      ]
     },
     "execution_count": 37,
     "metadata": {},
     "output_type": "execute_result"
    }
   ],
   "source": [
    "test_list = [-1, 0, 3, 4, 9, -10]\n",
    "test_list"
   ]
  },
  {
   "cell_type": "code",
   "execution_count": 40,
   "id": "4ddd9af9-7c6f-4c7b-80a9-92b0e82e9e99",
   "metadata": {},
   "outputs": [
    {
     "data": {
      "text/plain": [
       "-10"
      ]
     },
     "execution_count": 40,
     "metadata": {},
     "output_type": "execute_result"
    }
   ],
   "source": [
    "keyindex = len(test_list) - 1 # cause its the last one and we doing it manually\n",
    "test_list[keyindex]\n",
    "\n",
    "#create a new list with everything to the left of the key\n",
    "keyless_to_the_left = test_list[:]\n",
    "del keyless_to_the_left[keyindex]\n",
    "keyless_to_the_left\n",
    "last_item_bubbled = test_list[keyindex]\n",
    "last_item_bubbled"
   ]
  },
  {
   "cell_type": "code",
   "execution_count": 41,
   "id": "d983e2d2-6a0a-457b-baa0-5e1a7bcf8974",
   "metadata": {},
   "outputs": [
    {
     "data": {
      "text/plain": [
       "[-1, 0, 3, 4, 9]"
      ]
     },
     "execution_count": 41,
     "metadata": {},
     "output_type": "execute_result"
    }
   ],
   "source": [
    "[x for x in keyless_to_the_left]"
   ]
  },
  {
   "cell_type": "markdown",
   "id": "be712974-6ea1-4ffe-be0d-354a28316b17",
   "metadata": {},
   "source": [
    "its only one value but make it a list"
   ]
  },
  {
   "cell_type": "code",
   "execution_count": 42,
   "id": "f5f63806-b28a-45f9-93ee-005e03210757",
   "metadata": {},
   "outputs": [
    {
     "data": {
      "text/plain": [
       "[-10]"
      ]
     },
     "execution_count": 42,
     "metadata": {},
     "output_type": "execute_result"
    }
   ],
   "source": [
    "last_value_key_list = [last_item_bubbled]\n",
    "last_value_key_list"
   ]
  },
  {
   "cell_type": "code",
   "execution_count": 43,
   "id": "a996af24-8bd2-42e7-95d2-69ba21d9176a",
   "metadata": {},
   "outputs": [
    {
     "data": {
      "text/plain": [
       "[-1, 0, 3, 4, 9, -10]"
      ]
     },
     "execution_count": 43,
     "metadata": {},
     "output_type": "execute_result"
    }
   ],
   "source": [
    "test_list"
   ]
  },
  {
   "cell_type": "code",
   "execution_count": 44,
   "id": "93edb7e1-02a4-4c98-9a42-cf25f3f41bfc",
   "metadata": {},
   "outputs": [
    {
     "data": {
      "text/plain": [
       "[-1, 0, 3, 4, 9]"
      ]
     },
     "execution_count": 44,
     "metadata": {},
     "output_type": "execute_result"
    }
   ],
   "source": [
    "keyless_to_the_left"
   ]
  },
  {
   "cell_type": "code",
   "execution_count": 45,
   "id": "b657b56c-bed0-4ee4-a3f0-49fe97031e8d",
   "metadata": {},
   "outputs": [
    {
     "data": {
      "text/plain": [
       "[-10]"
      ]
     },
     "execution_count": 45,
     "metadata": {},
     "output_type": "execute_result"
    }
   ],
   "source": [
    "last_value_key_list"
   ]
  },
  {
   "cell_type": "code",
   "execution_count": 49,
   "id": "1ef72901-4567-4a37-9cef-09e1945e74f9",
   "metadata": {},
   "outputs": [],
   "source": [
    "lower, higher = [], []\n",
    "last_key_val = -10\n",
    "for x in keyless_to_the_left:\n",
    "    (lower, higher)[x>last_key_val].append(x)"
   ]
  },
  {
   "cell_type": "code",
   "execution_count": 50,
   "id": "205bb47f-ef1c-44e1-8e3b-ed429b75b207",
   "metadata": {},
   "outputs": [
    {
     "data": {
      "text/plain": [
       "[]"
      ]
     },
     "execution_count": 50,
     "metadata": {},
     "output_type": "execute_result"
    }
   ],
   "source": [
    "lower"
   ]
  },
  {
   "cell_type": "code",
   "execution_count": 51,
   "id": "3fcc2d13-e613-4560-815b-d6a55ee6d5a3",
   "metadata": {},
   "outputs": [
    {
     "data": {
      "text/plain": [
       "[-1, 0, 3, 4, 9]"
      ]
     },
     "execution_count": 51,
     "metadata": {},
     "output_type": "execute_result"
    }
   ],
   "source": [
    "higher"
   ]
  },
  {
   "cell_type": "code",
   "execution_count": 52,
   "id": "21e49c50-df1b-4a2d-b170-cf563af31c48",
   "metadata": {},
   "outputs": [
    {
     "data": {
      "text/plain": [
       "[-10, -1, 0, 3, 4, 9]"
      ]
     },
     "execution_count": 52,
     "metadata": {},
     "output_type": "execute_result"
    }
   ],
   "source": [
    "sorted_insertion_sort_last_key_rightswapless = lower + last_value_key_list + higher\n",
    "sorted_insertion_sort_last_key_rightswapless"
   ]
  },
  {
   "cell_type": "markdown",
   "id": "c51fcbd9-06ad-4fa2-89cb-7db7c114a428",
   "metadata": {},
   "source": [
    "explanation for the weird code above:\n",
    "\n",
    "it is the same as saying\n",
    "higher.append(x) if x > last_key_right_swapless(-10) if its not append it to lower(), in this case none were lower so all got appended to the the higher list but after list concatenation, it doesnt matter"
   ]
  },
  {
   "cell_type": "markdown",
   "id": "1765d54f-cf24-4c42-bc20-36402498d08d",
   "metadata": {},
   "source": [
    "okay fuck... try to write insertion sort function"
   ]
  },
  {
   "cell_type": "code",
   "execution_count": null,
   "id": "86da0074-4108-4b9b-8605-a2c7aa9e9d94",
   "metadata": {},
   "outputs": [],
   "source": []
  },
  {
   "cell_type": "code",
   "execution_count": null,
   "id": "7e106bdf-6abe-45e2-b2d1-2f44700b9203",
   "metadata": {},
   "outputs": [],
   "source": []
  },
  {
   "cell_type": "code",
   "execution_count": null,
   "id": "2505e04e-ab35-43ae-afe3-599a71ab2a23",
   "metadata": {},
   "outputs": [],
   "source": []
  },
  {
   "cell_type": "code",
   "execution_count": null,
   "id": "a0d25aab-440c-47ea-a9c2-0622d39ed516",
   "metadata": {},
   "outputs": [],
   "source": []
  },
  {
   "cell_type": "markdown",
   "id": "744c475d-11a8-4510-bdb7-dd85274c90fe",
   "metadata": {},
   "source": [
    "# Insertion Sort"
   ]
  },
  {
   "cell_type": "code",
   "execution_count": 1,
   "id": "5414ad9f-d837-437d-acfc-08c68985585e",
   "metadata": {},
   "outputs": [
    {
     "data": {
      "text/plain": [
       "[1, 9, 0, -10, 44, -22, 3]"
      ]
     },
     "execution_count": 1,
     "metadata": {},
     "output_type": "execute_result"
    }
   ],
   "source": []
  },
  {
   "cell_type": "code",
   "execution_count": 20,
   "id": "021731fe-ac29-49f0-9ab0-7161e7701347",
   "metadata": {},
   "outputs": [
    {
     "name": "stdout",
     "output_type": "stream",
     "text": [
      "[1, 9, 0, -10, 44, -22, 3]\n",
      "\n",
      "\n",
      "[1, 0, 9, -10, 44, -22, 3]\n",
      "[1, 0, -10, 9, 44, -22, 3]\n",
      "[1, 0, -10, 9, -22, 44, 3]\n",
      "[1, 0, -10, 9, -22, 3, 44]\n",
      "LAST VALUE NOT SORTED\n"
     ]
    }
   ],
   "source": [
    "sortme = [1, 9, 0, -10, 44, -22, 3]\n",
    "\n"
   ]
  },
  {
   "cell_type": "code",
   "execution_count": 25,
   "id": "c91a89f4-d0a6-4b3c-976c-b207b95e39b1",
   "metadata": {},
   "outputs": [
    {
     "data": {
      "image/png": "[encoded data removed]",
      "text/plain": [
       "<Figure size 640x480 with 1 Axes>"
      ]
     },
     "metadata": {},
     "output_type": "display_data"
    }
   ],
   "source": [
    "import matplotlib.pyplot as plt\n",
    "\n",
    "x = [i for i in range(len(sortme))]\n",
    "y = sortme\n",
    "plt.xticks([])\n",
    "plt.yticks([])\n",
    "plt.bar(x, y)\n",
    "plt.show()"
   ]
  },
  {
   "cell_type": "markdown",
   "id": "249eeca6-29c8-403c-afc6-8c9d4e8e96d5",
   "metadata": {},
   "source": [
    "eventually once insertion sort is built turn it into an animation using plt saved pngs and idk idr how to turn that into a mp4 sequence and display but you can with python somehow and then display the generated mp4 in the notebook interface using html"
   ]
  },
  {
   "cell_type": "code",
   "execution_count": 26,
   "id": "2019417e-9443-41d6-bd88-51fdfa0ece52",
   "metadata": {},
   "outputs": [],
   "source": [
    "# TODO: insertion sort animation"
   ]
  },
  {
   "cell_type": "code",
   "execution_count": 36,
   "id": "2a7e6d24-a392-4f23-b487-9041c143de7f",
   "metadata": {},
   "outputs": [
    {
     "name": "stdout",
     "output_type": "stream",
     "text": [
      "test list: [6, 5, 3, 1, 8, 7, 2, 4]\n",
      "current key: 5\n",
      "after key: [3, 1, 8, 7, 2, 4]\n",
      "before key: [6]\n",
      "\n",
      "\n",
      "first iteration:\n",
      "left lower: []\n",
      "left higher: [6]\n",
      "[5, 6, 3, 1, 8, 7, 2, 4]\n"
     ]
    }
   ],
   "source": [
    "test = [6,5,3,1,8,7,2,4]\n",
    "print(f\"test list: {test}\")\n",
    "# start with the second element\n",
    "key_index = 1\n",
    "key = test[key_index]\n",
    "# does it left swap?\n",
    "# so we need to build a list for comparision with everything to the left of the current key\n",
    "# this will give us a comparison list so we can conncatenate everything the before key list (with key new placement (can be unchanged))\n",
    "# and everything after the key\n",
    "print(f\"current key: {key}\")\n",
    "before_key_list = [test[i] for i in range(key_index)]\n",
    "if key_index != len(test) - 1:\n",
    "    after_key_index = key_index + 1\n",
    "else:\n",
    "    print('fuck idk yet')\n",
    "after_key_list = [test[i] for i in range(after_key_index, len(test))]\n",
    "print(f\"after key: {after_key_list}\")\n",
    "print(f\"before key: {before_key_list}\")\n",
    "before_key_list\n",
    "lower_than_key_before = []\n",
    "higher_than_key_before = []\n",
    "\n",
    "\n",
    "print('\\n\\nfirst iteration:')\n",
    "for x in before_key_list:\n",
    "    (lower_than_key_before, higher_than_key_before)[x > key].append(x)\n",
    "print(f\"left lower: {lower_than_key_before}\")\n",
    "print(f\"left higher: {higher_than_key_before}\")\n",
    "test = lower_than_key_before + [key] + higher_than_key_before + after_key_list\n",
    "print(test)"
   ]
  },
  {
   "cell_type": "code",
   "execution_count": 51,
   "id": "aa48d663-96e0-4273-bb58-7b71daf6ea95",
   "metadata": {},
   "outputs": [
    {
     "data": {
      "text/plain": [
       "[1, 2, 3, 4, 5, 6, 7, 8]"
      ]
     },
     "execution_count": 51,
     "metadata": {},
     "output_type": "execute_result"
    }
   ],
   "source": [
    "import matplotlib.pyplot as plt\n",
    "\n",
    "def insertion_sort(unsorted_list):\n",
    "    x_animation_line = [i for i in range(len(unsorted_list))]\n",
    "    file_name_it = 1\n",
    "    for i in range(1, len(unsorted_list)):\n",
    "        # save animnation frame\n",
    "        plt.xticks([])\n",
    "        plt.yticks([])\n",
    "        plt.bar(x_animation_line, unsorted_list)\n",
    "        plt.savefig(f\"chapter7animation/{file_name_it}.png\")\n",
    "        plt.close()\n",
    "        file_name_it += 1\n",
    "        # grab the key\n",
    "        key = unsorted_list[i]\n",
    "        # create 3 lists, before key, key, and after key\n",
    "        before_key = [unsorted_list[x] for x in range(0, i)]\n",
    "        after_key = [unsorted_list[x] for x in range(i+1, len(unsorted_list))]\n",
    "        key_list = [key]\n",
    "        # left swap key if possible\n",
    "        before_lower, before_higher = [], []\n",
    "        for x in before_key:\n",
    "            (before_lower, before_higher)[x > key].append(x)\n",
    "\n",
    "        unsorted_list = before_lower + key_list + before_higher + after_key\n",
    "    # save final frame of completion of sorting\n",
    "    plt.xticks([])\n",
    "    plt.yticks([])\n",
    "    plt.bar(x_animation_line, unsorted_list)\n",
    "    plt.savefig(f\"chapter7animation/{file_name_it}.png\")\n",
    "    plt.close()\n",
    "\n",
    "    return unsorted_list\n",
    "\n",
    "\n",
    "test = [6,5,3,1,8,7,2,4]\n",
    "insertion_sort(test)"
   ]
  },
  {
   "cell_type": "code",
   "execution_count": 78,
   "id": "ec8e4508-f3d6-4db1-95b5-cff68fa4d4a1",
   "metadata": {},
   "outputs": [
    {
     "data": {
      "text/plain": [
       "[-999,\n",
       " -998,\n",
       " -992,\n",
       " -991,\n",
       " -991,\n",
       " -988,\n",
       " -984,\n",
       " -983,\n",
       " -978,\n",
       " -978,\n",
       " -977,\n",
       " -977,\n",
       " -976,\n",
       " -973,\n",
       " -973,\n",
       " -969,\n",
       " -968,\n",
       " -968,\n",
       " -968,\n",
       " -967,\n",
       " -967,\n",
       " -966,\n",
       " -966,\n",
       " -965,\n",
       " -960,\n",
       " -960,\n",
       " -959,\n",
       " -959,\n",
       " -957,\n",
       " -954,\n",
       " -953,\n",
       " -953,\n",
       " -952,\n",
       " -944,\n",
       " -931,\n",
       " -931,\n",
       " -929,\n",
       " -928,\n",
       " -928,\n",
       " -928,\n",
       " -925,\n",
       " -925,\n",
       " -924,\n",
       " -924,\n",
       " -924,\n",
       " -923,\n",
       " -919,\n",
       " -915,\n",
       " -914,\n",
       " -913,\n",
       " -913,\n",
       " -912,\n",
       " -911,\n",
       " -911,\n",
       " -910,\n",
       " -909,\n",
       " -909,\n",
       " -907,\n",
       " -905,\n",
       " -904,\n",
       " -904,\n",
       " -900,\n",
       " -900,\n",
       " -900,\n",
       " -898,\n",
       " -891,\n",
       " -887,\n",
       " -886,\n",
       " -883,\n",
       " -883,\n",
       " -879,\n",
       " -879,\n",
       " -874,\n",
       " -873,\n",
       " -873,\n",
       " -872,\n",
       " -868,\n",
       " -866,\n",
       " -861,\n",
       " -861,\n",
       " -860,\n",
       " -860,\n",
       " -848,\n",
       " -845,\n",
       " -844,\n",
       " -842,\n",
       " -841,\n",
       " -839,\n",
       " -836,\n",
       " -836,\n",
       " -836,\n",
       " -835,\n",
       " -833,\n",
       " -833,\n",
       " -828,\n",
       " -825,\n",
       " -824,\n",
       " -820,\n",
       " -820,\n",
       " -819,\n",
       " -819,\n",
       " -819,\n",
       " -817,\n",
       " -817,\n",
       " -815,\n",
       " -814,\n",
       " -812,\n",
       " -806,\n",
       " -804,\n",
       " -804,\n",
       " -801,\n",
       " -800,\n",
       " -792,\n",
       " -791,\n",
       " -790,\n",
       " -785,\n",
       " -782,\n",
       " -782,\n",
       " -778,\n",
       " -775,\n",
       " -771,\n",
       " -769,\n",
       " -768,\n",
       " -767,\n",
       " -766,\n",
       " -766,\n",
       " -765,\n",
       " -763,\n",
       " -762,\n",
       " -757,\n",
       " -755,\n",
       " -751,\n",
       " -751,\n",
       " -750,\n",
       " -749,\n",
       " -746,\n",
       " -745,\n",
       " -744,\n",
       " -743,\n",
       " -742,\n",
       " -733,\n",
       " -731,\n",
       " -723,\n",
       " -723,\n",
       " -722,\n",
       " -717,\n",
       " -717,\n",
       " -714,\n",
       " -714,\n",
       " -707,\n",
       " -705,\n",
       " -702,\n",
       " -692,\n",
       " -692,\n",
       " -690,\n",
       " -690,\n",
       " -690,\n",
       " -689,\n",
       " -689,\n",
       " -688,\n",
       " -688,\n",
       " -687,\n",
       " -681,\n",
       " -681,\n",
       " -677,\n",
       " -677,\n",
       " -676,\n",
       " -676,\n",
       " -673,\n",
       " -671,\n",
       " -671,\n",
       " -667,\n",
       " -666,\n",
       " -665,\n",
       " -664,\n",
       " -662,\n",
       " -660,\n",
       " -658,\n",
       " -657,\n",
       " -656,\n",
       " -655,\n",
       " -653,\n",
       " -652,\n",
       " -649,\n",
       " -648,\n",
       " -647,\n",
       " -647,\n",
       " -646,\n",
       " -642,\n",
       " -641,\n",
       " -638,\n",
       " -637,\n",
       " -635,\n",
       " -633,\n",
       " -630,\n",
       " -627,\n",
       " -626,\n",
       " -624,\n",
       " -619,\n",
       " -618,\n",
       " -618,\n",
       " -618,\n",
       " -617,\n",
       " -614,\n",
       " -610,\n",
       " -605,\n",
       " -603,\n",
       " -602,\n",
       " -600,\n",
       " -597,\n",
       " -593,\n",
       " -590,\n",
       " -582,\n",
       " -580,\n",
       " -579,\n",
       " -578,\n",
       " -577,\n",
       " -576,\n",
       " -575,\n",
       " -569,\n",
       " -567,\n",
       " -566,\n",
       " -563,\n",
       " -560,\n",
       " -560,\n",
       " -560,\n",
       " -557,\n",
       " -557,\n",
       " -556,\n",
       " -555,\n",
       " -553,\n",
       " -553,\n",
       " -551,\n",
       " -551,\n",
       " -550,\n",
       " -549,\n",
       " -543,\n",
       " -542,\n",
       " -540,\n",
       " -539,\n",
       " -538,\n",
       " -538,\n",
       " -535,\n",
       " -534,\n",
       " -532,\n",
       " -530,\n",
       " -529,\n",
       " -526,\n",
       " -525,\n",
       " -524,\n",
       " -521,\n",
       " -520,\n",
       " -520,\n",
       " -517,\n",
       " -513,\n",
       " -512,\n",
       " -512,\n",
       " -506,\n",
       " -504,\n",
       " -501,\n",
       " -499,\n",
       " -499,\n",
       " -499,\n",
       " -498,\n",
       " -492,\n",
       " -491,\n",
       " -482,\n",
       " -482,\n",
       " -479,\n",
       " -477,\n",
       " -477,\n",
       " -475,\n",
       " -474,\n",
       " -470,\n",
       " -469,\n",
       " -468,\n",
       " -465,\n",
       " -464,\n",
       " -461,\n",
       " -460,\n",
       " -459,\n",
       " -454,\n",
       " -452,\n",
       " -450,\n",
       " -448,\n",
       " -445,\n",
       " -442,\n",
       " -437,\n",
       " -433,\n",
       " -432,\n",
       " -431,\n",
       " -426,\n",
       " -421,\n",
       " -420,\n",
       " -419,\n",
       " -415,\n",
       " -414,\n",
       " -412,\n",
       " -411,\n",
       " -409,\n",
       " -406,\n",
       " -405,\n",
       " -405,\n",
       " -397,\n",
       " -392,\n",
       " -392,\n",
       " -387,\n",
       " -386,\n",
       " -384,\n",
       " -383,\n",
       " -381,\n",
       " -373,\n",
       " -372,\n",
       " -369,\n",
       " -365,\n",
       " -360,\n",
       " -357,\n",
       " -357,\n",
       " -352,\n",
       " -350,\n",
       " -347,\n",
       " -346,\n",
       " -345,\n",
       " -344,\n",
       " -342,\n",
       " -341,\n",
       " -341,\n",
       " -339,\n",
       " -337,\n",
       " -337,\n",
       " -336,\n",
       " -334,\n",
       " -334,\n",
       " -327,\n",
       " -324,\n",
       " -324,\n",
       " -324,\n",
       " -323,\n",
       " -321,\n",
       " -318,\n",
       " -314,\n",
       " -312,\n",
       " -312,\n",
       " -311,\n",
       " -308,\n",
       " -305,\n",
       " -304,\n",
       " -299,\n",
       " -299,\n",
       " -298,\n",
       " -295,\n",
       " -294,\n",
       " -285,\n",
       " -285,\n",
       " -284,\n",
       " -283,\n",
       " -281,\n",
       " -279,\n",
       " -273,\n",
       " -268,\n",
       " -265,\n",
       " -262,\n",
       " -262,\n",
       " -262,\n",
       " -262,\n",
       " -261,\n",
       " -260,\n",
       " -259,\n",
       " -259,\n",
       " -257,\n",
       " -255,\n",
       " -252,\n",
       " -251,\n",
       " -248,\n",
       " -248,\n",
       " -246,\n",
       " -245,\n",
       " -243,\n",
       " -239,\n",
       " -237,\n",
       " -237,\n",
       " -234,\n",
       " -232,\n",
       " -228,\n",
       " -228,\n",
       " -226,\n",
       " -225,\n",
       " -225,\n",
       " -219,\n",
       " -216,\n",
       " -214,\n",
       " -212,\n",
       " -210,\n",
       " -209,\n",
       " -207,\n",
       " -205,\n",
       " -205,\n",
       " -202,\n",
       " -201,\n",
       " -200,\n",
       " -199,\n",
       " -199,\n",
       " -197,\n",
       " -197,\n",
       " -197,\n",
       " -196,\n",
       " -193,\n",
       " -192,\n",
       " -191,\n",
       " -189,\n",
       " -186,\n",
       " -185,\n",
       " -181,\n",
       " -181,\n",
       " -180,\n",
       " -179,\n",
       " -177,\n",
       " -176,\n",
       " -168,\n",
       " -161,\n",
       " -157,\n",
       " -152,\n",
       " -151,\n",
       " -151,\n",
       " -145,\n",
       " -142,\n",
       " -138,\n",
       " -138,\n",
       " -136,\n",
       " -135,\n",
       " -135,\n",
       " -134,\n",
       " -134,\n",
       " -131,\n",
       " -129,\n",
       " -125,\n",
       " -123,\n",
       " -121,\n",
       " -121,\n",
       " -118,\n",
       " -117,\n",
       " -116,\n",
       " -116,\n",
       " -115,\n",
       " -115,\n",
       " -114,\n",
       " -113,\n",
       " -112,\n",
       " -111,\n",
       " -107,\n",
       " -101,\n",
       " -96,\n",
       " -94,\n",
       " -94,\n",
       " -93,\n",
       " -92,\n",
       " -92,\n",
       " -89,\n",
       " -88,\n",
       " -86,\n",
       " -83,\n",
       " -81,\n",
       " -76,\n",
       " -73,\n",
       " -73,\n",
       " -72,\n",
       " -70,\n",
       " -65,\n",
       " -63,\n",
       " -63,\n",
       " -54,\n",
       " -50,\n",
       " -47,\n",
       " -47,\n",
       " -45,\n",
       " -44,\n",
       " -43,\n",
       " -40,\n",
       " -38,\n",
       " -35,\n",
       " -33,\n",
       " -33,\n",
       " -32,\n",
       " -31,\n",
       " -30,\n",
       " -30,\n",
       " -29,\n",
       " -26,\n",
       " -25,\n",
       " -23,\n",
       " -22,\n",
       " -21,\n",
       " -21,\n",
       " -20,\n",
       " -18,\n",
       " -13,\n",
       " -12,\n",
       " -10,\n",
       " -7,\n",
       " -6,\n",
       " -5,\n",
       " -5,\n",
       " -3,\n",
       " -1,\n",
       " 1,\n",
       " 3,\n",
       " 3,\n",
       " 4,\n",
       " 5,\n",
       " 9,\n",
       " 11,\n",
       " 15,\n",
       " 16,\n",
       " 18,\n",
       " 21,\n",
       " 24,\n",
       " 26,\n",
       " 26,\n",
       " 27,\n",
       " 28,\n",
       " 28,\n",
       " 30,\n",
       " 31,\n",
       " 34,\n",
       " 35,\n",
       " 35,\n",
       " 37,\n",
       " 39,\n",
       " 40,\n",
       " 40,\n",
       " 40,\n",
       " 40,\n",
       " 40,\n",
       " 43,\n",
       " 44,\n",
       " 46,\n",
       " 49,\n",
       " 54,\n",
       " 56,\n",
       " 59,\n",
       " 60,\n",
       " 61,\n",
       " 62,\n",
       " 68,\n",
       " 71,\n",
       " 73,\n",
       " 77,\n",
       " 86,\n",
       " 87,\n",
       " 88,\n",
       " 90,\n",
       " 93,\n",
       " 94,\n",
       " 97,\n",
       " 98,\n",
       " 100,\n",
       " 101,\n",
       " 105,\n",
       " 108,\n",
       " 110,\n",
       " 113,\n",
       " 114,\n",
       " 118,\n",
       " 119,\n",
       " 120,\n",
       " 121,\n",
       " 122,\n",
       " 123,\n",
       " 123,\n",
       " 131,\n",
       " 131,\n",
       " 132,\n",
       " 132,\n",
       " 133,\n",
       " 137,\n",
       " 138,\n",
       " 140,\n",
       " 140,\n",
       " 141,\n",
       " 141,\n",
       " 141,\n",
       " 143,\n",
       " 143,\n",
       " 146,\n",
       " 148,\n",
       " 149,\n",
       " 150,\n",
       " 150,\n",
       " 154,\n",
       " 156,\n",
       " 158,\n",
       " 158,\n",
       " 159,\n",
       " 160,\n",
       " 160,\n",
       " 161,\n",
       " 163,\n",
       " 165,\n",
       " 167,\n",
       " 172,\n",
       " 173,\n",
       " 173,\n",
       " 174,\n",
       " 175,\n",
       " 177,\n",
       " 179,\n",
       " 180,\n",
       " 183,\n",
       " 184,\n",
       " 186,\n",
       " 187,\n",
       " 189,\n",
       " 196,\n",
       " 197,\n",
       " 199,\n",
       " 199,\n",
       " 202,\n",
       " 202,\n",
       " 204,\n",
       " 206,\n",
       " 209,\n",
       " 209,\n",
       " 214,\n",
       " 215,\n",
       " 218,\n",
       " 219,\n",
       " 219,\n",
       " 221,\n",
       " 223,\n",
       " 224,\n",
       " 226,\n",
       " 228,\n",
       " 232,\n",
       " 234,\n",
       " 234,\n",
       " 236,\n",
       " 238,\n",
       " 240,\n",
       " 241,\n",
       " 244,\n",
       " 245,\n",
       " 246,\n",
       " 246,\n",
       " 247,\n",
       " 249,\n",
       " 255,\n",
       " 260,\n",
       " 261,\n",
       " 261,\n",
       " 271,\n",
       " 273,\n",
       " 273,\n",
       " 278,\n",
       " 279,\n",
       " 280,\n",
       " 281,\n",
       " 282,\n",
       " 285,\n",
       " 285,\n",
       " 286,\n",
       " 286,\n",
       " 292,\n",
       " 293,\n",
       " 298,\n",
       " 298,\n",
       " 299,\n",
       " 302,\n",
       " 302,\n",
       " 303,\n",
       " 303,\n",
       " 303,\n",
       " 305,\n",
       " 308,\n",
       " 308,\n",
       " 308,\n",
       " 311,\n",
       " 311,\n",
       " 314,\n",
       " 315,\n",
       " 316,\n",
       " 316,\n",
       " 318,\n",
       " 321,\n",
       " 328,\n",
       " 328,\n",
       " 328,\n",
       " 329,\n",
       " 330,\n",
       " 332,\n",
       " 335,\n",
       " 335,\n",
       " 335,\n",
       " 336,\n",
       " 336,\n",
       " 337,\n",
       " 337,\n",
       " 338,\n",
       " 339,\n",
       " 340,\n",
       " 340,\n",
       " 344,\n",
       " 348,\n",
       " 349,\n",
       " 349,\n",
       " 353,\n",
       " 356,\n",
       " 362,\n",
       " 363,\n",
       " 365,\n",
       " 365,\n",
       " 369,\n",
       " 373,\n",
       " 380,\n",
       " 381,\n",
       " 381,\n",
       " 383,\n",
       " 384,\n",
       " 384,\n",
       " 385,\n",
       " 387,\n",
       " 389,\n",
       " 392,\n",
       " 393,\n",
       " 393,\n",
       " 395,\n",
       " 398,\n",
       " 399,\n",
       " 400,\n",
       " 404,\n",
       " 405,\n",
       " 405,\n",
       " 407,\n",
       " 408,\n",
       " 410,\n",
       " 413,\n",
       " 414,\n",
       " 416,\n",
       " 423,\n",
       " 423,\n",
       " 426,\n",
       " 429,\n",
       " 432,\n",
       " 434,\n",
       " 436,\n",
       " 438,\n",
       " 441,\n",
       " 442,\n",
       " 444,\n",
       " 445,\n",
       " 447,\n",
       " 459,\n",
       " 460,\n",
       " 461,\n",
       " 467,\n",
       " 470,\n",
       " 472,\n",
       " 473,\n",
       " 479,\n",
       " 482,\n",
       " 488,\n",
       " 489,\n",
       " 493,\n",
       " 493,\n",
       " 502,\n",
       " 502,\n",
       " 505,\n",
       " 507,\n",
       " 509,\n",
       " 510,\n",
       " 511,\n",
       " 512,\n",
       " 513,\n",
       " 514,\n",
       " 516,\n",
       " 517,\n",
       " 518,\n",
       " 523,\n",
       " 526,\n",
       " 527,\n",
       " 528,\n",
       " 528,\n",
       " 530,\n",
       " 533,\n",
       " 535,\n",
       " 538,\n",
       " 539,\n",
       " 543,\n",
       " 549,\n",
       " 550,\n",
       " 550,\n",
       " 550,\n",
       " 552,\n",
       " 554,\n",
       " 556,\n",
       " 557,\n",
       " 558,\n",
       " 559,\n",
       " 561,\n",
       " 564,\n",
       " 565,\n",
       " 565,\n",
       " 565,\n",
       " 567,\n",
       " 568,\n",
       " 569,\n",
       " 569,\n",
       " 571,\n",
       " 572,\n",
       " 580,\n",
       " 581,\n",
       " 584,\n",
       " 585,\n",
       " 587,\n",
       " 594,\n",
       " 594,\n",
       " 596,\n",
       " 597,\n",
       " 597,\n",
       " 599,\n",
       " 600,\n",
       " 601,\n",
       " 608,\n",
       " 610,\n",
       " 613,\n",
       " 614,\n",
       " 615,\n",
       " 615,\n",
       " 618,\n",
       " 619,\n",
       " 619,\n",
       " 619,\n",
       " 620,\n",
       " 623,\n",
       " 624,\n",
       " 627,\n",
       " 628,\n",
       " 628,\n",
       " 630,\n",
       " 635,\n",
       " 640,\n",
       " 645,\n",
       " 646,\n",
       " 648,\n",
       " 648,\n",
       " 650,\n",
       " 652,\n",
       " 653,\n",
       " 654,\n",
       " 656,\n",
       " 660,\n",
       " 663,\n",
       " 664,\n",
       " 667,\n",
       " 671,\n",
       " 676,\n",
       " 676,\n",
       " 677,\n",
       " 678,\n",
       " 684,\n",
       " 684,\n",
       " 684,\n",
       " 693,\n",
       " 693,\n",
       " 695,\n",
       " 700,\n",
       " 701,\n",
       " 705,\n",
       " 706,\n",
       " 706,\n",
       " 706,\n",
       " 708,\n",
       " 709,\n",
       " 715,\n",
       " 715,\n",
       " 718,\n",
       " 720,\n",
       " 720,\n",
       " 724,\n",
       " 727,\n",
       " 733,\n",
       " 735,\n",
       " 738,\n",
       " 742,\n",
       " 743,\n",
       " 744,\n",
       " 745,\n",
       " 745,\n",
       " 747,\n",
       " 750,\n",
       " 751,\n",
       " 755,\n",
       " 755,\n",
       " 756,\n",
       " 760,\n",
       " 760,\n",
       " 763,\n",
       " 763,\n",
       " 771,\n",
       " 777,\n",
       " 778,\n",
       " 780,\n",
       " 789,\n",
       " 795,\n",
       " 797,\n",
       " 800,\n",
       " 800,\n",
       " 801,\n",
       " 805,\n",
       " 807,\n",
       " 813,\n",
       " 819,\n",
       " 820,\n",
       " 821,\n",
       " 821,\n",
       " 827,\n",
       " 827,\n",
       " 829,\n",
       " 830,\n",
       " 835,\n",
       " 835,\n",
       " 837,\n",
       " 839,\n",
       " 840,\n",
       " 842,\n",
       " 843,\n",
       " 844,\n",
       " 847,\n",
       " 847,\n",
       " 848,\n",
       " 855,\n",
       " 856,\n",
       " 857,\n",
       " 857,\n",
       " 858,\n",
       " 860,\n",
       " 862,\n",
       " 864,\n",
       " 865,\n",
       " 865,\n",
       " 866,\n",
       " 869,\n",
       " 873,\n",
       " 875,\n",
       " 875,\n",
       " 877,\n",
       " 883,\n",
       " 883,\n",
       " 886,\n",
       " 897,\n",
       " 898,\n",
       " 898,\n",
       " 899,\n",
       " 901,\n",
       " 903,\n",
       " 905,\n",
       " 906,\n",
       " 906,\n",
       " 911,\n",
       " 911,\n",
       " 913,\n",
       " 914,\n",
       " 916,\n",
       " 918,\n",
       " 921,\n",
       " 924,\n",
       " 930,\n",
       " 932,\n",
       " 934,\n",
       " 934,\n",
       " 936,\n",
       " 938,\n",
       " 939,\n",
       " 946,\n",
       " 949,\n",
       " 951,\n",
       " 952,\n",
       " 952,\n",
       " 953,\n",
       " 955,\n",
       " 956,\n",
       " 956,\n",
       " 961,\n",
       " 963,\n",
       " 963,\n",
       " 968,\n",
       " 969,\n",
       " 969,\n",
       " 973,\n",
       " 973,\n",
       " 974,\n",
       " 976,\n",
       " 981,\n",
       " 982,\n",
       " 983,\n",
       " 984,\n",
       " 988,\n",
       " 988,\n",
       " 996,\n",
       " 996,\n",
       " 1000]"
      ]
     },
     "execution_count": 78,
     "metadata": {},
     "output_type": "execute_result"
    }
   ],
   "source": [
    "import random\n",
    "# use self written insertion sort on bigger list\n",
    "random_list = []\n",
    "for _ in range(1000):\n",
    "    random_list.append(random.randint(-1000, 1000))\n",
    "\n",
    "\n",
    "insertion_sort(random_list)"
   ]
  },
  {
   "cell_type": "code",
   "execution_count": null,
   "id": "0eb8190c-be7f-4eb7-8fb0-8ea0e0c0aa98",
   "metadata": {},
   "outputs": [],
   "source": []
  },
  {
   "cell_type": "code",
   "execution_count": null,
   "id": "32177f95-adc8-4ac6-8199-bc3d1f51d535",
   "metadata": {},
   "outputs": [],
   "source": []
  },
  {
   "cell_type": "code",
   "execution_count": null,
   "id": "a620ade8-13ff-4e01-b0b2-50db3b6c5749",
   "metadata": {},
   "outputs": [],
   "source": []
  },
  {
   "cell_type": "code",
   "execution_count": null,
   "id": "cd4b1bfe-9a0c-4fb2-bbfc-e8a21e3895d6",
   "metadata": {},
   "outputs": [],
   "source": []
  },
  {
   "cell_type": "code",
   "execution_count": 79,
   "id": "3a1050a2-be7f-43d0-8d70-c8aea29bdecb",
   "metadata": {},
   "outputs": [],
   "source": [
    "# gemini code to generate video from sequence of images"
   ]
  },
  {
   "cell_type": "code",
   "execution_count": 80,
   "id": "9eb06d1d-7508-43ed-9174-757e55c697b1",
   "metadata": {},
   "outputs": [],
   "source": [
    "import cv2\n",
    "import os\n",
    "from natsort import natsorted  # For natural sorting of filenames\n",
    "\n",
    "def images_to_mp4(image_folder, output_filename, fps=30):\n",
    "    \"\"\"\n",
    "    Converts a sequence of images in a folder to an MP4 video.\n",
    "\n",
    "    Args:\n",
    "        image_folder (str): Path to the folder containing the image sequence.\n",
    "        output_filename (str): Name of the output MP4 file.\n",
    "        fps (int): Frames per second for the output video (default is 30).\n",
    "    \"\"\"\n",
    "    images = [img for img in os.listdir(image_folder) if img.lower().endswith(('.png', '.jpg', '.jpeg', '.bmp', '.gif'))]\n",
    "    images = natsorted(images)  # Sort filenames naturally\n",
    "\n",
    "    if not images:\n",
    "        print(f\"No image files found in: {image_folder}\")\n",
    "        return\n",
    "\n",
    "    first_image_path = os.path.join(image_folder, images[0])\n",
    "    frame = cv2.imread(first_image_path)\n",
    "    height, width, channels = frame.shape\n",
    "\n",
    "    fourcc = cv2.VideoWriter_fourcc(*'mp4v')  # Codec for MP4\n",
    "    out = cv2.VideoWriter(output_filename, fourcc, fps, (width, height))\n",
    "\n",
    "    print(f\"Converting {len(images)} images to {output_filename} at {fps} FPS...\")\n",
    "\n",
    "    for image_name in images:\n",
    "        image_path = os.path.join(image_folder, image_name)\n",
    "        frame = cv2.imread(image_path)\n",
    "        out.write(frame)\n",
    "\n",
    "    out.release()\n",
    "    print(f\"Video '{output_filename}' created successfully.\")"
   ]
  },
  {
   "cell_type": "code",
   "execution_count": 84,
   "id": "5e9ce8bf-01e8-4a49-bcf6-9be4b9621624",
   "metadata": {},
   "outputs": [
    {
     "name": "stdout",
     "output_type": "stream",
     "text": [
      "Converting 1000 images to insertionsort.mp4 at 70 FPS...\n",
      "Video 'insertionsort.mp4' created successfully.\n"
     ]
    }
   ],
   "source": [
    "image_folder = \"chapter7animation\"  # Replace with the actual path\n",
    "output_filename = \"insertionsort.mp4\"\n",
    "frames_per_second = 70  # You can adjust the FPS\n",
    "\n",
    "images_to_mp4(image_folder, output_filename, frames_per_second)"
   ]
  },
  {
   "cell_type": "code",
   "execution_count": 88,
   "id": "c6496964-8c45-4ea3-ac37-12a5ed343d72",
   "metadata": {},
   "outputs": [
    {
     "name": "stdout",
     "output_type": "stream",
     "text": [
      "see insertionsort.mp4\n"
     ]
    }
   ],
   "source": [
    "print('see insertionsort.mp4')"
   ]
  }
 ],
 "metadata": {
  "kernelspec": {
   "display_name": "Python 3 (ipykernel)",
   "language": "python",
   "name": "python3"
  },
  "language_info": {
   "codemirror_mode": {
    "name": "ipython",
    "version": 3
   },
   "file_extension": ".py",
   "mimetype": "text/x-python",
   "name": "python",
   "nbconvert_exporter": "python",
   "pygments_lexer": "ipython3",
   "version": "3.13.2"
  }
 },
 "nbformat": 4,
 "nbformat_minor": 5
}
