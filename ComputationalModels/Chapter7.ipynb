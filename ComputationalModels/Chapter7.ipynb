{
 "cells": [
  {
   "metadata": {},
   "id": "56c7dfd8-1ee2-435c-8881-4355bf19dd04",
   "cell_type": "markdown",
   "source": "# Chapter 7 Python Lists, Strings, and Other Data Sequences"
  },
  {
   "metadata": {
    "trusted": false
   },
   "id": "e66cfddf-8c4e-475d-b5af-4428232770c7",
   "cell_type": "code",
   "source": "",
   "execution_count": null,
   "outputs": []
  },
  {
   "metadata": {
    "trusted": false
   },
   "id": "c60c9cef-1666-49d8-b447-f6c8af5856e2",
   "cell_type": "code",
   "source": "",
   "execution_count": null,
   "outputs": []
  },
  {
   "metadata": {},
   "id": "5f0bcb89-46bd-44c5-b94e-8b927dcda8f0",
   "cell_type": "markdown",
   "source": "Chapter 7 Exercises pg 159 of 492"
  },
  {
   "metadata": {
    "trusted": false
   },
   "id": "c9176e72-7d87-4f76-9d9f-1b5eea4685bf",
   "cell_type": "code",
   "source": "# TODO: the definition of the median of a group of numbers arranged\n#       in ascending (or descending) order is the value in the middle\n#       the mode is hte number that appears most often.  Write a\n#       program that finds the median and mode of a list\n\n# TODO: develop a python program that reads the values of numbers\n#       and builds a list.  Copy the even numbers into a separate\n#       list, the odd numbers into another list, and the negative\n#       numbers into another list.  The program must print all of\n#       the lists separately\n\n# TODO: program that solves the same probelm described in the previous\n#       step.  use nested list instead of three separate lists\n\n# TODO: program that computes the standard deviation of values in\n#       an array.  standard deviation measures the spread, or\n#       dispersion, of values in the array with basis around the\n#       average value.  The standard deviation of array X with n\n#       elements is defined as:\n#\n#\n#\n#           std = sqrt(sqd/(n-1))\n# \n# \n# where sqd = j=0En-1 (X_j - Av)^2\n\n# TODO: a program that finds the minimum value element in an array\n#       and returns the index value of the element found\n\n# TODO: computational model that computes the average, minimum, and\n#       maximum rainfall per year and per quarter (for the last 5\n#       years) from the rainfall data provided for the last five\n#       years (google search it). use an excel or csv file to store\n#       the data\n\n# TODO: a program that sorts an array using the Insertion sort methoda",
   "execution_count": 1,
   "outputs": []
  },
  {
   "metadata": {},
   "id": "76d9411a-0007-41ae-8988-b7ecf71b5d38",
   "cell_type": "markdown",
   "source": "<hr>"
  },
  {
   "metadata": {
    "trusted": false
   },
   "id": "a463b6db-ea42-45c7-ae75-d48ad6ef6c40",
   "cell_type": "code",
   "source": "# TODO: the definition of the median of a group of numbers arranged\n#       in ascending (or descending) order is the value in the middle\n#       the mode is the number that appears most often.  Write a\n#       program that finds the median and mode of a list",
   "execution_count": 2,
   "outputs": []
  },
  {
   "metadata": {
    "trusted": true
   },
   "id": "92d589d8-0e93-4835-b9a4-2825b66bf339",
   "cell_type": "code",
   "source": "test_list = [4, 8, 9, 3, 2, 1, 2]\nprint(f\"median 3\")\nprint(f\"mode {29/7}\")\ntest_list.sort()\nprint(test_list)\n\ndef return_median_mode():\n    mode = sum(test_list)/len(test_list)\n    if len(test_list) % 2 == 0:\n        second = int(len(test_list)/2)\n        first = second - 1\n        median = (test_list[first] + test_list[second])/2\n        \n    else:\n        median = test_list[int(len(test_list)/2)]\n    \n    return median, mode\n\nmed_func, mode_func = return_median_mode()\nprint(f\"median {med_func}\")\nprint(f\"mode {mode_func}\")",
   "execution_count": 15,
   "outputs": [
    {
     "output_type": "stream",
     "text": "median 3\nmode 4.142857142857143\n[1, 2, 2, 3, 4, 8, 9]\nmedian 3\nmode 4.142857142857143\n",
     "name": "stdout"
    }
   ]
  },
  {
   "metadata": {},
   "id": "e0fd75c0-aca7-49c9-ad40-2cbc6ca32736",
   "cell_type": "markdown",
   "source": "<hr>"
  },
  {
   "metadata": {
    "trusted": true
   },
   "id": "6e5802e8-d457-4e01-bd88-09396618e058",
   "cell_type": "code",
   "source": "# TODO: develop a python program that reads the values of numbers\n#       and builds a list.  Copy the even numbers into a separate\n#       list, the odd numbers into another list, and the negative\n#       numbers into another list.  The program must print all of\n#       the lists separately\ngo = True\nnums = []\nwhile go:\n    nums.append(int(input('next integer: ')))\n    stop = input('press n to stop')\n    if stop == 'n':\n        go = False\nevens = [x for x in nums if x%2==0]\nodds = [y for y in nums if y%2!=0]",
   "execution_count": 3,
   "outputs": [
    {
     "output_type": "error",
     "ename": "KeyboardInterrupt",
     "evalue": "Interrupted by user",
     "traceback": [
      "\u001b[0;31m---------------------------------------------------------------------------\u001b[0m",
      "\u001b[0;31mKeyboardInterrupt\u001b[0m                         Traceback (most recent call last)",
      "\u001b[0;32m<ipython-input-3-7a793b3c2002>\u001b[0m in \u001b[0;36m<module>\u001b[0;34m\u001b[0m\n\u001b[1;32m      7\u001b[0m \u001b[0mnums\u001b[0m \u001b[0;34m=\u001b[0m \u001b[0;34m[\u001b[0m\u001b[0;34m]\u001b[0m\u001b[0;34m\u001b[0m\u001b[0;34m\u001b[0m\u001b[0m\n\u001b[1;32m      8\u001b[0m \u001b[0;32mwhile\u001b[0m \u001b[0mgo\u001b[0m\u001b[0;34m:\u001b[0m\u001b[0;34m\u001b[0m\u001b[0;34m\u001b[0m\u001b[0m\n\u001b[0;32m----> 9\u001b[0;31m     \u001b[0mnums\u001b[0m\u001b[0;34m.\u001b[0m\u001b[0mappend\u001b[0m\u001b[0;34m(\u001b[0m\u001b[0mint\u001b[0m\u001b[0;34m(\u001b[0m\u001b[0minput\u001b[0m\u001b[0;34m(\u001b[0m\u001b[0;34m'next integer: '\u001b[0m\u001b[0;34m)\u001b[0m\u001b[0;34m)\u001b[0m\u001b[0;34m)\u001b[0m\u001b[0;34m\u001b[0m\u001b[0;34m\u001b[0m\u001b[0m\n\u001b[0m\u001b[1;32m     10\u001b[0m     \u001b[0mstop\u001b[0m \u001b[0;34m=\u001b[0m \u001b[0minput\u001b[0m\u001b[0;34m(\u001b[0m\u001b[0;34m'press n to stop'\u001b[0m\u001b[0;34m)\u001b[0m\u001b[0;34m\u001b[0m\u001b[0;34m\u001b[0m\u001b[0m\n\u001b[1;32m     11\u001b[0m     \u001b[0;32mif\u001b[0m \u001b[0mstop\u001b[0m \u001b[0;34m==\u001b[0m \u001b[0;34m'n'\u001b[0m\u001b[0;34m:\u001b[0m\u001b[0;34m\u001b[0m\u001b[0;34m\u001b[0m\u001b[0m\n",
      "\u001b[0;32m/private/var/containers/Bundle/Application/51CA1542-7AF9-40EB-BFA3-6248708F0708/Juno.app/pinned-packages/ipykernel/kernelbase.py\u001b[0m in \u001b[0;36mraw_input\u001b[0;34m(self, prompt)\u001b[0m\n\u001b[1;32m    848\u001b[0m                 \u001b[0;34m\"raw_input was called, but this frontend does not support input requests.\"\u001b[0m\u001b[0;34m\u001b[0m\u001b[0;34m\u001b[0m\u001b[0m\n\u001b[1;32m    849\u001b[0m             )\n\u001b[0;32m--> 850\u001b[0;31m         return self._input_request(str(prompt),\n\u001b[0m\u001b[1;32m    851\u001b[0m             \u001b[0mself\u001b[0m\u001b[0;34m.\u001b[0m\u001b[0m_parent_ident\u001b[0m\u001b[0;34m,\u001b[0m\u001b[0;34m\u001b[0m\u001b[0;34m\u001b[0m\u001b[0m\n\u001b[1;32m    852\u001b[0m             \u001b[0mself\u001b[0m\u001b[0;34m.\u001b[0m\u001b[0m_parent_header\u001b[0m\u001b[0;34m,\u001b[0m\u001b[0;34m\u001b[0m\u001b[0;34m\u001b[0m\u001b[0m\n",
      "\u001b[0;32m/private/var/containers/Bundle/Application/51CA1542-7AF9-40EB-BFA3-6248708F0708/Juno.app/pinned-packages/ipykernel/kernelbase.py\u001b[0m in \u001b[0;36m_input_request\u001b[0;34m(self, prompt, ident, parent, password)\u001b[0m\n\u001b[1;32m    892\u001b[0m             \u001b[0;32mexcept\u001b[0m \u001b[0mKeyboardInterrupt\u001b[0m\u001b[0;34m:\u001b[0m\u001b[0;34m\u001b[0m\u001b[0;34m\u001b[0m\u001b[0m\n\u001b[1;32m    893\u001b[0m                 \u001b[0;31m# re-raise KeyboardInterrupt, to truncate traceback\u001b[0m\u001b[0;34m\u001b[0m\u001b[0;34m\u001b[0m\u001b[0m\n\u001b[0;32m--> 894\u001b[0;31m                 \u001b[0;32mraise\u001b[0m \u001b[0mKeyboardInterrupt\u001b[0m\u001b[0;34m(\u001b[0m\u001b[0;34m\"Interrupted by user\"\u001b[0m\u001b[0;34m)\u001b[0m \u001b[0;32mfrom\u001b[0m \u001b[0;32mNone\u001b[0m\u001b[0;34m\u001b[0m\u001b[0;34m\u001b[0m\u001b[0m\n\u001b[0m\u001b[1;32m    895\u001b[0m             \u001b[0;32mexcept\u001b[0m \u001b[0mException\u001b[0m \u001b[0;32mas\u001b[0m \u001b[0me\u001b[0m\u001b[0;34m:\u001b[0m\u001b[0;34m\u001b[0m\u001b[0;34m\u001b[0m\u001b[0m\n\u001b[1;32m    896\u001b[0m                 \u001b[0mself\u001b[0m\u001b[0;34m.\u001b[0m\u001b[0mlog\u001b[0m\u001b[0;34m.\u001b[0m\u001b[0mwarning\u001b[0m\u001b[0;34m(\u001b[0m\u001b[0;34m\"Invalid Message:\"\u001b[0m\u001b[0;34m,\u001b[0m \u001b[0mexc_info\u001b[0m\u001b[0;34m=\u001b[0m\u001b[0;32mTrue\u001b[0m\u001b[0;34m)\u001b[0m\u001b[0;34m\u001b[0m\u001b[0;34m\u001b[0m\u001b[0m\n",
      "\u001b[0;31mKeyboardInterrupt\u001b[0m: Interrupted by user"
     ]
    }
   ]
  },
  {
   "metadata": {
    "trusted": true
   },
   "id": "529edc86-29b0-43c6-9476-14b05465b61e",
   "cell_type": "code",
   "source": "evens",
   "execution_count": 2,
   "outputs": [
    {
     "output_type": "execute_result",
     "execution_count": 2,
     "data": {
      "text/plain": "[2, 4, 10, 12]"
     },
     "metadata": {}
    }
   ]
  },
  {
   "metadata": {},
   "id": "5656c10c-90b5-4253-a6b6-07f3a3f85422",
   "cell_type": "markdown",
   "source": "<hr>"
  },
  {
   "metadata": {
    "trusted": false
   },
   "id": "cbe76caa-3fc3-474e-b14e-6ea755e9aa0d",
   "cell_type": "code",
   "source": "# TODO: program that solves the same probelm described in the previous\n#       step.  use nested list instead of three separate lists",
   "execution_count": 4,
   "outputs": []
  },
  {
   "metadata": {
    "trusted": false
   },
   "id": "2137e62b-9da1-4e83-b5af-3cbb8f3ac6c1",
   "cell_type": "code",
   "source": "",
   "execution_count": null,
   "outputs": []
  },
  {
   "metadata": {},
   "id": "0f933ce9-822f-49f4-bdaf-00adfadcb1a6",
   "cell_type": "markdown",
   "source": "<hr>"
  },
  {
   "metadata": {
    "trusted": false
   },
   "id": "9cd4088e-03cb-4015-9861-11f6eb9ef88d",
   "cell_type": "code",
   "source": "# TODO: program that computes the standard deviation of values in\n#       an array.  standard deviation measures the spread, or\n#       dispersion, of values in the array with basis around the\n#       average value.  The standard deviation of array X with n\n#       elements is defined as:\n#\n#\n#\n#           std = sqrt(sqd/(n-1))\n# \n# \n# where sqd = j=0En-1 (X_j - Av)^2",
   "execution_count": 5,
   "outputs": []
  },
  {
   "metadata": {
    "trusted": false
   },
   "id": "106beb21-3579-4a24-bbff-26d77b8f9bf0",
   "cell_type": "code",
   "source": "",
   "execution_count": null,
   "outputs": []
  },
  {
   "metadata": {},
   "id": "831e8d26-3fed-4ba3-bbe9-d80a5157d190",
   "cell_type": "markdown",
   "source": "<hr>"
  },
  {
   "metadata": {
    "trusted": false
   },
   "id": "6969721b-a2ce-4e9c-9418-0a2ba394cd2b",
   "cell_type": "code",
   "source": "# TODO: a program that finds the minimum value element in an array\n#       and returns the index value of the element found",
   "execution_count": 6,
   "outputs": []
  },
  {
   "metadata": {
    "trusted": false
   },
   "id": "8ffa51a9-a68d-4d37-bda2-057527f22b11",
   "cell_type": "code",
   "source": "",
   "execution_count": null,
   "outputs": []
  },
  {
   "metadata": {},
   "id": "4009364d-5d8c-4c6d-a13e-f8dc628d1f01",
   "cell_type": "markdown",
   "source": "<hr>"
  },
  {
   "metadata": {
    "trusted": false
   },
   "id": "775aff1a-6893-42b5-9d66-766ef1ecae3e",
   "cell_type": "code",
   "source": "# TODO: computational model that computes the average, minimum, and\n#       maximum rainfall per year and per quarter (for the last 5\n#       years) from the rainfall data provided for the last five\n#       years (google search it). use an excel or csv file to store\n#       the data",
   "execution_count": null,
   "outputs": []
  },
  {
   "metadata": {
    "trusted": false
   },
   "id": "4097161a-a650-48f8-86ef-b5d905ba7ed6",
   "cell_type": "code",
   "source": "",
   "execution_count": null,
   "outputs": []
  },
  {
   "metadata": {},
   "id": "c90f08b5-b787-44c6-8535-e3bef8edb1eb",
   "cell_type": "markdown",
   "source": "<hr>"
  },
  {
   "metadata": {
    "trusted": false
   },
   "id": "bcc6787a-046a-446b-8db6-52a2db9930af",
   "cell_type": "code",
   "source": "# TODO: a program that sorts an array using the Insertion sort method",
   "execution_count": 7,
   "outputs": []
  },
  {
   "metadata": {
    "trusted": false
   },
   "id": "73d6731f-5443-4d28-af2a-d5cbde720c99",
   "cell_type": "code",
   "source": "",
   "execution_count": null,
   "outputs": []
  },
  {
   "metadata": {},
   "id": "1ceb916f-a8c2-4a4f-8489-77d72f0fa01e",
   "cell_type": "markdown",
   "source": "<hr>"
  }
 ],
 "metadata": {
  "kernelspec": {
   "name": "python3",
   "display_name": "Python 3",
   "language": "python"
  },
  "language_info": {
   "name": "python",
   "version": "3.10.4",
   "mimetype": "text/x-python",
   "codemirror_mode": {
    "name": "ipython",
    "version": 3
   },
   "pygments_lexer": "ipython3",
   "nbconvert_exporter": "python",
   "file_extension": ".py"
  }
 },
 "nbformat": 4,
 "nbformat_minor": 5
}