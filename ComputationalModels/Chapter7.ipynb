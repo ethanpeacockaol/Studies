{
 "cells": [
  {
   "cell_type": "markdown",
   "id": "56c7dfd8-1ee2-435c-8881-4355bf19dd04",
   "metadata": {},
   "source": [
    "# Chapter 7 Python Lists, Strings, and Other Data Sequences"
   ]
  },
  {
   "cell_type": "code",
   "execution_count": null,
   "id": "e66cfddf-8c4e-475d-b5af-4428232770c7",
   "metadata": {},
   "outputs": [],
   "source": []
  },
  {
   "cell_type": "code",
   "execution_count": null,
   "id": "c60c9cef-1666-49d8-b447-f6c8af5856e2",
   "metadata": {},
   "outputs": [],
   "source": []
  },
  {
   "cell_type": "markdown",
   "id": "5f0bcb89-46bd-44c5-b94e-8b927dcda8f0",
   "metadata": {},
   "source": [
    "Chapter 7 Exercises pg 159 of 492"
   ]
  },
  {
   "cell_type": "code",
   "execution_count": 1,
   "id": "c9176e72-7d87-4f76-9d9f-1b5eea4685bf",
   "metadata": {},
   "outputs": [],
   "source": [
    "# TODO: the definition of the median of a group of numbers arranged\n",
    "#       in ascending (or descending) order is the value in the middle\n",
    "#       the mode is hte number that appears most often.  Write a\n",
    "#       program that finds the median and mode of a list\n",
    "\n",
    "# TODO: develop a python program that reads the values of numbers\n",
    "#       and builds a list.  Copy the even numbers into a separate\n",
    "#       list, the odd numbers into another list, and the negative\n",
    "#       numbers into another list.  The program must print all of\n",
    "#       the lists separately\n",
    "\n",
    "# TODO: program that solves the same probelm described in the previous\n",
    "#       step.  use nested list instead of three separate lists\n",
    "\n",
    "# TODO: program that computes the standard deviation of values in\n",
    "#       an array.  standard deviation measures the spread, or\n",
    "#       dispersion, of values in the array with basis around the\n",
    "#       average value.  The standard deviation of array X with n\n",
    "#       elements is defined as:\n",
    "#\n",
    "#\n",
    "#\n",
    "#           std = sqrt(sqd/(n-1))\n",
    "# \n",
    "# \n",
    "# where sqd = j=0En-1 (X_j - Av)^2\n",
    "\n",
    "# TODO: a program that finds the minimum value element in an array\n",
    "#       and returns the index value of the element found\n",
    "\n",
    "# TODO: computational model that computes the average, minimum, and\n",
    "#       maximum rainfall per year and per quarter (for the last 5\n",
    "#       years) from the rainfall data provided for the last five\n",
    "#       years (google search it). use an excel or csv file to store\n",
    "#       the data\n",
    "\n",
    "# TODO: a program that sorts an array using the Insertion sort methoda"
   ]
  },
  {
   "cell_type": "markdown",
   "id": "76d9411a-0007-41ae-8988-b7ecf71b5d38",
   "metadata": {},
   "source": [
    "<hr>"
   ]
  },
  {
   "cell_type": "code",
   "execution_count": 2,
   "id": "a463b6db-ea42-45c7-ae75-d48ad6ef6c40",
   "metadata": {},
   "outputs": [],
   "source": [
    "# TODO: the definition of the median of a group of numbers arranged\n",
    "#       in ascending (or descending) order is the value in the middle\n",
    "#       the mode is the number that appears most often.  Write a\n",
    "#       program that finds the median and mode of a list"
   ]
  },
  {
   "cell_type": "code",
   "execution_count": 15,
   "id": "92d589d8-0e93-4835-b9a4-2825b66bf339",
   "metadata": {},
   "outputs": [
    {
     "name": "stdout",
     "output_type": "stream",
     "text": [
      "median 3\n",
      "mode 4.142857142857143\n",
      "[1, 2, 2, 3, 4, 8, 9]\n",
      "median 3\n",
      "mode 4.142857142857143\n"
     ]
    }
   ],
   "source": [
    "test_list = [4, 8, 9, 3, 2, 1, 2]\n",
    "print(f\"median 3\")\n",
    "print(f\"mode {29/7}\")\n",
    "test_list.sort()\n",
    "print(test_list)\n",
    "\n",
    "def return_median_mode():\n",
    "    mode = sum(test_list)/len(test_list)\n",
    "    if len(test_list) % 2 == 0:\n",
    "        second = int(len(test_list)/2)\n",
    "        first = second - 1\n",
    "        median = (test_list[first] + test_list[second])/2\n",
    "        \n",
    "    else:\n",
    "        median = test_list[int(len(test_list)/2)]\n",
    "    \n",
    "    return median, mode\n",
    "\n",
    "med_func, mode_func = return_median_mode()\n",
    "print(f\"median {med_func}\")\n",
    "print(f\"mode {mode_func}\")"
   ]
  },
  {
   "cell_type": "markdown",
   "id": "e0fd75c0-aca7-49c9-ad40-2cbc6ca32736",
   "metadata": {},
   "source": [
    "<hr>"
   ]
  },
  {
   "cell_type": "code",
   "execution_count": null,
   "id": "91e7048d",
   "metadata": {},
   "outputs": [],
   "source": [
    "# TODO: develop a python program that reads the values of numbers\n",
    "#       and builds a list.  Copy the even numbers into a separate\n",
    "#       list, the odd numbers into another list, and the negative\n",
    "#       numbers into another list.  The program must print all of\n",
    "#       the lists separately"
   ]
  },
  {
   "cell_type": "code",
   "execution_count": 3,
   "id": "6e5802e8-d457-4e01-bd88-09396618e058",
   "metadata": {},
   "outputs": [
    {
     "name": "stdout",
     "output_type": "stream",
     "text": [
      "next integer: 3\n",
      "press n to stop\n",
      "next integer: 4\n",
      "press n to stop\n",
      "next integer: 12\n",
      "press n to stop\n",
      "next integer: 202\n",
      "press n to stop\n",
      "next integer: 333\n",
      "press n to stop\n",
      "next integer: -9\n",
      "press n to stopn\n",
      "your list:\n",
      "[3, 4, 12, 202, 333, -9]\n",
      "evens:\n",
      "[4, 12, 202]\n",
      "odds:\n",
      "[3, 333, -9]\n",
      "negatives:\n",
      "[-9]\n"
     ]
    }
   ],
   "source": [
    "go = True\n",
    "nums = []\n",
    "while go:\n",
    "    nums.append(int(input('next integer: ')))\n",
    "    stop = input('press n to stop')\n",
    "    if stop == 'n':\n",
    "        go = False\n",
    "evens = [x for x in nums if x%2==0]\n",
    "odds = [y for y in nums if y%2!=0]\n",
    "\n",
    "negatives = [z for z in nums if z <0]\n",
    "\n",
    "print(f\"your list:\\n{nums}\")\n",
    "print(f\"evens:\\n{evens}\")\n",
    "print(f\"odds:\\n{odds}\")\n",
    "print(f\"negatives:\\n{negatives}\")"
   ]
  },
  {
   "cell_type": "markdown",
   "id": "5656c10c-90b5-4253-a6b6-07f3a3f85422",
   "metadata": {},
   "source": [
    "<hr>"
   ]
  },
  {
   "cell_type": "code",
   "execution_count": 4,
   "id": "cbe76caa-3fc3-474e-b14e-6ea755e9aa0d",
   "metadata": {},
   "outputs": [],
   "source": [
    "# TODO: program that solves the same probelm described in the previous\n",
    "#       step.  use nested list instead of three separate lists"
   ]
  },
  {
   "cell_type": "code",
   "execution_count": 3,
   "id": "2137e62b-9da1-4e83-b5af-3cbb8f3ac6c1",
   "metadata": {},
   "outputs": [
    {
     "name": "stdout",
     "output_type": "stream",
     "text": [
      "next integer: 10\n",
      "press n to stop\n",
      "next integer: 2\n",
      "press n to stop\n",
      "next integer: 9\n",
      "press n to stop\n",
      "next integer: -9\n",
      "press n to stopn\n",
      "your list:\n",
      "[10, 2, 9, -9]\n",
      "evens:\n",
      "[10, 2]\n",
      "odds:\n",
      "[9, -9]\n",
      "negatives:\n",
      "[-9]\n"
     ]
    }
   ],
   "source": [
    "go = True\n",
    "nums = []\n",
    "while go:\n",
    "    nums.append(int(input('next integer: ')))\n",
    "    stop = input('press n to stop')\n",
    "    if stop == 'n':\n",
    "        go = False\n",
    "nested = []\n",
    "nested.append([x for x in nums if x%2==0])\n",
    "nested.append([y for y in nums if y%2!=0])\n",
    "nested.append([z for z in nums if z <0])\n",
    "\n",
    "print(f\"your list:\\n{nums}\")\n",
    "print(f\"evens:\\n{nested[0]}\")\n",
    "print(f\"odds:\\n{nested[1]}\")\n",
    "print(f\"negatives:\\n{nested[2]}\")"
   ]
  },
  {
   "cell_type": "markdown",
   "id": "0f933ce9-822f-49f4-bdaf-00adfadcb1a6",
   "metadata": {},
   "source": [
    "<hr>"
   ]
  },
  {
   "cell_type": "code",
   "execution_count": 5,
   "id": "9cd4088e-03cb-4015-9861-11f6eb9ef88d",
   "metadata": {},
   "outputs": [],
   "source": [
    "# TODO: program that computes the standard deviation of values in\n",
    "#       an array.  standard deviation measures the spread, or\n",
    "#       dispersion, of values in the array with basis around the\n",
    "#       average value.  The standard deviation of array X with n\n",
    "#       elements is defined as:\n",
    "#\n",
    "#\n",
    "#\n",
    "#           std = sqrt(sqd/(n-1))\n",
    "#\n",
    "# \n",
    "# where sqd = j=0En-1 (X_j - Av)^2"
   ]
  },
  {
   "cell_type": "markdown",
   "id": "cdfeaea7",
   "metadata": {},
   "source": [
    "$std = \\sqrt{ \\frac{sqd}{n-1} }$\n",
    "\n",
    "Where\n",
    "\n",
    "$ sqd = \\sum_{j=0}^{n-1} (X_{j} - Av)^2 $"
   ]
  },
  {
   "cell_type": "code",
   "execution_count": 2,
   "id": "36ed0117-4545-46f6-8bab-03acbd2e7578",
   "metadata": {},
   "outputs": [
    {
     "name": "stdout",
     "output_type": "stream",
     "text": [
      "1.4142135623730951\n"
     ]
    }
   ],
   "source": [
    "from math import sqrt\n",
    "testarr = [1,2,3,4,5]\n",
    "n = len(testarr)\n",
    "avg = sum(testarr)/len(testarr)\n",
    "sqd = [(xj - avg)**2 for xj in testarr]\n",
    "sqd = sum(sqd)\n",
    "std = sqrt(sqd/len(testarr))\n",
    "print(std)"
   ]
  },
  {
   "cell_type": "markdown",
   "id": "831e8d26-3fed-4ba3-bbe9-d80a5157d190",
   "metadata": {},
   "source": [
    "<hr>"
   ]
  },
  {
   "cell_type": "code",
   "execution_count": 6,
   "id": "6969721b-a2ce-4e9c-9418-0a2ba394cd2b",
   "metadata": {},
   "outputs": [],
   "source": [
    "# TODO: a program that finds the minimum \n",
    "#       value element in an array\n",
    "#       and returns the index value \n",
    "#       of the element found"
   ]
  },
  {
   "cell_type": "code",
   "execution_count": 1,
   "id": "8ffa51a9-a68d-4d37-bda2-057527f22b11",
   "metadata": {},
   "outputs": [
    {
     "name": "stdout",
     "output_type": "stream",
     "text": [
      "minimum value: -7\n",
      "index of minval: 6\n"
     ]
    }
   ],
   "source": [
    "nums = [3,5,77,43,21,2,-7,44,3]\n",
    "min_val = nums[0]\n",
    "for num in nums:\n",
    "    if num < min_val:\n",
    "        min_val = num\n",
    "print(f\"minimum value: {min_val}\")\n",
    "\n",
    "index_min_val = 0\n",
    "for i in range(len(nums)):\n",
    "    if nums[i] == min_val:\n",
    "        index_min_val = i\n",
    "\n",
    "print(f\"index of minval: {index_min_val}\")"
   ]
  },
  {
   "cell_type": "markdown",
   "id": "4009364d-5d8c-4c6d-a13e-f8dc628d1f01",
   "metadata": {},
   "source": [
    "<hr>"
   ]
  },
  {
   "cell_type": "code",
   "execution_count": null,
   "id": "775aff1a-6893-42b5-9d66-766ef1ecae3e",
   "metadata": {},
   "outputs": [],
   "source": [
    "# TODO: computational model that computes\n",
    "#       the average, minimum, and\n",
    "#       maximum rainfall per year and per \n",
    "#       quarter (for the last 5\n",
    "#       years) from the rainfall data\n",
    "#       provided for the last five\n",
    "#       years (google search it). use an\n",
    "#       excel or csv file to store\n",
    "#       the data"
   ]
  },
  {
   "cell_type": "code",
   "execution_count": 26,
   "id": "4097161a-a650-48f8-86ef-b5d905ba7ed6",
   "metadata": {},
   "outputs": [
    {
     "name": "stdout",
     "output_type": "stream",
     "text": [
      "\n",
      "\n",
      "Matrix of rainfall data including years:\n",
      "[2024.0, 2023.0, 2022.0, 2021.0, 2020.0]\n",
      "[7.67, 14.03, 14.67, 13.57, 9.48]\n",
      "[19.01, 11.85, 15.22, 10.81, 11.12]\n",
      "[23.89, 17.97, 23.72, 18.34, 26.37]\n",
      "[4.29, 17.23, 5.11, 7.26, 7.02]\n",
      "\n",
      "\n",
      "\n",
      "The average rainfall per year was 55.726\n",
      "The minimum rainfall per year was in year 2021.0 with a total of 49.98\n",
      "The maximum rainfall per year was in year 2023.0 with a total of 61.08\n",
      "\n",
      "\n",
      "The average rainfall for q1 from 2020 to 2024 was 11.884\n",
      "The average rainfall for q2 from 2020 to 2024 was 13.602\n",
      "The average rainfall for q3 from 2020 to 2024 was 22.058\n",
      "The average rainfall for q4 from 2020 to 2024 was 8.181999999999999\n",
      "\n",
      "\n",
      "The minimum rainfall for q1 from 2020 to 2024 was 7.67\n",
      "The minimum rainfall for q2 from 2020 to 2024 was 10.81\n",
      "The minimum rainfall for q3 from 2020 to 2024 was 17.97\n",
      "The minimum rainfall for q4 from 2020 to 2024 was 4.29\n",
      "\n",
      "\n",
      "The maximum rainfall for q1 from 2020 to 2024 was 14.67\n",
      "The maximum rainfall for q2 from 2020 to 2024 was 19.01\n",
      "The maximum rainfall for q3 from 2020 to 2024 was 26.37\n",
      "The maximum rainfall for q4 from 2020 to 2024 was 17.23\n"
     ]
    }
   ],
   "source": [
    "# read in rain data\n",
    "file = open('ch7.csv')\n",
    "lines = [line for line in file]\n",
    "file.close()\n",
    "\n",
    "# parallel lists to hold data\n",
    "year = []\n",
    "q1 = []\n",
    "q2 = []\n",
    "q3 = []\n",
    "q4temp = []\n",
    "\n",
    "# populate data lists\n",
    "for line in lines:\n",
    "    splt = line.split(',')\n",
    "    year.append(float(splt[0]))\n",
    "    q1.append(float(splt[1]))\n",
    "    q2.append(float(splt[2]))\n",
    "    q3.append(float(splt[3]))\n",
    "    q4temp.append(splt[4])\n",
    "q4 = []\n",
    "for q in q4temp:\n",
    "    q4.append(float(q.replace('\\n','')))\n",
    "\n",
    "# list of rainfall total for 2020 to 2024\n",
    "total_per_year = [(q1[i]+q2[i]+q3[i]+q4[i]) for i in range(len(q1))]\n",
    "\n",
    "# minimum and maximum rainfall per year\n",
    "index_min = 0\n",
    "index_max = 0\n",
    "minimum_rain_all_years = total_per_year[index_min]\n",
    "maximum_rain_all_years = total_per_year[index_max]\n",
    "for i in range(1, len(total_per_year)):\n",
    "    # get minimum rain of all year totals\n",
    "    if total_per_year[i] < minimum_rain_all_years:\n",
    "        minimum_rain_all_years = total_per_year[i]\n",
    "        index_min = i\n",
    "    # get maximum rain of all year totals\n",
    "    if total_per_year[i] > maximum_rain_all_years:\n",
    "        maximum_rain_all_years = total_per_year[i]\n",
    "        index_max = i\n",
    "\n",
    "# display the parallel lists holding the data\n",
    "print(f\"\\n\\nMatrix of rainfall data including years:\\n{year}\\n{q1}\\n{q2}\\n{q3}\\n{q4}\\n\\n\\n\")\n",
    "\n",
    "# print average min and max per year\n",
    "print(f\"The average rainfall per year was {sum(total_per_year)/len(total_per_year)}\")\n",
    "print(f\"The minimum rainfall per year was in year {year[index_min]} with a total of {minimum_rain_all_years}\")\n",
    "print(f\"The maximum rainfall per year was in year {year[index_max]} with a total of {maximum_rain_all_years}\\n\\n\")\n",
    "\n",
    "# print average per quarter\n",
    "print(f\"The average rainfall for q1 from 2020 to 2024 was {sum(q1)/len(q1)}\")\n",
    "print(f\"The average rainfall for q2 from 2020 to 2024 was {sum(q2)/len(q2)}\")\n",
    "print(f\"The average rainfall for q3 from 2020 to 2024 was {sum(q3)/len(q3)}\")\n",
    "print(f\"The average rainfall for q4 from 2020 to 2024 was {sum(q4)/len(q4)}\\n\\n\")\n",
    "\n",
    "# sort for min and max values per quarter 0 & -1\n",
    "q1.sort()\n",
    "q2.sort()\n",
    "q3.sort()\n",
    "q4.sort()\n",
    "\n",
    "# print min and max per quarter\n",
    "print(f\"The minimum rainfall for q1 from 2020 to 2024 was {q1[0]}\")\n",
    "print(f\"The minimum rainfall for q2 from 2020 to 2024 was {q2[0]}\")\n",
    "print(f\"The minimum rainfall for q3 from 2020 to 2024 was {q3[0]}\")\n",
    "print(f\"The minimum rainfall for q4 from 2020 to 2024 was {q4[0]}\\n\\n\")\n",
    "\n",
    "print(f\"The maximum rainfall for q1 from 2020 to 2024 was {q1[-1]}\")\n",
    "print(f\"The maximum rainfall for q2 from 2020 to 2024 was {q2[-1]}\")\n",
    "print(f\"The maximum rainfall for q3 from 2020 to 2024 was {q3[-1]}\")\n",
    "print(f\"The maximum rainfall for q4 from 2020 to 2024 was {q4[-1]}\")"
   ]
  },
  {
   "cell_type": "markdown",
   "id": "c90f08b5-b787-44c6-8535-e3bef8edb1eb",
   "metadata": {},
   "source": [
    "<hr>"
   ]
  },
  {
   "cell_type": "code",
   "execution_count": 7,
   "id": "bcc6787a-046a-446b-8db6-52a2db9930af",
   "metadata": {},
   "outputs": [],
   "source": [
    "# TODO: a program that sorts an array using the Insertion sort method"
   ]
  },
  {
   "cell_type": "code",
   "execution_count": 1,
   "id": "73d6731f-5443-4d28-af2a-d5cbde720c99",
   "metadata": {},
   "outputs": [
    {
     "name": "stdout",
     "output_type": "stream",
     "text": [
      "[-1, 0, 3, 5, 7, 9, 44, 88]\n"
     ]
    }
   ],
   "source": [
    "mylist = [3, 5, -1, 0, 9, 88, 7, 44]\n",
    "\n",
    "for i in range(1, len(mylist)):\n",
    "    key = mylist[i]\n",
    "    j = i-1\n",
    "    while j >= 0 and mylist[j] > key:\n",
    "        mylist[j + 1] = mylist[j]\n",
    "        mylist[j] = key\n",
    "        j-=1\n",
    "\n",
    "print(mylist)"
   ]
  },
  {
   "cell_type": "code",
   "execution_count": null,
   "id": "563bdf85-74de-4e64-af73-3818d7ae0ee1",
   "metadata": {},
   "outputs": [],
   "source": []
  },
  {
   "cell_type": "markdown",
   "id": "1ceb916f-a8c2-4a4f-8489-77d72f0fa01e",
   "metadata": {},
   "source": [
    "<hr>"
   ]
  }
 ],
 "metadata": {
  "kernelspec": {
   "display_name": "Python 3 (ipykernel)",
   "language": "python",
   "name": "python3"
  },
  "language_info": {
   "codemirror_mode": {
    "name": "ipython",
    "version": 3
   },
   "file_extension": ".py",
   "mimetype": "text/x-python",
   "name": "python",
   "nbconvert_exporter": "python",
   "pygments_lexer": "ipython3",
   "version": "3.9.6"
  }
 },
 "nbformat": 4,
 "nbformat_minor": 5
}
