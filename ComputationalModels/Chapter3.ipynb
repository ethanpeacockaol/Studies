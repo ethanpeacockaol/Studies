{
 "cells": [
  {
   "cell_type": "markdown",
   "id": "8f6a06d9-a30f-48ad-aa4a-c77be13585e7",
   "metadata": {},
   "source": [
    "# Chapter 3: Modules and Fucntions"
   ]
  },
  {
   "cell_type": "code",
   "execution_count": null,
   "id": "b94d5c23-66cc-4b5b-9f17-7393d27b22e1",
   "metadata": {},
   "outputs": [],
   "source": []
  }
 ],
 "metadata": {
  "kernelspec": {
   "display_name": "Python 3 (ipykernel)",
   "language": "python",
   "name": "python3"
  },
  "language_info": {
   "codemirror_mode": {
    "name": "ipython",
    "version": 3
   },
   "file_extension": ".py",
   "mimetype": "text/x-python",
   "name": "python",
   "nbconvert_exporter": "python",
   "pygments_lexer": "ipython3",
   "version": "3.13.2"
  }
 },
 "nbformat": 4,
 "nbformat_minor": 5
}
