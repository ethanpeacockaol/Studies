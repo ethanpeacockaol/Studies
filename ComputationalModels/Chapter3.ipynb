{
  "cells": [
    {
      "cell_type": "markdown",
      "id": "8f6a06d9-a30f-48ad-aa4a-c77be13585e7",
      "metadata": {
        "id": "8f6a06d9-a30f-48ad-aa4a-c77be13585e7"
      },
      "source": [
        "# Chapter 3: Modules and Functions"
      ]
    },
    {
      "cell_type": "code",
      "execution_count": null,
      "id": "f3936f16-7c1d-430c-8063-813ac820638c",
      "metadata": {
        "id": "f3936f16-7c1d-430c-8063-813ac820638c"
      },
      "outputs": [],
      "source": [
        "# TODO: write a python function that uses more than two parameters\n",
        "\n",
        "# TODO: write the python code that calls the function that was defined\n",
        "#       with more than two parameters\n",
        "\n",
        "# TODO: Develop a python program that defines two functions one to compute\n",
        "#       the area of a triangle. The other to compute the circumference of the\n",
        "#       triangle.  The program must call these functions\n",
        "#       from instructions that input the corresponding values\n",
        "\n",
        "# TODO: create python function two functions one to compute area of a circle\n",
        "#       the other to compute circumference of a circle\n",
        "\n",
        "# TODO: create a python program that has defines a function\n",
        "#       to compute the volume of a cylinder\n",
        "\n",
        "# TODO: develop a python function that computes the volume of a sphere\n",
        "\n",
        "# TODO: develop a python program that defines two functions, one to compute\n",
        "#       the area of an ellipse, the other function to compute the\n",
        "#       circumference of an ellipse\n",
        "\n",
        "# TODO: develop a python program that computes the slope of a line\n",
        "#       between two points in a plane P1 with coordinate (x1, y1) and P2\n",
        "#       with coordinate (x2, y2).  The program should include a function\n",
        "#       slopef and the parameters of this function are the coordinates of\n",
        "#       the points in a plane.  The program must input the coordinate values"
      ]
    },
    {
      "cell_type": "markdown",
      "source": [
        "<hr>"
      ],
      "metadata": {
        "id": "luuezMNDM3tt"
      },
      "id": "luuezMNDM3tt"
    },
    {
      "cell_type": "code",
      "source": [
        "# TODO: write a python function that uses more than two parameters"
      ],
      "metadata": {
        "id": "qkUDDRgHM4Z9"
      },
      "id": "qkUDDRgHM4Z9",
      "execution_count": 1,
      "outputs": []
    },
    {
      "cell_type": "code",
      "source": [
        "def two_parameter_function(parameter1, parameter2):\n",
        "  print(f\"You passed in {parameter1} and {parameter2}\")"
      ],
      "metadata": {
        "id": "mvhrI1M8M7AO"
      },
      "id": "mvhrI1M8M7AO",
      "execution_count": 7,
      "outputs": []
    },
    {
      "cell_type": "markdown",
      "source": [
        "<hr>"
      ],
      "metadata": {
        "id": "c68W4SslNO9j"
      },
      "id": "c68W4SslNO9j"
    },
    {
      "cell_type": "code",
      "source": [
        "# TODO: write the python code that calls the function that was defined\n",
        "#       with more than two parameters"
      ],
      "metadata": {
        "id": "2XTtpcr8NEAf"
      },
      "id": "2XTtpcr8NEAf",
      "execution_count": 6,
      "outputs": []
    },
    {
      "cell_type": "code",
      "source": [
        "two_parameter_function(\"hey\", \"whats up?\")"
      ],
      "metadata": {
        "colab": {
          "base_uri": "https://localhost:8080/"
        },
        "id": "MtU2kzYHNQcd",
        "outputId": "dc9862e3-e0f9-4e70-e48a-1ce3b7636bee"
      },
      "id": "MtU2kzYHNQcd",
      "execution_count": 8,
      "outputs": [
        {
          "output_type": "stream",
          "name": "stdout",
          "text": [
            "You passed in hey and whats up?\n"
          ]
        }
      ]
    },
    {
      "cell_type": "markdown",
      "source": [
        "<hr>"
      ],
      "metadata": {
        "id": "Y9vJFk-_NUP_"
      },
      "id": "Y9vJFk-_NUP_"
    },
    {
      "cell_type": "code",
      "source": [
        "# TODO: Develop a python program that defines two functions one to compute\n",
        "#       the area of a triangle. The other to compute the circumference of the\n",
        "#       triangle.  The program must call these functions\n",
        "#       from instructions that input the corresponding values"
      ],
      "metadata": {
        "id": "kzI1jo5YNVbb"
      },
      "id": "kzI1jo5YNVbb",
      "execution_count": 9,
      "outputs": []
    },
    {
      "cell_type": "markdown",
      "source": [
        "the formula for area of a triangle\n",
        "\n",
        "$Area = \\frac{1}{2} * base * height$\n",
        "\n",
        "<br>\n",
        "\n",
        "the formula for circumference of a triangle\n",
        "\n",
        "$perimiter = a + b + c$"
      ],
      "metadata": {
        "id": "brTYsM4zNiMn"
      },
      "id": "brTYsM4zNiMn"
    },
    {
      "cell_type": "code",
      "source": [
        "def area_triangle():\n",
        "  base = float(input(\"What is the triangle's base? \"))\n",
        "  height = float(input(\"What is the triangle's height? \"))\n",
        "  print(f\"The area of the triangle is {(1/2)*base*height}\")\n",
        "\n",
        "\n",
        "area_triangle()"
      ],
      "metadata": {
        "colab": {
          "base_uri": "https://localhost:8080/"
        },
        "id": "QzkyTxy3NhnQ",
        "outputId": "9c3b3da4-6ec4-4ece-f39f-1aab0ee7b3a8"
      },
      "id": "QzkyTxy3NhnQ",
      "execution_count": 10,
      "outputs": [
        {
          "output_type": "stream",
          "name": "stdout",
          "text": [
            "What is the triangle's base? 3\n",
            "What is the triangle's height? 9\n",
            "The area of the triangle is 13.5\n"
          ]
        }
      ]
    },
    {
      "cell_type": "code",
      "source": [
        "def circumference_of_triangle():\n",
        "  sidea = float(input(\"What is the length of side a? \"))\n",
        "  sideb = float(input(\"What is the length of side b? \"))\n",
        "  sidec = float(input(\"what is the length of side c? \"))\n",
        "  print(f\"The circumference of triangle with side lengths {sidea} {sideb} \" + \\\n",
        "        f\"and {sidec} is {sidea+sideb+sidec}\")\n",
        "\n",
        "\n",
        "circumference_of_triangle()"
      ],
      "metadata": {
        "colab": {
          "base_uri": "https://localhost:8080/"
        },
        "id": "AyFTirZ9OJ5h",
        "outputId": "9703becd-7fbf-497e-e1d6-e2b71a1e0180"
      },
      "id": "AyFTirZ9OJ5h",
      "execution_count": 15,
      "outputs": [
        {
          "output_type": "stream",
          "name": "stdout",
          "text": [
            "What is the length of side a? 1\n",
            "What is the length of side b? 1\n",
            "what is the length of side c? 1\n",
            "The circumference of triangle with side lengths 1.0 1.0 and 1.0 is 3.0\n"
          ]
        }
      ]
    },
    {
      "cell_type": "markdown",
      "source": [
        "<hr>"
      ],
      "metadata": {
        "id": "58w7_B9TOzwS"
      },
      "id": "58w7_B9TOzwS"
    },
    {
      "cell_type": "code",
      "source": [
        "# TODO: create python function two functions one to compute area of a circle\n",
        "#       the other to compute circumference of a circle"
      ],
      "metadata": {
        "id": "CjeLbQOLOmEK"
      },
      "id": "CjeLbQOLOmEK",
      "execution_count": 16,
      "outputs": []
    },
    {
      "cell_type": "markdown",
      "source": [
        "The formula for area of a circle\n",
        "\n",
        "$A = \\pi r^2$\n",
        "\n",
        "the formula for circumference of a circle\n",
        "\n",
        "$C = 2 \\pi r$"
      ],
      "metadata": {
        "id": "yShGpYlWO5OZ"
      },
      "id": "yShGpYlWO5OZ"
    },
    {
      "cell_type": "code",
      "source": [
        "def circle_area(radius):\n",
        "  import numpy as np\n",
        "  return np.pi * radius**2\n",
        "\n",
        "def circle_circumference(radius):\n",
        "  import numpy as np\n",
        "  return 2*np.pi*radius\n",
        "\n",
        "\n",
        "rad = 3\n",
        "\n",
        "print(f\"the area of a circle with radius {rad} is {circle_area(rad)}\")\n",
        "print(f\"the circumference of a circle with radius {rad} is \" + \\\n",
        "      f\"{circle_circumference(rad)}\")\n",
        "\n",
        "\n"
      ],
      "metadata": {
        "colab": {
          "base_uri": "https://localhost:8080/"
        },
        "id": "oNwrZhG0O4fE",
        "outputId": "20ebcbe7-a697-4028-e888-9513e4293c52"
      },
      "id": "oNwrZhG0O4fE",
      "execution_count": 18,
      "outputs": [
        {
          "output_type": "stream",
          "name": "stdout",
          "text": [
            "the area of a circle with radius 3 is 28.274333882308138\n",
            "the circumference of a circle with radius 3 is 18.84955592153876\n"
          ]
        }
      ]
    },
    {
      "cell_type": "markdown",
      "source": [
        "<hr>"
      ],
      "metadata": {
        "id": "9csamTPOPq1-"
      },
      "id": "9csamTPOPq1-"
    },
    {
      "cell_type": "code",
      "source": [
        "# TODO: create a python program that has defines a function\n",
        "#       to compute the volume of a cylinder"
      ],
      "metadata": {
        "id": "6J8yNmc-Pesm"
      },
      "id": "6J8yNmc-Pesm",
      "execution_count": null,
      "outputs": []
    },
    {
      "cell_type": "markdown",
      "source": [
        "Formula for volume of a cylinder\n",
        "\n",
        "$V = \\pi r^2 h$"
      ],
      "metadata": {
        "id": "ClcPG_jMPvFd"
      },
      "id": "ClcPG_jMPvFd"
    },
    {
      "cell_type": "code",
      "source": [
        "def cylinder_volume(radius, height):\n",
        "  import numpy as np\n",
        "  return np.pi * radius**2 * height\n",
        "\n",
        "radius = 3; height = 9\n",
        "\n",
        "print(f\"The volume of a cylinder with radius {radius} and height {height} \" + \\\n",
        "      f\"is {cylinder_volume(radius, height)}\")"
      ],
      "metadata": {
        "colab": {
          "base_uri": "https://localhost:8080/"
        },
        "id": "LVMMi0buP2Lp",
        "outputId": "c4b74943-a330-407e-badc-cc80783e5769"
      },
      "id": "LVMMi0buP2Lp",
      "execution_count": 20,
      "outputs": [
        {
          "output_type": "stream",
          "name": "stdout",
          "text": [
            "The volume of a cylinder with radius 3 and height 9 is 254.46900494077323\n"
          ]
        }
      ]
    },
    {
      "cell_type": "markdown",
      "source": [
        "<hr>"
      ],
      "metadata": {
        "id": "xRBxp0UrQM4Z"
      },
      "id": "xRBxp0UrQM4Z"
    },
    {
      "cell_type": "code",
      "source": [
        "# TODO: develop a python function that computes the volume of a sphere"
      ],
      "metadata": {
        "id": "rmtW0XO_P_dT"
      },
      "id": "rmtW0XO_P_dT",
      "execution_count": 21,
      "outputs": []
    },
    {
      "cell_type": "markdown",
      "source": [
        "Formula for volume of a sphere\n",
        "\n",
        "$V = \\frac{4}{3} \\pi r^3$"
      ],
      "metadata": {
        "id": "G08FoBCMQR3_"
      },
      "id": "G08FoBCMQR3_"
    },
    {
      "cell_type": "code",
      "source": [
        "def sphere_volume(radius):\n",
        "  import numpy as np\n",
        "  return (4/3) * np.pi * radius**3\n",
        "\n",
        "radius = 4\n",
        "print(f\"The volume of a sphere with radius {radius} is {sphere_volume(radius)}\")"
      ],
      "metadata": {
        "colab": {
          "base_uri": "https://localhost:8080/"
        },
        "id": "4DEGdiceQRa9",
        "outputId": "9ece2803-527a-40ad-9019-b66a88e95c72"
      },
      "id": "4DEGdiceQRa9",
      "execution_count": 24,
      "outputs": [
        {
          "output_type": "stream",
          "name": "stdout",
          "text": [
            "The volume of a sphere with radius 4 is 268.082573106329\n"
          ]
        }
      ]
    },
    {
      "cell_type": "markdown",
      "source": [
        "<hr>"
      ],
      "metadata": {
        "id": "AHJbN3HLQn3A"
      },
      "id": "AHJbN3HLQn3A"
    },
    {
      "cell_type": "code",
      "source": [
        "# TODO: develop a python program that defines two functions, one to compute\n",
        "#       the area of an ellipse, the other function to compute the\n",
        "#       circumference of an ellipse"
      ],
      "metadata": {
        "id": "eg3DRphuQd6F"
      },
      "id": "eg3DRphuQd6F",
      "execution_count": null,
      "outputs": []
    },
    {
      "cell_type": "markdown",
      "source": [
        "The area of an ellipse formula\n",
        "\n",
        "$A = \\pi a b$\n",
        "\n",
        "a is semi major axis  \n",
        "b is semi minor axis\n",
        "\n",
        "\n",
        "the circumference of an ellipse formula\n",
        "\n",
        "$C \\approx \\pi [3(a+b) - \\sqrt{(3a+b)(a+3b)}]$"
      ],
      "metadata": {
        "id": "WOqGdiv6Q1fk"
      },
      "id": "WOqGdiv6Q1fk"
    },
    {
      "cell_type": "code",
      "source": [
        "import numpy as np\n",
        "\n",
        "def ellipse_area(radius, a, b):\n",
        "  return np.pi * a * b\n",
        "\n",
        "def ellipse_circumference(a, b):\n",
        "  return np.pi*( 3*(a+b) - np.sqrt((3*a+b)*(a+3*b)))\n",
        "\n",
        "\n",
        "small_a = 2\n",
        "long_b = 4\n",
        "radius = 2\n",
        "\n",
        "print(f\"The area of ellipse with a={small_a} b={long_b} and radius {radius}\" + \\\n",
        "      f\" is {ellipse_area(radius, small_a, long_b)}\")\n",
        "print(f\"The circumference is {ellipse_circumference(small_a, long_b)}\")"
      ],
      "metadata": {
        "colab": {
          "base_uri": "https://localhost:8080/"
        },
        "id": "nqz-O6OQQ15E",
        "outputId": "f0dc396e-631d-4518-f133-53811399800e"
      },
      "id": "nqz-O6OQQ15E",
      "execution_count": 26,
      "outputs": [
        {
          "output_type": "stream",
          "name": "stdout",
          "text": [
            "The area of ellipse with a=2 b=4 and radius 2 is 25.132741228718345\n",
            "The circumference is 19.376842195342576\n"
          ]
        }
      ]
    },
    {
      "cell_type": "markdown",
      "source": [
        "<hr>"
      ],
      "metadata": {
        "id": "FxPFUEIJSE12"
      },
      "id": "FxPFUEIJSE12"
    },
    {
      "cell_type": "code",
      "source": [
        "# TODO: develop a python program that computes the slope of a line\n",
        "#       between two points in a plane P1 with coordinate (x1, y1) and P2\n",
        "#       with coordinate (x2, y2).  The program should include a function\n",
        "#       slopef and the parameters of this function are the coordinates of\n",
        "#       the points in a plane.  The program must input the coordinate values"
      ],
      "metadata": {
        "id": "X-mTdKwkRz-X"
      },
      "id": "X-mTdKwkRz-X",
      "execution_count": 27,
      "outputs": []
    },
    {
      "cell_type": "markdown",
      "source": [
        "Formula for slope of a line\n",
        "\n",
        "$m = \\frac{y_2 - y_1}{x_2 - x_1}$"
      ],
      "metadata": {
        "id": "jUuB-Oe8SeKX"
      },
      "id": "jUuB-Oe8SeKX"
    },
    {
      "cell_type": "code",
      "source": [
        "def slopef():\n",
        "  y_2 = float(input(\"What is y2? \"))\n",
        "  x_2 = float(input(\"What is x2? \"))\n",
        "  y_1 = float(input(\"What is y1? \"))\n",
        "  x_1 = float(input(\"What is x1? \"))\n",
        "\n",
        "  return (y_2 - y_1)/(x_2 - x_1)\n",
        "\n",
        "print(f\"the slope of the line between your input points is \" + \\\n",
        "      f\"{slopef()}\")"
      ],
      "metadata": {
        "colab": {
          "base_uri": "https://localhost:8080/"
        },
        "id": "JgYJSk1KSJam",
        "outputId": "6ea374f9-d45a-4fe8-a7af-f7c7cf86fc71"
      },
      "id": "JgYJSk1KSJam",
      "execution_count": 30,
      "outputs": [
        {
          "output_type": "stream",
          "name": "stdout",
          "text": [
            "What is y2? 9\n",
            "What is x2? 3\n",
            "What is y1? 1\n",
            "What is x1? 1\n",
            "the slope of the line between your input points is 4.0\n"
          ]
        }
      ]
    },
    {
      "cell_type": "markdown",
      "source": [
        "<hr>"
      ],
      "metadata": {
        "id": "_dIcUlyZTU0S"
      },
      "id": "_dIcUlyZTU0S"
    },
    {
      "cell_type": "code",
      "source": [
        "print(\"end of chapter 3 page 87 of 492\")"
      ],
      "metadata": {
        "colab": {
          "base_uri": "https://localhost:8080/"
        },
        "id": "YQL_qA30TE_1",
        "outputId": "282ae2fc-96d4-44f3-c10b-6829dd151b83"
      },
      "id": "YQL_qA30TE_1",
      "execution_count": 31,
      "outputs": [
        {
          "output_type": "stream",
          "name": "stdout",
          "text": [
            "end of chapter 3 page 87 of 492\n"
          ]
        }
      ]
    },
    {
      "cell_type": "code",
      "source": [],
      "metadata": {
        "id": "azLEWwAfTYSh"
      },
      "id": "azLEWwAfTYSh",
      "execution_count": null,
      "outputs": []
    }
  ],
  "metadata": {
    "kernelspec": {
      "display_name": "Python 3 (ipykernel)",
      "language": "python",
      "name": "python3"
    },
    "language_info": {
      "codemirror_mode": {
        "name": "ipython",
        "version": 3
      },
      "file_extension": ".py",
      "mimetype": "text/x-python",
      "name": "python",
      "nbconvert_exporter": "python",
      "pygments_lexer": "ipython3",
      "version": "3.13.2"
    },
    "colab": {
      "provenance": []
    }
  },
  "nbformat": 4,
  "nbformat_minor": 5
}