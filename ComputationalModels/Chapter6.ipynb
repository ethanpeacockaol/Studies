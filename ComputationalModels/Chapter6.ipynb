{
 "cells": [
  {
   "cell_type": "markdown",
   "id": "b7573d01-d682-4a04-bd2b-74aca16d85f4",
   "metadata": {},
   "source": [
    "# Chapter 6 The Repitition Program Structure"
   ]
  },
  {
   "cell_type": "code",
   "execution_count": 1,
   "id": "aff13005-6d7a-4f39-9f65-7b376282380d",
   "metadata": {},
   "outputs": [],
   "source": [
    "# TODO: Compute the maximum value from a set of input numbers. Use a while loop\n",
    "\n",
    "# TODO:  compute the maximum value from a set of input numbers.  use a for loop\n",
    "\n",
    "# TODO: compute the maximum value from a set of input numbers use a repeat-until loop in the algorithm\n",
    "\n",
    "# TODO: Find the minimum value from a set of inputnumbers use a while loop\n",
    "\n",
    "# TODO: find the minimum value from a set of input numbers use a for loop\n",
    "\n",
    "# TODO: find minimum value from input values use a repeat until loop\n",
    "\n",
    "# TODO: compute the average of a set of input values use while loop\n",
    "\n",
    "# TODO: compute average of set of input values for loop\n",
    "\n",
    "# TODO: average of set of input values repeat until loop\n",
    "\n",
    "# TODO: model that computes the student group average, maximum, and minimum grade.  \n",
    "#       use the input grade for every student and a while loop\n",
    "\n",
    "# TODO: compute the student group average, maximum, and minimum use for loop\n",
    "\n",
    "# TODO: model that reads rainfall data in inches for yearly quarters from the last five years.  compute\n",
    "#       the average rainfall per quarter, the average rainfall per year, and the amximum rainfall per \n",
    "#       quarter and for each year\n",
    "\n",
    "# TODO: model that computes the total inventory value amount and total per item.  read item code, cost, and description\n",
    "#       number of items to process is not known"
   ]
  },
  {
   "cell_type": "markdown",
   "id": "4b40e5e7-931f-4ada-8b38-29ad7a1a5ced",
   "metadata": {},
   "source": [
    "<hr>"
   ]
  },
  {
   "cell_type": "code",
   "execution_count": 2,
   "id": "b3116a1f-d807-4b7d-9cb6-c3cd68aff7fc",
   "metadata": {},
   "outputs": [],
   "source": [
    "# TODO: Compute the maximum value from a set of input numbers. Use a while loop"
   ]
  },
  {
   "cell_type": "code",
   "execution_count": 8,
   "id": "fcb2b831-70d0-4435-a4c2-6185c615a65f",
   "metadata": {},
   "outputs": [
    {
     "name": "stdin",
     "output_type": "stream",
     "text": [
      "whats the next number? (n to quit):  100\n",
      "whats the next number? (n to quit):  90\n",
      "whats the next number? (n to quit):  9000\n",
      "whats the next number? (n to quit):  -400\n",
      "whats the next number? (n to quit):  9999999\n",
      "whats the next number? (n to quit):  n\n"
     ]
    },
    {
     "name": "stdout",
     "output_type": "stream",
     "text": [
      "The maximum value you entered: 9999999.0\n"
     ]
    }
   ],
   "source": [
    "go = True\n",
    "num_list = []\n",
    "while go:\n",
    "    next_num = input('whats the next number? (n to quit): ')\n",
    "    if next_num == 'n':\n",
    "        go=False\n",
    "    else:\n",
    "        num_list.append(float(next_num))\n",
    "\n",
    "num_list.sort()\n",
    "print(f\"The maximum value you entered: {num_list[-1]}\")\n",
    "        "
   ]
  },
  {
   "cell_type": "markdown",
   "id": "aeaf579c-dcc2-4e93-9712-f25bd18f1ae3",
   "metadata": {},
   "source": [
    "<hr>"
   ]
  },
  {
   "cell_type": "code",
   "execution_count": 4,
   "id": "68a943c3-4fdd-4f15-b31a-228f50e08f5c",
   "metadata": {},
   "outputs": [],
   "source": [
    "# TODO:  compute the maximum value from a set of input numbers.  use a for loop"
   ]
  },
  {
   "cell_type": "code",
   "execution_count": 2,
   "id": "9eef46ae-2cdd-488a-9b14-bb0fe61a2aa6",
   "metadata": {},
   "outputs": [
    {
     "name": "stdout",
     "output_type": "stream",
     "text": [
      "how many numbers do you want to enter?: 10\n",
      "number 0: 9\n",
      "number 1: 200\n",
      "number 2: 3\n",
      "number 3: 7\n",
      "number 4: 384\n",
      "number 5: -269\n",
      "number 6: 71\n",
      "number 7: 8\n",
      "number 8: 4\n",
      "number 9: 45\n",
      "thank you\n",
      " the maximum value you entered: 384\n"
     ]
    }
   ],
   "source": [
    "num_loops = int(input(\"how many numbers do you want to enter?: \"))\n",
    "\n",
    "nums = []\n",
    "\n",
    "for i in range(num_loops):\n",
    "    nums.append(int(input(f\"number {i}: \")))\n",
    "print('thank you')\n",
    "nums.sort()\n",
    "print(f\" the maximum value you entered: {nums[-1]}\")"
   ]
  },
  {
   "cell_type": "markdown",
   "id": "fba1180b-2d83-41ae-841b-5e5e2ece6cd2",
   "metadata": {},
   "source": [
    "<hr>"
   ]
  },
  {
   "cell_type": "code",
   "execution_count": 5,
   "id": "a8adcfdd-4fdb-4050-b528-021fa4b1778a",
   "metadata": {},
   "outputs": [],
   "source": [
    "# TODO: compute the maximum value from a set of input numbers use a repeat-until loop in the algorithm"
   ]
  },
  {
   "cell_type": "code",
   "execution_count": 4,
   "id": "d8c55344-de35-4f1e-971c-7d162d3442da",
   "metadata": {},
   "outputs": [
    {
     "name": "stdin",
     "output_type": "stream",
     "text": [
      "next integer?:  1\n",
      "keep going? (n to quit) 100\n",
      "next integer?:  4\n",
      "keep going? (n to quit) 800\n",
      "next integer?:  9000\n",
      "keep going? (n to quit) 1\n",
      "next integer?:  3\n",
      "keep going? (n to quit) \n",
      "next integer?:  3\n",
      "keep going? (n to quit) \n",
      "next integer?:  4\n",
      "keep going? (n to quit) \n",
      "next integer?:  5\n",
      "keep going? (n to quit) n\n"
     ]
    },
    {
     "name": "stdout",
     "output_type": "stream",
     "text": [
      "the maximum value you entered: 9000\n"
     ]
    }
   ],
   "source": [
    "loop_condition = False\n",
    "nums = []\n",
    "while not loop_condition:\n",
    "    nums.append(int(input(\"next integer?: \")))\n",
    "    go = input('keep going? (n to quit)')\n",
    "    if go == 'n':\n",
    "        loop_condition = True\n",
    "nums.sort()\n",
    "print(f\"the maximum value you entered: {nums[-1]}\")"
   ]
  },
  {
   "cell_type": "markdown",
   "id": "f8f2fa48-4576-4176-a1da-b5e0f38c11c9",
   "metadata": {},
   "source": [
    "<hr>"
   ]
  },
  {
   "cell_type": "code",
   "execution_count": 6,
   "id": "5d222fe7-745e-4471-934d-230d1f913040",
   "metadata": {},
   "outputs": [],
   "source": [
    "# TODO: Find the minimum value from a set of inputnumbers use a while loop"
   ]
  },
  {
   "cell_type": "code",
   "execution_count": 6,
   "id": "302da3e8-9e62-4c55-bca3-649fed56e7c3",
   "metadata": {},
   "outputs": [
    {
     "name": "stdin",
     "output_type": "stream",
     "text": [
      "next int:  2\n",
      "keep going? (n to quit) -100\n",
      "next int:  -100\n",
      "keep going? (n to quit) \n",
      "next int:  40\n",
      "keep going? (n to quit) \n",
      "next int:  50\n",
      "keep going? (n to quit) n\n"
     ]
    },
    {
     "name": "stdout",
     "output_type": "stream",
     "text": [
      "The minimum value you entered: -100\n"
     ]
    }
   ],
   "source": [
    "vals = []\n",
    "go = True\n",
    "while go:\n",
    "    vals.append(int(input('next int: ')))\n",
    "    keep_going = input('keep going? (n to quit)')\n",
    "    if keep_going == 'n':\n",
    "        go = False\n",
    "\n",
    "vals.sort()\n",
    "print(f\"The minimum value you entered: {vals[0]}\")"
   ]
  },
  {
   "cell_type": "markdown",
   "id": "f810b5e9-4c11-4170-95c5-5c1d7f0e4edc",
   "metadata": {},
   "source": [
    "<hr>"
   ]
  },
  {
   "cell_type": "code",
   "execution_count": 7,
   "id": "fe8e2172-6033-4769-b5b6-b26f5de7aaab",
   "metadata": {},
   "outputs": [],
   "source": [
    "# TODO: find the minimum value from a set of input numbers use a for loop"
   ]
  },
  {
   "cell_type": "code",
   "execution_count": 8,
   "id": "a66433a2-b8b9-4b13-aae1-d75dd62585e4",
   "metadata": {},
   "outputs": [
    {
     "name": "stdin",
     "output_type": "stream",
     "text": [
      "how many numbers do you want to enter?  10\n",
      "next int:  -10\n",
      "next int:  40\n",
      "next int:  50\n",
      "next int:  40\n",
      "next int:  -100\n",
      "next int:  3\n",
      "next int:  3\n",
      "next int:  333\n",
      "next int:  3\n",
      "next int:  90\n"
     ]
    },
    {
     "name": "stdout",
     "output_type": "stream",
     "text": [
      "The minimum value you entered: -100\n"
     ]
    }
   ],
   "source": [
    "num_its = int(input(\"how many numbers do you want to enter? \"))\n",
    "vals = []\n",
    "for i in range(num_its):\n",
    "    vals.append(int(input('next int: ')))\n",
    "\n",
    "vals.sort()\n",
    "print(f\"The minimum value you entered: {vals[0]}\")"
   ]
  },
  {
   "cell_type": "markdown",
   "id": "a83c4633-cd0b-4faf-993f-0cba67435070",
   "metadata": {},
   "source": [
    "<hr>"
   ]
  },
  {
   "cell_type": "code",
   "execution_count": 8,
   "id": "0d1cff4c-a498-45cc-9c8e-e26e6b57d5d4",
   "metadata": {},
   "outputs": [],
   "source": [
    "# TODO: find minimum value from input values use a repeat until loop"
   ]
  },
  {
   "cell_type": "code",
   "execution_count": null,
   "id": "d6da5083-cb1f-46fe-aabb-501e4ea023cd",
   "metadata": {},
   "outputs": [],
   "source": []
  },
  {
   "cell_type": "markdown",
   "id": "bc05292f-eee0-4f64-8a3e-71aac6c1543c",
   "metadata": {},
   "source": [
    "<hr>"
   ]
  },
  {
   "cell_type": "code",
   "execution_count": 9,
   "id": "2b668eb3-3454-46aa-9a49-05353c8f5d57",
   "metadata": {},
   "outputs": [],
   "source": [
    "# TODO: compute the average of a set of input values use while loop"
   ]
  },
  {
   "cell_type": "code",
   "execution_count": null,
   "id": "7c9f0524-11d6-4d93-94b6-41a628e51a66",
   "metadata": {},
   "outputs": [],
   "source": []
  },
  {
   "cell_type": "markdown",
   "id": "66688784-6adf-4f5a-a250-002eb59f16b0",
   "metadata": {},
   "source": [
    "<hr>"
   ]
  },
  {
   "cell_type": "code",
   "execution_count": 10,
   "id": "318b7254-97bc-4e49-b20a-a558cb3d2da2",
   "metadata": {},
   "outputs": [],
   "source": [
    "# TODO: compute average of set of input values for loop"
   ]
  },
  {
   "cell_type": "code",
   "execution_count": null,
   "id": "8eccd59b-b1b7-4059-82a8-d65bc0f6ebe4",
   "metadata": {},
   "outputs": [],
   "source": []
  },
  {
   "cell_type": "markdown",
   "id": "df8cb8e0-e9e4-4132-9283-a5ee0fa8c2d8",
   "metadata": {},
   "source": [
    "<hr>"
   ]
  },
  {
   "cell_type": "code",
   "execution_count": 11,
   "id": "d834315b-11a4-4e80-a425-9e0c7fc3cf10",
   "metadata": {},
   "outputs": [],
   "source": [
    "# TODO: average of set of input values repeat until loop"
   ]
  },
  {
   "cell_type": "code",
   "execution_count": null,
   "id": "ac1d98ce-248d-471e-9c3a-035598070ee0",
   "metadata": {},
   "outputs": [],
   "source": []
  },
  {
   "cell_type": "markdown",
   "id": "04bfaf1a-ed81-4f3d-b2c2-e4119219c4bd",
   "metadata": {},
   "source": [
    "<hr>"
   ]
  },
  {
   "cell_type": "code",
   "execution_count": 12,
   "id": "a2b975c8-bc7e-465b-9621-445595ba99ef",
   "metadata": {},
   "outputs": [],
   "source": [
    "# TODO: model that computes the student group average, maximum, and minimum grade.  \n",
    "#       use the input grade for every student and a while loop"
   ]
  },
  {
   "cell_type": "code",
   "execution_count": null,
   "id": "0fe638de-07ff-476f-968b-48eb21d93fca",
   "metadata": {},
   "outputs": [],
   "source": []
  },
  {
   "cell_type": "markdown",
   "id": "0d890bcc-ed8b-4e57-b7fb-88ef25b829d5",
   "metadata": {},
   "source": [
    "<hr>"
   ]
  },
  {
   "cell_type": "code",
   "execution_count": 13,
   "id": "4dbad285-6f76-4558-b2b6-41fd7ef59650",
   "metadata": {},
   "outputs": [],
   "source": [
    "# TODO: compute the student group average, maximum, and minimum use for loop"
   ]
  },
  {
   "cell_type": "code",
   "execution_count": null,
   "id": "dac6d082-7d43-4b3a-bda8-9be7069472a0",
   "metadata": {},
   "outputs": [],
   "source": []
  },
  {
   "cell_type": "markdown",
   "id": "a1e6b9ac-9fb0-46b6-b0a9-2540b384c0c6",
   "metadata": {},
   "source": [
    "<hr>"
   ]
  },
  {
   "cell_type": "code",
   "execution_count": 14,
   "id": "9e831f05-77f5-44eb-ac73-a879e744ee61",
   "metadata": {},
   "outputs": [],
   "source": [
    "# TODO: model that reads rainfall data in inches for yearly quarters from the last five years.  compute\n",
    "#       the average rainfall per quarter, the average rainfall per year, and the amximum rainfall per \n",
    "#       quarter and for each year"
   ]
  },
  {
   "cell_type": "code",
   "execution_count": null,
   "id": "8df6bf4b-3d71-4b22-a030-4ccba888dfba",
   "metadata": {},
   "outputs": [],
   "source": []
  },
  {
   "cell_type": "markdown",
   "id": "b92bff68-5aa0-4a0f-bc18-49dd5eaa710d",
   "metadata": {},
   "source": [
    "<hr>"
   ]
  },
  {
   "cell_type": "code",
   "execution_count": 15,
   "id": "5402b714-edc6-45b3-bc45-0fd0e20a980e",
   "metadata": {},
   "outputs": [],
   "source": [
    "# TODO: model that computes the total inventory value amount and total per item.  read item code, cost, and description\n",
    "#       number of items to process is not known"
   ]
  },
  {
   "cell_type": "code",
   "execution_count": null,
   "id": "ce1b2697-7ca9-43d4-9e4b-b52d85bbbbb0",
   "metadata": {},
   "outputs": [],
   "source": []
  },
  {
   "cell_type": "markdown",
   "id": "6b08bdb1-f535-4ff4-b9e7-8494a6cecfcf",
   "metadata": {},
   "source": [
    "<hr>"
   ]
  }
 ],
 "metadata": {
  "kernelspec": {
   "display_name": "Python 3 (ipykernel)",
   "language": "python",
   "name": "python3"
  },
  "language_info": {
   "codemirror_mode": {
    "name": "ipython",
    "version": 3
   },
   "file_extension": ".py",
   "mimetype": "text/x-python",
   "name": "python",
   "nbconvert_exporter": "python",
   "pygments_lexer": "ipython3",
   "version": "3.9.6"
  }
 },
 "nbformat": 4,
 "nbformat_minor": 5
}
