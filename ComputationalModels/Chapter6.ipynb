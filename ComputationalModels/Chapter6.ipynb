{
 "cells": [
  {
   "cell_type": "markdown",
   "id": "b7573d01-d682-4a04-bd2b-74aca16d85f4",
   "metadata": {},
   "source": [
    "# Chapter 6 The Repitition Program Structure"
   ]
  },
  {
   "cell_type": "code",
   "execution_count": null,
   "id": "aff13005-6d7a-4f39-9f65-7b376282380d",
   "metadata": {},
   "outputs": [],
   "source": []
  }
 ],
 "metadata": {
  "kernelspec": {
   "display_name": "Python 3 (ipykernel)",
   "language": "python",
   "name": "python3"
  },
  "language_info": {
   "codemirror_mode": {
    "name": "ipython",
    "version": 3
   },
   "file_extension": ".py",
   "mimetype": "text/x-python",
   "name": "python",
   "nbconvert_exporter": "python",
   "pygments_lexer": "ipython3",
   "version": "3.13.2"
  }
 },
 "nbformat": 4,
 "nbformat_minor": 5
}
