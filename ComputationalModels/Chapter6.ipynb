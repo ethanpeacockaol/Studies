{
 "cells": [
  {
   "metadata": {},
   "id": "b7573d01-d682-4a04-bd2b-74aca16d85f4",
   "cell_type": "markdown",
   "source": "# Chapter 6 The Repitition Program Structure"
  },
  {
   "metadata": {
    "trusted": false
   },
   "id": "aff13005-6d7a-4f39-9f65-7b376282380d",
   "cell_type": "code",
   "source": "# TODO: Compute the maximum value from a set of input numbers. Use a while loop\n\n# TODO:  compute the maximum value from a set of input numbers.  use a for loop\n\n# TODO: compute the maximum value from a set of input numbers use a repeat-until loop in the algorithm\n\n# TODO: Find the minimum value from a set of inputnumbers use a while loop\n\n# TODO: find the minimum value from a set of input numbers use a for loop\n\n# TODO: find minimum value from input values use a repeat until loop\n\n# TODO: compute the average of a set of input values use while loop\n\n# TODO: compute average of set of input values for loop\n\n# TODO: average of set of input values repeat until loop\n\n# TODO: model that computes the student group average, maximum, and minimum grade.  \n#       use the input grade for every student and a while loop\n\n# TODO: compute the student group average, maximum, and minimum use for loop\n\n# TODO: model that reads rainfall data in inches for yearly quarters from the last five years.  compute\n#       the average rainfall per quarter, the average rainfall per year, and the amximum rainfall per \n#       quarter and for each year\n\n# TODO: model that computes the total inventory value amount and total per item.  read item code, cost, and description\n#       number of items to process is not known",
   "execution_count": 1,
   "outputs": []
  },
  {
   "metadata": {},
   "id": "4b40e5e7-931f-4ada-8b38-29ad7a1a5ced",
   "cell_type": "markdown",
   "source": "<hr>"
  },
  {
   "metadata": {
    "trusted": false
   },
   "id": "b3116a1f-d807-4b7d-9cb6-c3cd68aff7fc",
   "cell_type": "code",
   "source": "# TODO: Compute the maximum value from a set of input numbers. Use a while loop",
   "execution_count": 2,
   "outputs": []
  },
  {
   "metadata": {
    "trusted": false
   },
   "id": "fcb2b831-70d0-4435-a4c2-6185c615a65f",
   "cell_type": "code",
   "source": "go = True\nnum_list = []\nwhile go:\n    next_num = input('whats the next number? (n to quit): ')\n    if next_num == 'n':\n        go=False\n    else:\n        num_list.append(float(next_num))\n\nnum_list.sort()\nprint(f\"The maximum value you entered: {num_list[-1]}\")\n        ",
   "execution_count": 8,
   "outputs": [
    {
     "name": "stdin",
     "output_type": "stream",
     "text": "whats the next number? (n to quit):  100\nwhats the next number? (n to quit):  90\nwhats the next number? (n to quit):  9000\nwhats the next number? (n to quit):  -400\nwhats the next number? (n to quit):  9999999\nwhats the next number? (n to quit):  n\n"
    },
    {
     "name": "stdout",
     "output_type": "stream",
     "text": "The maximum value you entered: 9999999.0\n"
    }
   ]
  },
  {
   "metadata": {},
   "id": "aeaf579c-dcc2-4e93-9712-f25bd18f1ae3",
   "cell_type": "markdown",
   "source": "<hr>"
  },
  {
   "metadata": {
    "trusted": false
   },
   "id": "68a943c3-4fdd-4f15-b31a-228f50e08f5c",
   "cell_type": "code",
   "source": "# TODO:  compute the maximum value from a set of input numbers.  use a for loop",
   "execution_count": 4,
   "outputs": []
  },
  {
   "metadata": {
    "trusted": true
   },
   "id": "9eef46ae-2cdd-488a-9b14-bb0fe61a2aa6",
   "cell_type": "code",
   "source": "num_loops = int(input(\"how many numbers do you want to enter?: \"))\n\nnums = []\n\nfor i in range(num_loops):\n    nums.append(int(input(f\"number {i}: \")))\nprint('thank you')\nnums.sort()\nprint(f\" the maximum value you entered: {nums[-1]}\")",
   "execution_count": 2,
   "outputs": [
    {
     "output_type": "stream",
     "name": "stdout",
     "text": "how many numbers do you want to enter?: 10\nnumber 0: 9\nnumber 1: 200\nnumber 2: 3\nnumber 3: 7\nnumber 4: 384\nnumber 5: -269\nnumber 6: 71\nnumber 7: 8\nnumber 8: 4\nnumber 9: 45\nthank you\n the maximum value you entered: 384\n"
    }
   ]
  },
  {
   "metadata": {},
   "id": "fba1180b-2d83-41ae-841b-5e5e2ece6cd2",
   "cell_type": "markdown",
   "source": "<hr>"
  },
  {
   "metadata": {
    "trusted": false
   },
   "id": "a8adcfdd-4fdb-4050-b528-021fa4b1778a",
   "cell_type": "code",
   "source": "# TODO: compute the maximum value from a set of input numbers use a repeat-until loop in the algorithm",
   "execution_count": 5,
   "outputs": []
  },
  {
   "metadata": {
    "trusted": false
   },
   "id": "d8c55344-de35-4f1e-971c-7d162d3442da",
   "cell_type": "code",
   "source": "",
   "execution_count": null,
   "outputs": []
  },
  {
   "metadata": {},
   "id": "f8f2fa48-4576-4176-a1da-b5e0f38c11c9",
   "cell_type": "markdown",
   "source": "<hr>"
  },
  {
   "metadata": {
    "trusted": false
   },
   "id": "5d222fe7-745e-4471-934d-230d1f913040",
   "cell_type": "code",
   "source": "# TODO: Find the minimum value from a set of inputnumbers use a while loop",
   "execution_count": 6,
   "outputs": []
  },
  {
   "metadata": {
    "trusted": false
   },
   "id": "302da3e8-9e62-4c55-bca3-649fed56e7c3",
   "cell_type": "code",
   "source": "",
   "execution_count": null,
   "outputs": []
  },
  {
   "metadata": {},
   "id": "f810b5e9-4c11-4170-95c5-5c1d7f0e4edc",
   "cell_type": "markdown",
   "source": "<hr>"
  },
  {
   "metadata": {
    "trusted": false
   },
   "id": "fe8e2172-6033-4769-b5b6-b26f5de7aaab",
   "cell_type": "code",
   "source": "# TODO: find the minimum value from a set of input numbers use a for loop",
   "execution_count": 7,
   "outputs": []
  },
  {
   "metadata": {
    "trusted": false
   },
   "id": "a66433a2-b8b9-4b13-aae1-d75dd62585e4",
   "cell_type": "code",
   "source": "",
   "execution_count": null,
   "outputs": []
  },
  {
   "metadata": {},
   "id": "a83c4633-cd0b-4faf-993f-0cba67435070",
   "cell_type": "markdown",
   "source": "<hr>"
  },
  {
   "metadata": {
    "trusted": false
   },
   "id": "0d1cff4c-a498-45cc-9c8e-e26e6b57d5d4",
   "cell_type": "code",
   "source": "# TODO: find minimum value from input values use a repeat until loop",
   "execution_count": 8,
   "outputs": []
  },
  {
   "metadata": {
    "trusted": false
   },
   "id": "d6da5083-cb1f-46fe-aabb-501e4ea023cd",
   "cell_type": "code",
   "source": "",
   "execution_count": null,
   "outputs": []
  },
  {
   "metadata": {},
   "id": "bc05292f-eee0-4f64-8a3e-71aac6c1543c",
   "cell_type": "markdown",
   "source": "<hr>"
  },
  {
   "metadata": {
    "trusted": false
   },
   "id": "2b668eb3-3454-46aa-9a49-05353c8f5d57",
   "cell_type": "code",
   "source": "# TODO: compute the average of a set of input values use while loop",
   "execution_count": 9,
   "outputs": []
  },
  {
   "metadata": {
    "trusted": false
   },
   "id": "7c9f0524-11d6-4d93-94b6-41a628e51a66",
   "cell_type": "code",
   "source": "",
   "execution_count": null,
   "outputs": []
  },
  {
   "metadata": {},
   "id": "66688784-6adf-4f5a-a250-002eb59f16b0",
   "cell_type": "markdown",
   "source": "<hr>"
  },
  {
   "metadata": {
    "trusted": false
   },
   "id": "318b7254-97bc-4e49-b20a-a558cb3d2da2",
   "cell_type": "code",
   "source": "# TODO: compute average of set of input values for loop",
   "execution_count": 10,
   "outputs": []
  },
  {
   "metadata": {
    "trusted": false
   },
   "id": "8eccd59b-b1b7-4059-82a8-d65bc0f6ebe4",
   "cell_type": "code",
   "source": "",
   "execution_count": null,
   "outputs": []
  },
  {
   "metadata": {},
   "id": "df8cb8e0-e9e4-4132-9283-a5ee0fa8c2d8",
   "cell_type": "markdown",
   "source": "<hr>"
  },
  {
   "metadata": {
    "trusted": false
   },
   "id": "d834315b-11a4-4e80-a425-9e0c7fc3cf10",
   "cell_type": "code",
   "source": "# TODO: average of set of input values repeat until loop",
   "execution_count": 11,
   "outputs": []
  },
  {
   "metadata": {
    "trusted": false
   },
   "id": "ac1d98ce-248d-471e-9c3a-035598070ee0",
   "cell_type": "code",
   "source": "",
   "execution_count": null,
   "outputs": []
  },
  {
   "metadata": {},
   "id": "04bfaf1a-ed81-4f3d-b2c2-e4119219c4bd",
   "cell_type": "markdown",
   "source": "<hr>"
  },
  {
   "metadata": {
    "trusted": false
   },
   "id": "a2b975c8-bc7e-465b-9621-445595ba99ef",
   "cell_type": "code",
   "source": "# TODO: model that computes the student group average, maximum, and minimum grade.  \n#       use the input grade for every student and a while loop",
   "execution_count": 12,
   "outputs": []
  },
  {
   "metadata": {
    "trusted": false
   },
   "id": "0fe638de-07ff-476f-968b-48eb21d93fca",
   "cell_type": "code",
   "source": "",
   "execution_count": null,
   "outputs": []
  },
  {
   "metadata": {},
   "id": "0d890bcc-ed8b-4e57-b7fb-88ef25b829d5",
   "cell_type": "markdown",
   "source": "<hr>"
  },
  {
   "metadata": {
    "trusted": false
   },
   "id": "4dbad285-6f76-4558-b2b6-41fd7ef59650",
   "cell_type": "code",
   "source": "# TODO: compute the student group average, maximum, and minimum use for loop",
   "execution_count": 13,
   "outputs": []
  },
  {
   "metadata": {
    "trusted": false
   },
   "id": "dac6d082-7d43-4b3a-bda8-9be7069472a0",
   "cell_type": "code",
   "source": "",
   "execution_count": null,
   "outputs": []
  },
  {
   "metadata": {},
   "id": "a1e6b9ac-9fb0-46b6-b0a9-2540b384c0c6",
   "cell_type": "markdown",
   "source": "<hr>"
  },
  {
   "metadata": {
    "trusted": false
   },
   "id": "9e831f05-77f5-44eb-ac73-a879e744ee61",
   "cell_type": "code",
   "source": "# TODO: model that reads rainfall data in inches for yearly quarters from the last five years.  compute\n#       the average rainfall per quarter, the average rainfall per year, and the amximum rainfall per \n#       quarter and for each year",
   "execution_count": 14,
   "outputs": []
  },
  {
   "metadata": {
    "trusted": false
   },
   "id": "8df6bf4b-3d71-4b22-a030-4ccba888dfba",
   "cell_type": "code",
   "source": "",
   "execution_count": null,
   "outputs": []
  },
  {
   "metadata": {},
   "id": "b92bff68-5aa0-4a0f-bc18-49dd5eaa710d",
   "cell_type": "markdown",
   "source": "<hr>"
  },
  {
   "metadata": {
    "trusted": false
   },
   "id": "5402b714-edc6-45b3-bc45-0fd0e20a980e",
   "cell_type": "code",
   "source": "# TODO: model that computes the total inventory value amount and total per item.  read item code, cost, and description\n#       number of items to process is not known",
   "execution_count": 15,
   "outputs": []
  },
  {
   "metadata": {
    "trusted": false
   },
   "id": "ce1b2697-7ca9-43d4-9e4b-b52d85bbbbb0",
   "cell_type": "code",
   "source": "",
   "execution_count": null,
   "outputs": []
  },
  {
   "metadata": {},
   "id": "6b08bdb1-f535-4ff4-b9e7-8494a6cecfcf",
   "cell_type": "markdown",
   "source": "<hr>"
  }
 ],
 "metadata": {
  "kernelspec": {
   "name": "python3",
   "display_name": "Python 3",
   "language": "python"
  },
  "language_info": {
   "name": "python",
   "version": "3.10.4",
   "mimetype": "text/x-python",
   "codemirror_mode": {
    "name": "ipython",
    "version": 3
   },
   "pygments_lexer": "ipython3",
   "nbconvert_exporter": "python",
   "file_extension": ".py"
  }
 },
 "nbformat": 4,
 "nbformat_minor": 5
}