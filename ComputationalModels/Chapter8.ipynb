{
 "cells": [
  {
   "cell_type": "markdown",
   "id": "c32cc9fc-f764-447a-ae60-5ef19c6eaa90",
   "metadata": {},
   "source": [
    "# Chapter 8 Object Orientation"
   ]
  },
  {
   "cell_type": "code",
   "execution_count": null,
   "id": "4aae6e8c-727e-4d3e-bdae-3ba41755d496",
   "metadata": {},
   "outputs": [],
   "source": []
  },
  {
   "cell_type": "code",
   "execution_count": null,
   "id": "36e04fdd-99ea-447a-8c93-8c5f2e16660d",
   "metadata": {},
   "outputs": [],
   "source": []
  },
  {
   "cell_type": "markdown",
   "id": "1bf6eb3e-b3cd-4c4b-acc5-0d8dd2875d4e",
   "metadata": {},
   "source": [
    "<hr>"
   ]
  },
  {
   "cell_type": "markdown",
   "id": "9b1dced6-d04e-4cc2-854c-ab4c7d17a4ec",
   "metadata": {},
   "source": [
    "8.8 Exercises page 167 of 492"
   ]
  },
  {
   "cell_type": "markdown",
   "id": "458a8e9b-e62c-434d-8df0-413ab4e126e2",
   "metadata": {},
   "source": [
    "<hr>"
   ]
  },
  {
   "cell_type": "code",
   "execution_count": 1,
   "id": "95dbde73-d57d-48aa-9b43-a1e4ee0c40dd",
   "metadata": {},
   "outputs": [],
   "source": [
    "# TODO: what are the differences between classes and objects?  why is an object considered to be dynamic?\n",
    "#       wy is a class considered a static concept?\n",
    "\n",
    "# TODO: explain the differences and similarities of the UML class and the object diagrams.  What do these \n",
    "#       diagrams actually describe about an object and about a class?\n",
    "\n",
    "# TODO:  Is object interaction the same as object behavior?  Explain and give examples.\n",
    "#        what UML diagram describs this?\n",
    "\n",
    "# TODO:  Briefly explain the differences between encapsulation and information hiding.  How are these\n",
    "#        two concepts related? Explain\n",
    "\n",
    "# TODO: are the external view and internal view of a class at different levels of abstraction?\n",
    "#       explain.  Is this considered important? explain.\n",
    "\n",
    "# TODO: Identify the type and number of objects involved in an automobile rental office\n",
    "#       for every type of object, list the properties, and operations\n",
    "#       draw the class and objet diagrams for this problem\n",
    "\n",
    "# TODO: Describe the object interactions necessary for the objects in the automobile rental office.\n",
    "#       draw the corresponding communication diagrams\n",
    "\n",
    "# TODO: Identify the various objects in a supermarket.  How many objects of each type are there?\n",
    "#       List the properties and the necessary operations of the objects. Draw the corresponding UML diagram\n",
    "\n",
    "# TODO: List the privarte and public characteristics (properties and operations) for every type of object \n",
    "#       in the two previous exercises.  Why do you need to make this distinction?"
   ]
  },
  {
   "cell_type": "markdown",
   "id": "c844fe66-c098-4a71-9320-cd9a7d726b0e",
   "metadata": {},
   "source": [
    "<hr>"
   ]
  },
  {
   "cell_type": "code",
   "execution_count": 2,
   "id": "885e5952-18e6-4deb-a72b-a4fed736cded",
   "metadata": {},
   "outputs": [],
   "source": [
    "# TODO: what are the differences between classes and objects?  why is an object considered to be dynamic?\n",
    "#       wy is a class considered a static concept?"
   ]
  },
  {
   "cell_type": "markdown",
   "id": "02e84b0a-ba4f-4d0c-9e34-cfd073188138",
   "metadata": {},
   "source": [
    "a class is a definition of variables sequences functions and data manipulations an object is an instantiation of a class that has been populated with at least initial data\n",
    "\n",
    "a class is static because it is explicitly a defined and saved definition that holds some laws with allowances for a set of changes given the construction\n",
    "\n",
    "the object is dynamic because it is the construction with application of data that can change between objects while the class definition remains somewhat generic and remains in an unchanged file\n"
   ]
  },
  {
   "cell_type": "markdown",
   "id": "69660727-cc7b-4b65-bf8d-95405c715f05",
   "metadata": {},
   "source": [
    "<hr>"
   ]
  },
  {
   "cell_type": "code",
   "execution_count": 3,
   "id": "55a43a0a-9b85-434e-a432-c95332cfa2f4",
   "metadata": {},
   "outputs": [],
   "source": [
    "# TODO: explain the differences and similarities of the UML class and the object diagrams.  What do these \n",
    "#       diagrams actually describe about an object and about a class?"
   ]
  },
  {
   "cell_type": "markdown",
   "id": "f0d883bf-5fce-45b3-963e-c918b31ccfe7",
   "metadata": {},
   "source": [
    "UML class diagram:\n",
    "\n",
    "top part -> contains the name of the class\n",
    "\n",
    "middle part -> contains the attributes of the class (name and type)\n",
    "\n",
    "bottom part -> lists the operations (methods) of the class (name, parameters, and return type)\n",
    "\n",
    "UML object diagram:\n",
    "\n",
    "represeents a specific instance of a class at a particular point in time"
   ]
  },
  {
   "cell_type": "markdown",
   "id": "e3f6247e-667f-42df-9ebd-c4324a568955",
   "metadata": {},
   "source": [
    "<hr>"
   ]
  },
  {
   "cell_type": "code",
   "execution_count": 4,
   "id": "38a80b93-837a-41ee-bd75-a57cab778f43",
   "metadata": {},
   "outputs": [],
   "source": [
    "# TODO:  Is object interaction the same as object behavior?  Explain and give examples.\n",
    "#        what UML diagram describs this?"
   ]
  },
  {
   "cell_type": "markdown",
   "id": "10609b99-58df-4823-9c98-ade1bb1c99e0",
   "metadata": {},
   "source": [
    "they arent the same\n",
    "\n",
    "interaction is how class objects can work together to build out a larger system\n",
    "\n",
    "behavior is about what the object does individually\n",
    "\n",
    "\n",
    "exmample behavior:\n",
    "class that represents a car and a function that starts the car\n",
    "\n",
    "example interaction:\n",
    "two classes representing two different cars in 3d space colliding into eachother\n",
    "the classes would have to share xy data and also surface values and locations to indicate where the collision happens in space"
   ]
  },
  {
   "cell_type": "markdown",
   "id": "e2443623-8b8c-41c9-9fea-b8b291347b54",
   "metadata": {},
   "source": [
    "<hr>"
   ]
  },
  {
   "cell_type": "code",
   "execution_count": 5,
   "id": "8cadc5c6-1924-4d8b-81e3-160cb6579538",
   "metadata": {},
   "outputs": [],
   "source": [
    "# TODO:  Briefly explain the differences between encapsulation and information hiding.  How are these\n",
    "#        two concepts related? Explain"
   ]
  },
  {
   "cell_type": "code",
   "execution_count": null,
   "id": "d503b055-bdc6-4956-bd6c-86b257e49057",
   "metadata": {},
   "outputs": [],
   "source": []
  },
  {
   "cell_type": "markdown",
   "id": "98ad8ee8-3660-43c1-9142-61030753d1de",
   "metadata": {},
   "source": [
    "<hr>"
   ]
  },
  {
   "cell_type": "code",
   "execution_count": 6,
   "id": "8b8a2acc-452f-46d9-96d3-acb42b04ce76",
   "metadata": {},
   "outputs": [],
   "source": [
    "# TODO: are the external view and internal view of a class at different levels of abstraction?\n",
    "#       explain.  Is this considered important? explain."
   ]
  },
  {
   "cell_type": "code",
   "execution_count": null,
   "id": "99000ac3-fe4d-470d-8f6b-f5750f36d8e8",
   "metadata": {},
   "outputs": [],
   "source": []
  },
  {
   "cell_type": "markdown",
   "id": "4e5bd37a-81a6-4352-98df-a42678a7af9e",
   "metadata": {},
   "source": [
    "<hr>"
   ]
  },
  {
   "cell_type": "code",
   "execution_count": 7,
   "id": "c8e48cc6-39e1-42d4-8da4-64edffeca1ab",
   "metadata": {},
   "outputs": [],
   "source": [
    "# TODO: Identify the type and number of objects involved in an automobile rental office\n",
    "#       for every type of object, list the properties, and operations\n",
    "#       draw the class and objet diagrams for this problem"
   ]
  },
  {
   "cell_type": "code",
   "execution_count": null,
   "id": "9353a5e9-1390-48ac-8a63-4520115a9568",
   "metadata": {},
   "outputs": [],
   "source": []
  },
  {
   "cell_type": "markdown",
   "id": "93c520fc-a0e8-4ac8-a45a-3c94bc203eb1",
   "metadata": {},
   "source": [
    "<hr>"
   ]
  },
  {
   "cell_type": "code",
   "execution_count": 8,
   "id": "a1415300-e6c5-4e6e-a980-ff7715416e69",
   "metadata": {},
   "outputs": [],
   "source": [
    "# TODO: Describe the object interactions necessary for the objects in the automobile rental office.\n",
    "#       draw the corresponding communication diagrams"
   ]
  },
  {
   "cell_type": "code",
   "execution_count": null,
   "id": "b19e7648-6ebd-4744-99c4-f06e53b67822",
   "metadata": {},
   "outputs": [],
   "source": []
  },
  {
   "cell_type": "markdown",
   "id": "58a024da-4fc5-4545-b33c-e6320721a038",
   "metadata": {},
   "source": [
    "<hr>"
   ]
  },
  {
   "cell_type": "code",
   "execution_count": 9,
   "id": "e608d528-db30-43df-a04b-69c39614d49d",
   "metadata": {},
   "outputs": [],
   "source": [
    "# TODO: Identify the various objects in a supermarket.  How many objects of each type are there?\n",
    "#       List the properties and the necessary operations of the objects. Draw the corresponding UML diagram"
   ]
  },
  {
   "cell_type": "code",
   "execution_count": null,
   "id": "abb05839-1d4a-4eb6-9fae-3f1c81ff5f83",
   "metadata": {},
   "outputs": [],
   "source": []
  },
  {
   "cell_type": "markdown",
   "id": "06475aa2-f14a-4fda-9ea8-2cbc544ccb19",
   "metadata": {},
   "source": [
    "<hr>"
   ]
  },
  {
   "cell_type": "code",
   "execution_count": 10,
   "id": "4647753c-d055-42df-a456-df90f521b144",
   "metadata": {},
   "outputs": [],
   "source": [
    "# TODO: List the privarte and public characteristics (properties and operations) for every type of object \n",
    "#       in the two previous exercises.  Why do you need to make this distinction?"
   ]
  },
  {
   "cell_type": "code",
   "execution_count": null,
   "id": "98264e27-4654-4dd9-9433-3d26f038e505",
   "metadata": {},
   "outputs": [],
   "source": []
  },
  {
   "cell_type": "markdown",
   "id": "1f1bd36d-b242-43da-8f95-43b5293f704a",
   "metadata": {},
   "source": [
    "<hr>"
   ]
  }
 ],
 "metadata": {
  "kernelspec": {
   "display_name": "Python 3 (ipykernel)",
   "language": "python",
   "name": "python3"
  },
  "language_info": {
   "codemirror_mode": {
    "name": "ipython",
    "version": 3
   },
   "file_extension": ".py",
   "mimetype": "text/x-python",
   "name": "python",
   "nbconvert_exporter": "python",
   "pygments_lexer": "ipython3",
   "version": "3.13.2"
  }
 },
 "nbformat": 4,
 "nbformat_minor": 5
}
