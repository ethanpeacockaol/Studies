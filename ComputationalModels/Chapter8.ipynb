{
 "cells": [
  {
   "cell_type": "markdown",
   "id": "c32cc9fc-f764-447a-ae60-5ef19c6eaa90",
   "metadata": {},
   "source": [
    "# Chapter 8 Object Orientation"
   ]
  },
  {
   "cell_type": "code",
   "execution_count": null,
   "id": "4aae6e8c-727e-4d3e-bdae-3ba41755d496",
   "metadata": {},
   "outputs": [],
   "source": []
  },
  {
   "cell_type": "code",
   "execution_count": null,
   "id": "36e04fdd-99ea-447a-8c93-8c5f2e16660d",
   "metadata": {},
   "outputs": [],
   "source": []
  },
  {
   "cell_type": "markdown",
   "id": "1bf6eb3e-b3cd-4c4b-acc5-0d8dd2875d4e",
   "metadata": {},
   "source": [
    "<hr>"
   ]
  },
  {
   "cell_type": "markdown",
   "id": "9b1dced6-d04e-4cc2-854c-ab4c7d17a4ec",
   "metadata": {},
   "source": [
    "8.8 Exercises page 167 of 492"
   ]
  },
  {
   "cell_type": "markdown",
   "id": "458a8e9b-e62c-434d-8df0-413ab4e126e2",
   "metadata": {},
   "source": [
    "<hr>"
   ]
  },
  {
   "cell_type": "code",
   "execution_count": null,
   "id": "95dbde73-d57d-48aa-9b43-a1e4ee0c40dd",
   "metadata": {},
   "outputs": [],
   "source": [
    "# TODO: what are the differences between classes and objects?  why is an object considered to be dynamic?"
   ]
  }
 ],
 "metadata": {
  "kernelspec": {
   "display_name": "Python 3 (ipykernel)",
   "language": "python",
   "name": "python3"
  },
  "language_info": {
   "codemirror_mode": {
    "name": "ipython",
    "version": 3
   },
   "file_extension": ".py",
   "mimetype": "text/x-python",
   "name": "python",
   "nbconvert_exporter": "python",
   "pygments_lexer": "ipython3",
   "version": "3.9.6"
  }
 },
 "nbformat": 4,
 "nbformat_minor": 5
}
