{
 "cells": [
  {
   "metadata": {
    "trusted": true
   },
   "cell_type": "code",
   "source": "class link:\n    def __init__(self, data):\n        self.data = data\n        self.nextlink = None\n\nclass chain:\n    def __init__(self):\n        self.firstlink = None\n    \n    def addlink(self, data):\n        if self.firstlink == None:\n            self.firstlink = link(data)\n            self.endlink = self.firstlink\n        else:\n            newlink = link(data)\n            self.endlink.nextlink = newlink\n            self.endlink = newlink\n    \n    def pprint(self):\n        print('[', end='')\n        currentlink = self.firstlink\n        go = True\n        while go:\n            \n            if currentlink.nextlink == None:\n                print(currentlink.data, end=\"]\")\n                go = False\n            else:\n                print(currentlink.data, end= \", \")\n                currentlink = currentlink.nextlink\n    \n\n    def return_index(self, index):\n        if index == -1:\n            return self.endlink.data\n        else:\n            currentlink = self.firstlink\n            go = True\n            i = 0\n            while go:\n                if i == index:\n                    go = False\n                else:\n                    i += 1\n                    currentlink = currentlink.nextlink\n            return currentlink.data\n        \n\nchain1=chain()\nchain1.addlink(9)\nchain1.addlink(6)\nchain1.addlink(3)\n\nchain1.pprint()\n\nprintchain1.return_index(-1)\nchain1.return_index(1)",
   "execution_count": 15,
   "outputs": [
    {
     "output_type": "stream",
     "text": "[9, 6, 3]",
     "name": "stdout"
    },
    {
     "output_type": "error",
     "ename": "NameError",
     "evalue": "name 'printchain1' is not defined",
     "traceback": [
      "\u001b[0;31m---------------------------------------------------------------------------\u001b[0m",
      "\u001b[0;31mNameError\u001b[0m                                 Traceback (most recent call last)",
      "\u001b[0;32m<ipython-input-15-6312397e4dd8>\u001b[0m in \u001b[0;36m<module>\u001b[0;34m\u001b[0m\n\u001b[1;32m     54\u001b[0m \u001b[0mchain1\u001b[0m\u001b[0;34m.\u001b[0m\u001b[0mpprint\u001b[0m\u001b[0;34m(\u001b[0m\u001b[0;34m)\u001b[0m\u001b[0;34m\u001b[0m\u001b[0;34m\u001b[0m\u001b[0m\n\u001b[1;32m     55\u001b[0m \u001b[0;34m\u001b[0m\u001b[0m\n\u001b[0;32m---> 56\u001b[0;31m \u001b[0mprintchain1\u001b[0m\u001b[0;34m.\u001b[0m\u001b[0mreturn_index\u001b[0m\u001b[0;34m(\u001b[0m\u001b[0;34m-\u001b[0m\u001b[0;36m1\u001b[0m\u001b[0;34m)\u001b[0m\u001b[0;34m\u001b[0m\u001b[0;34m\u001b[0m\u001b[0m\n\u001b[0m\u001b[1;32m     57\u001b[0m \u001b[0mchain1\u001b[0m\u001b[0;34m.\u001b[0m\u001b[0mreturn_index\u001b[0m\u001b[0;34m(\u001b[0m\u001b[0;36m1\u001b[0m\u001b[0;34m)\u001b[0m\u001b[0;34m\u001b[0m\u001b[0;34m\u001b[0m\u001b[0m\n",
      "\u001b[0;31mNameError\u001b[0m: name 'printchain1' is not defined"
     ]
    }
   ]
  }
 ],
 "metadata": {
  "kernelspec": {
   "name": "python3",
   "display_name": "Python 3",
   "language": "python"
  },
  "language_info": {
   "name": "python",
   "version": "3.10.4",
   "mimetype": "text/x-python",
   "codemirror_mode": {
    "name": "ipython",
    "version": 3
   },
   "pygments_lexer": "ipython3",
   "nbconvert_exporter": "python",
   "file_extension": ".py"
  }
 },
 "nbformat": 4,
 "nbformat_minor": 2
}