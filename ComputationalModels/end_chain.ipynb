{
 "cells": [
  {
   "metadata": {
    "trusted": true
   },
   "cell_type": "code",
   "source": "class link:\n    def __init__(self, data):\n        self.data = data\n        self.nextlink = None\n\nclass chain:\n    def __init__(self):\n        self.firstlink = None\n        self.len = 0\n    \n    def addlink(self, data):\n        if self.firstlink == None:\n            self.firstlink = link(data)\n            self.endlink = self.firstlink\n            self.len += 1\n        else:\n            newlink = link(data)\n            self.endlink.nextlink = newlink\n            self.endlink = newlink\n            self.len+=1\n    \n    def pprint(self):\n        print('[', end='')\n        currentlink = self.firstlink\n        go = True\n        while go:\n            \n            if currentlink.nextlink == None:\n                print(currentlink.data, end=\"]\")\n                go = False\n            else:\n                print(currentlink.data, end= \", \")\n                currentlink = currentlink.nextlink\n    \n\n    def return_index(self, index):\n        if index == -1:\n            return self.endlink.data\n        else:\n            currentlink = self.firstlink\n            go = True\n            i = 0\n            while go:\n                if i == index:\n                    go = False\n                else:\n                    i += 1\n                    currentlink = currentlink.nextlink\n            return currentlink.data\n        \n\nchain1=chain()\nchain1.addlink(9)\nchain1.addlink(6)\nchain1.addlink(3)\nchain1.addlink(\"hello  \")\n\nchain1.pprint()\n\nchain1.endlink.data\n\nchain1.len\nprint()\nprint(\"iterate through list\")\nfor i in range(chain1.len):\n    print(chain1.return_index(i))",
   "execution_count": 8,
   "outputs": [
    {
     "output_type": "stream",
     "text": "[9, 6, 3, hello  ]\niterate through list\n9\n6\n3\nhello  \n",
     "name": "stdout"
    }
   ]
  },
  {
   "metadata": {
    "trusted": true
   },
   "cell_type": "code",
   "source": "",
   "execution_count": null,
   "outputs": []
  }
 ],
 "metadata": {
  "kernelspec": {
   "name": "python3",
   "display_name": "Python 3",
   "language": "python"
  },
  "language_info": {
   "name": "python",
   "version": "3.10.4",
   "mimetype": "text/x-python",
   "codemirror_mode": {
    "name": "ipython",
    "version": 3
   },
   "pygments_lexer": "ipython3",
   "nbconvert_exporter": "python",
   "file_extension": ".py"
  }
 },
 "nbformat": 4,
 "nbformat_minor": 2
}