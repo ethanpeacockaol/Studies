{
 "cells": [
  {
   "metadata": {},
   "id": "f74eb9ce-fe22-4938-9863-c175978ac75b",
   "cell_type": "markdown",
   "source": "# Chapter 9 Object Oriented Programs"
  },
  {
   "metadata": {},
   "id": "9f407c35-00a4-4bf9-9442-95d395ec4296",
   "cell_type": "markdown",
   "source": "Chapter 9 exercises page 180 of 492"
  },
  {
   "metadata": {},
   "id": "fc984fa8-b007-4983-ba16-6dcca99baaa6",
   "cell_type": "markdown",
   "source": "<hr>"
  },
  {
   "metadata": {},
   "id": "d57cec7e-e08b-406e-8bf7-f409f2ea4450",
   "cell_type": "markdown",
   "source": "# TODO: Is a class an appropriate decomposition unit?  What other units are possible to consider?\n\n# TODO: explain the implentation of a problem decomposed into classes and functions\n#       explain the decomposition structure. What is the purpose of decomposing a problem into subproblems?\n\n# TODO: Is it convenient to in\n\n\nfuck sorry only doing programming poblems from now on"
  },
  {
   "metadata": {
    "trusted": false
   },
   "id": "7ac4187e-a282-4ced-8ebb-f9b534960829",
   "cell_type": "code",
   "source": "Chapter 9 programming problems:",
   "execution_count": 1,
   "outputs": [
    {
     "ename": "SyntaxError",
     "evalue": "invalid syntax (3237795022.py, line 1)",
     "output_type": "error",
     "traceback": [
      "  \u001b[36mCell\u001b[39m\u001b[36m \u001b[39m\u001b[32mIn[1]\u001b[39m\u001b[32m, line 1\u001b[39m\n\u001b[31m    \u001b[39m\u001b[31mChapter 9 programming problems:\u001b[39m\n            ^\n\u001b[31mSyntaxError\u001b[39m\u001b[31m:\u001b[39m invalid syntax\n"
     ]
    }
   ]
  },
  {
   "metadata": {},
   "id": "a673664e-e4e7-4817-b4f6-8ed28bf071d0",
   "cell_type": "markdown",
   "source": "write a class that shows reuse of objects is nice sometimes\n\ndefine one or two redefined methods\n\ndefine one or two additional extending methods\n\ndefine a class that inherits another class"
  },
  {
   "metadata": {},
   "id": "9b84e92f-282e-4cb4-8dd4-472d6c77c08e",
   "cell_type": "markdown",
   "source": "use two classes together\n\ncreate something that uses 4 classes\n\ndevelop a program that works with complex numbers: addition subtraction multiplication and division\n\ndefine the classes of a problem that deals with motor vehicles; two groups or collections of these are trucks and cars.  Include class Sport_car in the class hierarchy as a subclass of Car.  Design and implement a program with all these classes.  Include attributes such as horse-power, maximu speed, passenger capacity, load capacity, and weight.  Include the relevant functions"
  },
  {
   "metadata": {},
   "id": "bfc03e2d-ccb3-4e58-9a71-fbe653e1ed5c",
   "cell_type": "markdown",
   "source": "<hr>"
  },
  {
   "metadata": {
    "trusted": false
   },
   "id": "e092e11c-7b85-4ea4-8e6a-d16e99fd1963",
   "cell_type": "code",
   "source": "# TODO: write a class that shows reuse of objects is nice sometimes\n\n# TODO: define one or two redefined methods\n\n# TODO: define one or two additional extending methods\n\n# TODO: define a class that inherits another class\n\n# TODO: use two classes together\n\n# TODO: create something that uses 4 classes\n\n# TODO: develop a program that works with complex numbers: addition subtraction multiplication and division\n\n# TODO: define the classes of a problem that deals with motor vehicles; two groups or collections of these are trucks and cars.  \n#       Include class Sport_car in the class hierarchy as a subclass of Car.  Design and implement a program with all these classes.  \n#       Include attributes such as horse-power, maximu speed, passenger capacity, load capacity, and weight.  Include the relevant functions",
   "execution_count": null,
   "outputs": []
  },
  {
   "metadata": {},
   "id": "1039b7d6",
   "cell_type": "markdown",
   "source": "<hr>"
  },
  {
   "metadata": {
    "trusted": false
   },
   "id": "371f1cbe",
   "cell_type": "code",
   "source": "# TODO: write a class that shows reuse of objects is nice sometimes",
   "execution_count": null,
   "outputs": []
  },
  {
   "metadata": {
    "trusted": false
   },
   "id": "e0c42fa0",
   "cell_type": "code",
   "source": "class Person:\n    def __init__(self, name, age, favcolor):\n        self.name = name\n        self.age = age\n        self.favcolor = favcolor\n\n    def get_name(self):\n        return self.name\n\n    def get_age(self):\n        return self.agw\n\n    def get_favcolor(self):\n        return self.favcolor",
   "execution_count": 2,
   "outputs": []
  },
  {
   "metadata": {
    "trusted": false
   },
   "id": "bfa7c74d-edfa-4174-81f2-d41e36cc009a",
   "cell_type": "code",
   "source": "person1 = Person(\"ethan\", \"?\", \"!?\")",
   "execution_count": 3,
   "outputs": []
  },
  {
   "metadata": {
    "trusted": false
   },
   "id": "1f487eb2-cb0c-4059-88a8-45f76ad69002",
   "cell_type": "code",
   "source": "person1.get_name()",
   "execution_count": 4,
   "outputs": [
    {
     "output_type": "execute_result",
     "execution_count": 4,
     "data": {
      "text/plain": "'ethan'"
     },
     "metadata": {}
    }
   ]
  },
  {
   "metadata": {},
   "id": "7afef760",
   "cell_type": "markdown",
   "source": "<hr>"
  },
  {
   "metadata": {
    "trusted": false
   },
   "id": "3415557d",
   "cell_type": "code",
   "source": "# TODO: define one or two redefined methods",
   "execution_count": null,
   "outputs": []
  },
  {
   "metadata": {
    "trusted": false
   },
   "id": "3205509e",
   "cell_type": "code",
   "source": "class Gun:\n    def __init__(self, color, name):\n        self.color = color\n        self.name = name\n    \n    def fill_ammo(self):\n        print('30 rounds')\n    \nclass HandGun(Gun):\n    def fill_ammo(self):\n         print('9 rounds')",
   "execution_count": 38,
   "outputs": []
  },
  {
   "metadata": {
    "trusted": false
   },
   "id": "7bdc29dd",
   "cell_type": "code",
   "source": "# configure weapons class\nmp9mm = HandGun(\"black and red\", \"m&p 9mm\")\nmp22 = Gun(\"blue and green\", \"m&p 22lr\")\n# add more guns and skins if you wish\n\nloadout = [mp9mm, mp22]",
   "execution_count": 39,
   "outputs": []
  },
  {
   "metadata": {
    "trusted": false
   },
   "id": "5d85e401",
   "cell_type": "code",
   "source": "sidearm = 0\nmain_weapon = 1\n\nprint(f\"currently selected loadout:\\nSidearm: \" + \\\n      f\"{loadout[sidearm].color} {loadout[sidearm].name}\" + \\\n      f\"\\nPrimary Weapon: {loadout[main_weapon].color} \" + \\\n      f\"{loadout[main_weapon].name}\")\n\nprint(\"\\n\\nReload both weapons x + y + x\")\nprint(\"Sidearm: \", end=\" \")\nloadout[sidearm].fill_ammo()\nprint(\"Primary: \", end=\" \")\nloadout[main_weapon].fill_ammo()",
   "execution_count": 4,
   "outputs": [
    {
     "output_type": "stream",
     "text": "currently selected loadout:\nSidearm: black and red m&p 9mm\nPrimary Weapon: blue and green m&p 22lr\n\n\nReload both weapons x + y + x\nSidearm:  9 rounds\nPrimary:  30 rounds\n",
     "name": "stdout"
    }
   ]
  },
  {
   "metadata": {},
   "id": "249dc6d8",
   "cell_type": "markdown",
   "source": "<hr>"
  },
  {
   "metadata": {
    "trusted": false
   },
   "id": "c2f9a3ea",
   "cell_type": "code",
   "source": "# TODO: define one or two additional extending methods",
   "execution_count": null,
   "outputs": []
  },
  {
   "metadata": {
    "trusted": true
   },
   "id": "3314a57e",
   "cell_type": "code",
   "source": "class Gun:\n    def __init__(self, color, name):\n        self.color = color\n        self.name = name\n\n    def fill_ammo(self):\n        print('30 rounds')\n\n    def miss_prob_coef(self, distance):\n        #maxdist=40\n        close = [30, 35]\n        if distance <= close[1] and distance >= close[0]:\n            return 2 # probably hit\n        elif distance < close[0] > 3:\n            # closer than 3 can grab rifle\n            return 0# dead at center target\n        elif distance < 3:\n            # rifle grab definite miss\n            return 10\n        else:\n            #distance > close[1]:\n            return 7 # might miss\n            \n            \n        \nclass HandGun(Gun):\n    def fill_ammo(self):\n         print('9 rounds')\n    def miss_prob_coef(self, distance):\n        #maxdist=40\n        close = [1, 5]\n        if distance <= close[1] and distance >= close[0]:\n            return 2 # probably hit\n        elif distance < close[0] > 3:\n            # closer than 3 can grab rifle\n            return 0# dead at center target\n        elif distance < 3:\n            # rifle grab definite miss\n            return 10\n        else:\n            #distance > close[1]:\n            return 7 # might miss",
   "execution_count": 1,
   "outputs": []
  },
  {
   "metadata": {
    "trusted": true
   },
   "cell_type": "code",
   "source": "loadout = []\nloadout.append(HandGun(\"black\", \"9mm\"))\nloadout.append(Gun(\"black\", \".223\"))\n\nloadout",
   "execution_count": 6,
   "outputs": [
    {
     "output_type": "execute_result",
     "execution_count": 6,
     "data": {
      "text/plain": "[<__main__.HandGun at 0x13f566770>, <__main__.Gun at 0x13f5647c0>]"
     },
     "metadata": {}
    }
   ]
  },
  {
   "metadata": {
    "trusted": true
   },
   "cell_type": "code",
   "source": "shot_max_dist = 40\nshot_dist = 25\nprint(f\"shot distance: {shot_dist}\")\nprint(\"0 equals kill shot, 10 equals definite miss\\n\\n\\n\")\n\nhandgun_miss_prob = loadout[0].miss_prob_coef(shot_dist)\nprint(f\"handgun miss prob coefficient heuristic: {handgun_miss_prob}\")\nrifle_miss_prob = loadout[1].miss_prob_coef(shot_dist)\nprint(f\"rifle miss prob coefficient heuristic: {rifle_miss_prob}\")",
   "execution_count": 12,
   "outputs": [
    {
     "output_type": "stream",
     "text": "shot distance: 25\n0 equals kill shot, 10 equals definite miss\n\n\n\nhandgun miss prob coefficient heuristic: 7\nrifle miss prob coefficient heuristic: 0\n",
     "name": "stdout"
    }
   ]
  },
  {
   "metadata": {},
   "id": "10e1d7e6",
   "cell_type": "markdown",
   "source": "<hr>"
  },
  {
   "metadata": {
    "trusted": false
   },
   "id": "f624a48a",
   "cell_type": "code",
   "source": "# TODO: use two classes together",
   "execution_count": 1,
   "outputs": []
  },
  {
   "metadata": {
    "trusted": false
   },
   "id": "9c74cd28",
   "cell_type": "code",
   "source": "",
   "execution_count": null,
   "outputs": []
  },
  {
   "metadata": {},
   "id": "8f8f790b",
   "cell_type": "markdown",
   "source": "<hr>"
  },
  {
   "metadata": {
    "trusted": false
   },
   "id": "97e79106",
   "cell_type": "code",
   "source": "# TODO: create something that uses 4 classes",
   "execution_count": null,
   "outputs": []
  },
  {
   "metadata": {
    "trusted": false
   },
   "id": "678202ae",
   "cell_type": "code",
   "source": "",
   "execution_count": null,
   "outputs": []
  },
  {
   "metadata": {},
   "id": "dc4df8eb",
   "cell_type": "markdown",
   "source": "<hr>"
  },
  {
   "metadata": {
    "trusted": false
   },
   "id": "4a693b4e",
   "cell_type": "code",
   "source": "# TODO: develop a program that works with complex numbers: addition subtraction multiplication and division",
   "execution_count": null,
   "outputs": []
  },
  {
   "metadata": {
    "trusted": false
   },
   "id": "209aa60b",
   "cell_type": "code",
   "source": "",
   "execution_count": null,
   "outputs": []
  },
  {
   "metadata": {},
   "id": "37698195",
   "cell_type": "markdown",
   "source": "<hr>"
  },
  {
   "metadata": {
    "trusted": false
   },
   "id": "e0c7b96d",
   "cell_type": "code",
   "source": "# TODO: define the classes of a problem that deals with motor vehicles; two groups or collections of these are trucks and cars.  \n#       Include class Sport_car in the class hierarchy as a subclass of Car.  Design and implement a program with all these classes.  \n#       Include attributes such as horse-power, maximu speed, passenger capacity, load capacity, and weight.  Include the relevant functions",
   "execution_count": 2,
   "outputs": []
  },
  {
   "metadata": {
    "trusted": false
   },
   "id": "0234dc40",
   "cell_type": "code",
   "source": "",
   "execution_count": null,
   "outputs": []
  },
  {
   "metadata": {},
   "id": "5f2ca298",
   "cell_type": "markdown",
   "source": "<hr>"
  }
 ],
 "metadata": {
  "kernelspec": {
   "name": "python3",
   "display_name": "Python 3",
   "language": "python"
  },
  "language_info": {
   "name": "python",
   "version": "3.10.4",
   "mimetype": "text/x-python",
   "codemirror_mode": {
    "name": "ipython",
    "version": 3
   },
   "pygments_lexer": "ipython3",
   "nbconvert_exporter": "python",
   "file_extension": ".py"
  }
 },
 "nbformat": 4,
 "nbformat_minor": 5
}