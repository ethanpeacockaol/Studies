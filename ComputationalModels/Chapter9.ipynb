{
 "cells": [
  {
   "cell_type": "markdown",
   "id": "f74eb9ce-fe22-4938-9863-c175978ac75b",
   "metadata": {},
   "source": [
    "# Chapter 9 Object Oriented Programs"
   ]
  },
  {
   "cell_type": "markdown",
   "id": "9f407c35-00a4-4bf9-9442-95d395ec4296",
   "metadata": {},
   "source": [
    "Chapter 9 exercises page 180 of 492"
   ]
  },
  {
   "cell_type": "markdown",
   "id": "fc984fa8-b007-4983-ba16-6dcca99baaa6",
   "metadata": {},
   "source": [
    "<hr>"
   ]
  },
  {
   "cell_type": "markdown",
   "id": "d57cec7e-e08b-406e-8bf7-f409f2ea4450",
   "metadata": {},
   "source": [
    "# TODO: Is a class an appropriate decomposition unit?  What other units are possible to consider?\n",
    "\n",
    "# TODO: explain the implentation of a problem decomposed into classes and functions\n",
    "#       explain the decomposition structure. What is the purpose of decomposing a problem into subproblems?\n",
    "\n",
    "# TODO: Is it convenient to in\n",
    "\n",
    "\n",
    "fuck sorry only doing programming poblems from now on"
   ]
  },
  {
   "cell_type": "code",
   "execution_count": 1,
   "id": "7ac4187e-a282-4ced-8ebb-f9b534960829",
   "metadata": {},
   "outputs": [
    {
     "ename": "SyntaxError",
     "evalue": "invalid syntax (3237795022.py, line 1)",
     "output_type": "error",
     "traceback": [
      "  \u001b[36mCell\u001b[39m\u001b[36m \u001b[39m\u001b[32mIn[1]\u001b[39m\u001b[32m, line 1\u001b[39m\n\u001b[31m    \u001b[39m\u001b[31mChapter 9 programming problems:\u001b[39m\n            ^\n\u001b[31mSyntaxError\u001b[39m\u001b[31m:\u001b[39m invalid syntax\n"
     ]
    }
   ],
   "source": [
    "Chapter 9 programming problems:"
   ]
  },
  {
   "cell_type": "markdown",
   "id": "a673664e-e4e7-4817-b4f6-8ed28bf071d0",
   "metadata": {},
   "source": [
    "write a class that shows reuse of objects is nice sometimes\n",
    "\n",
    "define one or two redefined methods\n",
    "\n",
    "define one or two additional extending methods\n",
    "\n",
    "define a class that inherits another class"
   ]
  },
  {
   "cell_type": "markdown",
   "id": "9b84e92f-282e-4cb4-8dd4-472d6c77c08e",
   "metadata": {},
   "source": [
    "use two classes together"
   ]
  }
 ],
 "metadata": {
  "kernelspec": {
   "display_name": "Python 3 (ipykernel)",
   "language": "python",
   "name": "python3"
  },
  "language_info": {
   "codemirror_mode": {
    "name": "ipython",
    "version": 3
   },
   "file_extension": ".py",
   "mimetype": "text/x-python",
   "name": "python",
   "nbconvert_exporter": "python",
   "pygments_lexer": "ipython3",
   "version": "3.13.2"
  }
 },
 "nbformat": 4,
 "nbformat_minor": 5
}
