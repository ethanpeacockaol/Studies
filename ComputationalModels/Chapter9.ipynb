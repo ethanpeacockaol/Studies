{
 "cells": [
  {
   "cell_type": "markdown",
   "id": "f74eb9ce-fe22-4938-9863-c175978ac75b",
   "metadata": {},
   "source": [
    "# Chapter 9 Object Oriented Programs"
   ]
  },
  {
   "cell_type": "markdown",
   "id": "9f407c35-00a4-4bf9-9442-95d395ec4296",
   "metadata": {},
   "source": [
    "Chapter 9 exercises page 180 of 492"
   ]
  },
  {
   "cell_type": "markdown",
   "id": "fc984fa8-b007-4983-ba16-6dcca99baaa6",
   "metadata": {},
   "source": [
    "<hr>"
   ]
  },
  {
   "cell_type": "markdown",
   "id": "d57cec7e-e08b-406e-8bf7-f409f2ea4450",
   "metadata": {},
   "source": [
    "# TODO: Is a class an appropriate decomposition unit?  What other units are possible to consider?\n",
    "\n",
    "# TODO: explain the implentation of a problem decomposed into classes and functions\n",
    "#       explain the decomposition structure. What is the purpose of decomposing a problem into subproblems?\n",
    "\n",
    "# TODO: Is it convenient to in\n",
    "\n",
    "\n",
    "fuck sorry only doing programming poblems from now on"
   ]
  },
  {
   "cell_type": "code",
   "execution_count": 1,
   "id": "7ac4187e-a282-4ced-8ebb-f9b534960829",
   "metadata": {},
   "outputs": [
    {
     "ename": "SyntaxError",
     "evalue": "invalid syntax (3237795022.py, line 1)",
     "output_type": "error",
     "traceback": [
      "  \u001b[36mCell\u001b[39m\u001b[36m \u001b[39m\u001b[32mIn[1]\u001b[39m\u001b[32m, line 1\u001b[39m\n\u001b[31m    \u001b[39m\u001b[31mChapter 9 programming problems:\u001b[39m\n            ^\n\u001b[31mSyntaxError\u001b[39m\u001b[31m:\u001b[39m invalid syntax\n"
     ]
    }
   ],
   "source": [
    "Chapter 9 programming problems:"
   ]
  },
  {
   "cell_type": "markdown",
   "id": "a673664e-e4e7-4817-b4f6-8ed28bf071d0",
   "metadata": {},
   "source": [
    "write a class that shows reuse of objects is nice sometimes\n",
    "\n",
    "define one or two redefined methods\n",
    "\n",
    "define one or two additional extending methods\n",
    "\n",
    "define a class that inherits another class"
   ]
  },
  {
   "cell_type": "markdown",
   "id": "9b84e92f-282e-4cb4-8dd4-472d6c77c08e",
   "metadata": {},
   "source": [
    "use two classes together\n",
    "\n",
    "create something that uses 4 classes\n",
    "\n",
    "develop a program that works with complex numbers: addition subtraction multiplication and division\n",
    "\n",
    "define the classes of a problem that deals with motor vehicles; two groups or collections of these are trucks and cars.  Include class Sport_car in the class hierarchy as a subclass of Car.  Design and implement a program with all these classes.  Include attributes such as horse-power, maximu speed, passenger capacity, load capacity, and weight.  Include the relevant functions"
   ]
  },
  {
   "cell_type": "markdown",
   "id": "bfc03e2d-ccb3-4e58-9a71-fbe653e1ed5c",
   "metadata": {},
   "source": [
    "<hr>"
   ]
  },
  {
   "cell_type": "code",
   "execution_count": null,
   "id": "e092e11c-7b85-4ea4-8e6a-d16e99fd1963",
   "metadata": {},
   "outputs": [],
   "source": [
    "# TODO: write a class that shows reuse of objects is nice sometimes\n",
    "\n",
    "# TODO: define one or two redefined methods\n",
    "\n",
    "# TODO: define one or two additional extending methods\n",
    "\n",
    "# TODO: define a class that inherits another class\n",
    "\n",
    "# TODO: use two classes together\n",
    "\n",
    "# TODO: create something that uses 4 classes\n",
    "\n",
    "# TODO: develop a program that works with complex numbers: addition subtraction multiplication and division\n",
    "\n",
    "# TODO: define the classes of a problem that deals with motor vehicles; two groups or collections of these are trucks and cars.  \n",
    "#       Include class Sport_car in the class hierarchy as a subclass of Car.  Design and implement a program with all these classes.  \n",
    "#       Include attributes such as horse-power, maximu speed, passenger capacity, load capacity, and weight.  Include the relevant functions"
   ]
  },
  {
   "cell_type": "markdown",
   "id": "1039b7d6",
   "metadata": {},
   "source": [
    "<hr>"
   ]
  },
  {
   "cell_type": "code",
   "execution_count": null,
   "id": "371f1cbe",
   "metadata": {},
   "outputs": [],
   "source": [
    "# TODO: write a class that shows reuse of objects is nice sometimes"
   ]
  },
  {
   "cell_type": "code",
   "execution_count": 2,
   "id": "e0c42fa0",
   "metadata": {},
   "outputs": [],
   "source": [
    "class Person:\n",
    "    def __init__(self, name, age, favcolor):\n",
    "        self.name = name\n",
    "        self.age = age\n",
    "        self.favcolor = favcolor\n",
    "\n",
    "    def get_name(self):\n",
    "        return self.name\n",
    "\n",
    "    def get_age(self):\n",
    "        return self.agw\n",
    "\n",
    "    def get_favcolor(self):\n",
    "        return self.favcolor"
   ]
  },
  {
   "cell_type": "code",
   "execution_count": 3,
   "id": "bfa7c74d-edfa-4174-81f2-d41e36cc009a",
   "metadata": {},
   "outputs": [],
   "source": [
    "person1 = Person(\"ethan\", \"?\", \"!?\")"
   ]
  },
  {
   "cell_type": "code",
   "execution_count": 4,
   "id": "1f487eb2-cb0c-4059-88a8-45f76ad69002",
   "metadata": {},
   "outputs": [
    {
     "data": {
      "text/plain": [
       "'ethan'"
      ]
     },
     "execution_count": 4,
     "metadata": {},
     "output_type": "execute_result"
    }
   ],
   "source": [
    "person1.get_name()"
   ]
  },
  {
   "cell_type": "markdown",
   "id": "7afef760",
   "metadata": {},
   "source": [
    "<hr>"
   ]
  },
  {
   "cell_type": "code",
   "execution_count": null,
   "id": "3415557d",
   "metadata": {},
   "outputs": [],
   "source": [
    "# TODO: define one or two redefined methods"
   ]
  },
  {
   "cell_type": "code",
   "execution_count": 38,
   "id": "3205509e",
   "metadata": {},
   "outputs": [],
   "source": [
    "class Gun:\n",
    "    def __init__(self, color, name):\n",
    "        self.color = color\n",
    "        self.name = name\n",
    "    \n",
    "    def fill_ammo(self):\n",
    "        print('30 rounds')\n",
    "    \n",
    "class HandGun(Gun):\n",
    "    def fill_ammo(self):\n",
    "         print('9 rounds')"
   ]
  },
  {
   "cell_type": "code",
   "execution_count": 39,
   "id": "7bdc29dd",
   "metadata": {},
   "outputs": [],
   "source": [
    "# configure weapons class\n",
    "mp9mm = HandGun(\"black and red\", \"m&p 9mm\")\n",
    "mp22 = Gun(\"blue and green\", \"m&p 22lr\")\n",
    "# add more guns and skins if you wish\n",
    "\n",
    "loadout = [mp9mm, mp22]"
   ]
  },
  {
   "cell_type": "code",
   "execution_count": 4,
   "id": "5d85e401",
   "metadata": {},
   "outputs": [
    {
     "name": "stdout",
     "output_type": "stream",
     "text": [
      "currently selected loadout:\n",
      "Sidearm: black and red m&p 9mm\n",
      "Primary Weapon: blue and green m&p 22lr\n",
      "\n",
      "\n",
      "Reload both weapons x + y + x\n",
      "Sidearm:  9 rounds\n",
      "Primary:  30 rounds\n"
     ]
    }
   ],
   "source": [
    "sidearm = 0\n",
    "main_weapon = 1\n",
    "\n",
    "print(f\"currently selected loadout:\\nSidearm: \" + \\\n",
    "      f\"{loadout[sidearm].color} {loadout[sidearm].name}\" + \\\n",
    "      f\"\\nPrimary Weapon: {loadout[main_weapon].color} \" + \\\n",
    "      f\"{loadout[main_weapon].name}\")\n",
    "\n",
    "print(\"\\n\\nReload both weapons x + y + x\")\n",
    "print(\"Sidearm: \", end=\" \")\n",
    "loadout[sidearm].fill_ammo()\n",
    "print(\"Primary: \", end=\" \")\n",
    "loadout[main_weapon].fill_ammo()"
   ]
  },
  {
   "cell_type": "markdown",
   "id": "249dc6d8",
   "metadata": {},
   "source": [
    "<hr>"
   ]
  },
  {
   "cell_type": "code",
   "execution_count": null,
   "id": "c2f9a3ea",
   "metadata": {},
   "outputs": [],
   "source": [
    "# TODO: define one or two additional extending methods"
   ]
  },
  {
   "cell_type": "code",
   "execution_count": 1,
   "id": "3314a57e",
   "metadata": {},
   "outputs": [],
   "source": [
    "class Gun:\n",
    "    def __init__(self, color, name):\n",
    "        self.color = color\n",
    "        self.name = name\n",
    "\n",
    "    def fill_ammo(self):\n",
    "        print('30 rounds')\n",
    "\n",
    "    def miss_prob_coef(self, distance):\n",
    "        #maxdist=40\n",
    "        close = [30, 35]\n",
    "        if distance <= close[1] and distance >= close[0]:\n",
    "            return 2 # probably hit\n",
    "        elif distance < close[0] > 3:\n",
    "            # closer than 3 can grab rifle\n",
    "            return 0# dead at center target\n",
    "        elif distance < 3:\n",
    "            # rifle grab definite miss\n",
    "            return 10\n",
    "        else:\n",
    "            #distance > close[1]:\n",
    "            return 7 # might miss\n",
    "            \n",
    "            \n",
    "        \n",
    "class HandGun(Gun):\n",
    "    def fill_ammo(self):\n",
    "         print('9 rounds')\n",
    "\n",
    "    def miss_prob_coef(self, distance):\n",
    "        #maxdist=40\n",
    "        close = [1, 5]\n",
    "        if distance <= close[1] and distance >= close[0]:\n",
    "            return 2 # probably hit\n",
    "        elif distance < close[0] > 3:\n",
    "            # closer than 3 can grab rifle\n",
    "            return 0# dead at center target\n",
    "        elif distance < 3:\n",
    "            # rifle grab definite miss\n",
    "            return 10\n",
    "        else:\n",
    "            #distance > close[1]:\n",
    "            return 7 # might miss"
   ]
  },
  {
   "cell_type": "code",
   "execution_count": 6,
   "id": "7667a00a",
   "metadata": {},
   "outputs": [
    {
     "data": {
      "text/plain": [
       "[<__main__.HandGun at 0x13f566770>, <__main__.Gun at 0x13f5647c0>]"
      ]
     },
     "execution_count": 6,
     "metadata": {},
     "output_type": "execute_result"
    }
   ],
   "source": [
    "loadout = []\n",
    "loadout.append(HandGun(\"black\", \"9mm\"))\n",
    "loadout.append(Gun(\"black\", \".223\"))\n",
    "\n",
    "loadout"
   ]
  },
  {
   "cell_type": "code",
   "execution_count": 12,
   "id": "ebc53135",
   "metadata": {},
   "outputs": [
    {
     "name": "stdout",
     "output_type": "stream",
     "text": [
      "shot distance: 25\n",
      "0 equals kill shot, 10 equals definite miss\n",
      "\n",
      "\n",
      "\n",
      "handgun miss prob coefficient heuristic: 7\n",
      "rifle miss prob coefficient heuristic: 0\n"
     ]
    }
   ],
   "source": [
    "shot_max_dist = 40\n",
    "shot_dist = 25\n",
    "print(f\"shot distance: {shot_dist}\")\n",
    "print(\"0 equals kill shot, 10 equals definite miss\\n\\n\\n\")\n",
    "\n",
    "handgun_miss_prob = loadout[0].miss_prob_coef(shot_dist)\n",
    "print(f\"handgun miss prob coefficient heuristic: {handgun_miss_prob}\")\n",
    "rifle_miss_prob = loadout[1].miss_prob_coef(shot_dist)\n",
    "print(f\"rifle miss prob coefficient heuristic: {rifle_miss_prob}\")"
   ]
  },
  {
   "cell_type": "markdown",
   "id": "10e1d7e6",
   "metadata": {},
   "source": [
    "<hr>"
   ]
  },
  {
   "cell_type": "code",
   "execution_count": 1,
   "id": "f624a48a",
   "metadata": {},
   "outputs": [],
   "source": [
    "# TODO: use two classes together"
   ]
  },
  {
   "cell_type": "code",
   "execution_count": 24,
   "id": "9c74cd28",
   "metadata": {},
   "outputs": [],
   "source": [
    "class CODPLAYER:\n",
    "    def __init__(self, gamer_tag, spawn_location):\n",
    "        self.tag = gamer_tag\n",
    "        self.playerxy = spawn_location\n",
    "\n",
    "    def update_playerxy(self, coords):\n",
    "        self.playerxy =  coords\n",
    "\n",
    "    def get_playerxy(self):\n",
    "        return self.playerxy\n",
    "\n",
    "    def can_knife(self, knife_target_coord):\n",
    "        if self.playerxy == knife_target_coord:\n",
    "            return True\n",
    "        else:\n",
    "            return False\n",
    "\n",
    "\n",
    "class POINTYWEAPON:\n",
    "    def __init__(self, serations, weapon_mounted, name, airborn):\n",
    "        self.serations = serations\n",
    "        self.weapon_mounted = weapon_mounted\n",
    "        self.name = name\n",
    "        self.airborn = airborn\n",
    "\n",
    "    def get_animation_techs(self):\n",
    "        if self.serations:\n",
    "            blade_cut = \"serated\"\n",
    "        else:\n",
    "            blade_cut = \"smooth\"\n",
    "        if self.weapon_mounted:\n",
    "            mounted = \"gun mounted\"\n",
    "        else:\n",
    "            mounted = \"hand held\"\n",
    "        if self.airborn:\n",
    "            thrown = \" that was thrown\"\n",
    "        else:\n",
    "            thrown = \"\"\n",
    "        animation_sequence = f\"other player was stabbed with a {blade_cut} {mounted} knife{thrown}, named {self.name}\"\n",
    "        print(animation_sequence)\n",
    "\n",
    "\n",
    "\n",
    "\n",
    "        "
   ]
  },
  {
   "cell_type": "code",
   "execution_count": 25,
   "id": "0c5b6fba-1e03-48c8-95fa-dcf294ca75eb",
   "metadata": {},
   "outputs": [
    {
     "name": "stdout",
     "output_type": "stream",
     "text": [
      "Player 1 location: [0, 0]\n",
      "Player 2 location: [1, 1]\n",
      "\n",
      "Player 2 stab attempt player 1 success?: False\n",
      "\n",
      "player 1 new location: [1, 1]\n",
      "\n",
      "Player 1 stab player 2 attempt success?: True\n",
      "other player was stabbed with a serated hand held knife that was thrown, named stubby\n"
     ]
    }
   ],
   "source": [
    "# player 1\n",
    "cod_player1 = CODPLAYER('hackattendant', [0,0])\n",
    "cod_player1_pointy = POINTYWEAPON(True, False, \"stubby\", True)\n",
    "\n",
    "# player 2\n",
    "cod_player2 = CODPLAYER('hackattendant2', [1, 1])\n",
    "cod_player2_pointy = POINTYWEAPON(False, True, \"oh-fuck\", True)\n",
    "\n",
    "\n",
    "# check player locations\n",
    "print(f\"Player 1 location: {cod_player1.playerxy}\")\n",
    "print(f\"Player 2 location: {cod_player2.playerxy}\")\n",
    "\n",
    "# player 2 attempts stab on player 1\n",
    "stab_attempt = cod_player2.can_knife(cod_player1.get_playerxy())\n",
    "print(f\"\\nPlayer 2 stab attempt player 1 success?: {stab_attempt}\")\n",
    "if stab_attempt:\n",
    "    cod_player2_pointy.get_animation_techs()\n",
    "\n",
    "# player 1 moves\n",
    "cod_player1.update_playerxy([1, 1])\n",
    "print(f\"\\nplayer 1 new location: {cod_player1.get_playerxy()}\")\n",
    "# player 1 attempts to stab player 1\n",
    "stab_attempt = cod_player1.can_knife(cod_player2.get_playerxy())\n",
    "print(f\"\\nPlayer 1 stab player 2 attempt success?: {stab_attempt}\")\n",
    "if stab_attempt:\n",
    "    cod_player1_pointy.get_animation_techs()"
   ]
  },
  {
   "cell_type": "code",
   "execution_count": 26,
   "id": "1bfabc2b-8a94-43ea-b349-b46e325d118e",
   "metadata": {},
   "outputs": [
    {
     "name": "stdout",
     "output_type": "stream",
     "text": [
      "other player was stabbed with a smooth gun mounted knife that was thrown, named oh-fuck\n"
     ]
    }
   ],
   "source": [
    "# include player 2\n",
    "ad_stab_attempt = cod_player2.can_knife(cod_player1.get_playerxy())\n",
    "if ad_stab_attempt:\n",
    "    cod_player2_pointy.get_animation_techs()"
   ]
  },
  {
   "cell_type": "markdown",
   "id": "8f8f790b",
   "metadata": {},
   "source": [
    "<hr>"
   ]
  },
  {
   "cell_type": "code",
   "execution_count": null,
   "id": "97e79106",
   "metadata": {},
   "outputs": [],
   "source": [
    "# TODO: create something that uses 4 classes"
   ]
  },
  {
   "cell_type": "code",
   "execution_count": 27,
   "id": "678202ae",
   "metadata": {},
   "outputs": [
    {
     "ename": "SyntaxError",
     "evalue": "expected ':' (2755567815.py, line 1)",
     "output_type": "error",
     "traceback": [
      "  \u001b[36mCell\u001b[39m\u001b[36m \u001b[39m\u001b[32mIn[27]\u001b[39m\u001b[32m, line 1\u001b[39m\n\u001b[31m    \u001b[39m\u001b[31mclass GTAGARAGE\u001b[39m\n                   ^\n\u001b[31mSyntaxError\u001b[39m\u001b[31m:\u001b[39m expected ':'\n"
     ]
    }
   ],
   "source": [
    "class GTAGARAGE\n",
    "\n",
    "class GTAAPARTMEMT\n",
    "\n",
    "class GTACAR\n",
    "\n",
    "class GTAPLAYER"
   ]
  },
  {
   "cell_type": "markdown",
   "id": "dc4df8eb",
   "metadata": {},
   "source": [
    "<hr>"
   ]
  },
  {
   "cell_type": "code",
   "execution_count": null,
   "id": "4a693b4e",
   "metadata": {},
   "outputs": [],
   "source": [
    "# TODO: develop a program that works with complex numbers: addition subtraction multiplication and division"
   ]
  },
  {
   "cell_type": "code",
   "execution_count": null,
   "id": "209aa60b",
   "metadata": {},
   "outputs": [],
   "source": []
  },
  {
   "cell_type": "markdown",
   "id": "37698195",
   "metadata": {},
   "source": [
    "<hr>"
   ]
  },
  {
   "cell_type": "code",
   "execution_count": 2,
   "id": "e0c7b96d",
   "metadata": {},
   "outputs": [],
   "source": [
    "# TODO: define the classes of a problem that deals with motor vehicles; two groups or collections of these are trucks and cars.  \n",
    "#       Include class Sport_car in the class hierarchy as a subclass of Car.  Design and implement a program with all these classes.  \n",
    "#       Include attributes such as horse-power, maximu speed, passenger capacity, load capacity, and weight.  Include the relevant functions"
   ]
  },
  {
   "cell_type": "code",
   "execution_count": null,
   "id": "0234dc40",
   "metadata": {},
   "outputs": [],
   "source": []
  },
  {
   "cell_type": "markdown",
   "id": "5f2ca298",
   "metadata": {},
   "source": [
    "<hr>"
   ]
  }
 ],
 "metadata": {
  "kernelspec": {
   "display_name": "Python 3 (ipykernel)",
   "language": "python",
   "name": "python3"
  },
  "language_info": {
   "codemirror_mode": {
    "name": "ipython",
    "version": 3
   },
   "file_extension": ".py",
   "mimetype": "text/x-python",
   "name": "python",
   "nbconvert_exporter": "python",
   "pygments_lexer": "ipython3",
   "version": "3.13.2"
  }
 },
 "nbformat": 4,
 "nbformat_minor": 5
}
