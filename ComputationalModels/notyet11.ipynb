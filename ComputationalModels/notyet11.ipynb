{
 "cells": [
  {
   "cell_type": "markdown",
   "id": "d088f474-ddde-4f37-9032-741cc503b621",
   "metadata": {},
   "source": [
    "# Chapter 11 Recursion"
   ]
  },
  {
   "cell_type": "markdown",
   "id": "643eabb4-20cd-4323-b66f-44686cc1590c",
   "metadata": {},
   "source": [
    "hey unfortunatley in my use cases recursion is never faster and it creates super unreadable code to even when it works most people are lying about understanding it, sorry im sticking to procedural pipelines as i find them the best fit for all solutions except 3d modeling large collections of attributes, parallel lists kinda fix this too and are simpler to understand but hey everything is nice sometimes"
   ]
  },
  {
   "cell_type": "markdown",
   "id": "47871b03-fe11-43b8-90a9-3b91e842c146",
   "metadata": {},
   "source": [
    "next chapter"
   ]
  },
  {
   "cell_type": "code",
   "execution_count": null,
   "id": "d9a91ed6-0d66-4744-b759-274bdfb00668",
   "metadata": {},
   "outputs": [],
   "source": []
  }
 ],
 "metadata": {
  "kernelspec": {
   "display_name": "Python 3 (ipykernel)",
   "language": "python",
   "name": "python3"
  },
  "language_info": {
   "codemirror_mode": {
    "name": "ipython",
    "version": 3
   },
   "file_extension": ".py",
   "mimetype": "text/x-python",
   "name": "python",
   "nbconvert_exporter": "python",
   "pygments_lexer": "ipython3",
   "version": "3.9.6"
  }
 },
 "nbformat": 4,
 "nbformat_minor": 5
}
