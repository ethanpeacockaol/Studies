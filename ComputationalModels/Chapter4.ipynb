{
 "cells": [
  {
   "cell_type": "markdown",
   "metadata": {
    "id": "OQY94Qo6cyAz"
   },
   "source": [
    "# Chapter 4 Program Structures\n",
    "\n",
    "pg 88 of 492"
   ]
  },
  {
   "cell_type": "markdown",
   "metadata": {
    "id": "FNKWfsFObhTD"
   },
   "source": [
    "Program structures are also known as design structures\n",
    "\n",
    "we will discuss how they can be used when designing a program\n",
    "\n",
    "this chapter presents general concepts of algorithms, flowcharts and pseudo code\n",
    "\n",
    "the purpose of computer problem solving is to design a solution to a problem; an algorithm describes precisely this design and is implemented in a computer program.  Analyzing the problem includes understanding the problem, identifying the given input data and the required results\n",
    "\n",
    "developing a program involves implementing a computer solution to solve it\n",
    "\n",
    "\n",
    "design of  a solution to the problem requires finding some method to solve the problem first outside the computer\n",
    "\n",
    "\n",
    "designing a solution to the problem consists of defining the necessary computations to be carried out in an appropriate sequence on the given data to produce the final required results\n",
    "\n",
    "The design of the solution to a problem is described by an algorithm\n",
    "\n",
    "\n",
    "an algorithm is a complete and precise sequence of steps that need to be carried out to achieve the solution to a problem\n",
    "\n",
    "after the algorithm has been formulated and written, its implementation and the corresponding data definitions are carried out with a programming language such as Python\n"
   ]
  },
  {
   "cell_type": "markdown",
   "metadata": {
    "id": "1TEFhWzRbmfx"
   },
   "source": [
    "### 4.2 Algorithms\n",
    "\n",
    "\n",
    "an algorithm is a clear, detailed precise and complete desacription of the sequence of steps to be performed in order to produce the desired results\n",
    "\n",
    "an algorithm can be considered the transformation on the given data and involves a sequence of commands or operations that are to be carried out on the data in order to produce the desired results\n",
    "\n",
    "\n",
    "the algorithm is usaully broken down into smaller tasks\n",
    "\n",
    "usually the overall algorithm is composed of smaller algorithms chained together\n",
    "\n",
    "\n",
    "we can implement algorithms in programming languages such as python etc\n",
    "\n",
    "\n",
    "\n",
    "### 4.3 Implementing algorithms\n",
    "\n",
    "\n",
    "programming langs have well defined syntax and semantic rules\n",
    "\n",
    "the syntax is defined by a set of grammer rules and a vocabulary\n",
    "\n",
    "the sentences are called statements\n",
    "\n",
    "two groups of words are used to write the statements\n",
    "\n",
    "reserved words also known as keywords and identifiers\n",
    "\n",
    "\n",
    "reserved woreds are the keywords of the language and have a predefined purpose\n",
    "\n",
    "examples:  for, def, while, if\n",
    "\n",
    "\n",
    "identifiers are names for varialbes, constants and functions that the programmer may choose\n",
    "\n",
    "examples, height, temperature, pressure, number_units, my_custom_var_nameFUCKYOU\n",
    "\n",
    "\n",
    "\n",
    "\n",
    "### 4.4 Algorithm Description\n",
    "\n",
    "\n",
    "you should design your algorithm in mind or on paper first, animations are nice too\n",
    "\n",
    "make it as general as possible in order to solve a group of problems not one explicit thing that nature can break easily\n",
    "\n",
    "here are some notations used to describe an algorithm:\n",
    "\n",
    "* Flowcharts\n",
    "* Pseudo-code\n",
    "\n",
    "\n",
    "\n",
    "### 4.4.1 Flowcharts\n",
    "\n",
    "the flow of control in a program is the order in which the operations will be executed\n",
    "\n",
    "a flowchart is a visual representation of the flow of the data and the operations on this data\n",
    "\n",
    "a flowchart consists of a set of symbolic blocks connected by arrows\n",
    "\n",
    "the arrows that connect the blocks show the order for"
   ]
  },
  {
   "cell_type": "code",
   "execution_count": 4,
   "metadata": {
    "colab": {
     "base_uri": "https://localhost:8080/"
    },
    "id": "gEkdj_5fgctG",
    "outputId": "7f2fe596-b9a3-49e9-9c7a-17f6804ae97d"
   },
   "outputs": [
    {
     "name": "stdout",
     "output_type": "stream",
     "text": [
      "Saved HTML to output.html\n"
     ]
    },
    {
     "data": {
      "text/html": [
       "\n",
       "        <iframe\n",
       "            width=\"100%\"\n",
       "            height=\"600\"\n",
       "            src=\"output.html\"\n",
       "            frameborder=\"0\"\n",
       "            allowfullscreen\n",
       "            \n",
       "        ></iframe>\n",
       "        "
      ],
      "text/plain": [
       "<IPython.lib.display.IFrame at 0x2406acbf4d0>"
      ]
     },
     "metadata": {},
     "output_type": "display_data"
    }
   ],
   "source": [
    "from pyflowchart import *\n",
    "from IPython.display import IFrame, display\n",
    "\n",
    "\n",
    "st = StartNode('Begin flowchart')\n",
    "op = OperationNode('Operation 1')\n",
    "op2 = OperationNode('Operation 2')\n",
    "op3 = OperationNode('Operation 3')\n",
    "op4 = OperationNode('etc')\n",
    "e = EndNode('end of flow chart')\n",
    "\n",
    "st.connect(op)\n",
    "op.connect(op2)\n",
    "op2.connect(op3)\n",
    "op3.connect(op4)\n",
    "op4.connect(e)\n",
    "\n",
    "fc = Flowchart(st)\n",
    "# print(fc.flowchart())\n",
    "output_html('output.html', 'a_pyflow_test', fc.flowchart())\n",
    "\n",
    "\n",
    "\n",
    "def show_html_file(filename):\n",
    "    \"\"\"Displays an HTML file in an IFrame within a Jupyter Notebook.\n",
    "\n",
    "    Args:\n",
    "        filename (str): The name of the HTML file to display.\n",
    "    \"\"\"\n",
    "    display(IFrame(filename, width=\"100%\", height=\"600\"))\n",
    "\n",
    "# Example usage:\n",
    "show_html_file(\"output.html\")"
   ]
  },
  {
   "cell_type": "markdown",
   "metadata": {
    "id": "qMtg09oGhFqm"
   },
   "source": [
    "above you can see a flowchart example using pyflowchart"
   ]
  },
  {
   "cell_type": "markdown",
   "metadata": {},
   "source": [
    "page 90 of 492"
   ]
  },
  {
   "cell_type": "code",
   "execution_count": 5,
   "metadata": {},
   "outputs": [
    {
     "name": "stdout",
     "output_type": "stream",
     "text": [
      "no offense i dont really like flow charts, skipping to exercises\n"
     ]
    }
   ],
   "source": [
    "print('no offense i dont really like flow charts, skipping to exercises')\n"
   ]
  },
  {
   "cell_type": "markdown",
   "metadata": {},
   "source": [
    "### 4.6 Computing area and circumference\n",
    "\n",
    "for this example a computational model is developed that computes the area and circumference of a circle.  The input value of the radius is read from the keybaord and the results written to the screen\n",
    "\n",
    "### 4.6.1 Specification\n",
    "\n",
    "The specification of the problem can be described as a high-level algorithm in informal pseudo-code notation\n",
    "\n",
    "1. Read the value of the radius of a circle, from the input device\n",
    "2. Compute the area of the circle\n",
    "3. Compute the circumference of the circle\n",
    "4. Output or display the value of the area of the circle to the output device\n",
    "5. Output or display the value of the circumference of the circle to the output device\n",
    "\n",
    "\n",
    "### 4.6.2 Algorithm with the Math Model\n",
    "\n",
    "1. Read the value of the radius $r$ of a circle, from the input device\n",
    "2. Establish the constant $\\pi$ with value 3.14159\n",
    "3. compute the area of the circle, $area = \\pi r^2$\n",
    "4. Compute the circumfrerence of the circle, $cir = 2 \\pi r$\n",
    "5. print or display the value of area of the circle to the output device\n",
    "6. print or display the value of circumference of the circle to the output device\n",
    "\n",
    "below we will implement this algorithm with its math model in python"
   ]
  },
  {
   "cell_type": "markdown",
   "metadata": {},
   "source": [
    "Formulas required\n",
    "\n",
    "$Area = \\pi r^2$\n",
    "\n",
    "$Circumference = 2 \\pi r$"
   ]
  },
  {
   "cell_type": "code",
   "execution_count": 6,
   "metadata": {},
   "outputs": [
    {
     "name": "stdin",
     "output_type": "stream",
     "text": [
      "What is the radius r of the circle?  3\n"
     ]
    },
    {
     "name": "stdout",
     "output_type": "stream",
     "text": [
      "Area of circle with radius 3.0 is 28.274333882308138\n",
      "Circumference of a circle with radius 3.0 is 18.84955592153876\n"
     ]
    }
   ],
   "source": [
    "def alg_with_math_model():\n",
    "    # 1. read the value of the radius r of a circle from the input device\n",
    "    radius = float(input(\"What is the radius r of the circle? \"))\n",
    "    # 2. Establish the constant pi with value 3.14159\n",
    "    import numpy as np\n",
    "    pi = np.pi\n",
    "    # 3. compute the area of the circle\n",
    "    area = pi * radius**2\n",
    "    # 4. compute the circumference of the circle\n",
    "    circumference = 2 * pi * radius\n",
    "    # 5. print the value of area\n",
    "    print(f\"Area of circle with radius {radius} is {area}\")\n",
    "    # 6. print the value of circumference\n",
    "    print(f\"Circumference of a circle with radius {radius} is {circumference}\")\n",
    "\n",
    "\n",
    "\n",
    "# run algorithm with math model applied\n",
    "alg_with_math_model()"
   ]
  },
  {
   "cell_type": "markdown",
   "metadata": {},
   "source": [
    "# 4.8 Exercises\n",
    "<hr>"
   ]
  },
  {
   "cell_type": "code",
   "execution_count": 7,
   "metadata": {},
   "outputs": [],
   "source": [
    "# TODO: Write the algorithm for computing the area of a triangle flowcharts\n",
    "\n",
    "# TODO: write the algorithm for computing the area of a triangle pseudo code\n",
    "\n",
    "# TODO: develop a computational model for computing the area of a triangle pseudo-code\n",
    "\n",
    "# TODO: write the algorithm for computing the perimiter of a triangle in flowcharts\n",
    "\n",
    "# TODO: Develop a computational model for computing the perimeter of a triangle\n",
    "\n",
    "# TODo: Write the algorithmic description in flowchart and in pseudo-code to compute \n",
    "#       the conversion from a temperature reading in degrees Fahrenheit to Centigrade. \n",
    "#       The algorithm should also compute the conversion from Centigrade to Fahrenheit.\n",
    "\n",
    "# TODO: develop a computational model to compute the conversion from a temperature reading \n",
    "#       in degrees fahrenheit to centigrade. The program should also compute the conversion \n",
    "#       from Centigrade to Fahrenheit\n",
    "\n",
    "# TODO: Write an algorithm and data descriptions in flowchart and pseudo-code to\n",
    "#       compute the conversion from inches to centimeters and from centimeters to inches\n",
    "\n",
    "# TODO: Develop a computational model to compute the convfersion from inches to centimeters \n",
    "#       and from centimeters to inches\n"
   ]
  },
  {
   "cell_type": "markdown",
   "metadata": {},
   "source": [
    "<hr>"
   ]
  },
  {
   "cell_type": "code",
   "execution_count": 8,
   "metadata": {},
   "outputs": [],
   "source": [
    "# TODO: Write the algorithm for computing the area of a triangle flowcharts"
   ]
  },
  {
   "cell_type": "markdown",
   "metadata": {},
   "source": [
    "### Algorithm for computing the area of triangle in flow charts\n",
    "\n",
    "[What is triangles base?] -> [What is triangle's height?] ->\n",
    "\n",
    "-> [multiply base * height * (1/2) to get area] -> [repeat for different triangles?] -> [exit]"
   ]
  },
  {
   "cell_type": "markdown",
   "metadata": {},
   "source": [
    "<hr>"
   ]
  },
  {
   "cell_type": "code",
   "execution_count": 9,
   "metadata": {},
   "outputs": [],
   "source": [
    "# TODO: write the algorithm for computing the area of a triangle pseudo code"
   ]
  },
  {
   "cell_type": "markdown",
   "metadata": {},
   "source": [
    "### Pseudo-code for computing the area of a triangle\n",
    "\n",
    "1. Get the triangles base from keyboard\n",
    "2. Get the triangles height from keyboard\n",
    "3. multiply base * height * 1/2 to get the area\n",
    "4. print or display the area to the screen"
   ]
  },
  {
   "cell_type": "markdown",
   "metadata": {},
   "source": [
    "<hr>"
   ]
  },
  {
   "cell_type": "code",
   "execution_count": 10,
   "metadata": {},
   "outputs": [],
   "source": [
    "# TODO: develop a computational model for computing the area of a triangle pseudo-code"
   ]
  },
  {
   "cell_type": "code",
   "execution_count": 11,
   "metadata": {},
   "outputs": [],
   "source": [
    "def area_of_triangle():\n",
    "    # 1. get the triangles base from keyboard\n",
    "    base = float(input(\"What is the triangles base? \"))\n",
    "    # 2. get the triangles height from keyboard\n",
    "    height = float(input(\"What is the triangles height? \"))\n",
    "    # 3. compute the area given the formula 1/2*base*height = area\n",
    "    area = (1/2)*base*height\n",
    "    # 4. display the area to the screen\n",
    "    print(f\"A triangle with base {base} and height {height} has the area {area}\")"
   ]
  },
  {
   "cell_type": "code",
   "execution_count": 12,
   "metadata": {},
   "outputs": [
    {
     "name": "stdin",
     "output_type": "stream",
     "text": [
      "What is the triangles base?  3\n",
      "What is the triangles height?  3\n"
     ]
    },
    {
     "name": "stdout",
     "output_type": "stream",
     "text": [
      "A triangle with base 3.0 and height 3.0 has the area 4.5\n"
     ]
    }
   ],
   "source": [
    "area_of_triangle()"
   ]
  },
  {
   "cell_type": "markdown",
   "metadata": {},
   "source": [
    "<hr>"
   ]
  },
  {
   "cell_type": "code",
   "execution_count": 13,
   "metadata": {},
   "outputs": [],
   "source": [
    "# TODO: write the algorithm for computing the perimiter of a triangle in flowcharts"
   ]
  },
  {
   "cell_type": "markdown",
   "metadata": {},
   "source": [
    "### flowchart for computing the perimiter of a triangle\n",
    "\n",
    "[Get side a length from keyboard] -> [Get side b length from keyboard] ->\n",
    "\n",
    "-> [Get side c length from keyboard] -> [Add side a + side b + side c to calculate perimeter] ->\n",
    "\n",
    "-> [display perimiter to screen]"
   ]
  },
  {
   "cell_type": "markdown",
   "metadata": {},
   "source": [
    "<hr>"
   ]
  },
  {
   "cell_type": "code",
   "execution_count": 14,
   "metadata": {},
   "outputs": [],
   "source": [
    "# TODO: Develop a computational model for computing the perimeter of a triangle"
   ]
  },
  {
   "cell_type": "markdown",
   "metadata": {},
   "source": [
    "### Computational model for computing the perimiter of a triangle\n",
    "\n",
    "1. get side a, then side b, then side c lengths\n",
    "2. calculate perimiter by adding all sides together\n",
    "3. display perimiter to screen"
   ]
  },
  {
   "cell_type": "code",
   "execution_count": 15,
   "metadata": {},
   "outputs": [
    {
     "name": "stdin",
     "output_type": "stream",
     "text": [
      "What is length of side a?  1\n",
      "what is length of side b?  1\n",
      "What is length of side c?  1\n"
     ]
    },
    {
     "name": "stdout",
     "output_type": "stream",
     "text": [
      "The perimeter for a triangle with side lengths 1.0, 1.0, and 1.0 is 3.0\n"
     ]
    }
   ],
   "source": [
    "def calculate_triangle_perimiter():\n",
    "    # 1. get side lengths\n",
    "    sidea = float(input(\"What is length of side a? \"))\n",
    "    sideb = float(input(\"what is length of side b? \"))\n",
    "    sidec = float(input(\"What is length of side c? \"))\n",
    "    # 2. calculate perimiter by adding sides\n",
    "    perimeter = sidea + sideb + sidec\n",
    "    # 3. display to screen\n",
    "    print(f\"The perimeter for a triangle with side lengths {sidea}, {sideb}, and {sidec} is {perimeter}\")\n",
    "\n",
    "calculate_triangle_perimiter()"
   ]
  },
  {
   "cell_type": "markdown",
   "metadata": {},
   "source": [
    "<hr>"
   ]
  },
  {
   "cell_type": "code",
   "execution_count": 16,
   "metadata": {},
   "outputs": [],
   "source": [
    "# TODo: Write the algorithmic description in flowchart and in pseudo-code to compute \n",
    "#       the conversion from a temperature reading in degrees Fahrenheit to Centigrade. \n",
    "#       The algorithm should also compute the conversion from Centigrade to Fahrenheit."
   ]
  },
  {
   "cell_type": "markdown",
   "metadata": {},
   "source": [
    "### Flow chart for F to C and C to F\n",
    "\n",
    "[do you have fahrenheit or celsius?] -]>  ?[fahrenheit], ?[Celsius]\n",
    "\n",
    "\n",
    "-> [Fahrenheit]? -> [multiply (5/9) * (fahrenheit - 32] -> [you now have celsius]\n",
    "\n",
    "\n",
    "\n",
    "-> [Celsius]? -> [multiply (9/5)*Celsius + 32] -> [you now have fahrenheit]"
   ]
  },
  {
   "cell_type": "markdown",
   "metadata": {},
   "source": [
    "### Pseudocode to convert F to C and C to F\n",
    "\n",
    "1. if you have fahrenheit proceed to step 2 if not proceed to step 3\n",
    "2. subtract 32 from fahrenheit and multiply by 5/9 to get celsius\n",
    "3. if you have celsius proceed to step 4 if not exit\n",
    "4. multiply celsius by 9/5 and add 32 to get fahrenheit\n",
    "5. print the conversion"
   ]
  },
  {
   "cell_type": "markdown",
   "metadata": {},
   "source": [
    "<hr>"
   ]
  },
  {
   "cell_type": "code",
   "execution_count": 17,
   "metadata": {},
   "outputs": [],
   "source": [
    "# TODO: develop a computational model to compute the conversion from a temperature reading \n",
    "#       in degrees fahrenheit to centigrade. The program should also compute the conversion \n",
    "#       from Centigrade to Fahrenheit"
   ]
  },
  {
   "cell_type": "code",
   "execution_count": 19,
   "metadata": {},
   "outputs": [
    {
     "name": "stdin",
     "output_type": "stream",
     "text": [
      "Are  you converting fahrenheit to celsius? (yes or no)  no\n",
      "Are you converting celsius to fahrenheit? (yes or no)  yes\n",
      "What is the temperature in celsius?  25\n"
     ]
    },
    {
     "name": "stdout",
     "output_type": "stream",
     "text": [
      "25.0 degrees C is 77.0 degrees F\n"
     ]
    }
   ],
   "source": [
    "def F_to_C(fahrenheit):\n",
    "    return (5/9)*(fahrenheit-32.0)\n",
    "\n",
    "def C_to_F(celsius):\n",
    "    return ((9/5)*celsius) + 32.0\n",
    "\n",
    "def convert():\n",
    "    ans = input(\"Are  you converting fahrenheit to celsius? (yes or no) \")\n",
    "    if ans == 'yes':\n",
    "        fahrenheit = float(input(\"What is the temperature in fahrenheit? \"))\n",
    "        celsius = F_to_C(fahrenheit)\n",
    "        print(f\"{fahrenheit} degrees F is {celsius} degrees C\")\n",
    "    ans = input(\"Are you converting celsius to fahrenheit? (yes or no) \")\n",
    "    if ans == 'yes':\n",
    "        celsius = float(input(\"What is the temperature in celsius? \"))\n",
    "        fahrenheit = C_to_F(celsius)\n",
    "        print(f\"{celsius} degrees C is {fahrenheit} degrees F\")\n",
    "\n",
    "convert()"
   ]
  },
  {
   "cell_type": "code",
   "execution_count": 20,
   "metadata": {},
   "outputs": [
    {
     "name": "stdin",
     "output_type": "stream",
     "text": [
      "Are  you converting fahrenheit to celsius? (yes or no)  yes\n",
      "What is the temperature in fahrenheit?  77\n"
     ]
    },
    {
     "name": "stdout",
     "output_type": "stream",
     "text": [
      "77.0 degrees F is 25.0 degrees C\n"
     ]
    },
    {
     "name": "stdin",
     "output_type": "stream",
     "text": [
      "Are you converting celsius to fahrenheit? (yes or no)  no\n"
     ]
    }
   ],
   "source": [
    "convert()"
   ]
  },
  {
   "cell_type": "markdown",
   "metadata": {},
   "source": [
    "<hr>"
   ]
  },
  {
   "cell_type": "code",
   "execution_count": 21,
   "metadata": {},
   "outputs": [],
   "source": [
    "# TODO: Write an algorithm and data descriptions in flowchart and pseudo-code to\n",
    "#       compute the conversion from inches to centimeters and from centimeters to inches"
   ]
  },
  {
   "cell_type": "markdown",
   "metadata": {},
   "source": [
    "### Flowchart for inches to centimeters and centimeters to inches\n",
    "\n",
    "\n",
    "[Do you have inches or centimeters?] ->  ?[inches], ?[centimeters]\n",
    "\n",
    "\n",
    "-> [inches]? -> [multiply by 2.54] -> [you now have centimeters]\n",
    "\n",
    "-> [centimeters]? -> [divide by 2.54] -> [you now have inches]\n",
    "\n",
    "\n",
    "### Pseudo code for converting inches to centimeters and centimeters to inches\n",
    "\n",
    "1. Do you have inches? if so proceed to step 2 if not proceed to step 3\n",
    "2. multiply inches by 2.54 to get centimeters\n",
    "3. Do you have centimeters? if so proceed to step 4, if not exit\n",
    "4. divide centimeters by 2.54 to get inches\n",
    "5. print results"
   ]
  },
  {
   "cell_type": "markdown",
   "metadata": {},
   "source": [
    "<hr>"
   ]
  },
  {
   "cell_type": "code",
   "execution_count": 22,
   "metadata": {},
   "outputs": [],
   "source": [
    "# TODO: Develop a computational model to compute the convfersion from inches to centimeters \n",
    "#       and from centimeters to inches"
   ]
  },
  {
   "cell_type": "code",
   "execution_count": 24,
   "metadata": {},
   "outputs": [
    {
     "name": "stdin",
     "output_type": "stream",
     "text": [
      "Are you converting inches to centimeters?  yes\n",
      "What length of in?  8.4\n"
     ]
    },
    {
     "name": "stdout",
     "output_type": "stream",
     "text": [
      "8.4 in is 21.336000000000002 centimeters\n"
     ]
    },
    {
     "name": "stdin",
     "output_type": "stream",
     "text": [
      "Are you converting centimeters to inches?  yes\n",
      "What length of centimeters?  200\n"
     ]
    },
    {
     "name": "stdout",
     "output_type": "stream",
     "text": [
      "200.0 centimeters is 78.74015748031496 in\n"
     ]
    }
   ],
   "source": [
    "def cent_to_inch(cent):\n",
    "    return cent/2.54\n",
    "\n",
    "def inch_to_cent(inch):\n",
    "    return inch*2.54\n",
    "\n",
    "def convert_in_cent():\n",
    "    ans = input(\"Are you converting inches to centimeters? \")\n",
    "    if ans == 'yes':\n",
    "        inches = float(input(\"What length of in? \"))\n",
    "        cent = inch_to_cent(inches)\n",
    "        print(f\"{inches} in is {cent} centimeters\")\n",
    "    ans = input(\"Are you converting centimeters to inches? \")\n",
    "    if ans == 'yes':\n",
    "        cents = float(input(\"What length of centimeters? \"))\n",
    "        inch = cent_to_inch(cents)\n",
    "        print(f\"{cents} centimeters is {inch} in\")\n",
    "\n",
    "convert_in_cent()"
   ]
  },
  {
   "cell_type": "markdown",
   "metadata": {},
   "source": [
    "<hr>"
   ]
  },
  {
   "cell_type": "code",
   "execution_count": 25,
   "metadata": {},
   "outputs": [
    {
     "name": "stdout",
     "output_type": "stream",
     "text": [
      "end chapter 4 on page 99 of 492\n"
     ]
    }
   ],
   "source": [
    "print('end chapter 4 on page 99 of 492')"
   ]
  }
 ],
 "metadata": {
  "colab": {
   "provenance": []
  },
  "kernelspec": {
   "display_name": "Python 3 (ipykernel)",
   "language": "python",
   "name": "python3"
  },
  "language_info": {
   "codemirror_mode": {
    "name": "ipython",
    "version": 3
   },
   "file_extension": ".py",
   "mimetype": "text/x-python",
   "name": "python",
   "nbconvert_exporter": "python",
   "pygments_lexer": "ipython3",
   "version": "3.13.2"
  }
 },
 "nbformat": 4,
 "nbformat_minor": 4
}
