{
 "cells": [
  {
   "cell_type": "markdown",
   "metadata": {
    "id": "OQY94Qo6cyAz"
   },
   "source": [
    "# Chapter 4 Program Structures\n",
    "\n",
    "pg 88 of 492"
   ]
  },
  {
   "cell_type": "markdown",
   "metadata": {
    "id": "FNKWfsFObhTD"
   },
   "source": [
    "Program structures are also known as design structures\n",
    "\n",
    "we will discuss how they can be used when designing a program\n",
    "\n",
    "this chapter presents general concepts of algorithms, flowcharts and pseudo code\n",
    "\n",
    "the purpose of computer problem solving is to design a solution to a problem; an algorithm describes precisely this design and is implemented in a computer program.  Analyzing the problem includes understanding the problem, identifying the given input data and the required results\n",
    "\n",
    "developing a program involves implementing a computer solution to solve it\n",
    "\n",
    "\n",
    "design of  a solution to the problem requires finding some method to solve the problem first outside the computer\n",
    "\n",
    "\n",
    "designing a solution to the problem consists of defining the necessary computations to be carried out in an appropriate sequence on the given data to produce the final required results\n",
    "\n",
    "The design of the solution to a problem is described by an algorithm\n",
    "\n",
    "\n",
    "an algorithm is a complete and precise sequence of steps that need to be carried out to achieve the solution to a problem\n",
    "\n",
    "after the algorithm has been formulated and written, its implementation and the corresponding data definitions are carried out with a programming language such as Python\n"
   ]
  },
  {
   "cell_type": "markdown",
   "metadata": {
    "id": "1TEFhWzRbmfx"
   },
   "source": [
    "### 4.2 Algorithms\n",
    "\n",
    "\n",
    "an algorithm is a clear, detailed precise and complete desacription of the sequence of steps to be performed in order to produce the desired results\n",
    "\n",
    "an algorithm can be considered the transformation on the given data and involves a sequence of commands or operations that are to be carried out on the data in order to produce the desired results\n",
    "\n",
    "\n",
    "the algorithm is usaully broken down into smaller tasks\n",
    "\n",
    "usually the overall algorithm is composed of smaller algorithms chained together\n",
    "\n",
    "\n",
    "we can implement algorithms in programming languages such as python etc\n",
    "\n",
    "\n",
    "\n",
    "### 4.3 Implementing algorithms\n",
    "\n",
    "\n",
    "programming langs have well defined syntax and semantic rules\n",
    "\n",
    "the syntax is defined by a set of grammer rules and a vocabulary\n",
    "\n",
    "the sentences are called statements\n",
    "\n",
    "two groups of words are used to write the statements\n",
    "\n",
    "reserved words also known as keywords and identifiers\n",
    "\n",
    "\n",
    "reserved woreds are the keywords of the language and have a predefined purpose\n",
    "\n",
    "examples:  for, def, while, if\n",
    "\n",
    "\n",
    "identifiers are names for varialbes, constants and functions that the programmer may choose\n",
    "\n",
    "examples, height, temperature, pressure, number_units, my_custom_var_nameFUCKYOU\n",
    "\n",
    "\n",
    "\n",
    "\n",
    "### 4.4 Algorithm Description\n",
    "\n",
    "\n",
    "you should design your algorithm in mind or on paper first, animations are nice too\n",
    "\n",
    "make it as general as possible in order to solve a group of problems not one explicit thing that nature can break easily\n",
    "\n",
    "here are some notations used to describe an algorithm:\n",
    "\n",
    "* Flowcharts\n",
    "* Pseudo-code\n",
    "\n",
    "\n",
    "\n",
    "### 4.4.1 Flowcharts\n",
    "\n",
    "the flow of control in a program is the order in which the operations will be executed\n",
    "\n",
    "a flowchart is a visual representation of the flow of the data and the operations on this data\n",
    "\n",
    "a flowchart consists of a set of symbolic blocks connected by arrows\n",
    "\n",
    "the arrows that connect the blocks show the order for"
   ]
  },
  {
   "cell_type": "code",
   "execution_count": 4,
   "metadata": {
    "colab": {
     "base_uri": "https://localhost:8080/"
    },
    "id": "gEkdj_5fgctG",
    "outputId": "7f2fe596-b9a3-49e9-9c7a-17f6804ae97d"
   },
   "outputs": [
    {
     "name": "stdout",
     "output_type": "stream",
     "text": [
      "Saved HTML to output.html\n"
     ]
    },
    {
     "data": {
      "text/html": [
       "\n",
       "        <iframe\n",
       "            width=\"100%\"\n",
       "            height=\"600\"\n",
       "            src=\"output.html\"\n",
       "            frameborder=\"0\"\n",
       "            allowfullscreen\n",
       "            \n",
       "        ></iframe>\n",
       "        "
      ],
      "text/plain": [
       "<IPython.lib.display.IFrame at 0x2406acbf4d0>"
      ]
     },
     "metadata": {},
     "output_type": "display_data"
    }
   ],
   "source": [
    "from pyflowchart import *\n",
    "from IPython.display import IFrame, display\n",
    "\n",
    "\n",
    "st = StartNode('Begin flowchart')\n",
    "op = OperationNode('Operation 1')\n",
    "op2 = OperationNode('Operation 2')\n",
    "op3 = OperationNode('Operation 3')\n",
    "op4 = OperationNode('etc')\n",
    "e = EndNode('end of flow chart')\n",
    "\n",
    "st.connect(op)\n",
    "op.connect(op2)\n",
    "op2.connect(op3)\n",
    "op3.connect(op4)\n",
    "op4.connect(e)\n",
    "\n",
    "fc = Flowchart(st)\n",
    "# print(fc.flowchart())\n",
    "output_html('output.html', 'a_pyflow_test', fc.flowchart())\n",
    "\n",
    "\n",
    "\n",
    "def show_html_file(filename):\n",
    "    \"\"\"Displays an HTML file in an IFrame within a Jupyter Notebook.\n",
    "\n",
    "    Args:\n",
    "        filename (str): The name of the HTML file to display.\n",
    "    \"\"\"\n",
    "    display(IFrame(filename, width=\"100%\", height=\"600\"))\n",
    "\n",
    "# Example usage:\n",
    "show_html_file(\"output.html\")"
   ]
  },
  {
   "cell_type": "markdown",
   "metadata": {
    "id": "qMtg09oGhFqm"
   },
   "source": [
    "above you can see a flowchart example using pyflowchart"
   ]
  },
  {
   "cell_type": "markdown",
   "metadata": {},
   "source": [
    "page 90 of 492"
   ]
  },
  {
   "cell_type": "code",
   "execution_count": 5,
   "metadata": {},
   "outputs": [
    {
     "name": "stdout",
     "output_type": "stream",
     "text": [
      "no offense i dont really like flow charts, skipping to exercises\n"
     ]
    }
   ],
   "source": [
    "print('no offense i dont really like flow charts, skipping to exercises')\n"
   ]
  },
  {
   "cell_type": "markdown",
   "metadata": {},
   "source": [
    "### 4.6 Computing area and circumference\n",
    "\n",
    "for this example a computational model is developed that computes the area and circumference of a circle.  The input value of the radius is read from the keybaord and the results written to the screen\n",
    "\n",
    "### 4.6.1 Specification\n",
    "\n",
    "The specification of the problem can be described as a high-level algorithm in informal pseudo-code notation\n",
    "\n",
    "1. Read the value of the radius of a circle, from the input device\n",
    "2. Compute the area of the circle\n",
    "3. Compute the circumference of the circle\n",
    "4. Output or display the value of the area of the circle to the output device\n",
    "5. Output or display the value of the circumference of the circle to the output device\n",
    "\n",
    "\n",
    "### 4.6.2 Algorithm with the Math Model\n",
    "\n",
    "1. Read the value of the radius $r$ of a circle, from the input device\n",
    "2. Establish the constant $\\pi$ with value 3.14159\n",
    "3. compute the area of the circle, $area = \\pi r^2$\n",
    "4. Compute the circumfrerence of the circle, $cir = 2 \\pi r$\n",
    "5. print or display the value of area of the circle to the output device\n",
    "6. print or display the value of circumference of the circle to the output device\n",
    "\n",
    "below we will implement this algorithm with its math model in python"
   ]
  },
  {
   "cell_type": "markdown",
   "metadata": {},
   "source": [
    "Formulas required\n",
    "\n",
    "$Area = \\pi r^2$\n",
    "\n",
    "$Circumference = 2 \\pi r$"
   ]
  },
  {
   "cell_type": "code",
   "execution_count": 6,
   "metadata": {},
   "outputs": [
    {
     "name": "stdin",
     "output_type": "stream",
     "text": [
      "What is the radius r of the circle?  3\n"
     ]
    },
    {
     "name": "stdout",
     "output_type": "stream",
     "text": [
      "Area of circle with radius 3.0 is 28.274333882308138\n",
      "Circumference of a circle with radius 3.0 is 18.84955592153876\n"
     ]
    }
   ],
   "source": [
    "def alg_with_math_model():\n",
    "    # 1. read the value of the radius r of a circle from the input device\n",
    "    radius = float(input(\"What is the radius r of the circle? \"))\n",
    "    # 2. Establish the constant pi with value 3.14159\n",
    "    import numpy as np\n",
    "    pi = np.pi\n",
    "    # 3. compute the area of the circle\n",
    "    area = pi * radius**2\n",
    "    # 4. compute the circumference of the circle\n",
    "    circumference = 2 * pi * radius\n",
    "    # 5. print the value of area\n",
    "    print(f\"Area of circle with radius {radius} is {area}\")\n",
    "    # 6. print the value of circumference\n",
    "    print(f\"Circumference of a circle with radius {radius} is {circumference}\")\n",
    "\n",
    "\n",
    "\n",
    "# run algorithm with math model applied\n",
    "alg_with_math_model()"
   ]
  },
  {
   "cell_type": "code",
   "execution_count": null,
   "metadata": {},
   "outputs": [],
   "source": []
  }
 ],
 "metadata": {
  "colab": {
   "provenance": []
  },
  "kernelspec": {
   "display_name": "Python 3 (ipykernel)",
   "language": "python",
   "name": "python3"
  },
  "language_info": {
   "codemirror_mode": {
    "name": "ipython",
    "version": 3
   },
   "file_extension": ".py",
   "mimetype": "text/x-python",
   "name": "python",
   "nbconvert_exporter": "python",
   "pygments_lexer": "ipython3",
   "version": "3.13.2"
  }
 },
 "nbformat": 4,
 "nbformat_minor": 4
}
