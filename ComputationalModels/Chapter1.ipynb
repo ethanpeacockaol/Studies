{
 "cells": [
  {
   "cell_type": "markdown",
   "id": "735b9b61-b0d4-4731-97ae-6d7808554f44",
   "metadata": {},
   "source": [
    "# Computational Models Chapter 1"
   ]
  },
  {
   "cell_type": "markdown",
   "id": "e712c372-735d-4719-b5eb-d86601f0f1f4",
   "metadata": {},
   "source": [
    "<hr>"
   ]
  },
  {
   "cell_type": "markdown",
   "id": "17625b51-69d5-4ae5-9e0b-17054f7c9422",
   "metadata": {},
   "source": [
    "1.5 Temperature conversion\n",
    "\n",
    "The process of computational models is demonstrated here\n",
    "\n",
    "starting with a temperature conversion problem"
   ]
  },
  {
   "cell_type": "markdown",
   "id": "7aa0686d-44a8-42e2-ac15-40b1563f9d62",
   "metadata": {},
   "source": [
    "problem statement:\n",
    "\n",
    "tourists visiting do not understand the units of tempearature used in weather eports.   The problem is to create a mechanism for indicating the temperature in Fahrenheit from a known temperature in Celcius."
   ]
  },
  {
   "cell_type": "markdown",
   "id": "9c6a7bd6-3cf3-462e-9613-8664eeffd99c",
   "metadata": {},
   "source": [
    "math solution to problem is known in the formula\n",
    "\n",
    "$F = \\frac{9}{5}C + 32$"
   ]
  },
  {
   "cell_type": "code",
   "execution_count": null,
   "id": "3881f94e-835d-4e04-87b8-92e277cd91d6",
   "metadata": {},
   "outputs": [],
   "source": []
  }
 ],
 "metadata": {
  "kernelspec": {
   "display_name": "Python 3 (ipykernel)",
   "language": "python",
   "name": "python3"
  },
  "language_info": {
   "codemirror_mode": {
    "name": "ipython",
    "version": 3
   },
   "file_extension": ".py",
   "mimetype": "text/x-python",
   "name": "python",
   "nbconvert_exporter": "python",
   "pygments_lexer": "ipython3",
   "version": "3.13.2"
  }
 },
 "nbformat": 4,
 "nbformat_minor": 5
}
