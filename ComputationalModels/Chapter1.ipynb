{
 "cells": [
  {
   "cell_type": "markdown",
   "id": "735b9b61-b0d4-4731-97ae-6d7808554f44",
   "metadata": {},
   "source": [
    "# Computational Models Chapter 1"
   ]
  },
  {
   "cell_type": "markdown",
   "id": "e712c372-735d-4719-b5eb-d86601f0f1f4",
   "metadata": {},
   "source": [
    "<hr>"
   ]
  },
  {
   "cell_type": "markdown",
   "id": "17625b51-69d5-4ae5-9e0b-17054f7c9422",
   "metadata": {},
   "source": [
    "1.5 Temperature conversion\n",
    "\n",
    "The process of computational models is demonstrated here\n",
    "\n",
    "starting with a temperature conversion problem"
   ]
  },
  {
   "cell_type": "markdown",
   "id": "7aa0686d-44a8-42e2-ac15-40b1563f9d62",
   "metadata": {},
   "source": [
    "problem statement:\n",
    "\n",
    "tourists visiting do not understand the units of tempearature used in weather eports.   The problem is to create a mechanism for indicating the temperature in Fahrenheit from a known temperature in Celcius."
   ]
  },
  {
   "cell_type": "markdown",
   "id": "9c6a7bd6-3cf3-462e-9613-8664eeffd99c",
   "metadata": {},
   "source": [
    "math solution to problem is known in the formula\n",
    "\n",
    "$F = \\frac{9}{5}C + 32$"
   ]
  },
  {
   "cell_type": "markdown",
   "id": "7e60c7a5-54bf-422c-86da-1f7baef67b2c",
   "metadata": {},
   "source": [
    "C is a variable that represents the given temperature in degrees Celsius, and F is a derived variable after the computation is complete\n",
    "\n",
    "Lets create a function below to hold our mathematical model"
   ]
  },
  {
   "cell_type": "code",
   "execution_count": 1,
   "id": "eb86f927-4498-46a2-880f-44fb686f8dc3",
   "metadata": {},
   "outputs": [
    {
     "name": "stdout",
     "output_type": "stream",
     "text": [
      "Degrees farenheit: 77.0\n",
      "Degrees celcius: 25.0\n"
     ]
    }
   ],
   "source": [
    "def F(c):\n",
    "    \"\"\"F converts the temperature passed in in Celcius to Fahrenheit\n",
    "    Args:\n",
    "        c:  the temperature in Celsius\n",
    "    Returns:\n",
    "        the temperature in fahrenheit is returned\n",
    "    \"\"\"\n",
    "    fahrenheit = 9/5 * c + 32\n",
    "    return fahrenheit\n",
    "\n",
    "\n",
    "# whats the temperature in degrees celcius?\n",
    "temp_in_celcius = 25.0\n",
    "\n",
    "# use our model to create a conversion\n",
    "fahrenheit = F(temp_in_celcius)\n",
    "print(f\"Degrees farenheit: {fahrenheit}\")\n",
    "print(f\"Degrees celcius: {temp_in_celcius}\")"
   ]
  },
  {
   "cell_type": "markdown",
   "id": "e0fe6a7d-ee12-4f44-aa3d-6b11bc75b4ec",
   "metadata": {},
   "source": [
    "<br><br><br>\n",
    "\n",
    "<hr>\n",
    "Now lets try for the area and circumference of a circle"
   ]
  },
  {
   "cell_type": "markdown",
   "id": "73d5ccf4-fce2-407e-8968-8742ad185ced",
   "metadata": {},
   "source": [
    "The math solution to this is already know and the logic for it follows:\n",
    "\n",
    "$cir = 2\\pi r$\n",
    "\n",
    "$area = \\pi r^2$"
   ]
  },
  {
   "cell_type": "markdown",
   "id": "6dfc76c9-1b72-46fe-ba84-fe8fd29df777",
   "metadata": {},
   "source": [
    "lets take a second and practice suedo code\n",
    "\n",
    "The high level algorithm description in informal pseudo-code notation is:\n",
    "\n",
    "1.  Read the value of the radius of a circle, from the input device.\n",
    "2.  Compute the area of the circle\n",
    "3.  Compute the circumference of the circle\n",
    "4.  Print or display the value of the area of the circle to an output device\n",
    "5.  Print or display the value of the circumference of the circle to the ouptut device\n",
    "\n",
    "\n",
    "A more detailed algorithm description follows:\n",
    "\n",
    "1. Read the value of the radius $r$ of a circle from the input device\n",
    "2. Establish the constant pi with value 3.14159\n",
    "3. Compute the area of the circle\n",
    "4. Compute the circumference of the circle\n",
    "5. print the area\n",
    "6. print the circumference\n",
    "\n",
    "We will implement this below"
   ]
  },
  {
   "cell_type": "code",
   "execution_count": 2,
   "id": "b50dcdc2-0dc2-4669-ad20-b60278cf1143",
   "metadata": {},
   "outputs": [
    {
     "name": "stdout",
     "output_type": "stream",
     "text": [
      "Circle radius: 10\n",
      "Circle area: 314.159\n",
      "Circle circumference: 62.8318\n"
     ]
    }
   ],
   "source": [
    "# read the value of radius r of a circle\n",
    "radius_r = 10\n",
    "\n",
    "# establish the constant pi\n",
    "pi = 3.14159\n",
    "\n",
    "# compute the area of the cirlce\n",
    "circle_area = pi * radius_r**2\n",
    "\n",
    "# compute circumference\n",
    "circle_circumference = 2 * pi * radius_r\n",
    "\n",
    "# display\n",
    "print(f\"Circle radius: {radius_r}\")\n",
    "print(f\"Circle area: {circle_area}\")\n",
    "print(f\"Circle circumference: {circle_circumference}\")"
   ]
  },
  {
   "cell_type": "markdown",
   "id": "b12ebb9f-edf4-43f9-bc17-97debb37bab5",
   "metadata": {},
   "source": [
    "<br><br>\n",
    "\n",
    "# 1.7 Categories of Computational Models\n",
    "\n",
    "pg 41 of 492\n",
    "<hr>\n",
    "\n",
    "Computational Models can be divided into two categories\n",
    "\n",
    "1. Continuous models\n",
    "2. Discrete models"
   ]
  },
  {
   "cell_type": "markdown",
   "id": "8456404c-38df-4762-a39d-1d7c6d0d114d",
   "metadata": {},
   "source": [
    "continuous model is one in which the changes of state in the model occur continuously with time.\n",
    "\n",
    "Often the state variables in the model are represented as continuous functions of time\n",
    "\n",
    "These types of models are usually modeled as sets of difference or differential equations\n",
    "\n",
    "For example, a model that represents the temperature in a boiler as part of a power plant can be considered a continuous model because the state variable that represents the temperature of the boiler is implemented as a continuous function of time $y=f(t)$"
   ]
  },
  {
   "cell_type": "code",
   "execution_count": 3,
   "id": "76f6f3ba-3808-42a6-9aae-9818371ea7be",
   "metadata": {},
   "outputs": [],
   "source": [
    "import matplotlib.pyplot as plt"
   ]
  },
  {
   "cell_type": "code",
   "execution_count": 4,
   "id": "5784f4e6-7eba-42b6-b9fc-7d57507a5598",
   "metadata": {},
   "outputs": [
    {
     "data": {
      "image/png": "[encoded data removed]",
      "text/plain": [
       "<Figure size 640x480 with 1 Axes>"
      ]
     },
     "metadata": {},
     "output_type": "display_data"
    }
   ],
   "source": [
    "# create simulated exponential graph\n",
    "xvals = [i for i in range(10)]\n",
    "yvals = [ 2, 1.8, 1.5, 5, 8, 10, 20, 60, 110, 300]\n",
    "plt.plot(xvals, yvals, label=\"$y=f(t)$\")\n",
    "\n",
    "# origin\n",
    "xvals = [i for i in range(-2, 10)]\n",
    "plt.plot(xvals, [0 for x in xvals], 'r')\n",
    "plt.plot([-1, -1], [-7, 300], 'r')\n",
    "plt.title(\"simulated continuous graph\")\n",
    "plt.xticks([])\n",
    "plt.yticks([])\n",
    "plt.legend()\n",
    "plt.xlabel('t')\n",
    "plt.ylabel('y')\n",
    "plt.show()"
   ]
  },
  {
   "cell_type": "code",
   "execution_count": null,
   "id": "fe758f71-9002-412f-9424-acd6b2c4b4b7",
   "metadata": {},
   "outputs": [],
   "source": []
  }
 ],
 "metadata": {
  "kernelspec": {
   "display_name": "Python 3 (ipykernel)",
   "language": "python",
   "name": "python3"
  },
  "language_info": {
   "codemirror_mode": {
    "name": "ipython",
    "version": 3
   },
   "file_extension": ".py",
   "mimetype": "text/x-python",
   "name": "python",
   "nbconvert_exporter": "python",
   "pygments_lexer": "ipython3",
   "version": "3.13.2"
  }
 },
 "nbformat": 4,
 "nbformat_minor": 5
}
