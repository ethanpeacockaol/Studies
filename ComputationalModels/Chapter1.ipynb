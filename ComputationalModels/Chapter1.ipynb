{
 "cells": [
  {
   "cell_type": "markdown",
   "id": "735b9b61-b0d4-4731-97ae-6d7808554f44",
   "metadata": {},
   "source": [
    "# Computational Models Chapter 1"
   ]
  },
  {
   "cell_type": "markdown",
   "id": "e712c372-735d-4719-b5eb-d86601f0f1f4",
   "metadata": {},
   "source": [
    "<hr>"
   ]
  },
  {
   "cell_type": "markdown",
   "id": "17625b51-69d5-4ae5-9e0b-17054f7c9422",
   "metadata": {},
   "source": [
    "1.5 Temperature conversion\n",
    "\n",
    "The process of computational models is demonstrated here\n",
    "\n",
    "starting with a temperature conversion problem"
   ]
  },
  {
   "cell_type": "markdown",
   "id": "7aa0686d-44a8-42e2-ac15-40b1563f9d62",
   "metadata": {},
   "source": [
    "problem statement:\n",
    "\n",
    "tourists visiting do not understand the units of tempearature used in weather eports.   The problem is to create a mechanism for indicating the temperature in Fahrenheit from a known temperature in Celcius."
   ]
  },
  {
   "cell_type": "markdown",
   "id": "9c6a7bd6-3cf3-462e-9613-8664eeffd99c",
   "metadata": {},
   "source": [
    "math solution to problem is known in the formula\n",
    "\n",
    "$F = \\frac{9}{5}C + 32$"
   ]
  },
  {
   "cell_type": "markdown",
   "id": "7e60c7a5-54bf-422c-86da-1f7baef67b2c",
   "metadata": {},
   "source": [
    "C is a variable that represents the given temperature in degrees Celsius, and F is a derived variable after the computation is complete\n",
    "\n",
    "Lets create a function below to hold our mathematical model"
   ]
  },
  {
   "cell_type": "code",
   "execution_count": 3,
   "id": "eb86f927-4498-46a2-880f-44fb686f8dc3",
   "metadata": {},
   "outputs": [
    {
     "name": "stdout",
     "output_type": "stream",
     "text": [
      "Degrees farenheit: 77.0\n",
      "Degrees celcius: 25.0\n"
     ]
    }
   ],
   "source": [
    "def F(c):\n",
    "    \"\"\"F converts the temperature passed in in Celcius to Fahrenheit\n",
    "    Args:\n",
    "        c:  the temperature in Celsius\n",
    "    Returns:\n",
    "        the temperature in fahrenheit is returned\n",
    "    \"\"\"\n",
    "    fahrenheit = 9/5 * c + 32\n",
    "    return fahrenheit\n",
    "\n",
    "\n",
    "# whats the temperature in degrees celcius?\n",
    "temp_in_celcius = 25.0\n",
    "\n",
    "# use our model to create a conversion\n",
    "fahrenheit = F(temp_in_celcius)\n",
    "print(f\"Degrees farenheit: {fahrenheit}\")\n",
    "print(f\"Degrees celcius: {temp_in_celcius}\")"
   ]
  },
  {
   "cell_type": "markdown",
   "id": "e0fe6a7d-ee12-4f44-aa3d-6b11bc75b4ec",
   "metadata": {},
   "source": [
    "<br><br><br>\n",
    "\n",
    "<hr>\n",
    "Now lets try for the area and circumference of a circle"
   ]
  },
  {
   "cell_type": "markdown",
   "id": "73d5ccf4-fce2-407e-8968-8742ad185ced",
   "metadata": {},
   "source": [
    "The math solution to this is already know and the logic for it follows:\n",
    "\n",
    "$cir = 2\\pi r$\n",
    "\n",
    "$area = \\pi r^2$"
   ]
  },
  {
   "cell_type": "markdown",
   "id": "6dfc76c9-1b72-46fe-ba84-fe8fd29df777",
   "metadata": {},
   "source": [
    "lets take a second and practice suedo code\n",
    "\n",
    "The high level algorithm description in informal pseudo-code notation is:\n",
    "\n",
    "1.  Read the value of the radius of a circle, from the input device.\n",
    "2.  Compute the area of the circle\n",
    "3.  Compute the circumference of the circle\n",
    "4.  Print or display the value of the area of the circle to an output device\n",
    "5.  Print or display the value of the circumference of the circle to the ouptut device\n",
    "\n",
    "\n",
    "A more detailed algorithm description follows:\n",
    "\n",
    "1. Read the value of the radius $r$ of a circle from the input device\n",
    "2. Establish the constant pi with value 3.14159\n",
    "3. Compute the area of the circle\n",
    "4. Compute the circumference of the circle\n",
    "5. print the area\n",
    "6. print the circumference\n",
    "\n",
    "We will implement this below"
   ]
  },
  {
   "cell_type": "code",
   "execution_count": 34,
   "id": "b50dcdc2-0dc2-4669-ad20-b60278cf1143",
   "metadata": {},
   "outputs": [
    {
     "name": "stdout",
     "output_type": "stream",
     "text": [
      "Circle radius: 10\n",
      "Circle area: 314.159\n",
      "Circle circumference: 62.8318\n"
     ]
    }
   ],
   "source": [
    "# read the value of radius r of a circle\n",
    "radius_r = 10\n",
    "\n",
    "# establish the constant pi\n",
    "pi = 3.14159\n",
    "\n",
    "# compute the area of the cirlce\n",
    "circle_area = pi * radius_r**2\n",
    "\n",
    "# compute circumference\n",
    "circle_circumference = 2 * pi * radius_r\n",
    "\n",
    "# display\n",
    "print(f\"Circle radius: {radius_r}\")\n",
    "print(f\"Circle area: {circle_area}\")\n",
    "print(f\"Circle circumference: {circle_circumference}\")"
   ]
  },
  {
   "cell_type": "code",
   "execution_count": null,
   "id": "f730ec6e-01b4-4e62-87b7-00013b60d57b",
   "metadata": {},
   "outputs": [],
   "source": []
  }
 ],
 "metadata": {
  "kernelspec": {
   "display_name": "Python 3 (ipykernel)",
   "language": "python",
   "name": "python3"
  },
  "language_info": {
   "codemirror_mode": {
    "name": "ipython",
    "version": 3
   },
   "file_extension": ".py",
   "mimetype": "text/x-python",
   "name": "python",
   "nbconvert_exporter": "python",
   "pygments_lexer": "ipython3",
   "version": "3.13.2"
  }
 },
 "nbformat": 4,
 "nbformat_minor": 5
}
