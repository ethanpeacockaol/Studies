{
 "cells": [
  {
   "cell_type": "markdown",
   "id": "735b9b61-b0d4-4731-97ae-6d7808554f44",
   "metadata": {},
   "source": [
    "# Computational Models Chapter 1"
   ]
  },
  {
   "cell_type": "markdown",
   "id": "e712c372-735d-4719-b5eb-d86601f0f1f4",
   "metadata": {},
   "source": [
    "<hr>"
   ]
  },
  {
   "cell_type": "markdown",
   "id": "17625b51-69d5-4ae5-9e0b-17054f7c9422",
   "metadata": {},
   "source": [
    "1.5 Temperature conversion\n",
    "\n",
    "The process of computational models is demonstrated here\n",
    "\n",
    "starting with a temperature conversion problem"
   ]
  },
  {
   "cell_type": "markdown",
   "id": "7aa0686d-44a8-42e2-ac15-40b1563f9d62",
   "metadata": {},
   "source": [
    "problem statement:\n",
    "\n",
    "tourists visiting do not understand the units of tempearature used in weather eports.   The problem is to create a mechanism for indicating the temperature in Fahrenheit from a known temperature in Celcius."
   ]
  },
  {
   "cell_type": "markdown",
   "id": "9c6a7bd6-3cf3-462e-9613-8664eeffd99c",
   "metadata": {},
   "source": [
    "math solution to problem is known in the formula\n",
    "\n",
    "$F = \\frac{9}{5}C + 32$"
   ]
  },
  {
   "cell_type": "markdown",
   "id": "7e60c7a5-54bf-422c-86da-1f7baef67b2c",
   "metadata": {},
   "source": [
    "C is a variable that represents the given temperature in degrees Celsius, and F is a derived variable after the computation is complete\n",
    "\n",
    "Lets create a function below to hold our mathematical model"
   ]
  },
  {
   "cell_type": "code",
   "execution_count": 3,
   "id": "eb86f927-4498-46a2-880f-44fb686f8dc3",
   "metadata": {},
   "outputs": [
    {
     "name": "stdout",
     "output_type": "stream",
     "text": [
      "Degrees farenheit: 77.0\n",
      "Degrees celcius: 25.0\n"
     ]
    }
   ],
   "source": [
    "def F(c):\n",
    "    \"\"\"F converts the temperature passed in in Celcius to Fahrenheit\n",
    "    Args:\n",
    "        c:  the temperature in Celsius\n",
    "    Returns:\n",
    "        the temperature in fahrenheit is returned\n",
    "    \"\"\"\n",
    "    fahrenheit = 9/5 * c + 32\n",
    "    return fahrenheit\n",
    "\n",
    "\n",
    "# whats the temperature in degrees celcius?\n",
    "temp_in_celcius = 25.0\n",
    "\n",
    "# use our model to create a conversion\n",
    "fahrenheit = F(temp_in_celcius)\n",
    "print(f\"Degrees farenheit: {fahrenheit}\")\n",
    "print(f\"Degrees celcius: {temp_in_celcius}\")"
   ]
  },
  {
   "cell_type": "code",
   "execution_count": null,
   "id": "e07fc736-cc07-4d32-a890-8176535345a1",
   "metadata": {},
   "outputs": [],
   "source": []
  }
 ],
 "metadata": {
  "kernelspec": {
   "display_name": "Python 3 (ipykernel)",
   "language": "python",
   "name": "python3"
  },
  "language_info": {
   "codemirror_mode": {
    "name": "ipython",
    "version": 3
   },
   "file_extension": ".py",
   "mimetype": "text/x-python",
   "name": "python",
   "nbconvert_exporter": "python",
   "pygments_lexer": "ipython3",
   "version": "3.13.2"
  }
 },
 "nbformat": 4,
 "nbformat_minor": 5
}
