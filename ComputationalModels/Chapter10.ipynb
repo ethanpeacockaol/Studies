{
 "cells": [
  {
   "cell_type": "markdown",
   "id": "967bf7ba-24f9-40bf-b9f1-4bf69f09580c",
   "metadata": {},
   "source": [
    "# Chapter 10 Linked Lists"
   ]
  },
  {
   "attachments": {},
   "cell_type": "markdown",
   "id": "1502245c-fec5-4357-870f-d5fae31c54af",
   "metadata": {},
   "source": [
    "Linked lists and nodes\n",
    "\n",
    "a linked list is a data structure that consists of a chain or sequence of nodes connected in some manner\n",
    "\n",
    "a node is relatively smaller data structure that contains data and one or more links that are used to connect the node to one or more other nodes\n",
    "\n",
    "essentially i think we are building a tree of this type:\n",
    "\n",
    "<img src=\"chapter10image1.jpeg\" width=\"400\">\n",
    "\n",
    "A simple linked list:\n",
    "\n",
    "<img src=\"chapter10image2.jpeg\" width=\"300\">\n"
   ]
  },
  {
   "cell_type": "code",
   "execution_count": 67,
   "id": "4a3dc769-a49f-4972-8629-4f97298370b6",
   "metadata": {},
   "outputs": [],
   "source": [
    "class node:\n",
    "    def __init__(self, data):\n",
    "        self.data = data\n",
    "        self.next_node = None\n",
    "class linkedlist:\n",
    "    def __init__(self):\n",
    "        self.first_node = None\n",
    "\n",
    "    def append_node(self, data):\n",
    "        new_node = node(data)\n",
    "        if self.first_node == None:\n",
    "            self.first_node = new_node\n",
    "            return\n",
    "        # nodes exist, so set current nodes None object to be populated by new node\n",
    "        self.first_node.next_node = new_node\n",
    "       \n",
    "        \n",
    "\n",
    "        "
   ]
  },
  {
   "cell_type": "code",
   "execution_count": null,
   "id": "ecae4d86-2c55-48ad-9aab-5a8711de4f95",
   "metadata": {},
   "outputs": [],
   "source": []
  },
  {
   "cell_type": "code",
   "execution_count": null,
   "id": "878d9eb8-7b38-43b1-ad10-f02edd1a60af",
   "metadata": {},
   "outputs": [],
   "source": []
  },
  {
   "cell_type": "code",
   "execution_count": 12,
   "id": "21318062-31f6-4dc3-9452-e7348403bede",
   "metadata": {},
   "outputs": [],
   "source": [
    "# TODO: create a linked list in which each node represents a flight stop in a route to a destination.  \n",
    "#.      The data in each node is the airport code (an integer number).  The airline can add or delete \n",
    "#.      intermediate flight stops.  it can also calculate and display the number of stops from the \n",
    "#.      starting airport to the destination airport\n",
    "\n",
    "# TODO: the class defined in this chapter for linked lists defines nodes with only one link and with only \n",
    "#.      one end.  Develop a class STack2 that uses double linked lists with two ends.  Develop a complete\n",
    "#.      program that creates and manipulates three stacks.\n",
    "\n",
    "# TODO: Class LinkedList for linked lists defines nodes with only one link and with only one end.  Given nodes \n",
    "#.      that store person names and addresses, define an additional method that searches for a node with a \n",
    "#.      given name and returns a copy of the data in the node.  Develop a complete program that includes the \n",
    "#.      necessary classes.\n",
    "\n",
    "# TODO: Python program that defines an array of N linked lists. This can be used if the linked list is used to \n",
    "#.      implement a priority que with N different priorities.  A node will have an additional component, which \n",
    "#.      is the priority defined by an integer variable.\n",
    "\n",
    "# TODO: Class Queue implements a queue data structure. Modify this class and implement it with a linked list \n",
    "#.      that includes nodes of class DNode\n",
    "\n",
    "# TODO: Class Stack implements a queue data structure. Modify this class and implement it with a linked list\n",
    "#.      that includeds nodes of class DNode"
   ]
  },
  {
   "cell_type": "markdown",
   "id": "c1b50148-06ae-4435-ab58-25843ad176fa",
   "metadata": {},
   "source": [
    "<hr>"
   ]
  },
  {
   "cell_type": "code",
   "execution_count": 25,
   "id": "8deda709-10a3-4ea3-9dc3-05b7fa1725e0",
   "metadata": {},
   "outputs": [],
   "source": [
    "# TODO: create a linked list in which each node represents a flight stop in a route to a destination.  \n",
    "#.      The data in each node is the airport code (an integer number).  The airline can add or delete \n",
    "#.      intermediate flight stops.  it can also calculate and display the number of stops from the \n",
    "#.      starting airport to the destination airport"
   ]
  },
  {
   "cell_type": "code",
   "execution_count": null,
   "id": "0f909cc0-6355-4c56-a900-cf705c36e366",
   "metadata": {},
   "outputs": [],
   "source": []
  },
  {
   "cell_type": "markdown",
   "id": "990431f5-16f6-4bab-8cee-a0c8d5799f43",
   "metadata": {},
   "source": [
    "<hr>"
   ]
  },
  {
   "cell_type": "code",
   "execution_count": 11,
   "id": "cab9c0c3-4a0b-47b1-9dc6-2fd6840a4abc",
   "metadata": {},
   "outputs": [],
   "source": [
    "# TODO: the class defined in this chapter for linked lists defines nodes with only one link and with only \n",
    "#.      one end.  Develop a class STack2 that uses double linked lists with two ends.  Develop a complete\n",
    "#.      program that creates and manipulates three stacks."
   ]
  },
  {
   "cell_type": "code",
   "execution_count": null,
   "id": "6d866df7-22ee-450e-b4c5-6a302232783e",
   "metadata": {},
   "outputs": [],
   "source": []
  },
  {
   "cell_type": "markdown",
   "id": "f9b667f9-d5d0-43b4-9d65-35258f44a530",
   "metadata": {},
   "source": [
    "<hr>"
   ]
  },
  {
   "cell_type": "code",
   "execution_count": 10,
   "id": "d9e393fe-d089-4dfa-975e-5b7fb62a5d8f",
   "metadata": {},
   "outputs": [],
   "source": [
    "# TODO: Class LinkedList for linked lists defines nodes with only one link and with only one end.  Given nodes \n",
    "#.      that store person names and addresses, define an additional method that searches for a node with a \n",
    "#.      given name and returns a copy of the data in the node.  Develop a complete program that includes the \n",
    "#.      necessary classes."
   ]
  },
  {
   "cell_type": "code",
   "execution_count": null,
   "id": "2cf2b36d-31cd-4f96-8509-89936cb43419",
   "metadata": {},
   "outputs": [],
   "source": []
  },
  {
   "cell_type": "markdown",
   "id": "930f1208-e20a-40f6-80a3-1defbaab7b01",
   "metadata": {},
   "source": [
    "<hr>"
   ]
  },
  {
   "cell_type": "code",
   "execution_count": 9,
   "id": "96d6eeb7-dc4a-4b45-a0be-6eedcbebff38",
   "metadata": {},
   "outputs": [],
   "source": [
    "# TODO: Python program that defines an array of N linked lists. This can be used if the linked list is used to \n",
    "#.      implement a priority que with N different priorities.  A node will have an additional component, which \n",
    "#.      is the priority defined by an integer variable."
   ]
  },
  {
   "cell_type": "code",
   "execution_count": null,
   "id": "af9b7381-5c3b-4a11-b506-e85f423157f6",
   "metadata": {},
   "outputs": [],
   "source": []
  },
  {
   "cell_type": "markdown",
   "id": "7ab3fa43-8111-4461-9e25-fb2ea88daea7",
   "metadata": {},
   "source": [
    "<hr>"
   ]
  },
  {
   "cell_type": "code",
   "execution_count": 8,
   "id": "7506a321-2b43-49a3-af9c-a362f8a19870",
   "metadata": {},
   "outputs": [],
   "source": [
    "# TODO: Class Queue implements a queue data structure. Modify this class and implement it with a linked list \n",
    "#.      that includes nodes of class DNode"
   ]
  },
  {
   "cell_type": "code",
   "execution_count": null,
   "id": "063dc06a-e111-43ac-87a0-585e2d4ae95e",
   "metadata": {},
   "outputs": [],
   "source": []
  },
  {
   "cell_type": "markdown",
   "id": "40ca3cd6-e11f-4086-b928-87e64001c63a",
   "metadata": {},
   "source": [
    "<hr>"
   ]
  },
  {
   "cell_type": "code",
   "execution_count": 7,
   "id": "2ff2c6f7-1eb2-4e6a-b578-24673ebca8dd",
   "metadata": {},
   "outputs": [],
   "source": [
    "# TODO: Class Stack implements a queue data structure. Modify this class and implement it with a linked list\n",
    "#.      that includeds nodes of class DNode"
   ]
  },
  {
   "cell_type": "code",
   "execution_count": null,
   "id": "c482a332-d54f-47a9-8bad-53c789e9b05a",
   "metadata": {},
   "outputs": [],
   "source": []
  },
  {
   "cell_type": "markdown",
   "id": "7e827014-583c-497c-875d-88a57ce974ce",
   "metadata": {},
   "source": [
    "<hr>"
   ]
  },
  {
   "cell_type": "code",
   "execution_count": 1,
   "id": "a69d2ac2-0aa7-45ca-b72b-920fec70d2b3",
   "metadata": {},
   "outputs": [
    {
     "name": "stdout",
     "output_type": "stream",
     "text": [
      "okay so unfortunatley i dont understand linked lists so far, as a time constraint is pressing, i think im going to skip non procedural programming right now\n"
     ]
    }
   ],
   "source": [
    "print('okay so unfortunatley i dont understand linked lists so far, as a time constraint is pressing, i think im going to skip non procedural programming right now')"
   ]
  },
  {
   "cell_type": "code",
   "execution_count": 2,
   "id": "617067d2-588b-4bea-8a8f-5b960c40f779",
   "metadata": {},
   "outputs": [
    {
     "name": "stdout",
     "output_type": "stream",
     "text": [
      "python already has a better list implementation that only takes up [] of space\n"
     ]
    }
   ],
   "source": [
    "print('python already has a better list implementation that only takes up [] of space')"
   ]
  },
  {
   "cell_type": "code",
   "execution_count": 3,
   "id": "3b312574-3c53-4d92-bae6-c9d1a2be6698",
   "metadata": {},
   "outputs": [
    {
     "name": "stdout",
     "output_type": "stream",
     "text": [
      "sorry for now\n"
     ]
    }
   ],
   "source": [
    "print('sorry for now')"
   ]
  },
  {
   "cell_type": "code",
   "execution_count": null,
   "id": "6d1c2178-dce6-4a5d-aeda-1e77a385358c",
   "metadata": {},
   "outputs": [],
   "source": []
  }
 ],
 "metadata": {
  "kernelspec": {
   "display_name": "Python 3 (ipykernel)",
   "language": "python",
   "name": "python3"
  },
  "language_info": {
   "codemirror_mode": {
    "name": "ipython",
    "version": 3
   },
   "file_extension": ".py",
   "mimetype": "text/x-python",
   "name": "python",
   "nbconvert_exporter": "python",
   "pygments_lexer": "ipython3",
   "version": "3.9.6"
  }
 },
 "nbformat": 4,
 "nbformat_minor": 5
}
