{
 "cells": [
  {
   "cell_type": "markdown",
   "id": "967bf7ba-24f9-40bf-b9f1-4bf69f09580c",
   "metadata": {},
   "source": [
    "# Chapter 10 Linked Lists"
   ]
  },
  {
   "cell_type": "markdown",
   "id": "dcc262a5-9ace-4cb2-8efe-657393a183f8",
   "metadata": {},
   "source": [
    "chapter 10 exercises page 196 of 492"
   ]
  },
  {
   "cell_type": "code",
   "execution_count": 1,
   "id": "21318062-31f6-4dc3-9452-e7348403bede",
   "metadata": {},
   "outputs": [],
   "source": [
    "# TODO: create a linked list in which each node represents a flight stop in a route to a destination.  \n",
    "#.      The data in each node is the airport code (an integer number).  The airline can add or delete \n",
    "#.      intermediate flight stops.  it can also calculate and display the number of stops from the \n",
    "#.      starting airport to the destination airport\n",
    "\n",
    "# TODO: the class defined in this chapter for linked lists defines nodes with only one link and with only \n",
    "#.      one end.  Develop a class STack2 that uses double linked lists with two ends.  Develop a complete\n",
    "#.      program that creates and manipulates three stacks.\n",
    "\n",
    "# TODO: Class LinkedList for linked lists defines nodes with only one link and with only one end.  Given nodes \n",
    "#.      that store person names and addresses, define an additional method that searches for a node with a \n",
    "#.      given name and returns a copy of the data in the node.  Develop a complete program that includes the \n",
    "#.      necessary classes.\n",
    "\n",
    "# TODO: Python program that defines an array of N linked lists. This can be used if the linked list is used to \n",
    "#.      implement a priority que with N different priorities.  A node will have an additional component, which \n",
    "#.      is the priority defined by an integer variable.\n",
    "\n",
    "# TODO: Class Queue implements a queue data structure. Modify this class and implement it with a linked list \n",
    "#.      that includes nodes of class DNode\n",
    "\n",
    "# TODO: Class Stack implements a queue data structure. Modify this class and implement it with a linked list\n",
    "#.      that includeds nodes of class DNode"
   ]
  },
  {
   "cell_type": "markdown",
   "id": "c1b50148-06ae-4435-ab58-25843ad176fa",
   "metadata": {},
   "source": [
    "<hr>"
   ]
  },
  {
   "cell_type": "code",
   "execution_count": 2,
   "id": "8deda709-10a3-4ea3-9dc3-05b7fa1725e0",
   "metadata": {},
   "outputs": [],
   "source": [
    "# TODO: create a linked list in which each node represents a flight stop in a route to a destination.  \n",
    "#.      The data in each node is the airport code (an integer number).  The airline can add or delete \n",
    "#.      intermediate flight stops.  it can also calculate and display the number of stops from the \n",
    "#.      starting airport to the destination airport"
   ]
  },
  {
   "cell_type": "code",
   "execution_count": 1,
   "id": "f2021f68-b998-4f00-bc85-93c1b92df43c",
   "metadata": {},
   "outputs": [
    {
     "name": "stdout",
     "output_type": "stream",
     "text": [
      "0 -> 1 -> 2 -> 3 -> None\n",
      "0 -> 1 -> 3 -> None\n"
     ]
    }
   ],
   "source": [
    "# gemini code\n",
    "class Node:\n",
    "    def __init__(self, data):\n",
    "        self.data = data\n",
    "        self.next = None\n",
    "\n",
    "class LinkedList:\n",
    "    def __init__(self):\n",
    "        self.head = None\n",
    "\n",
    "    # Method to add a new node at the beginning\n",
    "    def insert_at_beginning(self, new_data):\n",
    "        new_node = Node(new_data)\n",
    "        new_node.next = self.head\n",
    "        self.head = new_node\n",
    "\n",
    "    # Method to add a new node at the end\n",
    "    def insert_at_end(self, new_data):\n",
    "        new_node = Node(new_data)\n",
    "        if self.head is None:\n",
    "            self.head = new_node\n",
    "            return\n",
    "        last_node = self.head\n",
    "        while last_node.next:\n",
    "            last_node = last_node.next\n",
    "        last_node.next = new_node\n",
    "\n",
    "    # Method to insert a new node after a given node\n",
    "    def insert_after(self, prev_node, new_data):\n",
    "        if prev_node is None:\n",
    "            print(\"The given previous node must exist in the list.\")\n",
    "            return\n",
    "        new_node = Node(new_data)\n",
    "        new_node.next = prev_node.next\n",
    "        prev_node.next = new_node\n",
    "\n",
    "    # Method to delete a node with a given key\n",
    "    def delete_node(self, key):\n",
    "        current_node = self.head\n",
    "        prev_node = None\n",
    "        found = False\n",
    "\n",
    "        # Case 1: Key is in the head node\n",
    "        if current_node and current_node.data == key:\n",
    "            self.head = current_node.next\n",
    "            current_node = None\n",
    "            found = True\n",
    "            return\n",
    "\n",
    "        # Search for the key\n",
    "        while current_node and current_node.data != key:\n",
    "            prev_node = current_node\n",
    "            current_node = current_node.next\n",
    "\n",
    "        # Case 2: Key is found in a node other than head\n",
    "        if current_node:\n",
    "            prev_node.next = current_node.next\n",
    "            current_node = None\n",
    "            found = True\n",
    "\n",
    "        if not found:\n",
    "            print(f\"Node with data '{key}' not found in the list.\")\n",
    "\n",
    "    # Method to traverse and print the linked list\n",
    "    def print_list(self):\n",
    "        current = self.head\n",
    "        while current:\n",
    "            print(current.data, end=\" -> \")\n",
    "            current = current.next\n",
    "        print(\"None\")\n",
    "\n",
    "# Example usage:\n",
    "my_list = LinkedList()\n",
    "my_list.insert_at_end(1)\n",
    "my_list.insert_at_beginning(0)\n",
    "my_list.insert_at_end(3)\n",
    "my_list.insert_after(my_list.head.next, 2)\n",
    "my_list.print_list()  # Output: 0 -> 1 -> 2 -> 3 -> None\n",
    "\n",
    "my_list.delete_node(2)\n",
    "my_list.print_list()  # Output: 0 -> 1 -> 3 -> None"
   ]
  },
  {
   "cell_type": "markdown",
   "id": "990431f5-16f6-4bab-8cee-a0c8d5799f43",
   "metadata": {},
   "source": [
    "<hr>"
   ]
  },
  {
   "cell_type": "code",
   "execution_count": 11,
   "id": "cab9c0c3-4a0b-47b1-9dc6-2fd6840a4abc",
   "metadata": {},
   "outputs": [],
   "source": [
    "# TODO: the class defined in this chapter for linked lists defines nodes with only one link and with only \n",
    "#.      one end.  Develop a class STack2 that uses double linked lists with two ends.  Develop a complete\n",
    "#.      program that creates and manipulates three stacks."
   ]
  },
  {
   "cell_type": "code",
   "execution_count": null,
   "id": "6d866df7-22ee-450e-b4c5-6a302232783e",
   "metadata": {},
   "outputs": [],
   "source": []
  },
  {
   "cell_type": "markdown",
   "id": "f9b667f9-d5d0-43b4-9d65-35258f44a530",
   "metadata": {},
   "source": [
    "<hr>"
   ]
  },
  {
   "cell_type": "code",
   "execution_count": 10,
   "id": "d9e393fe-d089-4dfa-975e-5b7fb62a5d8f",
   "metadata": {},
   "outputs": [],
   "source": [
    "# TODO: Class LinkedList for linked lists defines nodes with only one link and with only one end.  Given nodes \n",
    "#.      that store person names and addresses, define an additional method that searches for a node with a \n",
    "#.      given name and returns a copy of the data in the node.  Develop a complete program that includes the \n",
    "#.      necessary classes."
   ]
  },
  {
   "cell_type": "code",
   "execution_count": null,
   "id": "2cf2b36d-31cd-4f96-8509-89936cb43419",
   "metadata": {},
   "outputs": [],
   "source": []
  },
  {
   "cell_type": "markdown",
   "id": "930f1208-e20a-40f6-80a3-1defbaab7b01",
   "metadata": {},
   "source": [
    "<hr>"
   ]
  },
  {
   "cell_type": "code",
   "execution_count": 9,
   "id": "96d6eeb7-dc4a-4b45-a0be-6eedcbebff38",
   "metadata": {},
   "outputs": [],
   "source": [
    "# TODO: Python program that defines an array of N linked lists. This can be used if the linked list is used to \n",
    "#.      implement a priority que with N different priorities.  A node will have an additional component, which \n",
    "#.      is the priority defined by an integer variable."
   ]
  },
  {
   "cell_type": "code",
   "execution_count": null,
   "id": "af9b7381-5c3b-4a11-b506-e85f423157f6",
   "metadata": {},
   "outputs": [],
   "source": []
  },
  {
   "cell_type": "markdown",
   "id": "7ab3fa43-8111-4461-9e25-fb2ea88daea7",
   "metadata": {},
   "source": [
    "<hr>"
   ]
  },
  {
   "cell_type": "code",
   "execution_count": 8,
   "id": "7506a321-2b43-49a3-af9c-a362f8a19870",
   "metadata": {},
   "outputs": [],
   "source": [
    "# TODO: Class Queue implements a queue data structure. Modify this class and implement it with a linked list \n",
    "#.      that includes nodes of class DNode"
   ]
  },
  {
   "cell_type": "code",
   "execution_count": null,
   "id": "063dc06a-e111-43ac-87a0-585e2d4ae95e",
   "metadata": {},
   "outputs": [],
   "source": []
  },
  {
   "cell_type": "markdown",
   "id": "40ca3cd6-e11f-4086-b928-87e64001c63a",
   "metadata": {},
   "source": [
    "<hr>"
   ]
  },
  {
   "cell_type": "code",
   "execution_count": 7,
   "id": "2ff2c6f7-1eb2-4e6a-b578-24673ebca8dd",
   "metadata": {},
   "outputs": [],
   "source": [
    "# TODO: Class Stack implements a queue data structure. Modify this class and implement it with a linked list\n",
    "#.      that includeds nodes of class DNode"
   ]
  },
  {
   "cell_type": "code",
   "execution_count": null,
   "id": "c482a332-d54f-47a9-8bad-53c789e9b05a",
   "metadata": {},
   "outputs": [],
   "source": []
  },
  {
   "cell_type": "markdown",
   "id": "7e827014-583c-497c-875d-88a57ce974ce",
   "metadata": {},
   "source": [
    "<hr>"
   ]
  }
 ],
 "metadata": {
  "kernelspec": {
   "display_name": "Python 3 (ipykernel)",
   "language": "python",
   "name": "python3"
  },
  "language_info": {
   "codemirror_mode": {
    "name": "ipython",
    "version": 3
   },
   "file_extension": ".py",
   "mimetype": "text/x-python",
   "name": "python",
   "nbconvert_exporter": "python",
   "pygments_lexer": "ipython3",
   "version": "3.9.6"
  }
 },
 "nbformat": 4,
 "nbformat_minor": 5
}
