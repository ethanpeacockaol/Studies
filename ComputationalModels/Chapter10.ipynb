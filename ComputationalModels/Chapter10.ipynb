{
 "cells": [
  {
   "cell_type": "markdown",
   "id": "967bf7ba-24f9-40bf-b9f1-4bf69f09580c",
   "metadata": {},
   "source": [
    "# Chapter 10 Linked Lists"
   ]
  },
  {
   "attachments": {},
   "cell_type": "markdown",
   "id": "1502245c-fec5-4357-870f-d5fae31c54af",
   "metadata": {},
   "source": [
    "Linked lists and nodes\n",
    "\n",
    "a linked list is a data structure that consists of a chain or sequence of nodes connected in some manner\n",
    "\n",
    "a node is relatively smaller data structure that contains data and one or more links that are used to connect the node to one or more other nodes\n",
    "\n",
    "essentially i think we are building a tree of this type:\n",
    "\n",
    "<img src=\"chapter10image1.jpeg\" width=\"400\">\n",
    "\n",
    "A simple linked list:\n",
    "\n",
    "<img src=\"chapter10image2.jpeg\" width=\"300\">\n",
    "\n",
    "\n",
    "\n",
    "im going to call them chains"
   ]
  },
  {
   "cell_type": "code",
   "execution_count": 12,
   "id": "21318062-31f6-4dc3-9452-e7348403bede",
   "metadata": {},
   "outputs": [],
   "source": [
    "# TODO: create a linked list in which each node represents a flight stop in a route to a destination.  \n",
    "#.      The data in each node is the airport code (an integer number).  The airline can add or delete \n",
    "#.      intermediate flight stops.  it can also calculate and display the number of stops from the \n",
    "#.      starting airport to the destination airport\n",
    "\n",
    "# TODO: the class defined in this chapter for linked lists defines nodes with only one link and with only \n",
    "#.      one end.  Develop a class STack2 that uses double linked lists with two ends.  Develop a complete\n",
    "#.      program that creates and manipulates three stacks.\n",
    "\n",
    "# TODO: Class LinkedList for linked lists defines nodes with only one link and with only one end.  Given nodes \n",
    "#.      that store person names and addresses, define an additional method that searches for a node with a \n",
    "#.      given name and returns a copy of the data in the node.  Develop a complete program that includes the \n",
    "#.      necessary classes.\n",
    "\n",
    "# TODO: Python program that defines an array of N linked lists. This can be used if the linked list is used to \n",
    "#.      implement a priority que with N different priorities.  A node will have an additional component, which \n",
    "#.      is the priority defined by an integer variable.\n",
    "\n",
    "# TODO: Class Queue implements a queue data structure. Modify this class and implement it with a linked list \n",
    "#.      that includes nodes of class DNode\n",
    "\n",
    "# TODO: Class Stack implements a queue data structure. Modify this class and implement it with a linked list\n",
    "#.      that includeds nodes of class DNode"
   ]
  },
  {
   "cell_type": "markdown",
   "id": "c1b50148-06ae-4435-ab58-25843ad176fa",
   "metadata": {},
   "source": [
    "<hr>"
   ]
  },
  {
   "cell_type": "code",
   "execution_count": 25,
   "id": "8deda709-10a3-4ea3-9dc3-05b7fa1725e0",
   "metadata": {},
   "outputs": [],
   "source": [
    "# TODO: create a linked list in which each node represents a flight stop in a route to a destination.  \n",
    "#.      The data in each node is the airport code (an integer number).  The airline can add or delete \n",
    "#.      intermediate flight stops.  it can also calculate and display the number of stops from the \n",
    "#.      starting airport to the destination airport"
   ]
  },
  {
   "cell_type": "code",
   "execution_count": 15,
   "id": "0f909cc0-6355-4c56-a900-cf705c36e366",
   "metadata": {},
   "outputs": [
    {
     "name": "stdout",
     "output_type": "stream",
     "text": [
      "hello\n",
      "my favorite\n",
      "number is!\n",
      "9\n"
     ]
    }
   ],
   "source": [
    "class link:\n",
    "    \"\"\"links contain a storage attribute and a nextlink attribute.  \n",
    "        If the link is the last link in the chain, or the only link in the chain,\n",
    "        its nextlink attribute will be None.  \n",
    "        On chains longer than or equal to 2 all links will have the link they are connected\n",
    "        to as their nextlink attribute. again except for the last link which will have None.\n",
    "        Again if a chain only has 1 length the firstlink and end link are the same and it will\n",
    "        have the nextlink attribute set as None.\n",
    "    \"\"\"\n",
    "    def __init__(self, storage):\n",
    "        self.storage = storage\n",
    "        self.nextlink = None\n",
    "\n",
    "class chain:\n",
    "    \"\"\"chains can have no links.  chains are combinations of binding links together\n",
    "        Again links contain two parts that make up their whole.  the storage attribute (left side of link\n",
    "        and the nextlink attribute )right side of link. if the link is the last link in the chain it will \n",
    "        have a nextlink attribute of None.  if the link is the ONLY link in the chain its nextlink attribute\n",
    "        will be None.  All other links have their nextlink attribute set as the next link in the contain.\n",
    "        Again this is an entire link object which again holds left side(storage of anything you can put into \n",
    "        a variable including other chains and the rightside)the nextlink in the chain \n",
    "        Again if chain is only 1 link long its nextlink will be None\n",
    "        and again if chain is n length long its nth value will have None as its nextlink attribute\n",
    "    \"\"\"\n",
    "    def __init__(self):\n",
    "        # create chain with no links\n",
    "        self.firstlink = None\n",
    "\n",
    "    def addlink(self, storage):\n",
    "        # if chain is linkless create a link and add it to the chain\n",
    "        if self.firstlink is None:\n",
    "            # create first link\n",
    "            newlink = link(storage)\n",
    "            # set first link\n",
    "            self.firstlink = newlink\n",
    "\n",
    "        # if the chain has links already find the end link and bind it to the new link you want to add\n",
    "        else:\n",
    "            # find end link by searching for it from first link\n",
    "            endlink = None\n",
    "            searchlink = self.firstlink\n",
    "\n",
    "            go = True\n",
    "            while go:\n",
    "                # loop until you find the None value for nextlink\n",
    "                if searchlink.nextlink is None:\n",
    "                    endlink = searchlink\n",
    "                    go = False\n",
    "                else:\n",
    "                    # didnt find None for nextlink set the nextlink as the current searchlink for next loop\n",
    "                    searchlink = searchlink.nextlink\n",
    "            # go triggered break we found the end link\n",
    "            endlink = searchlink\n",
    "            # bind your new storage as the new end link in the chain\n",
    "            endlink.nextlink = link(storage)\n",
    "\n",
    "    def printlinks(self):\n",
    "        # for every link print whats in its storage container and then go to the next link\n",
    "        go = True\n",
    "        # start with the first link\n",
    "        currentlink = self.firstlink\n",
    "        while go:\n",
    "            # print whats in storage\n",
    "            print(currentlink.storage)\n",
    "            # if we are not at the end link yet set the current link as the next link for next iteration\n",
    "            if currentlink.nextlink is not None:\n",
    "                currentlink = currentlink.nextlink\n",
    "            # we hit printed end link and found None stop the loop\n",
    "            else:\n",
    "                go = False\n",
    "\n",
    "linkedlist = chain()\n",
    "linkedlist.addlink(\"hello\")\n",
    "linkedlist.addlink(\"my favorite\")\n",
    "linkedlist.addlink(\"number is!\")\n",
    "linkedlist.addlink(9)\n",
    "linkedlist.printlinks()"
   ]
  },
  {
   "cell_type": "markdown",
   "id": "990431f5-16f6-4bab-8cee-a0c8d5799f43",
   "metadata": {},
   "source": [
    "<hr>"
   ]
  },
  {
   "cell_type": "code",
   "execution_count": 11,
   "id": "cab9c0c3-4a0b-47b1-9dc6-2fd6840a4abc",
   "metadata": {},
   "outputs": [],
   "source": [
    "# TODO: the class defined in this chapter for linked lists defines nodes with only one link and with only \n",
    "#.      one end.  Develop a class STack2 that uses double linked lists with two ends.  Develop a complete\n",
    "#.      program that creates and manipulates three stacks."
   ]
  },
  {
   "cell_type": "code",
   "execution_count": null,
   "id": "6d866df7-22ee-450e-b4c5-6a302232783e",
   "metadata": {},
   "outputs": [],
   "source": []
  },
  {
   "cell_type": "markdown",
   "id": "f9b667f9-d5d0-43b4-9d65-35258f44a530",
   "metadata": {},
   "source": [
    "<hr>"
   ]
  },
  {
   "cell_type": "code",
   "execution_count": 10,
   "id": "d9e393fe-d089-4dfa-975e-5b7fb62a5d8f",
   "metadata": {},
   "outputs": [],
   "source": [
    "# TODO: Class LinkedList for linked lists defines nodes with only one link and with only one end.  Given nodes \n",
    "#.      that store person names and addresses, define an additional method that searches for a node with a \n",
    "#.      given name and returns a copy of the data in the node.  Develop a complete program that includes the \n",
    "#.      necessary classes."
   ]
  },
  {
   "cell_type": "code",
   "execution_count": null,
   "id": "2cf2b36d-31cd-4f96-8509-89936cb43419",
   "metadata": {},
   "outputs": [],
   "source": []
  },
  {
   "cell_type": "markdown",
   "id": "930f1208-e20a-40f6-80a3-1defbaab7b01",
   "metadata": {},
   "source": [
    "<hr>"
   ]
  },
  {
   "cell_type": "code",
   "execution_count": 9,
   "id": "96d6eeb7-dc4a-4b45-a0be-6eedcbebff38",
   "metadata": {},
   "outputs": [],
   "source": [
    "# TODO: Python program that defines an array of N linked lists. This can be used if the linked list is used to \n",
    "#.      implement a priority que with N different priorities.  A node will have an additional component, which \n",
    "#.      is the priority defined by an integer variable."
   ]
  },
  {
   "cell_type": "code",
   "execution_count": null,
   "id": "af9b7381-5c3b-4a11-b506-e85f423157f6",
   "metadata": {},
   "outputs": [],
   "source": []
  },
  {
   "cell_type": "markdown",
   "id": "7ab3fa43-8111-4461-9e25-fb2ea88daea7",
   "metadata": {},
   "source": [
    "<hr>"
   ]
  },
  {
   "cell_type": "code",
   "execution_count": 8,
   "id": "7506a321-2b43-49a3-af9c-a362f8a19870",
   "metadata": {},
   "outputs": [],
   "source": [
    "# TODO: Class Queue implements a queue data structure. Modify this class and implement it with a linked list \n",
    "#.      that includes nodes of class DNode"
   ]
  },
  {
   "cell_type": "code",
   "execution_count": null,
   "id": "063dc06a-e111-43ac-87a0-585e2d4ae95e",
   "metadata": {},
   "outputs": [],
   "source": []
  },
  {
   "cell_type": "markdown",
   "id": "40ca3cd6-e11f-4086-b928-87e64001c63a",
   "metadata": {},
   "source": [
    "<hr>"
   ]
  },
  {
   "cell_type": "code",
   "execution_count": 7,
   "id": "2ff2c6f7-1eb2-4e6a-b578-24673ebca8dd",
   "metadata": {},
   "outputs": [],
   "source": [
    "# TODO: Class Stack implements a queue data structure. Modify this class and implement it with a linked list\n",
    "#.      that includeds nodes of class DNode"
   ]
  },
  {
   "cell_type": "code",
   "execution_count": null,
   "id": "c482a332-d54f-47a9-8bad-53c789e9b05a",
   "metadata": {},
   "outputs": [],
   "source": []
  },
  {
   "cell_type": "markdown",
   "id": "7e827014-583c-497c-875d-88a57ce974ce",
   "metadata": {},
   "source": [
    "<hr>"
   ]
  },
  {
   "cell_type": "code",
   "execution_count": 1,
   "id": "a69d2ac2-0aa7-45ca-b72b-920fec70d2b3",
   "metadata": {},
   "outputs": [
    {
     "name": "stdout",
     "output_type": "stream",
     "text": [
      "okay so unfortunatley i dont understand linked lists so far, as a time constraint is pressing, i think im going to skip non procedural programming right now\n"
     ]
    }
   ],
   "source": [
    "print('okay so unfortunatley i dont understand linked lists so far, as a time constraint is pressing, i think im going to skip non procedural programming right now')"
   ]
  },
  {
   "cell_type": "code",
   "execution_count": 2,
   "id": "617067d2-588b-4bea-8a8f-5b960c40f779",
   "metadata": {},
   "outputs": [
    {
     "name": "stdout",
     "output_type": "stream",
     "text": [
      "python already has a better list implementation that only takes up [] of space\n"
     ]
    }
   ],
   "source": [
    "print('python already has a better list implementation that only takes up [] of space')"
   ]
  },
  {
   "cell_type": "code",
   "execution_count": 3,
   "id": "3b312574-3c53-4d92-bae6-c9d1a2be6698",
   "metadata": {},
   "outputs": [
    {
     "name": "stdout",
     "output_type": "stream",
     "text": [
      "sorry for now\n"
     ]
    }
   ],
   "source": [
    "print('sorry for now')"
   ]
  },
  {
   "cell_type": "code",
   "execution_count": null,
   "id": "6d1c2178-dce6-4a5d-aeda-1e77a385358c",
   "metadata": {},
   "outputs": [],
   "source": []
  }
 ],
 "metadata": {
  "kernelspec": {
   "display_name": "Python 3 (ipykernel)",
   "language": "python",
   "name": "python3"
  },
  "language_info": {
   "codemirror_mode": {
    "name": "ipython",
    "version": 3
   },
   "file_extension": ".py",
   "mimetype": "text/x-python",
   "name": "python",
   "nbconvert_exporter": "python",
   "pygments_lexer": "ipython3",
   "version": "3.9.6"
  }
 },
 "nbformat": 4,
 "nbformat_minor": 5
}
