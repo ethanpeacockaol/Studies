{
  "nbformat": 4,
  "nbformat_minor": 0,
  "metadata": {
    "colab": {
      "provenance": []
    },
    "kernelspec": {
      "name": "python3",
      "display_name": "Python 3"
    },
    "language_info": {
      "name": "python"
    }
  },
  "cells": [
    {
      "cell_type": "markdown",
      "source": [
        "# Chapter 5 The selection Program structure\n",
        "\n",
        "\n",
        "this chapter explains the selection program structure\n",
        "\n",
        "also introduces conditional expressions\n",
        "\n",
        "greater than or equal to etc\n",
        "\n",
        "and or not"
      ],
      "metadata": {
        "id": "8RLCJxdsdVe9"
      }
    },
    {
      "cell_type": "code",
      "source": [
        "# example with selection\n",
        "# the following example evaluates the condition len > 0 to select which\n",
        "# operation is to be performed on variable k\n",
        "hello = 'hello'\n",
        "len1 = len(hello)\n",
        "k = 1\n",
        "if (len1 > 0):\n",
        "  k += 3\n",
        "else:\n",
        "  k -= 1\n",
        "print(k)"
      ],
      "metadata": {
        "colab": {
          "base_uri": "https://localhost:8080/"
        },
        "id": "gYfQzCgNdvAZ",
        "outputId": "e4ccc409-9cce-4301-e1dc-bee93d4dabfd"
      },
      "execution_count": 1,
      "outputs": [
        {
          "output_type": "stream",
          "name": "stdout",
          "text": [
            "4\n"
          ]
        }
      ]
    },
    {
      "cell_type": "code",
      "source": [
        "# python program that implements the algorithm for the solution of the quadratic equation\n",
        "\n",
        "from math import *\n",
        "\n",
        "a = float(input(\"Enter value of coefficient a: \"))\n",
        "print(f\"value of a {a}\")\n",
        "b = float(input(\"Enter value of coefficient b: \"))\n",
        "print(f\"value of b {b}\")\n",
        "c = float(input(\"Enter value of coefficient c: \"))\n",
        "print(f\"value of c {c}\")\n",
        "\n",
        "disc = b**2 - 4*a*c\n",
        "print(f\"discriminant: {disc}\")\n",
        "if (disc < 0):\n",
        "  # complex roots\n",
        "  disc = -disc\n",
        "  x1r = -b/(2*a)\n",
        "  x1i = sqrt(disc)/(2*a)\n",
        "  x2r = x1r\n",
        "  x2i = -x1i\n",
        "  print(\"Complex roots\")\n",
        "  x1 = complex(x1r, x1i)\n",
        "  x2 = complex(x2r, x2i)\n",
        "  print(f\"x1 {x1}\")\n",
        "  print(f\"x2 {x2}\")\n",
        "else:\n",
        "  # real roots\n",
        "  x1r = (-b + sqrt(disc))/(2*a)\n",
        "  x2r = (-b - sqrt(disc))/(2*a)\n",
        "  print(\"Real roots\")\n",
        "  print(f\"x1: {x1}\")\n",
        "  print(f\"x2: {x2}\")\n",
        ""
      ],
      "metadata": {
        "colab": {
          "base_uri": "https://localhost:8080/"
        },
        "id": "F26MCqAheAn6",
        "outputId": "821217df-7542-4dc2-8d13-03eb101903a7"
      },
      "execution_count": 9,
      "outputs": [
        {
          "output_type": "stream",
          "name": "stdout",
          "text": [
            "Enter value of coefficient a: 2\n",
            "value of a 2.0\n",
            "Enter value of coefficient b: -20\n",
            "value of b -20.0\n",
            "Enter value of coefficient c: 5\n",
            "value of c 5.0\n",
            "discriminant: 360.0\n",
            "Real roots\n",
            "x1: (-0.3333333333333333+0.47140452079103173j)\n",
            "x2: (-0.3333333333333333-0.47140452079103173j)\n"
          ]
        }
      ]
    },
    {
      "cell_type": "code",
      "source": [
        "-1/3"
      ],
      "metadata": {
        "colab": {
          "base_uri": "https://localhost:8080/"
        },
        "id": "CkhFrIZMftES",
        "outputId": "0a47bbbb-a88d-4f0b-ca8e-a20b61f2857a"
      },
      "execution_count": 8,
      "outputs": [
        {
          "output_type": "execute_result",
          "data": {
            "text/plain": [
              "-0.3333333333333333"
            ]
          },
          "metadata": {},
          "execution_count": 8
        }
      ]
    },
    {
      "cell_type": "markdown",
      "source": [
        "<hr>\n",
        "\n",
        "chapter 5 exercises"
      ],
      "metadata": {
        "id": "TECUkTvoglOp"
      }
    },
    {
      "cell_type": "code",
      "source": [
        "# TODO:: Develop a program that computes the conversion from gallons to liters\n",
        "#        and from liters to gallons\n",
        "#        the user should be able to input the string gallons or liters\n",
        "\n",
        "# TODO: Python program to calculate the total amounht to pay for movie rental\n",
        "#       the movie rental store charges $3.50 perday for every DVD movie\n",
        "#       for every additional period of 24 hours, the customer must pay 0.75\n",
        "\n",
        "# TODO: python progeram that finds and dispolays the largest of several numbers,\n",
        "#       which are read from the input device\n",
        "\n",
        "# TODO: python code that finds and displays the smallest of several numbers,\n",
        "#       which are read from the input device\n",
        "#       ask user to type stop when they are done inputing numbers\n",
        "\n",
        "# TODO: python code that computes the gross and the net pay of several\n",
        "#       employees.  the input quantities are employee name, hourly rate,\n",
        "#       number of hours, percentage of tax (use 14.5%).  The tax bracket is $115\n",
        "#       When the number of hours is greater than 40, the overtime hourly rate is\n",
        "#       forty percent higher\n",
        "\n",
        "# TODO: python code that computes the fare in a ferry transport for passengers\n",
        "#       with motor vehicles.  Passengers must pay an extra fare based on the\n",
        "#       vehicle's weight.  Use the following data: vehicles with weight up to\n",
        "#       780lb pay $80.00, up to 1100lb pay 127.50 dollars, and up to 2200lb pay\n",
        "#       $210.50\n",
        "\n",
        "# TODO: python code that computes the average of student grades.  The input data\n",
        "#       are the four letter grades for various work submitted by the students"
      ],
      "metadata": {
        "id": "UPK1gvhegMQp"
      },
      "execution_count": null,
      "outputs": []
    },
    {
      "cell_type": "markdown",
      "source": [
        "<hr>"
      ],
      "metadata": {
        "id": "sEE7Pub3iDc9"
      }
    },
    {
      "cell_type": "code",
      "source": [
        "# TODO:: Develop a program that computes the conversion from gallons to liters\n",
        "#        and from liters to gallons\n",
        "#        the user should be able to input the string gallons or liters\n",
        "def gallons_to_liters(gallons):\n",
        "  return gallons * 3.78541\n",
        "def liters_to_gallons(liters):\n",
        "  return liters / 3.78541\n",
        "\n",
        "def gallons_or_liters():\n",
        "  ans = input('gallons or liters ')\n",
        "  amount = float(input('how many? '))\n",
        "  if ans == 'gallons':\n",
        "    amountconv = gallons_to_liters(amount)\n",
        "    print(f\"{amount} gallons is {amountconv} liters\")\n",
        "  if ans == 'liters':\n",
        "    amountconv = liters_to_gallons(amount)\n",
        "    print(f\"{amount} liters is {amountconv} gallons\")\n",
        "\n",
        "gallons_or_liters()"
      ],
      "metadata": {
        "colab": {
          "base_uri": "https://localhost:8080/"
        },
        "id": "ySBpDhbJiEcg",
        "outputId": "e7efe877-adaa-493d-8e28-47e1c1764137"
      },
      "execution_count": 21,
      "outputs": [
        {
          "output_type": "stream",
          "name": "stdout",
          "text": [
            "gallons or liters gallons\n",
            "how many? 3\n",
            "3.0 gallons is 11.35623 liters\n"
          ]
        }
      ]
    },
    {
      "cell_type": "markdown",
      "source": [
        "<hr>"
      ],
      "metadata": {
        "id": "yLoWKGvxjuaZ"
      }
    },
    {
      "cell_type": "code",
      "source": [],
      "metadata": {
        "id": "yw9XL49ViWxx"
      },
      "execution_count": null,
      "outputs": []
    }
  ]
}