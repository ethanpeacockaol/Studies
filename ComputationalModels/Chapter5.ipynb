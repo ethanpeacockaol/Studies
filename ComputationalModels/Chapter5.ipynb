{
 "cells": [
  {
   "metadata": {
    "id": "8RLCJxdsdVe9"
   },
   "cell_type": "markdown",
   "source": "# Chapter 5 The selection Program structure\n\n\nthis chapter explains the selection program structure\n\nalso introduces conditional expressions\n\ngreater than or equal to etc\n\nand or not"
  },
  {
   "metadata": {
    "colab": {
     "base_uri": "https://localhost:8080/"
    },
    "id": "gYfQzCgNdvAZ",
    "outputId": "e4ccc409-9cce-4301-e1dc-bee93d4dabfd",
    "trusted": false
   },
   "cell_type": "code",
   "source": "# example with selection\n# the following example evaluates the condition len > 0 to select which\n# operation is to be performed on variable k\nhello = 'hello'\nlen1 = len(hello)\nk = 1\nif (len1 > 0):\n  k += 3\nelse:\n  k -= 1\nprint(k)",
   "execution_count": 1,
   "outputs": [
    {
     "output_type": "stream",
     "name": "stdout",
     "text": "4\n"
    }
   ]
  },
  {
   "metadata": {
    "colab": {
     "base_uri": "https://localhost:8080/"
    },
    "id": "F26MCqAheAn6",
    "outputId": "821217df-7542-4dc2-8d13-03eb101903a7",
    "trusted": false
   },
   "cell_type": "code",
   "source": "# python program that implements the algorithm for the solution of the quadratic equation\n\nfrom math import *\n\na = float(input(\"Enter value of coefficient a: \"))\nprint(f\"value of a {a}\")\nb = float(input(\"Enter value of coefficient b: \"))\nprint(f\"value of b {b}\")\nc = float(input(\"Enter value of coefficient c: \"))\nprint(f\"value of c {c}\")\n\ndisc = b**2 - 4*a*c\nprint(f\"discriminant: {disc}\")\nif (disc < 0):\n  # complex roots\n  disc = -disc\n  x1r = -b/(2*a)\n  x1i = sqrt(disc)/(2*a)\n  x2r = x1r\n  x2i = -x1i\n  print(\"Complex roots\")\n  x1 = complex(x1r, x1i)\n  x2 = complex(x2r, x2i)\n  print(f\"x1 {x1}\")\n  print(f\"x2 {x2}\")\nelse:\n  # real roots\n  x1r = (-b + sqrt(disc))/(2*a)\n  x2r = (-b - sqrt(disc))/(2*a)\n  print(\"Real roots\")\n  print(f\"x1: {x1}\")\n  print(f\"x2: {x2}\")\n",
   "execution_count": 9,
   "outputs": [
    {
     "output_type": "stream",
     "name": "stdout",
     "text": "Enter value of coefficient a: 2\nvalue of a 2.0\nEnter value of coefficient b: -20\nvalue of b -20.0\nEnter value of coefficient c: 5\nvalue of c 5.0\ndiscriminant: 360.0\nReal roots\nx1: (-0.3333333333333333+0.47140452079103173j)\nx2: (-0.3333333333333333-0.47140452079103173j)\n"
    }
   ]
  },
  {
   "metadata": {
    "colab": {
     "base_uri": "https://localhost:8080/"
    },
    "id": "CkhFrIZMftES",
    "outputId": "0a47bbbb-a88d-4f0b-ca8e-a20b61f2857a",
    "trusted": false
   },
   "cell_type": "code",
   "source": "-1/3",
   "execution_count": 8,
   "outputs": [
    {
     "output_type": "execute_result",
     "data": {
      "text/plain": "-0.3333333333333333"
     },
     "metadata": {},
     "execution_count": 8
    }
   ]
  },
  {
   "metadata": {
    "id": "TECUkTvoglOp"
   },
   "cell_type": "markdown",
   "source": "<hr>\n\nchapter 5 exercises"
  },
  {
   "metadata": {
    "id": "UPK1gvhegMQp",
    "trusted": false
   },
   "cell_type": "code",
   "source": "# TODO:: Develop a program that computes the conversion from gallons to liters\n#        and from liters to gallons\n#        the user should be able to input the string gallons or liters\n\n# TODO: Python program to calculate the total amounht to pay for movie rental\n#       the movie rental store charges $3.50 perday for every DVD movie\n#       for every additional period of 24 hours, the customer must pay 0.75\n\n# TODO: python progeram that finds and dispolays the largest of several numbers,\n#       which are read from the input device\n\n# TODO: python code that finds and displays the smallest of several numbers,\n#       which are read from the input device\n#       ask user to type stop when they are done inputing numbers\n\n# TODO: python code that computes the gross and the net pay of several\n#       employees.  the input quantities are employee name, hourly rate,\n#       number of hours, percentage of tax (use 14.5%).  The tax bracket is $115\n#       When the number of hours is greater than 40, the overtime hourly rate is\n#       forty percent higher\n\n# TODO: python code that computes the fare in a ferry transport for passengers\n#       with motor vehicles.  Passengers must pay an extra fare based on the\n#       vehicle's weight.  Use the following data: vehicles with weight up to\n#       780lb pay $80.00, up to 1100lb pay 127.50 dollars, and up to 2200lb pay\n#       $210.50\n\n# TODO: python code that computes the average of student grades.  The input data\n#       are the four letter grades for various work submitted by the students",
   "execution_count": null,
   "outputs": []
  },
  {
   "metadata": {
    "id": "sEE7Pub3iDc9"
   },
   "cell_type": "markdown",
   "source": "<hr>"
  },
  {
   "metadata": {
    "colab": {
     "base_uri": "https://localhost:8080/"
    },
    "id": "ySBpDhbJiEcg",
    "outputId": "e7efe877-adaa-493d-8e28-47e1c1764137",
    "trusted": false
   },
   "cell_type": "code",
   "source": "# TODO:: Develop a program that computes the conversion from gallons to liters\n#        and from liters to gallons\n#        the user should be able to input the string gallons or liters\ndef gallons_to_liters(gallons):\n  return gallons * 3.78541\ndef liters_to_gallons(liters):\n  return liters / 3.78541\n\ndef gallons_or_liters():\n  ans = input('gallons or liters ')\n  amount = float(input('how many? '))\n  if ans == 'gallons':\n    amountconv = gallons_to_liters(amount)\n    print(f\"{amount} gallons is {amountconv} liters\")\n  if ans == 'liters':\n    amountconv = liters_to_gallons(amount)\n    print(f\"{amount} liters is {amountconv} gallons\")\n\ngallons_or_liters()",
   "execution_count": 21,
   "outputs": [
    {
     "output_type": "stream",
     "name": "stdout",
     "text": "gallons or liters gallons\nhow many? 3\n3.0 gallons is 11.35623 liters\n"
    }
   ]
  },
  {
   "metadata": {
    "id": "yLoWKGvxjuaZ"
   },
   "cell_type": "markdown",
   "source": "<hr>"
  },
  {
   "metadata": {
    "id": "yw9XL49ViWxx",
    "trusted": false
   },
   "cell_type": "code",
   "source": "print(\" hi\")",
   "execution_count": 1,
   "outputs": [
    {
     "output_type": "stream",
     "text": " hi\n",
     "name": "stdout"
    }
   ]
  },
  {
   "metadata": {
    "trusted": false
   },
   "cell_type": "code",
   "source": "# TODO: Python program to calculate the total amounht to pay for movie rental\n#       the movie rental store charges $3.50 perday for every DVD movie\n#       for every additional period of 24 hours, the customer must pay 0.75",
   "execution_count": 1,
   "outputs": []
  },
  {
   "metadata": {
    "trusted": false
   },
   "cell_type": "code",
   "source": "print('we charge $3.50 per day for every movie rental for the first 3 days, after that its 0.75c extra per day')\nnumdvds = int(input(' how many movies do you want to rent? '))\nnumdays = int(input('how many days will you keep them? '))\nprice=numdays*numdvds*3.5\nif numdays > 3:\n    price =(3*3.5)+(numdays-3)*4.25\n\nprint(f\"your total: ${price}\")",
   "execution_count": 8,
   "outputs": [
    {
     "output_type": "stream",
     "text": "we charge $3.50 per day for every movie rental for the first 3 days, after that its 0.75c extra per day\n how many movies do you want to rent? 1\nhow many days will you keep them? 4\nyour total: $14.75\n",
     "name": "stdout"
    }
   ]
  },
  {
   "metadata": {},
   "cell_type": "markdown",
   "source": "<hr>"
  },
  {
   "metadata": {
    "trusted": false
   },
   "cell_type": "code",
   "source": "# TODO: python program that finds and displays the largest of several numbers,\n#       which are read from the input device",
   "execution_count": 2,
   "outputs": []
  },
  {
   "metadata": {
    "trusted": false
   },
   "cell_type": "code",
   "source": "nums = []\ngo = True\n\nwhile go:\n    nums.append(int(input(\"next integer: \")))\n    ans=input('keep going? (y or n)')\n    if ans == 'n':\n        go = False\n\nnums.sort()\nprint(f\"the largest int you entered: {nums[-1]}\")",
   "execution_count": 3,
   "outputs": [
    {
     "output_type": "stream",
     "name": "stdout",
     "text": "next integer: 0\nkeep going? (y or n)Y\nnext integer: 400\nkeep going? (y or n)Y\nnext integer: -400\nkeep going? (y or n)Y\nnext integer: 9\nkeep going? (y or n)Y\nnext integer: 000000009\nkeep going? (y or n)Y\nnext integer: -9\nkeep going? (y or n)9999999999999999999999999999\nnext integer: 99999999999999999999999999\nkeep going? (y or n)n\nthe largest int you entered: 99999999999999999999999999\n"
    }
   ]
  },
  {
   "metadata": {},
   "cell_type": "markdown",
   "source": "<hr>"
  },
  {
   "metadata": {
    "trusted": false
   },
   "cell_type": "code",
   "source": "# TODO: python code that finds and displays the smallest of several numbers,\n#       which are read from the input device\n#       ask user to type stop when they are done inputing numbers",
   "execution_count": 4,
   "outputs": []
  },
  {
   "metadata": {
    "trusted": true
   },
   "cell_type": "code",
   "source": "nums = []\ngo = True\n\nwhile go:\n    nums.append(int(input(\"next integer: \")))\n    ans=input('keep going? (y or n)')\n    if ans == 'n':\n        go = False\n\nnums.sort()\nprint(f\"the  smallest int  you entered: {nums[0]}\")",
   "execution_count": 2,
   "outputs": [
    {
     "output_type": "stream",
     "name": "stdout",
     "text": "next integer: -100\nkeep going? (y or n)Y\nnext integer: 0\nkeep going? (y or n)Y\nnext integer: 100\nkeep going? (y or n)n\nthe  smallest int  you entered: -100\n"
    }
   ]
  },
  {
   "metadata": {},
   "cell_type": "markdown",
   "source": "<hr>"
  },
  {
   "metadata": {
    "trusted": true
   },
   "cell_type": "code",
   "source": "",
   "execution_count": null,
   "outputs": []
  },
  {
   "metadata": {
    "trusted": true
   },
   "cell_type": "code",
   "source": "",
   "execution_count": 1,
   "outputs": [
    {
     "output_type": "stream",
     "text": "hey\n",
     "name": "stdout"
    }
   ]
  }
 ],
 "metadata": {
  "colab": {
   "provenance": []
  },
  "kernelspec": {
   "name": "python3",
   "display_name": "Python 3",
   "language": "python"
  },
  "language_info": {
   "name": "python",
   "version": "3.10.4",
   "mimetype": "text/x-python",
   "codemirror_mode": {
    "name": "ipython",
    "version": 3
   },
   "pygments_lexer": "ipython3",
   "nbconvert_exporter": "python",
   "file_extension": ".py"
  }
 },
 "nbformat": 4,
 "nbformat_minor": 1
}