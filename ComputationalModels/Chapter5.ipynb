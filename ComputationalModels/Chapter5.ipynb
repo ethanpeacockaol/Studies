{
 "cells": [
  {
   "cell_type": "markdown",
   "metadata": {
    "id": "8RLCJxdsdVe9"
   },
   "source": [
    "# Chapter 5 The selection Program structure\n",
    "\n",
    "\n",
    "this chapter explains the selection program structure\n",
    "\n",
    "also introduces conditional expressions\n",
    "\n",
    "greater than or equal to etc\n",
    "\n",
    "and or not"
   ]
  },
  {
   "cell_type": "code",
   "execution_count": 1,
   "metadata": {
    "colab": {
     "base_uri": "https://localhost:8080/"
    },
    "id": "gYfQzCgNdvAZ",
    "outputId": "e4ccc409-9cce-4301-e1dc-bee93d4dabfd"
   },
   "outputs": [
    {
     "name": "stdout",
     "output_type": "stream",
     "text": [
      "4\n"
     ]
    }
   ],
   "source": [
    "# example with selection\n",
    "# the following example evaluates the condition len > 0 to select which\n",
    "# operation is to be performed on variable k\n",
    "hello = 'hello'\n",
    "len1 = len(hello)\n",
    "k = 1\n",
    "if (len1 > 0):\n",
    "  k += 3\n",
    "else:\n",
    "  k -= 1\n",
    "print(k)"
   ]
  },
  {
   "cell_type": "code",
   "execution_count": 9,
   "metadata": {
    "colab": {
     "base_uri": "https://localhost:8080/"
    },
    "id": "F26MCqAheAn6",
    "outputId": "821217df-7542-4dc2-8d13-03eb101903a7"
   },
   "outputs": [
    {
     "name": "stdout",
     "output_type": "stream",
     "text": [
      "Enter value of coefficient a: 2\n",
      "value of a 2.0\n",
      "Enter value of coefficient b: -20\n",
      "value of b -20.0\n",
      "Enter value of coefficient c: 5\n",
      "value of c 5.0\n",
      "discriminant: 360.0\n",
      "Real roots\n",
      "x1: (-0.3333333333333333+0.47140452079103173j)\n",
      "x2: (-0.3333333333333333-0.47140452079103173j)\n"
     ]
    }
   ],
   "source": [
    "# python program that implements the algorithm for the solution of the quadratic equation\n",
    "\n",
    "from math import *\n",
    "\n",
    "a = float(input(\"Enter value of coefficient a: \"))\n",
    "print(f\"value of a {a}\")\n",
    "b = float(input(\"Enter value of coefficient b: \"))\n",
    "print(f\"value of b {b}\")\n",
    "c = float(input(\"Enter value of coefficient c: \"))\n",
    "print(f\"value of c {c}\")\n",
    "\n",
    "disc = b**2 - 4*a*c\n",
    "print(f\"discriminant: {disc}\")\n",
    "if (disc < 0):\n",
    "  # complex roots\n",
    "  disc = -disc\n",
    "  x1r = -b/(2*a)\n",
    "  x1i = sqrt(disc)/(2*a)\n",
    "  x2r = x1r\n",
    "  x2i = -x1i\n",
    "  print(\"Complex roots\")\n",
    "  x1 = complex(x1r, x1i)\n",
    "  x2 = complex(x2r, x2i)\n",
    "  print(f\"x1 {x1}\")\n",
    "  print(f\"x2 {x2}\")\n",
    "else:\n",
    "  # real roots\n",
    "  x1r = (-b + sqrt(disc))/(2*a)\n",
    "  x2r = (-b - sqrt(disc))/(2*a)\n",
    "  print(\"Real roots\")\n",
    "  print(f\"x1: {x1}\")\n",
    "  print(f\"x2: {x2}\")\n"
   ]
  },
  {
   "cell_type": "code",
   "execution_count": 8,
   "metadata": {
    "colab": {
     "base_uri": "https://localhost:8080/"
    },
    "id": "CkhFrIZMftES",
    "outputId": "0a47bbbb-a88d-4f0b-ca8e-a20b61f2857a"
   },
   "outputs": [
    {
     "data": {
      "text/plain": [
       "-0.3333333333333333"
      ]
     },
     "execution_count": 8,
     "metadata": {},
     "output_type": "execute_result"
    }
   ],
   "source": [
    "-1/3"
   ]
  },
  {
   "cell_type": "markdown",
   "metadata": {
    "id": "TECUkTvoglOp"
   },
   "source": [
    "<hr>\n",
    "\n",
    "chapter 5 exercises"
   ]
  },
  {
   "cell_type": "code",
   "execution_count": null,
   "metadata": {
    "id": "UPK1gvhegMQp"
   },
   "outputs": [],
   "source": [
    "# TODO:: Develop a program that computes the conversion from gallons to liters\n",
    "#        and from liters to gallons\n",
    "#        the user should be able to input the string gallons or liters\n",
    "\n",
    "# TODO: Python program to calculate the total amounht to pay for movie rental\n",
    "#       the movie rental store charges $3.50 perday for every DVD movie\n",
    "#       for every additional period of 24 hours, the customer must pay 0.75\n",
    "\n",
    "# TODO: python progeram that finds and dispolays the largest of several numbers,\n",
    "#       which are read from the input device\n",
    "\n",
    "# TODO: python code that finds and displays the smallest of several numbers,\n",
    "#       which are read from the input device\n",
    "#       ask user to type stop when they are done inputing numbers\n",
    "\n",
    "# TODO: python code that computes the gross and the net pay of several\n",
    "#       employees.  the input quantities are employee name, hourly rate,\n",
    "#       number of hours, percentage of tax (use 14.5%).  The tax bracket is $115\n",
    "#       When the number of hours is greater than 40, the overtime hourly rate is\n",
    "#       forty percent higher\n",
    "\n",
    "# TODO: python code that computes the fare in a ferry transport for passengers\n",
    "#       with motor vehicles.  Passengers must pay an extra fare based on the\n",
    "#       vehicle's weight.  Use the following data: vehicles with weight up to\n",
    "#       780lb pay $80.00, up to 1100lb pay 127.50 dollars, and up to 2200lb pay\n",
    "#       $210.50\n",
    "\n",
    "# TODO: python code that computes the average of student grades.  The input data\n",
    "#       are the four letter grades for various work submitted by the students"
   ]
  },
  {
   "cell_type": "markdown",
   "metadata": {
    "id": "sEE7Pub3iDc9"
   },
   "source": [
    "<hr>"
   ]
  },
  {
   "cell_type": "code",
   "execution_count": 21,
   "metadata": {
    "colab": {
     "base_uri": "https://localhost:8080/"
    },
    "id": "ySBpDhbJiEcg",
    "outputId": "e7efe877-adaa-493d-8e28-47e1c1764137"
   },
   "outputs": [
    {
     "name": "stdout",
     "output_type": "stream",
     "text": [
      "gallons or liters gallons\n",
      "how many? 3\n",
      "3.0 gallons is 11.35623 liters\n"
     ]
    }
   ],
   "source": [
    "# TODO:: Develop a program that computes the conversion from gallons to liters\n",
    "#        and from liters to gallons\n",
    "#        the user should be able to input the string gallons or liters\n",
    "def gallons_to_liters(gallons):\n",
    "  return gallons * 3.78541\n",
    "def liters_to_gallons(liters):\n",
    "  return liters / 3.78541\n",
    "\n",
    "def gallons_or_liters():\n",
    "  ans = input('gallons or liters ')\n",
    "  amount = float(input('how many? '))\n",
    "  if ans == 'gallons':\n",
    "    amountconv = gallons_to_liters(amount)\n",
    "    print(f\"{amount} gallons is {amountconv} liters\")\n",
    "  if ans == 'liters':\n",
    "    amountconv = liters_to_gallons(amount)\n",
    "    print(f\"{amount} liters is {amountconv} gallons\")\n",
    "\n",
    "gallons_or_liters()"
   ]
  },
  {
   "cell_type": "markdown",
   "metadata": {
    "id": "yLoWKGvxjuaZ"
   },
   "source": [
    "<hr>"
   ]
  },
  {
   "cell_type": "code",
   "execution_count": 1,
   "metadata": {
    "id": "yw9XL49ViWxx"
   },
   "outputs": [
    {
     "name": "stdout",
     "output_type": "stream",
     "text": [
      " hi\n"
     ]
    }
   ],
   "source": [
    "print(\" hi\")"
   ]
  },
  {
   "cell_type": "code",
   "execution_count": 1,
   "metadata": {},
   "outputs": [],
   "source": [
    "# TODO: Python program to calculate the total amounht to pay for movie rental\n",
    "#       the movie rental store charges $3.50 perday for every DVD movie\n",
    "#       for every additional period of 24 hours, the customer must pay 0.75"
   ]
  },
  {
   "cell_type": "code",
   "execution_count": 8,
   "metadata": {},
   "outputs": [
    {
     "name": "stdout",
     "output_type": "stream",
     "text": [
      "we charge $3.50 per day for every movie rental for the first 3 days, after that its 0.75c extra per day\n",
      " how many movies do you want to rent? 1\n",
      "how many days will you keep them? 4\n",
      "your total: $14.75\n"
     ]
    }
   ],
   "source": [
    "print('we charge $3.50 per day for every movie rental for the first 3 days, after that its 0.75c extra per day')\n",
    "numdvds = int(input(' how many movies do you want to rent? '))\n",
    "numdays = int(input('how many days will you keep them? '))\n",
    "price=numdays*numdvds*3.5\n",
    "if numdays > 3:\n",
    "    price =(3*3.5)+(numdays-3)*4.25\n",
    "\n",
    "print(f\"your total: ${price}\")"
   ]
  },
  {
   "cell_type": "markdown",
   "metadata": {},
   "source": [
    "<hr>"
   ]
  },
  {
   "cell_type": "code",
   "execution_count": 2,
   "metadata": {},
   "outputs": [],
   "source": [
    "# TODO: python program that finds and displays the largest of several numbers,\n",
    "#       which are read from the input device"
   ]
  },
  {
   "cell_type": "code",
   "execution_count": 3,
   "metadata": {},
   "outputs": [
    {
     "name": "stdout",
     "output_type": "stream",
     "text": [
      "next integer: 0\n",
      "keep going? (y or n)Y\n",
      "next integer: 400\n",
      "keep going? (y or n)Y\n",
      "next integer: -400\n",
      "keep going? (y or n)Y\n",
      "next integer: 9\n",
      "keep going? (y or n)Y\n",
      "next integer: 000000009\n",
      "keep going? (y or n)Y\n",
      "next integer: -9\n",
      "keep going? (y or n)9999999999999999999999999999\n",
      "next integer: 99999999999999999999999999\n",
      "keep going? (y or n)n\n",
      "the largest int you entered: 99999999999999999999999999\n"
     ]
    }
   ],
   "source": [
    "nums = []\n",
    "go = True\n",
    "\n",
    "while go:\n",
    "    nums.append(int(input(\"next integer: \")))\n",
    "    ans=input('keep going? (y or n)')\n",
    "    if ans == 'n':\n",
    "        go = False\n",
    "\n",
    "nums.sort()\n",
    "print(f\"the largest int you entered: {nums[-1]}\")"
   ]
  },
  {
   "cell_type": "markdown",
   "metadata": {},
   "source": [
    "<hr>"
   ]
  },
  {
   "cell_type": "code",
   "execution_count": 4,
   "metadata": {},
   "outputs": [],
   "source": [
    "# TODO: python code that finds and displays the smallest of several numbers,\n",
    "#       which are read from the input device\n",
    "#       ask user to type stop when they are done inputing numbers"
   ]
  },
  {
   "cell_type": "code",
   "execution_count": 2,
   "metadata": {},
   "outputs": [
    {
     "name": "stdout",
     "output_type": "stream",
     "text": [
      "next integer: -100\n",
      "keep going? (y or n)Y\n",
      "next integer: 0\n",
      "keep going? (y or n)Y\n",
      "next integer: 100\n",
      "keep going? (y or n)n\n",
      "the  smallest int  you entered: -100\n"
     ]
    }
   ],
   "source": [
    "nums = []\n",
    "go = True\n",
    "\n",
    "while go:\n",
    "    nums.append(int(input(\"next integer: \")))\n",
    "    ans=input('keep going? (y or n)')\n",
    "    if ans == 'n':\n",
    "        go = False\n",
    "\n",
    "nums.sort()\n",
    "print(f\"the  smallest int  you entered: {nums[0]}\")"
   ]
  },
  {
   "cell_type": "markdown",
   "metadata": {},
   "source": [
    "<hr>"
   ]
  },
  {
   "cell_type": "code",
   "execution_count": null,
   "metadata": {},
   "outputs": [],
   "source": [
    "# TODO: python code that computes the gross and the net pay of several\n",
    "#       employees.  the input quantities are employee name, hourly rate,\n",
    "#       number of hours, percentage of tax (use 14.5%).  The tax bracket is $115\n",
    "#       When the number of hours is greater than 40, the overtime hourly rate is\n",
    "#       forty percent higher"
   ]
  },
  {
   "cell_type": "code",
   "execution_count": 24,
   "metadata": {},
   "outputs": [
    {
     "data": {
      "text/plain": [
       "461.7"
      ]
     },
     "execution_count": 24,
     "metadata": {},
     "output_type": "execute_result"
    }
   ],
   "source": [
    "# create a function to calculate pay rate given that tax is capped at $115 and \n",
    "# if you work over 40 hours, your overtime pay which is everything after 40 will be .40 percent higher\n",
    "def calculate_pay(hourly_rate, number_of_hours):\n",
    "    # this works up to 40 hours\n",
    "    pay = hourly_rate * number_of_hours\n",
    "    # minus tax\n",
    "    tax = pay*0.145\n",
    "    # tax bracket\n",
    "    if tax > 115:\n",
    "        pay = pay - 115\n",
    "    else:\n",
    "        pay = pay - tax\n",
    "    # no overtime pay\n",
    "    if number_of_hours > 40:\n",
    "        overtime_hours = number_of_hours - 40\n",
    "        # this works over 40 hours\n",
    "        pay = hourly_rate * 40\n",
    "        # add overtime pay\n",
    "        overtime_pay = overtime_hours *(hourly_rate + hourly_rate*0.4)\n",
    "        pay = pay + overtime_pay\n",
    "        # minus tax\n",
    "        tax = pay*0.145\n",
    "        # tax bracket\n",
    "        if tax > 115:\n",
    "            pay = pay - 115\n",
    "        else:\n",
    "            pay = pay - tax\n",
    "\n",
    "    return pay\n",
    "\n",
    "calculate_pay(10, 50)"
   ]
  },
  {
   "cell_type": "code",
   "execution_count": null,
   "metadata": {},
   "outputs": [],
   "source": []
  },
  {
   "cell_type": "code",
   "execution_count": 28,
   "metadata": {},
   "outputs": [
    {
     "name": "stdout",
     "output_type": "stream",
     "text": [
      "Data entry format: \n",
      "EmployeeName_(first name only) hourly_rate(float) number_of_hours(float)\n"
     ]
    },
    {
     "name": "stdin",
     "output_type": "stream",
     "text": [
      "next entry:  ethan1 9 9\n",
      "Do you want to continue? (y or n) y\n"
     ]
    },
    {
     "name": "stdout",
     "output_type": "stream",
     "text": [
      "Data entry format: \n",
      "EmployeeName_(first name only) hourly_rate(float) number_of_hours(float)\n"
     ]
    },
    {
     "name": "stdin",
     "output_type": "stream",
     "text": [
      "next entry:  ethan2 10 10\n",
      "Do you want to continue? (y or n) y\n"
     ]
    },
    {
     "name": "stdout",
     "output_type": "stream",
     "text": [
      "Data entry format: \n",
      "EmployeeName_(first name only) hourly_rate(float) number_of_hours(float)\n"
     ]
    },
    {
     "name": "stdin",
     "output_type": "stream",
     "text": [
      "next entry:  ethan3 40 40\n",
      "Do you want to continue? (y or n) y\n"
     ]
    },
    {
     "name": "stdout",
     "output_type": "stream",
     "text": [
      "Data entry format: \n",
      "EmployeeName_(first name only) hourly_rate(float) number_of_hours(float)\n"
     ]
    },
    {
     "name": "stdin",
     "output_type": "stream",
     "text": [
      "next entry:  ethan4 50 50\n",
      "Do you want to continue? (y or n) n\n"
     ]
    },
    {
     "name": "stdout",
     "output_type": "stream",
     "text": [
      "goodbye\n",
      "Employee names: ['ethan1', 'ethan2', 'ethan3', 'ethan4']\n",
      "Hourly rates: [9.0, 10.0, 40.0, 50.0]\n",
      "Number of hours: [9.0, 10.0, 40.0, 50.0]\n",
      "\n",
      "\n",
      "Pay for ethan1 is $69.255\n",
      "Pay for ethan2 is $85.5\n",
      "Pay for ethan3 is $1485.0\n",
      "Pay for ethan4 is $2585.0\n"
     ]
    }
   ],
   "source": [
    "# implement the pseudo code above into python\n",
    "example_input = \"EmployeeName_(first name only) hourly_rate(float) number_of_hours(float)\"\n",
    "\n",
    "# parallel lists\n",
    "employee_names = [] # should be strings\n",
    "hourly_rates = [] # should be floats\n",
    "number_of_hours = [] # can be floats\n",
    "# list to store employee pay\n",
    "pay_is = []\n",
    "\n",
    "# loop until user says thats all for data entry\n",
    "go = True\n",
    "while go:\n",
    "    # print instructions\n",
    "    print('Data entry format: ')\n",
    "    print(example_input)\n",
    "    # get next entry for name hourly rate and number of hours\n",
    "    next_entry = input('next entry: ')\n",
    "    # we need to split this data up and re-type it\n",
    "    next_split = next_entry.split(' ')\n",
    "    # populate parallel lists\n",
    "    employee_names.append(next_split[0])\n",
    "    hourly_rates.append(float(next_split[1]))\n",
    "    number_of_hours.append(float(next_split[2]))\n",
    "\n",
    "\n",
    "    ans = input('Do you want to continue? (y or n)')\n",
    "    if ans == 'n':\n",
    "        go = False\n",
    "        print('goodbye')\n",
    "        \n",
    "# populate pay is for every employees\n",
    "num_employees = len(employee_names)\n",
    "for i in range(num_employees):\n",
    "    pay_is.append(calculate_pay(hourly_rates[i], number_of_hours[i]))\n",
    "    \n",
    "\n",
    "print(f\"Employee names: {employee_names}\")\n",
    "print(f\"Hourly rates: {hourly_rates}\")\n",
    "print(f\"Number of hours: {number_of_hours}\")\n",
    "\n",
    "print()\n",
    "print()\n",
    "\n",
    "for i in range(num_employees):\n",
    "    print(f\"Pay for {employee_names[i]} is ${pay_is[i]}\")"
   ]
  },
  {
   "cell_type": "markdown",
   "metadata": {},
   "source": [
    "<hr>"
   ]
  },
  {
   "cell_type": "code",
   "execution_count": 43,
   "metadata": {},
   "outputs": [],
   "source": [
    "# TODO: python code that computes the fare in a ferry transport for passengers\n",
    "#       with motor vehicles.  Passengers must pay an extra fare based on the\n",
    "#       vehicle's weight.  Use the following data: vehicles with weight up to\n",
    "#       780lb pay $80.00, up to 1100lb pay 127.50 dollars, and up to 2200lb pay\n",
    "#       $210.50"
   ]
  },
  {
   "cell_type": "code",
   "execution_count": 44,
   "metadata": {},
   "outputs": [
    {
     "name": "stdin",
     "output_type": "stream",
     "text": [
      "Whats your vehicles weight?  2201\n"
     ]
    },
    {
     "name": "stdout",
     "output_type": "stream",
     "text": [
      "sorry not possible too heavy\n"
     ]
    }
   ],
   "source": [
    "# get the weight\n",
    "weight = float(input(\"Whats your vehicles weight? \"))\n",
    "\n",
    "# over 2200 not allowed\n",
    "if weight > 2200:\n",
    "    print('sorry not possible too heavy')\n",
    "elif weight <= 780:\n",
    "    print(\"$80.00\")\n",
    "elif weight <= 1100:\n",
    "    print(\"$127.50\")\n",
    "elif weight <= 2200:\n",
    "    print(\"$210.50\")"
   ]
  },
  {
   "cell_type": "markdown",
   "metadata": {},
   "source": [
    "<hr>"
   ]
  },
  {
   "cell_type": "code",
   "execution_count": 45,
   "metadata": {},
   "outputs": [],
   "source": [
    "# TODO: python code that computes the average of student grades.  The input data\n",
    "#       are the four letter grades for various work submitted by the students"
   ]
  },
  {
   "cell_type": "code",
   "execution_count": 60,
   "metadata": {},
   "outputs": [
    {
     "name": "stdout",
     "output_type": "stream",
     "text": [
      "four letter grades delimited by space: {A B C D}\n"
     ]
    },
    {
     "name": "stdin",
     "output_type": "stream",
     "text": [
      "Four letter grades separated by spaces (lowercase):  f f f f\n"
     ]
    },
    {
     "name": "stdout",
     "output_type": "stream",
     "text": [
      "\n",
      "\n",
      "Student grade average 59.0 = f\n"
     ]
    }
   ],
   "source": [
    "example_input=\"four letter grades delimited by space: {A B C D}\"\n",
    "print(example_input)\n",
    "\n",
    "student_grades = input(\"Four letter grades separated by spaces (lowercase): \")\n",
    "grades = student_grades.split(' ')\n",
    "\n",
    "# parallel list to build out numerical grades\n",
    "num_grades = []\n",
    "for i in range(len(grades)):\n",
    "    if grades[i] == 'a':\n",
    "        num_grades.append(100)\n",
    "    elif grades[i] == 'b':\n",
    "        num_grades.append(89)\n",
    "    elif grades[i] == 'c':\n",
    "        num_grades.append(79)\n",
    "    elif grades[i] == 'd':\n",
    "        num_grades.append(69)\n",
    "    elif grades[i] == 'f':\n",
    "        num_grades.append(59)\n",
    "\n",
    "# get average of 4 grades\n",
    "grade_avg = sum(num_grades)/len(num_grades)\n",
    "\n",
    "# get character representation\n",
    "if grade_avg < 60:\n",
    "    char_grade = 'f'\n",
    "elif grade_avg < 70:\n",
    "    char_grade = 'd'\n",
    "elif grade_avg < 80:\n",
    "    char_grade = 'c'\n",
    "elif grade_avg < 90:\n",
    "    char_grade = 'b'\n",
    "else:\n",
    "    char_grade = 'a'\n",
    "\n",
    "print(f\"\\n\\nStudent grade average {grade_avg} = {char_grade}\")"
   ]
  },
  {
   "cell_type": "markdown",
   "metadata": {},
   "source": [
    "<hr>"
   ]
  }
 ],
 "metadata": {
  "colab": {
   "provenance": []
  },
  "kernelspec": {
   "display_name": "Python 3 (ipykernel)",
   "language": "python",
   "name": "python3"
  },
  "language_info": {
   "codemirror_mode": {
    "name": "ipython",
    "version": 3
   },
   "file_extension": ".py",
   "mimetype": "text/x-python",
   "name": "python",
   "nbconvert_exporter": "python",
   "pygments_lexer": "ipython3",
   "version": "3.13.2"
  }
 },
 "nbformat": 4,
 "nbformat_minor": 4
}
