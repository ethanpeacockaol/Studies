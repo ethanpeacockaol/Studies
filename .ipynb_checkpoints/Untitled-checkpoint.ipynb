{
 "cells": [
  {
   "cell_type": "code",
   "execution_count": 9,
   "id": "31aeeceb-d4ef-4573-8406-ac7c9c9ca9b4",
   "metadata": {},
   "outputs": [
    {
     "name": "stdout",
     "output_type": "stream",
     "text": [
      "9\n",
      "1\n",
      "1\n"
     ]
    }
   ],
   "source": [
    "class link:\n",
    "    def __init__(self, storage):\n",
    "        self.storage = storage\n",
    "        self.nextlink = None\n",
    "\n",
    "class chain:\n",
    "    def __init__(self):\n",
    "        self.firstlink = None\n",
    "\n",
    "    def addlink(self, storage):\n",
    "        # if chain has no links add\n",
    "        if self.firstlink == None:\n",
    "            # create new storage chain link\n",
    "            newlink = link(storage)\n",
    "            self.firstlink = newlink\n",
    "        # if chain has links we bind to end\n",
    "        else:\n",
    "            # we dont know end link\n",
    "            end_link = None\n",
    "            # search for end link by starting at first\n",
    "            checklink = self.firstlink\n",
    "            \n",
    "            # go until .nextlink==None\n",
    "            go = True\n",
    "            while go:\n",
    "                if checklink.nextlink == None:\n",
    "                    end_link = checklink\n",
    "                    go = False\n",
    "                else:\n",
    "                    checklink = checklink.nextlink\n",
    "            end_link.nextlink = link(storage)\n",
    "\n",
    "    def print_chain(self):\n",
    "        go = True\n",
    "        # start at first link\n",
    "        currentlink = self.firstlink\n",
    "\n",
    "        while go:\n",
    "            print(currentlink.storage)\n",
    "            if currentlink.nextlink is not None:\n",
    "                currentlink = currentlink.nextlink\n",
    "            else:\n",
    "                go = False\n",
    "            \n",
    "        \n",
    "\n",
    "chain1 = chain()\n",
    "chain1.addlink(9)\n",
    "chain1.addlink(1)\n",
    "chain1.addlink(1)\n",
    "chain1.print_chain()"
   ]
  },
  {
   "cell_type": "code",
   "execution_count": 6,
   "id": "6ab132f5-79bb-453c-8c1d-531250c2e0c3",
   "metadata": {},
   "outputs": [],
   "source": [
    "chain1.firstlink.nextlink"
   ]
  },
  {
   "cell_type": "code",
   "execution_count": null,
   "id": "479da8c7-ce64-4760-9ea7-654c611afe82",
   "metadata": {},
   "outputs": [],
   "source": []
  }
 ],
 "metadata": {
  "kernelspec": {
   "display_name": "Python 3 (ipykernel)",
   "language": "python",
   "name": "python3"
  },
  "language_info": {
   "codemirror_mode": {
    "name": "ipython",
    "version": 3
   },
   "file_extension": ".py",
   "mimetype": "text/x-python",
   "name": "python",
   "nbconvert_exporter": "python",
   "pygments_lexer": "ipython3",
   "version": "3.12.9"
  }
 },
 "nbformat": 4,
 "nbformat_minor": 5
}
